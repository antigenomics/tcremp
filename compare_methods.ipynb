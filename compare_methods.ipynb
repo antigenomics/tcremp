{
 "cells": [
  {
   "cell_type": "code",
   "execution_count": 1,
   "id": "9b7692da-525a-47cd-a1d2-c43bfabb4d73",
   "metadata": {},
   "outputs": [],
   "source": [
    "import numpy as np\n",
    "import pandas as pd\n",
    "import time, os, sys\n",
    "import matplotlib.pyplot as plt\n",
    "import seaborn as sns"
   ]
  },
  {
   "cell_type": "code",
   "execution_count": 2,
   "id": "f1cdeb5f-515b-43f8-96ce-b450dc1498a9",
   "metadata": {},
   "outputs": [],
   "source": [
    "from sklearn.metrics import precision_recall_fscore_support, classification_report, adjusted_mutual_info_score\n",
    "from sklearn.metrics import multilabel_confusion_matrix"
   ]
  },
  {
   "cell_type": "code",
   "execution_count": 3,
   "id": "e5515b41-c565-4167-83e0-f6102ee50ac2",
   "metadata": {},
   "outputs": [],
   "source": [
    "import tcremb.ml_utils as ml_utils\n",
    "import benchmark.models as models\n",
    "import benchmark.metrics as metrics\n",
    "#import benchmark.models_tcrdist as models_tcrdist"
   ]
  },
  {
   "cell_type": "raw",
   "id": "dc3a0c61-9338-4c03-b5f1-badfead1fc56",
   "metadata": {},
   "source": [
    "from tcrdist.repertoire import TCRrep\n",
    "from tcrdist.rep_funcs import  compute_pw_sparse_out_of_memory2\n",
    "from sklearn.cluster import KMeans"
   ]
  },
  {
   "cell_type": "code",
   "execution_count": null,
   "id": "6d971c74-5d37-4c12-95e4-70154ac32b71",
   "metadata": {},
   "outputs": [],
   "source": []
  },
  {
   "cell_type": "markdown",
   "id": "02efe6c5-44ce-4b1b-9fb2-038f89ca9fe5",
   "metadata": {},
   "source": [
    "# Clustering"
   ]
  },
  {
   "cell_type": "markdown",
   "id": "45e72cab-5459-4727-9b42-9145bc4fe653",
   "metadata": {},
   "source": [
    "## VDJdb"
   ]
  },
  {
   "cell_type": "code",
   "execution_count": 4,
   "id": "72c2bbcc-88f3-4d59-9c8a-f1cf62647aba",
   "metadata": {},
   "outputs": [],
   "source": [
    "vdjdb_data_path = '/home/ykremlyakova/projects/tcr_emb/data/data_preped/VDJdb_data.csv'"
   ]
  },
  {
   "cell_type": "code",
   "execution_count": 5,
   "id": "aa98bc60-55ae-4dff-9df3-330173a0306f",
   "metadata": {},
   "outputs": [],
   "source": [
    "\n",
    "vdjdb_data = pd.read_csv(vdjdb_data_path,sep='\\t')"
   ]
  },
  {
   "cell_type": "code",
   "execution_count": null,
   "id": "17da9c28-5adf-40bc-bfb8-b24b6c661f38",
   "metadata": {},
   "outputs": [],
   "source": []
  },
  {
   "cell_type": "code",
   "execution_count": 6,
   "id": "202a912f-3b5f-4d68-a203-3b5e1d3ae565",
   "metadata": {},
   "outputs": [],
   "source": [
    "def precision_recall_fscore(df, ytrue, ypred, label):\n",
    "\n",
    "    labels = np.unique(ytrue)\n",
    "    precisions = []# per epitope\n",
    "    recalls = []# per epitope\n",
    "    accuracies = [] # per epitope\n",
    "    weights = []# per epitope\n",
    "    supports = []\n",
    "\n",
    "    fn_per_epi = df[df['cluster'].isnull()][label].value_counts() # Retain value counts for false negatives\n",
    "    \n",
    "    epmetrics = {'accuracy':{},\n",
    "                 'precision': {},\n",
    "                 'recall': {},\n",
    "                 'f1-score': {},\n",
    "                 'support': {}}\n",
    "    for (i, cm) in enumerate(multilabel_confusion_matrix(ytrue, \n",
    "                                                         ypred, \n",
    "                                                         labels=labels)):# per epitope\n",
    "        # for order see https://scikit-learn.org/stable/modules/generated/sklearn.metrics.multilabel_confusion_matrix.html\n",
    "        tn = cm[0][0]\n",
    "        fn = cm[1][0]\n",
    "        tp = cm[1][1]\n",
    "        fp = cm[0][1]\n",
    "        lbl = labels[i]\n",
    "\n",
    "        missing_fn = fn_per_epi.get(lbl, 0) \n",
    "        fn += missing_fn\n",
    "\n",
    "        if tp+fp == 0:\n",
    "            precision = 0.0\n",
    "        else:\n",
    "            precision = tp/(tp+fp)\n",
    "\n",
    "        if tp+fn == 0:\n",
    "            recall = 0.0\n",
    "        else:\n",
    "            recall = tp/(tp+fn)\n",
    "        \n",
    "        if tp + tn == 0:\n",
    "            accuracy = 0\n",
    "        else:\n",
    "            accuracy = (tp + tn ) / (tp + tn + fp + fn)\n",
    "\n",
    "\n",
    "        # weighting='average'\n",
    "        support = sum(ytrue == lbl)\n",
    "        w = support/ytrue.shape[0]\n",
    "        weights.append(w)\n",
    "        \n",
    "        precision *= w\n",
    "        recall *= w\n",
    "        accuracy *=w\n",
    "\n",
    "        accuracies.append(accuracy)\n",
    "        precisions.append(precision)\n",
    "        recalls.append(recall)\n",
    "        supports.append(support)\n",
    "\n",
    "        epmetrics['accuracy'][labels[i]]= accuracy\n",
    "        epmetrics['precision'][labels[i]]= precision\n",
    "        epmetrics['recall'][labels[i]]= recall\n",
    "        if ((precision * recall ==0)|(precision + recall ==0)):\n",
    "            f = 0\n",
    "        else:\n",
    "            f = 2* (precision * recall) / (precision + recall)\n",
    "\n",
    "        epmetrics['f1-score'][labels[i]]= f\n",
    "        epmetrics['support'][labels[i]]=support\n",
    "                               \n",
    "    # deal with epitopes for which we had no prediction \n",
    "    uncalled_epis = set(df[label]).difference(labels)\n",
    "    if len(uncalled_epis)!=0:\n",
    "        print('No predictions made for: ',uncalled_epis)\n",
    "    for i in uncalled_epis:\n",
    "\n",
    "        accuracy = 0\n",
    "        precision = 0\n",
    "        recall = 0\n",
    "        fscore = 0\n",
    "        support = sum(ytrue == i)\n",
    "        recalls.append(recall)\n",
    "        precisions.append(precision)\n",
    "        supports.append(sum(ytrue == i))\n",
    "\n",
    "        epmetrics['accuracy'][i]= accuracy\n",
    "        epmetrics['precision'][i]= precision\n",
    "        epmetrics['recall'][i]= recall\n",
    "        epmetrics['f1-score'][i]= fscore\n",
    "        epmetrics['support'][i]=support\n",
    "\n",
    "    recall = sum(recalls)\n",
    "    precision = sum(precisions)\n",
    "    support = sum(supports)\n",
    "\n",
    "    if ((precision * recall == 0)|(precision + recall == 0)):\n",
    "        f = 0\n",
    "    else:\n",
    "        f = 2* (precision * recall) / (precision + recall)\n",
    "\n",
    "    return accuracy, precision, recall, f, support, epmetrics"
   ]
  },
  {
   "cell_type": "code",
   "execution_count": 7,
   "id": "3b029ae5-a4b4-447f-b449-78734812a59e",
   "metadata": {},
   "outputs": [],
   "source": [
    "def get_clustermetrics(data_df, label):\n",
    "\n",
    "    binom_res = data_df[['cluster','label_cluster','total_cluster','count_matched','fraction_matched','p_value','fraction_matched_exp','is_cluster']].drop_duplicates()\n",
    "    \n",
    "    # Find clustered TCRs\n",
    "    df = data_df[data_df['is_cluster']==1]\n",
    "\n",
    "    # Compute overall purity metrics\n",
    "    purity = ml_utils.count_clstr_purity(binom_res)\n",
    "    #stats = get_purity(df)\n",
    "\n",
    "    # Compute predictive metrics\n",
    "    ypred = df['label_cluster']\n",
    "    ytrue = df[label]\n",
    "    ami = adjusted_mutual_info_score(ytrue,ypred)\n",
    "    accuracy, precision, recall, f1score, support, epmetrics = precision_recall_fscore(\n",
    "            df, ytrue, ypred, label)\n",
    "    ami = adjusted_mutual_info_score(ytrue, ypred)\n",
    "\n",
    "    counts = {k:v for k,v in df[label].value_counts().reset_index().values.tolist()}\n",
    "    maincluster = {ep: df[df[label]==ep]['cluster'].value_counts().index[0] for ep in df[label].unique()} # Find the largest cluster per epitope\n",
    "    #mosfreq = stats['most_frequent']    # Find the most frequent epitope per cluster\n",
    "    #clusts = {ep: '-1' if ep not in list(mosfreq.values()) else [c for c in mosfreq.keys() if mosfreq[c]==ep] for ep in counts.keys()} # Map epitopes to the clusters in which they are most frequent\n",
    "    #puritymap = {ep: 0 if clusts[ep]=='-1' else np.mean([len(sub[(sub['cluster']==c)&(sub['epitope']==ep)])/len(sub[sub['cluster']==c]) for c in clusts[ep]]) for ep in clusts.keys()} # Get purity per epitope\n",
    "    #retmap = {ep: len(df[(df['epitope']==ep)&(~df['cluster'].isnull())])/len(df[df['epitope']==ep]) for ep in counts.keys()} # Get retention scores per epitope\n",
    "    consistencymap = {ep: len(df[(df[label]==ep)&(df['cluster']==maincluster[ep])])/counts[ep] for ep in counts.keys()}  # Get consistency scores per epitope\n",
    "    #epmetrics['consistency']=consistencymap\n",
    "    #epmetrics['retention']=retmap\n",
    "    #epmetrics['purity']=puritymap\n",
    "    \n",
    "    return {'purity':purity,\n",
    "        #'purity': np.mean(list(binom_res[binom_res['is_cluster']==1]['fraction_matched'])),           # Purity of all clusters weighted equally (frequency)\n",
    "            #'purity_enriched': np.mean(list(stats['purity_enriched'].values())),  # Purity of clusters (enrichment)\n",
    "            'retention': len(data_df[data_df['is_cluster']==1])/len(data_df), # Proportion of clustered TCRs\n",
    "            'consistency': np.mean([(consistencymap[ep]*counts[ep])/len(df) for ep in consistencymap.keys()]), # Proportion of an epitope assigned to a given cluster\n",
    "            'ami':ami,  # Adjusted mutual information\n",
    "            'accuracy':accuracy,    # Balanced accuracy\n",
    "            'precision':precision,  # Precision over all epitopes\n",
    "            'recall':recall,    # Recall over all epitopes\n",
    "            'f1-score':f1score, # F1 over all epitopes\n",
    "            'support':support,  # Support\n",
    "            #'epscores': epmetrics,\n",
    "            'mean_clustsize': np.mean(list(binom_res[binom_res['is_cluster']==1]['total_cluster'])), # Average cluster size\n",
    "            #'small_clusters': stats['Nd'],    # Number of clusters with ≤ 10 members\n",
    "            } "
   ]
  },
  {
   "cell_type": "code",
   "execution_count": null,
   "id": "53dbd7e0-926b-4f5f-8ccf-c37dc316019f",
   "metadata": {},
   "outputs": [],
   "source": []
  },
  {
   "cell_type": "code",
   "execution_count": 8,
   "id": "b4719faf-68c1-4686-87c9-4a88574f2af5",
   "metadata": {},
   "outputs": [],
   "source": [
    "def tcrdist3_dist(data_df, chain, n_clusters=None, chunk=True):\n",
    "    df = data_df.copy()\n",
    "    cdr3a = 'cdr3_a_aa'\n",
    "    va = 'v_a_gene'\n",
    "    ja = 'j_a_gene'\n",
    "    cdr3b = 'cdr3_b_aa'\n",
    "    vb = 'v_b_gene'\n",
    "    jb = 'j_b_gene'\n",
    "\n",
    "    if not 'count' in df.columns:\n",
    "        df['count']=[1]*len(df)\n",
    "\n",
    "    if chain == 'TRA':\n",
    "        df = df[df['chain']==chain].reset_index(drop=True)\n",
    "        df = df.rename(columns={'cdr3aa': cdr3a,\n",
    "                                                'v': va,\n",
    "                                                'j':ja})\n",
    "        df = df[[cdr3a, va, ja,'antigen.epitope', 'count','data_id']]\n",
    "\n",
    "    elif chain == 'TRB':\n",
    "        df = df[df['chain']==chain].reset_index(drop=True)\n",
    "        df= df.rename(columns={'cdr3aa': cdr3b,\n",
    "                                                'v': vb,\n",
    "                                                'j':jb})\n",
    "        df = df[[cdr3b, vb, jb,'antigen.epitope', 'count','data_id']]\n",
    "\n",
    "    else:\n",
    "        pass\n",
    "\n",
    "\n",
    "    seqs = df.drop(columns=['antigen.epitope','data_id'], axis=1).reset_index(drop=True)\n",
    "\n",
    "    if chain =='TRA':\n",
    "        chain1 = ['alpha']\n",
    "    else:\n",
    "        chain1 = ['beta']\n",
    "\n",
    "    # Run tcrdist3\n",
    "\n",
    "    print('\\n*** Tcrdist3 clustering %s %s chains ' % (len(seqs), chain))\n",
    "\n",
    "    t0 = time.time()\n",
    "\n",
    "    # Create tcrdist object\n",
    "    tr = TCRrep(cell_df=seqs,   # Input data\n",
    "                organism='human',   # Organism\n",
    "                chains=chain1,       # Chain selection\n",
    "                infer_all_genes=True,   # Infer genes\n",
    "                infer_cdrs=True,        # Infer CDRs\n",
    "                infer_index_cols=True,  # Infer column names\n",
    "                store_all_cdr=True,     # Store CDRs\n",
    "                deduplicate=False,      # Deduplicate\n",
    "                compute_distances=False)    # Compute distances\n",
    "    return tr, df\n",
    "    \n",
    "    # Compute tcrdist distances using sparse rect distances\n",
    "def tcrdist3_compute(tr, chain, cpus, radius=50):\n",
    "    if chain =='TRA':\n",
    "        chain1 = ['alpha']\n",
    "        name = 'alpha'\n",
    "    else:\n",
    "        chain1 = ['beta']\n",
    "        name = 'beta'\n",
    "\n",
    "\n",
    "    S, _ = compute_pw_sparse_out_of_memory2(tr = tr,\n",
    "        row_size      = 50,\n",
    "        pm_processes  = cpus,\n",
    "        pm_pbar       = True,\n",
    "        max_distance  = radius,\n",
    "        reassemble    = True,\n",
    "        cleanup       = True,\n",
    "        assign        = True)\n",
    "    S=S[name]\n",
    "\n",
    "    return S   \n",
    "\n",
    "    # Cluster tcrdist matrix\n",
    "def tcrdust3_cluster(S, chain, n_clusters):\n",
    "    if not n_clusters:\n",
    "        n_clusters=500\n",
    "    kmeans = KMeans(init='random',\n",
    "                    n_init=10,\n",
    "                    n_clusters=int(n_clusters)).fit(S)\n",
    "    labels = kmeans.labels_\n",
    "    \n",
    "    pd.DataFrame(labels).to_csv()\n",
    "\n",
    "    return labels\n",
    "\n",
    "def run_tcrdist3(vdjdb_data_tcrdist3, chain, n_clusters):\n",
    "    tcrdist3_tr, tcrdist_data = tcrdist3_dist(vdjdb_data_tcrdist3,chain)\n",
    "    tcrdist3_s = tcrdist3_compute(tcrdist3_tr,chain,2)\n",
    "    tcrdist3_labels = tcrdust3_cluster(tcrdist3_s, chain, n_clusters)\n",
    "    tcrdist_data['cluster']= tcrdist3_labels\n",
    "    binom_res = ml_utils.binominal_test(tcrdist_data, 'cluster', 'antigen.epitope')\n",
    "    binom_res = binom_res.rename({'antigen.epitope':'label_cluster'},axis=1)\n",
    "    tcrdist_data = tcrdist_data.merge(binom_res)\n",
    "    tcrdist_data.to_csv(f'benchmark/outputs/tcrdist_res_{chain}.txt',sep='\\t')\n",
    "    return tcrdist_data\n",
    "\n",
    "\n",
    "def run_GIANA(data_df, chain, cpus):\n",
    "    '''Run GIANA clustering algorithm\n",
    "'''\n",
    "    df = data_df[data_df['chain']==chain][['cdr3aa','v','antigen.epitope','data_id']].reset_index(drop=True)\n",
    "    df = df.rename({'cdr3aa':'CDR3','v':'V'},axis=1)\n",
    "    # Reformat input for GIANA\n",
    "    seqs = df[['CDR3','V']]\n",
    "\n",
    "    #save data for GIANA\n",
    "    cdir = os.getcwd()\n",
    "    giana_path = os.path.join(cdir, 'benchmark/GIANA/')\n",
    "    os.chdir(giana_path)\n",
    "    seqs.to_csv('data.txt', index=False, header=False, sep='\\t')\n",
    "    print('GIANA clustering of {} sequences.'.format(len(df)))\n",
    "\n",
    "    # Run GIANA\n",
    "    t0 = time.time()\n",
    "    os.system('python GIANA4.1.py -f data.txt -O data_clustered.txt -v True -N {}'.format(cpus))\n",
    "    t1 = time.time()\n",
    "    t = t1 - t0\n",
    "\n",
    "    print('Elapsed time: {} seconds.'.format(t))\n",
    "\n",
    "    with open(os.path.join(giana_path, 'data_clustered.txt'), 'r') as f:\n",
    "        results = f.read().splitlines()[3:]\n",
    "        results = pd.DataFrame([x.split('\\t') for x in results], columns=['CDR3',\n",
    "                                                                            'cluster',\n",
    "                                                                            'V',\n",
    "                                                                         ])   \n",
    "    os.chdir(cdir)\n",
    "    \n",
    "    giana_data = pd.merge(df, results.drop_duplicates(),on=['CDR3','V'])\n",
    "    \n",
    "    binom_res = ml_utils.binominal_test(giana_data, 'cluster', 'antigen.epitope')\n",
    "    binom_res = binom_res.rename({'antigen.epitope':'label_cluster'},axis=1)\n",
    "    giana_data = giana_data.merge(binom_res)\n",
    "    giana_data.to_csv(f'benchmark/outputs/giana_res_{chain}.txt',sep='\\t')\n",
    "\n",
    "    return giana_data"
   ]
  },
  {
   "cell_type": "code",
   "execution_count": 9,
   "id": "915aeb98-751c-4dd8-ab23-b3259fad6079",
   "metadata": {},
   "outputs": [],
   "source": [
    "def run_ismart(data_df, chain_selection,cpus):\n",
    "    \n",
    "    df = data_df[data_df['chain']==chain][['cdr3aa','v','antigen.epitope','data_id']].reset_index(drop=True)\n",
    "    df = df.rename({'cdr3aa':'CDR3','v':'V'},axis=1)\n",
    "    \n",
    "    # Reformat input for iSMART\n",
    "    seqs = df[['CDR3','V']]\n",
    "\n",
    "    #save data for iSMART\n",
    "    cdir = os.getcwd()\n",
    "    ismart_path = os.path.join(cdir, 'benchmark/iSMART/')\n",
    "    os.chdir(ismart_path)\n",
    "    seqs.to_csv('data.txt', index=False, header=False, sep='\\t')\n",
    "    print('Clustering {} sequences with iSMART.'.format(len(df)))\n",
    "    \n",
    "    \n",
    "    t0 = time.time()\n",
    "    #os.system('python iSMARTf3.py -f input.txt -v True -N {}'.format(cpus))\n",
    "    os.system('python iSMARTf3.py -f data.txt')\n",
    "    t1 = time.time()\n",
    "    t = t1 - t0\n",
    "    \n",
    "    \n",
    "    print('Elapsed time: {} seconds.'.format(t))\n",
    "\n",
    "    with open(os.path.join(ismart_path, 'data_clustered_v3.txt'), 'r') as f:\n",
    "        results = f.read().splitlines()[3:]\n",
    "        results = pd.DataFrame([x.split('\\t') for x in results], columns=['CDR3',\n",
    "                                                                            'V',\n",
    "                                                                            'cluster',\n",
    "                                                                         ])   \n",
    "    os.chdir(cdir)\n",
    "    \n",
    "    ismart_data = pd.merge(df, results.drop_duplicates(),on=['CDR3','V'])\n",
    "    \n",
    "    binom_res = ml_utils.binominal_test(ismart_data, 'cluster', 'antigen.epitope')\n",
    "    binom_res = binom_res.rename({'antigen.epitope':'label_cluster'},axis=1)\n",
    "    ismart_data = ismart_data.merge(binom_res)\n",
    "    ismart_data.to_csv(f'benchmark/outputs/ismart_res_{chain}.txt',sep='\\t')\n",
    "\n",
    "    return ismart_data"
   ]
  },
  {
   "cell_type": "code",
   "execution_count": null,
   "id": "6cf4249d-f340-4303-96b0-40048a391eca",
   "metadata": {},
   "outputs": [],
   "source": []
  },
  {
   "cell_type": "markdown",
   "id": "2ebb4819-e2d0-4cdd-b9c8-c928bd3d0cc6",
   "metadata": {},
   "source": [
    "### TCRDIST3"
   ]
  },
  {
   "cell_type": "code",
   "execution_count": 10,
   "id": "803df4d4-c043-45fa-93ef-f54a41d3570f",
   "metadata": {},
   "outputs": [
    {
     "data": {
      "text/html": [
       "<div>\n",
       "<style scoped>\n",
       "    .dataframe tbody tr th:only-of-type {\n",
       "        vertical-align: middle;\n",
       "    }\n",
       "\n",
       "    .dataframe tbody tr th {\n",
       "        vertical-align: top;\n",
       "    }\n",
       "\n",
       "    .dataframe thead th {\n",
       "        text-align: right;\n",
       "    }\n",
       "</style>\n",
       "<table border=\"1\" class=\"dataframe\">\n",
       "  <thead>\n",
       "    <tr style=\"text-align: right;\">\n",
       "      <th></th>\n",
       "      <th>chain</th>\n",
       "      <th>cdr3aa</th>\n",
       "      <th>species</th>\n",
       "      <th>antigen.epitope</th>\n",
       "      <th>antigen.gene</th>\n",
       "      <th>antigen.species</th>\n",
       "      <th>complex.id</th>\n",
       "      <th>v</th>\n",
       "      <th>j</th>\n",
       "      <th>v.end</th>\n",
       "      <th>...</th>\n",
       "      <th>antigen.epitope_freq_500</th>\n",
       "      <th>antigen.epitope_freq_1000</th>\n",
       "      <th>antigen.species_freq</th>\n",
       "      <th>antigen.species_freq_10</th>\n",
       "      <th>antigen.species_freq_20</th>\n",
       "      <th>antigen.species_freq_30</th>\n",
       "      <th>antigen.species_freq_50</th>\n",
       "      <th>antigen.species_freq_100</th>\n",
       "      <th>antigen.species_freq_500</th>\n",
       "      <th>antigen.species_freq_1000</th>\n",
       "    </tr>\n",
       "  </thead>\n",
       "  <tbody>\n",
       "    <tr>\n",
       "      <th>0</th>\n",
       "      <td>TRA</td>\n",
       "      <td>CASNTGTASKLTF</td>\n",
       "      <td>HomoSapiens</td>\n",
       "      <td>GILGFVFTL</td>\n",
       "      <td>M</td>\n",
       "      <td>InfluenzaA</td>\n",
       "      <td>0</td>\n",
       "      <td>TRAV24*01</td>\n",
       "      <td>TRAJ44*01</td>\n",
       "      <td>2</td>\n",
       "      <td>...</td>\n",
       "      <td>GILGFVFTL</td>\n",
       "      <td>GILGFVFTL</td>\n",
       "      <td>InfluenzaA</td>\n",
       "      <td>InfluenzaA</td>\n",
       "      <td>InfluenzaA</td>\n",
       "      <td>InfluenzaA</td>\n",
       "      <td>InfluenzaA</td>\n",
       "      <td>InfluenzaA</td>\n",
       "      <td>InfluenzaA</td>\n",
       "      <td>InfluenzaA</td>\n",
       "    </tr>\n",
       "    <tr>\n",
       "      <th>1</th>\n",
       "      <td>TRA</td>\n",
       "      <td>CAVLLEYGNKLVF</td>\n",
       "      <td>HomoSapiens</td>\n",
       "      <td>GILGFVFTL</td>\n",
       "      <td>M</td>\n",
       "      <td>InfluenzaA</td>\n",
       "      <td>0</td>\n",
       "      <td>TRAV12-2*01</td>\n",
       "      <td>TRAJ47*01</td>\n",
       "      <td>3</td>\n",
       "      <td>...</td>\n",
       "      <td>GILGFVFTL</td>\n",
       "      <td>GILGFVFTL</td>\n",
       "      <td>InfluenzaA</td>\n",
       "      <td>InfluenzaA</td>\n",
       "      <td>InfluenzaA</td>\n",
       "      <td>InfluenzaA</td>\n",
       "      <td>InfluenzaA</td>\n",
       "      <td>InfluenzaA</td>\n",
       "      <td>InfluenzaA</td>\n",
       "      <td>InfluenzaA</td>\n",
       "    </tr>\n",
       "    <tr>\n",
       "      <th>2</th>\n",
       "      <td>TRB</td>\n",
       "      <td>CASSAFPCREGRNNEQFF</td>\n",
       "      <td>HomoSapiens</td>\n",
       "      <td>NLVPMVATV</td>\n",
       "      <td>pp65</td>\n",
       "      <td>CMV</td>\n",
       "      <td>0</td>\n",
       "      <td>TRBV6-1*01</td>\n",
       "      <td>TRBJ2-1*01</td>\n",
       "      <td>4</td>\n",
       "      <td>...</td>\n",
       "      <td>NLVPMVATV</td>\n",
       "      <td>NLVPMVATV</td>\n",
       "      <td>CMV</td>\n",
       "      <td>CMV</td>\n",
       "      <td>CMV</td>\n",
       "      <td>CMV</td>\n",
       "      <td>CMV</td>\n",
       "      <td>CMV</td>\n",
       "      <td>CMV</td>\n",
       "      <td>CMV</td>\n",
       "    </tr>\n",
       "    <tr>\n",
       "      <th>3</th>\n",
       "      <td>TRA</td>\n",
       "      <td>CVVSAIMDSNYQLIW</td>\n",
       "      <td>HomoSapiens</td>\n",
       "      <td>KTFPPTEPK</td>\n",
       "      <td>Nucleocapsid</td>\n",
       "      <td>SARS-CoV-2</td>\n",
       "      <td>29700</td>\n",
       "      <td>TRAV8-2*01</td>\n",
       "      <td>TRAJ33*01</td>\n",
       "      <td>4</td>\n",
       "      <td>...</td>\n",
       "      <td>other</td>\n",
       "      <td>other</td>\n",
       "      <td>SARS-CoV-2</td>\n",
       "      <td>SARS-CoV-2</td>\n",
       "      <td>SARS-CoV-2</td>\n",
       "      <td>SARS-CoV-2</td>\n",
       "      <td>SARS-CoV-2</td>\n",
       "      <td>SARS-CoV-2</td>\n",
       "      <td>SARS-CoV-2</td>\n",
       "      <td>SARS-CoV-2</td>\n",
       "    </tr>\n",
       "    <tr>\n",
       "      <th>4</th>\n",
       "      <td>TRB</td>\n",
       "      <td>CASSHGVGQGPYEQYF</td>\n",
       "      <td>HomoSapiens</td>\n",
       "      <td>YLQPRTFLL</td>\n",
       "      <td>Spike</td>\n",
       "      <td>SARS-CoV-2</td>\n",
       "      <td>0</td>\n",
       "      <td>TRBV4-1*01</td>\n",
       "      <td>TRBJ2-7*01</td>\n",
       "      <td>4</td>\n",
       "      <td>...</td>\n",
       "      <td>YLQPRTFLL</td>\n",
       "      <td>YLQPRTFLL</td>\n",
       "      <td>SARS-CoV-2</td>\n",
       "      <td>SARS-CoV-2</td>\n",
       "      <td>SARS-CoV-2</td>\n",
       "      <td>SARS-CoV-2</td>\n",
       "      <td>SARS-CoV-2</td>\n",
       "      <td>SARS-CoV-2</td>\n",
       "      <td>SARS-CoV-2</td>\n",
       "      <td>SARS-CoV-2</td>\n",
       "    </tr>\n",
       "    <tr>\n",
       "      <th>...</th>\n",
       "      <td>...</td>\n",
       "      <td>...</td>\n",
       "      <td>...</td>\n",
       "      <td>...</td>\n",
       "      <td>...</td>\n",
       "      <td>...</td>\n",
       "      <td>...</td>\n",
       "      <td>...</td>\n",
       "      <td>...</td>\n",
       "      <td>...</td>\n",
       "      <td>...</td>\n",
       "      <td>...</td>\n",
       "      <td>...</td>\n",
       "      <td>...</td>\n",
       "      <td>...</td>\n",
       "      <td>...</td>\n",
       "      <td>...</td>\n",
       "      <td>...</td>\n",
       "      <td>...</td>\n",
       "      <td>...</td>\n",
       "      <td>...</td>\n",
       "    </tr>\n",
       "    <tr>\n",
       "      <th>36188</th>\n",
       "      <td>TRB</td>\n",
       "      <td>CASSLKDSGSYEQYF</td>\n",
       "      <td>HomoSapiens</td>\n",
       "      <td>HTQGYFPD</td>\n",
       "      <td>Nef</td>\n",
       "      <td>HIV</td>\n",
       "      <td>0</td>\n",
       "      <td>TRBV4-3*01</td>\n",
       "      <td>TRBJ2-7*01</td>\n",
       "      <td>4</td>\n",
       "      <td>...</td>\n",
       "      <td>other</td>\n",
       "      <td>other</td>\n",
       "      <td>HIV</td>\n",
       "      <td>HIV</td>\n",
       "      <td>HIV</td>\n",
       "      <td>HIV</td>\n",
       "      <td>HIV</td>\n",
       "      <td>HIV</td>\n",
       "      <td>other</td>\n",
       "      <td>other</td>\n",
       "    </tr>\n",
       "    <tr>\n",
       "      <th>36189</th>\n",
       "      <td>TRA</td>\n",
       "      <td>CAMRELSNTGKLIF</td>\n",
       "      <td>HomoSapiens</td>\n",
       "      <td>NSAIGKIQY</td>\n",
       "      <td>Spike</td>\n",
       "      <td>SARS-CoV-2</td>\n",
       "      <td>29257</td>\n",
       "      <td>TRAV14/DV4*01</td>\n",
       "      <td>TRAJ37*01</td>\n",
       "      <td>5</td>\n",
       "      <td>...</td>\n",
       "      <td>other</td>\n",
       "      <td>other</td>\n",
       "      <td>SARS-CoV-2</td>\n",
       "      <td>SARS-CoV-2</td>\n",
       "      <td>SARS-CoV-2</td>\n",
       "      <td>SARS-CoV-2</td>\n",
       "      <td>SARS-CoV-2</td>\n",
       "      <td>SARS-CoV-2</td>\n",
       "      <td>SARS-CoV-2</td>\n",
       "      <td>SARS-CoV-2</td>\n",
       "    </tr>\n",
       "    <tr>\n",
       "      <th>36190</th>\n",
       "      <td>TRA</td>\n",
       "      <td>CALSEASGYSTLTF</td>\n",
       "      <td>HomoSapiens</td>\n",
       "      <td>NLVPMVATV</td>\n",
       "      <td>pp65</td>\n",
       "      <td>CMV</td>\n",
       "      <td>0</td>\n",
       "      <td>TRAV19*01</td>\n",
       "      <td>TRAJ11*01</td>\n",
       "      <td>5</td>\n",
       "      <td>...</td>\n",
       "      <td>NLVPMVATV</td>\n",
       "      <td>NLVPMVATV</td>\n",
       "      <td>CMV</td>\n",
       "      <td>CMV</td>\n",
       "      <td>CMV</td>\n",
       "      <td>CMV</td>\n",
       "      <td>CMV</td>\n",
       "      <td>CMV</td>\n",
       "      <td>CMV</td>\n",
       "      <td>CMV</td>\n",
       "    </tr>\n",
       "    <tr>\n",
       "      <th>36191</th>\n",
       "      <td>TRB</td>\n",
       "      <td>CASSQPQGPTDTQYF</td>\n",
       "      <td>HomoSapiens</td>\n",
       "      <td>GLIYNRMGAVTTEV</td>\n",
       "      <td>M1</td>\n",
       "      <td>InfluenzaA</td>\n",
       "      <td>0</td>\n",
       "      <td>TRBV6-6*01</td>\n",
       "      <td>TRBJ2-3*01</td>\n",
       "      <td>4</td>\n",
       "      <td>...</td>\n",
       "      <td>other</td>\n",
       "      <td>other</td>\n",
       "      <td>InfluenzaA</td>\n",
       "      <td>InfluenzaA</td>\n",
       "      <td>InfluenzaA</td>\n",
       "      <td>InfluenzaA</td>\n",
       "      <td>InfluenzaA</td>\n",
       "      <td>InfluenzaA</td>\n",
       "      <td>InfluenzaA</td>\n",
       "      <td>InfluenzaA</td>\n",
       "    </tr>\n",
       "    <tr>\n",
       "      <th>36192</th>\n",
       "      <td>TRB</td>\n",
       "      <td>CASSWGLYNEQFF</td>\n",
       "      <td>HomoSapiens</td>\n",
       "      <td>MEVTPSGTWL</td>\n",
       "      <td>Nucleocapsid</td>\n",
       "      <td>SARS-CoV-2</td>\n",
       "      <td>0</td>\n",
       "      <td>TRBV27*01</td>\n",
       "      <td>TRBJ2-1*01</td>\n",
       "      <td>4</td>\n",
       "      <td>...</td>\n",
       "      <td>other</td>\n",
       "      <td>other</td>\n",
       "      <td>SARS-CoV-2</td>\n",
       "      <td>SARS-CoV-2</td>\n",
       "      <td>SARS-CoV-2</td>\n",
       "      <td>SARS-CoV-2</td>\n",
       "      <td>SARS-CoV-2</td>\n",
       "      <td>SARS-CoV-2</td>\n",
       "      <td>SARS-CoV-2</td>\n",
       "      <td>SARS-CoV-2</td>\n",
       "    </tr>\n",
       "  </tbody>\n",
       "</table>\n",
       "<p>36193 rows × 33 columns</p>\n",
       "</div>"
      ],
      "text/plain": [
       "      chain              cdr3aa      species antigen.epitope  antigen.gene  \\\n",
       "0       TRA       CASNTGTASKLTF  HomoSapiens       GILGFVFTL             M   \n",
       "1       TRA       CAVLLEYGNKLVF  HomoSapiens       GILGFVFTL             M   \n",
       "2       TRB  CASSAFPCREGRNNEQFF  HomoSapiens       NLVPMVATV          pp65   \n",
       "3       TRA     CVVSAIMDSNYQLIW  HomoSapiens       KTFPPTEPK  Nucleocapsid   \n",
       "4       TRB    CASSHGVGQGPYEQYF  HomoSapiens       YLQPRTFLL         Spike   \n",
       "...     ...                 ...          ...             ...           ...   \n",
       "36188   TRB     CASSLKDSGSYEQYF  HomoSapiens        HTQGYFPD           Nef   \n",
       "36189   TRA      CAMRELSNTGKLIF  HomoSapiens       NSAIGKIQY         Spike   \n",
       "36190   TRA      CALSEASGYSTLTF  HomoSapiens       NLVPMVATV          pp65   \n",
       "36191   TRB     CASSQPQGPTDTQYF  HomoSapiens  GLIYNRMGAVTTEV            M1   \n",
       "36192   TRB       CASSWGLYNEQFF  HomoSapiens      MEVTPSGTWL  Nucleocapsid   \n",
       "\n",
       "      antigen.species complex.id              v           j  v.end  ...  \\\n",
       "0          InfluenzaA          0      TRAV24*01   TRAJ44*01      2  ...   \n",
       "1          InfluenzaA          0    TRAV12-2*01   TRAJ47*01      3  ...   \n",
       "2                 CMV          0     TRBV6-1*01  TRBJ2-1*01      4  ...   \n",
       "3          SARS-CoV-2      29700     TRAV8-2*01   TRAJ33*01      4  ...   \n",
       "4          SARS-CoV-2          0     TRBV4-1*01  TRBJ2-7*01      4  ...   \n",
       "...               ...        ...            ...         ...    ...  ...   \n",
       "36188             HIV          0     TRBV4-3*01  TRBJ2-7*01      4  ...   \n",
       "36189      SARS-CoV-2      29257  TRAV14/DV4*01   TRAJ37*01      5  ...   \n",
       "36190             CMV          0      TRAV19*01   TRAJ11*01      5  ...   \n",
       "36191      InfluenzaA          0     TRBV6-6*01  TRBJ2-3*01      4  ...   \n",
       "36192      SARS-CoV-2          0      TRBV27*01  TRBJ2-1*01      4  ...   \n",
       "\n",
       "       antigen.epitope_freq_500 antigen.epitope_freq_1000  \\\n",
       "0                     GILGFVFTL                 GILGFVFTL   \n",
       "1                     GILGFVFTL                 GILGFVFTL   \n",
       "2                     NLVPMVATV                 NLVPMVATV   \n",
       "3                         other                     other   \n",
       "4                     YLQPRTFLL                 YLQPRTFLL   \n",
       "...                         ...                       ...   \n",
       "36188                     other                     other   \n",
       "36189                     other                     other   \n",
       "36190                 NLVPMVATV                 NLVPMVATV   \n",
       "36191                     other                     other   \n",
       "36192                     other                     other   \n",
       "\n",
       "      antigen.species_freq antigen.species_freq_10 antigen.species_freq_20  \\\n",
       "0               InfluenzaA              InfluenzaA              InfluenzaA   \n",
       "1               InfluenzaA              InfluenzaA              InfluenzaA   \n",
       "2                      CMV                     CMV                     CMV   \n",
       "3               SARS-CoV-2              SARS-CoV-2              SARS-CoV-2   \n",
       "4               SARS-CoV-2              SARS-CoV-2              SARS-CoV-2   \n",
       "...                    ...                     ...                     ...   \n",
       "36188                  HIV                     HIV                     HIV   \n",
       "36189           SARS-CoV-2              SARS-CoV-2              SARS-CoV-2   \n",
       "36190                  CMV                     CMV                     CMV   \n",
       "36191           InfluenzaA              InfluenzaA              InfluenzaA   \n",
       "36192           SARS-CoV-2              SARS-CoV-2              SARS-CoV-2   \n",
       "\n",
       "       antigen.species_freq_30  antigen.species_freq_50  \\\n",
       "0                   InfluenzaA               InfluenzaA   \n",
       "1                   InfluenzaA               InfluenzaA   \n",
       "2                          CMV                      CMV   \n",
       "3                   SARS-CoV-2               SARS-CoV-2   \n",
       "4                   SARS-CoV-2               SARS-CoV-2   \n",
       "...                        ...                      ...   \n",
       "36188                      HIV                      HIV   \n",
       "36189               SARS-CoV-2               SARS-CoV-2   \n",
       "36190                      CMV                      CMV   \n",
       "36191               InfluenzaA               InfluenzaA   \n",
       "36192               SARS-CoV-2               SARS-CoV-2   \n",
       "\n",
       "      antigen.species_freq_100 antigen.species_freq_500  \\\n",
       "0                   InfluenzaA               InfluenzaA   \n",
       "1                   InfluenzaA               InfluenzaA   \n",
       "2                          CMV                      CMV   \n",
       "3                   SARS-CoV-2               SARS-CoV-2   \n",
       "4                   SARS-CoV-2               SARS-CoV-2   \n",
       "...                        ...                      ...   \n",
       "36188                      HIV                    other   \n",
       "36189               SARS-CoV-2               SARS-CoV-2   \n",
       "36190                      CMV                      CMV   \n",
       "36191               InfluenzaA               InfluenzaA   \n",
       "36192               SARS-CoV-2               SARS-CoV-2   \n",
       "\n",
       "      antigen.species_freq_1000  \n",
       "0                    InfluenzaA  \n",
       "1                    InfluenzaA  \n",
       "2                           CMV  \n",
       "3                    SARS-CoV-2  \n",
       "4                    SARS-CoV-2  \n",
       "...                         ...  \n",
       "36188                     other  \n",
       "36189                SARS-CoV-2  \n",
       "36190                       CMV  \n",
       "36191                InfluenzaA  \n",
       "36192                SARS-CoV-2  \n",
       "\n",
       "[36193 rows x 33 columns]"
      ]
     },
     "execution_count": 10,
     "metadata": {},
     "output_type": "execute_result"
    }
   ],
   "source": [
    "vdjdb_data_tcrdist3 = vdjdb_data.copy()\n",
    "vdjdb_data_tcrdist3['v']= vdjdb_data_tcrdist3['v'] + '*01'\n",
    "vdjdb_data_tcrdist3['j']= vdjdb_data_tcrdist3['j'] + '*01'\n",
    "vdjdb_data_tcrdist3['v'] = vdjdb_data_tcrdist3['v'].str.replace('DV','/DV')\n",
    "vdjdb_data_tcrdist3"
   ]
  },
  {
   "cell_type": "code",
   "execution_count": null,
   "id": "ea57925e-2471-442d-b1ee-c5bec7eb30e6",
   "metadata": {},
   "outputs": [],
   "source": []
  },
  {
   "cell_type": "code",
   "execution_count": 11,
   "id": "731d10f3-5694-47e7-9cbf-f4272c3cf3f9",
   "metadata": {},
   "outputs": [],
   "source": [
    "tcrdist_res = {}\n",
    "metrics_tcrdist = {}"
   ]
  },
  {
   "cell_type": "code",
   "execution_count": null,
   "id": "3ed8d2b6-9ce3-420f-b34a-06caa0e2385f",
   "metadata": {},
   "outputs": [],
   "source": [
    "chain = 'TRA'\n",
    "tcrdist_res[chain] = run_tcrdist3(vdjdb_data_tcrdist3,chain, n_clusters=5295)"
   ]
  },
  {
   "cell_type": "code",
   "execution_count": 11,
   "id": "03159a3a-bffd-44bb-a89c-018f09b6a5ff",
   "metadata": {},
   "outputs": [
    {
     "name": "stdout",
     "output_type": "stream",
     "text": [
      "\n",
      "*** Tcrdist3 clustering 24146 TRB chains \n",
      "CREATED /c13d76564a5c/ FOR HOLDING DISTANCE OUT OF MEMORY\n",
      "RETURNING scipy.sparse csr_matrix w/dims (24146, 24146)\n",
      "CLEANING UP c13d76564a5c\n"
     ]
    }
   ],
   "source": [
    "chain = 'TRB'\n",
    "tcrdist_res[chain] = run_tcrdist3(vdjdb_data_tcrdist3,chain, n_clusters=10616)"
   ]
  },
  {
   "cell_type": "code",
   "execution_count": null,
   "id": "ca2572b4-b661-4a75-8d8b-d2bfbe7619f4",
   "metadata": {},
   "outputs": [],
   "source": []
  },
  {
   "cell_type": "code",
   "execution_count": 12,
   "id": "571eb9f2-b5b5-4901-a21e-66af7e6af744",
   "metadata": {},
   "outputs": [],
   "source": [
    "chain = 'TRA'\n",
    "tcrdist_res[chain]=pd.read_csv(f'benchmark/outputs/tcrdist_res_{chain}.txt',sep='\\t')"
   ]
  },
  {
   "cell_type": "code",
   "execution_count": 13,
   "id": "8d1e8ffa-c926-4d31-a2df-855304ea2183",
   "metadata": {},
   "outputs": [
    {
     "name": "stdout",
     "output_type": "stream",
     "text": [
      "{'f1': 0.6054879190571456, 'precision': 0.6238795737186192, 'recall': 0.6227276500373538}\n",
      "0.5125482625482626\n"
     ]
    },
    {
     "name": "stderr",
     "output_type": "stream",
     "text": [
      "/home/ykremlyakova/.conda/envs/py311/lib/python3.11/site-packages/sklearn/metrics/_classification.py:1469: UndefinedMetricWarning: Precision is ill-defined and being set to 0.0 in labels with no predicted samples. Use `zero_division` parameter to control this behavior.\n",
      "  _warn_prf(average, modifier, msg_start, len(result))\n"
     ]
    }
   ],
   "source": [
    "print(ml_utils.clsf_metrics(tcrdist_res[chain]['antigen.epitope'],tcrdist_res[chain]['label_cluster'], average='weighted'))\n",
    "print(ml_utils.count_clstr_purity(tcrdist_res[chain][['cluster','label_cluster','total_cluster','count_matched','fraction_matched','p_value','fraction_matched_exp','is_cluster']].drop_duplicates()))\n"
   ]
  },
  {
   "cell_type": "code",
   "execution_count": null,
   "id": "1d584422-2ff5-4d83-a800-9f34969e4662",
   "metadata": {},
   "outputs": [],
   "source": []
  },
  {
   "cell_type": "code",
   "execution_count": 14,
   "id": "cd34c14c-395c-415f-9327-f0bab96c89bd",
   "metadata": {},
   "outputs": [],
   "source": [
    "chain = 'TRB'\n",
    "tcrdist_res[chain]=pd.read_csv(f'benchmark/outputs/tcrdist_res_{chain}.txt',sep='\\t')\n",
    "tcrdist_res[chain]['is_cluster'] = tcrdist_res[chain]['total_cluster'].apply(lambda x: 1 if x>1 else 0)"
   ]
  },
  {
   "cell_type": "code",
   "execution_count": null,
   "id": "62e51847-1968-4444-aca3-143a3c76d537",
   "metadata": {},
   "outputs": [],
   "source": []
  },
  {
   "cell_type": "code",
   "execution_count": 15,
   "id": "8a16b93e-69ac-42fb-b9e0-3591714c2295",
   "metadata": {},
   "outputs": [
    {
     "name": "stdout",
     "output_type": "stream",
     "text": [
      "{'f1': 0.6007437333353057, 'precision': 0.6546664311651285, 'recall': 0.6065600927689887}\n",
      "0.4703980376853607\n"
     ]
    },
    {
     "name": "stderr",
     "output_type": "stream",
     "text": [
      "/home/ykremlyakova/.conda/envs/py311/lib/python3.11/site-packages/sklearn/metrics/_classification.py:1469: UndefinedMetricWarning: Precision is ill-defined and being set to 0.0 in labels with no predicted samples. Use `zero_division` parameter to control this behavior.\n",
      "  _warn_prf(average, modifier, msg_start, len(result))\n"
     ]
    }
   ],
   "source": [
    "print(ml_utils.clsf_metrics(tcrdist_res[chain]['antigen.epitope'],tcrdist_res[chain]['label_cluster'], average='weighted'))\n",
    "print(ml_utils.count_clstr_purity(tcrdist_res[chain][['cluster','label_cluster','total_cluster','count_matched','fraction_matched','p_value','fraction_matched_exp','is_cluster']].drop_duplicates()))\n"
   ]
  },
  {
   "cell_type": "code",
   "execution_count": null,
   "id": "67c13bbf-2851-4989-b22e-bbf5c1f7dc6f",
   "metadata": {},
   "outputs": [],
   "source": []
  },
  {
   "cell_type": "code",
   "execution_count": 16,
   "id": "b9bbc572-ef56-4518-85f5-8e38ed968c6d",
   "metadata": {},
   "outputs": [
    {
     "data": {
      "text/plain": [
       "{'purity': 0.5125482625482626,\n",
       " 'retention': 0.7739686228936665,\n",
       " 'consistency': 0.00015951065569386178,\n",
       " 'ami': 0.32600384549182043,\n",
       " 'accuracy': 0.00010723860466460209,\n",
       " 'precision': 0.4877281770379499,\n",
       " 'recall': 0.5125482625482611,\n",
       " 'f1-score': 0.49983028659566164,\n",
       " 'support': 9324,\n",
       " 'mean_clustsize': 3.625194401244168}"
      ]
     },
     "execution_count": 16,
     "metadata": {},
     "output_type": "execute_result"
    }
   ],
   "source": [
    "chain = 'TRA'\n",
    "metrics_tcrdist[chain] = get_clustermetrics(tcrdist_res[chain], 'antigen.epitope')\n",
    "metrics_tcrdist[chain]"
   ]
  },
  {
   "cell_type": "code",
   "execution_count": 17,
   "id": "66a49785-3490-4f8b-b2d3-cec974085cd8",
   "metadata": {},
   "outputs": [
    {
     "data": {
      "text/plain": [
       "{'purity': 0.4703980376853607,\n",
       " 'retention': 0.7428973743063033,\n",
       " 'consistency': 0.00022685921679757088,\n",
       " 'ami': 0.31242420271498356,\n",
       " 'accuracy': 5.574446718837214e-05,\n",
       " 'precision': 0.49837505679032795,\n",
       " 'recall': 0.4703980376853594,\n",
       " 'f1-score': 0.4839825756564367,\n",
       " 'support': 17938,\n",
       " 'mean_clustsize': 4.069419237749546}"
      ]
     },
     "execution_count": 17,
     "metadata": {},
     "output_type": "execute_result"
    }
   ],
   "source": [
    "chain = 'TRB'\n",
    "metrics_tcrdist[chain] = get_clustermetrics(tcrdist_res[chain], 'antigen.epitope')\n",
    "metrics_tcrdist[chain]"
   ]
  },
  {
   "cell_type": "code",
   "execution_count": null,
   "id": "fc7883d1-7a33-42d2-bce3-7f686595384e",
   "metadata": {},
   "outputs": [],
   "source": []
  },
  {
   "cell_type": "code",
   "execution_count": null,
   "id": "5a0631c0-b1d5-42a8-a666-0c849407b8b4",
   "metadata": {},
   "outputs": [],
   "source": []
  },
  {
   "cell_type": "markdown",
   "id": "2cd44726-5107-4523-ac34-4517ce70e914",
   "metadata": {},
   "source": [
    "### GIANA"
   ]
  },
  {
   "cell_type": "code",
   "execution_count": 18,
   "id": "f2adebe7-af9a-4ba1-9fbd-f573b81110ca",
   "metadata": {},
   "outputs": [
    {
     "data": {
      "text/html": [
       "<div>\n",
       "<style scoped>\n",
       "    .dataframe tbody tr th:only-of-type {\n",
       "        vertical-align: middle;\n",
       "    }\n",
       "\n",
       "    .dataframe tbody tr th {\n",
       "        vertical-align: top;\n",
       "    }\n",
       "\n",
       "    .dataframe thead th {\n",
       "        text-align: right;\n",
       "    }\n",
       "</style>\n",
       "<table border=\"1\" class=\"dataframe\">\n",
       "  <thead>\n",
       "    <tr style=\"text-align: right;\">\n",
       "      <th></th>\n",
       "      <th>chain</th>\n",
       "      <th>cdr3aa</th>\n",
       "      <th>species</th>\n",
       "      <th>antigen.epitope</th>\n",
       "      <th>antigen.gene</th>\n",
       "      <th>antigen.species</th>\n",
       "      <th>complex.id</th>\n",
       "      <th>v</th>\n",
       "      <th>j</th>\n",
       "      <th>v.end</th>\n",
       "      <th>...</th>\n",
       "      <th>antigen.epitope_freq_500</th>\n",
       "      <th>antigen.epitope_freq_1000</th>\n",
       "      <th>antigen.species_freq</th>\n",
       "      <th>antigen.species_freq_10</th>\n",
       "      <th>antigen.species_freq_20</th>\n",
       "      <th>antigen.species_freq_30</th>\n",
       "      <th>antigen.species_freq_50</th>\n",
       "      <th>antigen.species_freq_100</th>\n",
       "      <th>antigen.species_freq_500</th>\n",
       "      <th>antigen.species_freq_1000</th>\n",
       "    </tr>\n",
       "  </thead>\n",
       "  <tbody>\n",
       "    <tr>\n",
       "      <th>0</th>\n",
       "      <td>TRA</td>\n",
       "      <td>CASNTGTASKLTF</td>\n",
       "      <td>HomoSapiens</td>\n",
       "      <td>GILGFVFTL</td>\n",
       "      <td>M</td>\n",
       "      <td>InfluenzaA</td>\n",
       "      <td>0</td>\n",
       "      <td>TRAV24*01</td>\n",
       "      <td>TRAJ44*01</td>\n",
       "      <td>2</td>\n",
       "      <td>...</td>\n",
       "      <td>GILGFVFTL</td>\n",
       "      <td>GILGFVFTL</td>\n",
       "      <td>InfluenzaA</td>\n",
       "      <td>InfluenzaA</td>\n",
       "      <td>InfluenzaA</td>\n",
       "      <td>InfluenzaA</td>\n",
       "      <td>InfluenzaA</td>\n",
       "      <td>InfluenzaA</td>\n",
       "      <td>InfluenzaA</td>\n",
       "      <td>InfluenzaA</td>\n",
       "    </tr>\n",
       "    <tr>\n",
       "      <th>1</th>\n",
       "      <td>TRA</td>\n",
       "      <td>CAVLLEYGNKLVF</td>\n",
       "      <td>HomoSapiens</td>\n",
       "      <td>GILGFVFTL</td>\n",
       "      <td>M</td>\n",
       "      <td>InfluenzaA</td>\n",
       "      <td>0</td>\n",
       "      <td>TRAV12-2*01</td>\n",
       "      <td>TRAJ47*01</td>\n",
       "      <td>3</td>\n",
       "      <td>...</td>\n",
       "      <td>GILGFVFTL</td>\n",
       "      <td>GILGFVFTL</td>\n",
       "      <td>InfluenzaA</td>\n",
       "      <td>InfluenzaA</td>\n",
       "      <td>InfluenzaA</td>\n",
       "      <td>InfluenzaA</td>\n",
       "      <td>InfluenzaA</td>\n",
       "      <td>InfluenzaA</td>\n",
       "      <td>InfluenzaA</td>\n",
       "      <td>InfluenzaA</td>\n",
       "    </tr>\n",
       "    <tr>\n",
       "      <th>2</th>\n",
       "      <td>TRB</td>\n",
       "      <td>CASSAFPCREGRNNEQFF</td>\n",
       "      <td>HomoSapiens</td>\n",
       "      <td>NLVPMVATV</td>\n",
       "      <td>pp65</td>\n",
       "      <td>CMV</td>\n",
       "      <td>0</td>\n",
       "      <td>TRBV6-1*01</td>\n",
       "      <td>TRBJ2-1*01</td>\n",
       "      <td>4</td>\n",
       "      <td>...</td>\n",
       "      <td>NLVPMVATV</td>\n",
       "      <td>NLVPMVATV</td>\n",
       "      <td>CMV</td>\n",
       "      <td>CMV</td>\n",
       "      <td>CMV</td>\n",
       "      <td>CMV</td>\n",
       "      <td>CMV</td>\n",
       "      <td>CMV</td>\n",
       "      <td>CMV</td>\n",
       "      <td>CMV</td>\n",
       "    </tr>\n",
       "    <tr>\n",
       "      <th>3</th>\n",
       "      <td>TRA</td>\n",
       "      <td>CVVSAIMDSNYQLIW</td>\n",
       "      <td>HomoSapiens</td>\n",
       "      <td>KTFPPTEPK</td>\n",
       "      <td>Nucleocapsid</td>\n",
       "      <td>SARS-CoV-2</td>\n",
       "      <td>29700</td>\n",
       "      <td>TRAV8-2*01</td>\n",
       "      <td>TRAJ33*01</td>\n",
       "      <td>4</td>\n",
       "      <td>...</td>\n",
       "      <td>other</td>\n",
       "      <td>other</td>\n",
       "      <td>SARS-CoV-2</td>\n",
       "      <td>SARS-CoV-2</td>\n",
       "      <td>SARS-CoV-2</td>\n",
       "      <td>SARS-CoV-2</td>\n",
       "      <td>SARS-CoV-2</td>\n",
       "      <td>SARS-CoV-2</td>\n",
       "      <td>SARS-CoV-2</td>\n",
       "      <td>SARS-CoV-2</td>\n",
       "    </tr>\n",
       "    <tr>\n",
       "      <th>4</th>\n",
       "      <td>TRB</td>\n",
       "      <td>CASSHGVGQGPYEQYF</td>\n",
       "      <td>HomoSapiens</td>\n",
       "      <td>YLQPRTFLL</td>\n",
       "      <td>Spike</td>\n",
       "      <td>SARS-CoV-2</td>\n",
       "      <td>0</td>\n",
       "      <td>TRBV4-1*01</td>\n",
       "      <td>TRBJ2-7*01</td>\n",
       "      <td>4</td>\n",
       "      <td>...</td>\n",
       "      <td>YLQPRTFLL</td>\n",
       "      <td>YLQPRTFLL</td>\n",
       "      <td>SARS-CoV-2</td>\n",
       "      <td>SARS-CoV-2</td>\n",
       "      <td>SARS-CoV-2</td>\n",
       "      <td>SARS-CoV-2</td>\n",
       "      <td>SARS-CoV-2</td>\n",
       "      <td>SARS-CoV-2</td>\n",
       "      <td>SARS-CoV-2</td>\n",
       "      <td>SARS-CoV-2</td>\n",
       "    </tr>\n",
       "    <tr>\n",
       "      <th>...</th>\n",
       "      <td>...</td>\n",
       "      <td>...</td>\n",
       "      <td>...</td>\n",
       "      <td>...</td>\n",
       "      <td>...</td>\n",
       "      <td>...</td>\n",
       "      <td>...</td>\n",
       "      <td>...</td>\n",
       "      <td>...</td>\n",
       "      <td>...</td>\n",
       "      <td>...</td>\n",
       "      <td>...</td>\n",
       "      <td>...</td>\n",
       "      <td>...</td>\n",
       "      <td>...</td>\n",
       "      <td>...</td>\n",
       "      <td>...</td>\n",
       "      <td>...</td>\n",
       "      <td>...</td>\n",
       "      <td>...</td>\n",
       "      <td>...</td>\n",
       "    </tr>\n",
       "    <tr>\n",
       "      <th>36188</th>\n",
       "      <td>TRB</td>\n",
       "      <td>CASSLKDSGSYEQYF</td>\n",
       "      <td>HomoSapiens</td>\n",
       "      <td>HTQGYFPD</td>\n",
       "      <td>Nef</td>\n",
       "      <td>HIV</td>\n",
       "      <td>0</td>\n",
       "      <td>TRBV4-3*01</td>\n",
       "      <td>TRBJ2-7*01</td>\n",
       "      <td>4</td>\n",
       "      <td>...</td>\n",
       "      <td>other</td>\n",
       "      <td>other</td>\n",
       "      <td>HIV</td>\n",
       "      <td>HIV</td>\n",
       "      <td>HIV</td>\n",
       "      <td>HIV</td>\n",
       "      <td>HIV</td>\n",
       "      <td>HIV</td>\n",
       "      <td>other</td>\n",
       "      <td>other</td>\n",
       "    </tr>\n",
       "    <tr>\n",
       "      <th>36189</th>\n",
       "      <td>TRA</td>\n",
       "      <td>CAMRELSNTGKLIF</td>\n",
       "      <td>HomoSapiens</td>\n",
       "      <td>NSAIGKIQY</td>\n",
       "      <td>Spike</td>\n",
       "      <td>SARS-CoV-2</td>\n",
       "      <td>29257</td>\n",
       "      <td>TRAV14DV4*01</td>\n",
       "      <td>TRAJ37*01</td>\n",
       "      <td>5</td>\n",
       "      <td>...</td>\n",
       "      <td>other</td>\n",
       "      <td>other</td>\n",
       "      <td>SARS-CoV-2</td>\n",
       "      <td>SARS-CoV-2</td>\n",
       "      <td>SARS-CoV-2</td>\n",
       "      <td>SARS-CoV-2</td>\n",
       "      <td>SARS-CoV-2</td>\n",
       "      <td>SARS-CoV-2</td>\n",
       "      <td>SARS-CoV-2</td>\n",
       "      <td>SARS-CoV-2</td>\n",
       "    </tr>\n",
       "    <tr>\n",
       "      <th>36190</th>\n",
       "      <td>TRA</td>\n",
       "      <td>CALSEASGYSTLTF</td>\n",
       "      <td>HomoSapiens</td>\n",
       "      <td>NLVPMVATV</td>\n",
       "      <td>pp65</td>\n",
       "      <td>CMV</td>\n",
       "      <td>0</td>\n",
       "      <td>TRAV19*01</td>\n",
       "      <td>TRAJ11*01</td>\n",
       "      <td>5</td>\n",
       "      <td>...</td>\n",
       "      <td>NLVPMVATV</td>\n",
       "      <td>NLVPMVATV</td>\n",
       "      <td>CMV</td>\n",
       "      <td>CMV</td>\n",
       "      <td>CMV</td>\n",
       "      <td>CMV</td>\n",
       "      <td>CMV</td>\n",
       "      <td>CMV</td>\n",
       "      <td>CMV</td>\n",
       "      <td>CMV</td>\n",
       "    </tr>\n",
       "    <tr>\n",
       "      <th>36191</th>\n",
       "      <td>TRB</td>\n",
       "      <td>CASSQPQGPTDTQYF</td>\n",
       "      <td>HomoSapiens</td>\n",
       "      <td>GLIYNRMGAVTTEV</td>\n",
       "      <td>M1</td>\n",
       "      <td>InfluenzaA</td>\n",
       "      <td>0</td>\n",
       "      <td>TRBV6-6*01</td>\n",
       "      <td>TRBJ2-3*01</td>\n",
       "      <td>4</td>\n",
       "      <td>...</td>\n",
       "      <td>other</td>\n",
       "      <td>other</td>\n",
       "      <td>InfluenzaA</td>\n",
       "      <td>InfluenzaA</td>\n",
       "      <td>InfluenzaA</td>\n",
       "      <td>InfluenzaA</td>\n",
       "      <td>InfluenzaA</td>\n",
       "      <td>InfluenzaA</td>\n",
       "      <td>InfluenzaA</td>\n",
       "      <td>InfluenzaA</td>\n",
       "    </tr>\n",
       "    <tr>\n",
       "      <th>36192</th>\n",
       "      <td>TRB</td>\n",
       "      <td>CASSWGLYNEQFF</td>\n",
       "      <td>HomoSapiens</td>\n",
       "      <td>MEVTPSGTWL</td>\n",
       "      <td>Nucleocapsid</td>\n",
       "      <td>SARS-CoV-2</td>\n",
       "      <td>0</td>\n",
       "      <td>TRBV27*01</td>\n",
       "      <td>TRBJ2-1*01</td>\n",
       "      <td>4</td>\n",
       "      <td>...</td>\n",
       "      <td>other</td>\n",
       "      <td>other</td>\n",
       "      <td>SARS-CoV-2</td>\n",
       "      <td>SARS-CoV-2</td>\n",
       "      <td>SARS-CoV-2</td>\n",
       "      <td>SARS-CoV-2</td>\n",
       "      <td>SARS-CoV-2</td>\n",
       "      <td>SARS-CoV-2</td>\n",
       "      <td>SARS-CoV-2</td>\n",
       "      <td>SARS-CoV-2</td>\n",
       "    </tr>\n",
       "  </tbody>\n",
       "</table>\n",
       "<p>36193 rows × 33 columns</p>\n",
       "</div>"
      ],
      "text/plain": [
       "      chain              cdr3aa      species antigen.epitope  antigen.gene  \\\n",
       "0       TRA       CASNTGTASKLTF  HomoSapiens       GILGFVFTL             M   \n",
       "1       TRA       CAVLLEYGNKLVF  HomoSapiens       GILGFVFTL             M   \n",
       "2       TRB  CASSAFPCREGRNNEQFF  HomoSapiens       NLVPMVATV          pp65   \n",
       "3       TRA     CVVSAIMDSNYQLIW  HomoSapiens       KTFPPTEPK  Nucleocapsid   \n",
       "4       TRB    CASSHGVGQGPYEQYF  HomoSapiens       YLQPRTFLL         Spike   \n",
       "...     ...                 ...          ...             ...           ...   \n",
       "36188   TRB     CASSLKDSGSYEQYF  HomoSapiens        HTQGYFPD           Nef   \n",
       "36189   TRA      CAMRELSNTGKLIF  HomoSapiens       NSAIGKIQY         Spike   \n",
       "36190   TRA      CALSEASGYSTLTF  HomoSapiens       NLVPMVATV          pp65   \n",
       "36191   TRB     CASSQPQGPTDTQYF  HomoSapiens  GLIYNRMGAVTTEV            M1   \n",
       "36192   TRB       CASSWGLYNEQFF  HomoSapiens      MEVTPSGTWL  Nucleocapsid   \n",
       "\n",
       "      antigen.species complex.id             v           j  v.end  ...  \\\n",
       "0          InfluenzaA          0     TRAV24*01   TRAJ44*01      2  ...   \n",
       "1          InfluenzaA          0   TRAV12-2*01   TRAJ47*01      3  ...   \n",
       "2                 CMV          0    TRBV6-1*01  TRBJ2-1*01      4  ...   \n",
       "3          SARS-CoV-2      29700    TRAV8-2*01   TRAJ33*01      4  ...   \n",
       "4          SARS-CoV-2          0    TRBV4-1*01  TRBJ2-7*01      4  ...   \n",
       "...               ...        ...           ...         ...    ...  ...   \n",
       "36188             HIV          0    TRBV4-3*01  TRBJ2-7*01      4  ...   \n",
       "36189      SARS-CoV-2      29257  TRAV14DV4*01   TRAJ37*01      5  ...   \n",
       "36190             CMV          0     TRAV19*01   TRAJ11*01      5  ...   \n",
       "36191      InfluenzaA          0    TRBV6-6*01  TRBJ2-3*01      4  ...   \n",
       "36192      SARS-CoV-2          0     TRBV27*01  TRBJ2-1*01      4  ...   \n",
       "\n",
       "       antigen.epitope_freq_500 antigen.epitope_freq_1000  \\\n",
       "0                     GILGFVFTL                 GILGFVFTL   \n",
       "1                     GILGFVFTL                 GILGFVFTL   \n",
       "2                     NLVPMVATV                 NLVPMVATV   \n",
       "3                         other                     other   \n",
       "4                     YLQPRTFLL                 YLQPRTFLL   \n",
       "...                         ...                       ...   \n",
       "36188                     other                     other   \n",
       "36189                     other                     other   \n",
       "36190                 NLVPMVATV                 NLVPMVATV   \n",
       "36191                     other                     other   \n",
       "36192                     other                     other   \n",
       "\n",
       "      antigen.species_freq antigen.species_freq_10 antigen.species_freq_20  \\\n",
       "0               InfluenzaA              InfluenzaA              InfluenzaA   \n",
       "1               InfluenzaA              InfluenzaA              InfluenzaA   \n",
       "2                      CMV                     CMV                     CMV   \n",
       "3               SARS-CoV-2              SARS-CoV-2              SARS-CoV-2   \n",
       "4               SARS-CoV-2              SARS-CoV-2              SARS-CoV-2   \n",
       "...                    ...                     ...                     ...   \n",
       "36188                  HIV                     HIV                     HIV   \n",
       "36189           SARS-CoV-2              SARS-CoV-2              SARS-CoV-2   \n",
       "36190                  CMV                     CMV                     CMV   \n",
       "36191           InfluenzaA              InfluenzaA              InfluenzaA   \n",
       "36192           SARS-CoV-2              SARS-CoV-2              SARS-CoV-2   \n",
       "\n",
       "       antigen.species_freq_30  antigen.species_freq_50  \\\n",
       "0                   InfluenzaA               InfluenzaA   \n",
       "1                   InfluenzaA               InfluenzaA   \n",
       "2                          CMV                      CMV   \n",
       "3                   SARS-CoV-2               SARS-CoV-2   \n",
       "4                   SARS-CoV-2               SARS-CoV-2   \n",
       "...                        ...                      ...   \n",
       "36188                      HIV                      HIV   \n",
       "36189               SARS-CoV-2               SARS-CoV-2   \n",
       "36190                      CMV                      CMV   \n",
       "36191               InfluenzaA               InfluenzaA   \n",
       "36192               SARS-CoV-2               SARS-CoV-2   \n",
       "\n",
       "      antigen.species_freq_100 antigen.species_freq_500  \\\n",
       "0                   InfluenzaA               InfluenzaA   \n",
       "1                   InfluenzaA               InfluenzaA   \n",
       "2                          CMV                      CMV   \n",
       "3                   SARS-CoV-2               SARS-CoV-2   \n",
       "4                   SARS-CoV-2               SARS-CoV-2   \n",
       "...                        ...                      ...   \n",
       "36188                      HIV                    other   \n",
       "36189               SARS-CoV-2               SARS-CoV-2   \n",
       "36190                      CMV                      CMV   \n",
       "36191               InfluenzaA               InfluenzaA   \n",
       "36192               SARS-CoV-2               SARS-CoV-2   \n",
       "\n",
       "      antigen.species_freq_1000  \n",
       "0                    InfluenzaA  \n",
       "1                    InfluenzaA  \n",
       "2                           CMV  \n",
       "3                    SARS-CoV-2  \n",
       "4                    SARS-CoV-2  \n",
       "...                         ...  \n",
       "36188                     other  \n",
       "36189                SARS-CoV-2  \n",
       "36190                       CMV  \n",
       "36191                InfluenzaA  \n",
       "36192                SARS-CoV-2  \n",
       "\n",
       "[36193 rows x 33 columns]"
      ]
     },
     "execution_count": 18,
     "metadata": {},
     "output_type": "execute_result"
    }
   ],
   "source": [
    "vdjdb_data_giana = vdjdb_data.copy()\n",
    "vdjdb_data_giana['v']= vdjdb_data_giana['v'] + '*01'\n",
    "vdjdb_data_giana['j']= vdjdb_data_giana['j'] + '*01'\n",
    "vdjdb_data_giana"
   ]
  },
  {
   "cell_type": "code",
   "execution_count": 19,
   "id": "ed960ed1-a7f9-4b80-b956-6bc038b11b26",
   "metadata": {},
   "outputs": [],
   "source": [
    "giana_res_raw = {}\n",
    "giana_res= {}\n",
    "metrics_giana = {}"
   ]
  },
  {
   "cell_type": "code",
   "execution_count": 226,
   "id": "d27e4a98-94ef-4645-b82a-99a0d8bb6571",
   "metadata": {},
   "outputs": [
    {
     "name": "stdout",
     "output_type": "stream",
     "text": [
      "GIANA clustering of 12047 sequences.\n"
     ]
    },
    {
     "name": "stderr",
     "output_type": "stream",
     "text": [
      "/home/ykremlyakova/.conda/envs/py311/lib/python3.11/site-packages/sklearn/manifold/_mds.py:298: FutureWarning: The default value of `normalized_stress` will change to `'auto'` in version 1.4. To suppress this warning, manually set the value of `normalized_stress`.\n",
      "  warnings.warn(\n",
      "/home/ykremlyakova/.conda/envs/py311/lib/python3.11/site-packages/sklearn/manifold/_mds.py:298: FutureWarning: The default value of `normalized_stress` will change to `'auto'` in version 1.4. To suppress this warning, manually set the value of `normalized_stress`.\n",
      "  warnings.warn(\n"
     ]
    },
    {
     "name": "stdout",
     "output_type": "stream",
     "text": [
      "\n",
      "GIANA: Geometric Isometry based ANtigen-specific tcr Alignment\n",
      "Ultrafast short peptide alignment exclusively designed for large-scale adaptome analysis\n",
      "\n",
      "Input columns:\n",
      "1. CDR3 amino acid sequence (Starting from C, ending with the first F/L in motif [FL]G.G)\n",
      "2. Variable gene name in Imgt format: TRBVXX-XX*XX\n",
      "3. Joining gene name (optional)\n",
      "4. Frequency (optional)\n",
      "5. Other information (optional)\n",
      "\n",
      "!!! ALL amino acid letters must be CAPITAL !!!\n",
      "\n",
      "\n",
      "Processing data.txt\n",
      "Total time elapsed: 2.074888\n",
      "Maximum memory usage: 0.195584 MB\n",
      "Elapsed time: 21.031038761138916 seconds.\n"
     ]
    }
   ],
   "source": [
    "\n",
    "chain = 'TRA'\n",
    "giana_res_raw[chain] = run_GIANA(vdjdb_data_giana, chain,2)"
   ]
  },
  {
   "cell_type": "code",
   "execution_count": 64,
   "id": "5e056b81-cae5-4794-bd57-0558e86f1599",
   "metadata": {},
   "outputs": [
    {
     "name": "stdout",
     "output_type": "stream",
     "text": [
      "GIANA clustering of 24146 sequences.\n"
     ]
    },
    {
     "name": "stderr",
     "output_type": "stream",
     "text": [
      "/home/ykremlyakova/.conda/envs/py311/lib/python3.11/site-packages/sklearn/manifold/_mds.py:298: FutureWarning: The default value of `normalized_stress` will change to `'auto'` in version 1.4. To suppress this warning, manually set the value of `normalized_stress`.\n",
      "  warnings.warn(\n",
      "/home/ykremlyakova/.conda/envs/py311/lib/python3.11/site-packages/sklearn/manifold/_mds.py:298: FutureWarning: The default value of `normalized_stress` will change to `'auto'` in version 1.4. To suppress this warning, manually set the value of `normalized_stress`.\n",
      "  warnings.warn(\n"
     ]
    },
    {
     "name": "stdout",
     "output_type": "stream",
     "text": [
      "\n",
      "GIANA: Geometric Isometry based ANtigen-specific tcr Alignment\n",
      "Ultrafast short peptide alignment exclusively designed for large-scale adaptome analysis\n",
      "\n",
      "Input columns:\n",
      "1. CDR3 amino acid sequence (Starting from C, ending with the first F/L in motif [FL]G.G)\n",
      "2. Variable gene name in Imgt format: TRBVXX-XX*XX\n",
      "3. Joining gene name (optional)\n",
      "4. Frequency (optional)\n",
      "5. Other information (optional)\n",
      "\n",
      "!!! ALL amino acid letters must be CAPITAL !!!\n",
      "\n",
      "\n",
      "Processing data.txt\n",
      "Total time elapsed: 2.253397\n",
      "Maximum memory usage: 0.213208 MB\n",
      "Elapsed time: 7.04499888420105 seconds.\n"
     ]
    }
   ],
   "source": [
    "chain = 'TRB'\n",
    "giana_res_raw[chain] = run_GIANA(vdjdb_data_giana, chain,2)"
   ]
  },
  {
   "cell_type": "code",
   "execution_count": null,
   "id": "a837bb56-9f52-4008-9233-ca2184b5014b",
   "metadata": {},
   "outputs": [],
   "source": []
  },
  {
   "cell_type": "code",
   "execution_count": 20,
   "id": "0fba7552-001f-43cf-80bf-d6bed12f67c8",
   "metadata": {},
   "outputs": [],
   "source": [
    "chain = 'TRA'\n",
    "giana_res_raw[chain] = pd.read_csv(f'benchmark/outputs/giana_res_{chain}.txt',sep='\\t')\n",
    "giana_res[chain] = vdjdb_data_giana[vdjdb_data_giana['chain']==chain][['chain','data_id','cdr3aa','v','antigen.epitope']].merge(giana_res_raw[chain], how = 'left')\n",
    "giana_res[chain]['is_cluster'] = giana_res[chain]['is_cluster'].fillna(0)"
   ]
  },
  {
   "cell_type": "code",
   "execution_count": 21,
   "id": "a16c5165-dfd4-4265-b70e-e964a0d8c4ca",
   "metadata": {},
   "outputs": [
    {
     "name": "stdout",
     "output_type": "stream",
     "text": [
      "{'f1': 0.44469108692745407, 'precision': 0.445177272567925, 'recall': 0.4825250192455735}\n",
      "0.4825250192455735\n"
     ]
    },
    {
     "name": "stderr",
     "output_type": "stream",
     "text": [
      "/home/ykremlyakova/.conda/envs/py311/lib/python3.11/site-packages/sklearn/metrics/_classification.py:1469: UndefinedMetricWarning: Precision is ill-defined and being set to 0.0 in labels with no predicted samples. Use `zero_division` parameter to control this behavior.\n",
      "  _warn_prf(average, modifier, msg_start, len(result))\n"
     ]
    }
   ],
   "source": [
    "print(ml_utils.clsf_metrics(giana_res_raw[chain]['antigen.epitope'],giana_res_raw[chain]['label_cluster'], average='weighted'))\n",
    "print(ml_utils.count_clstr_purity(giana_res_raw[chain][['cluster','label_cluster','total_cluster','count_matched','fraction_matched','p_value','fraction_matched_exp','is_cluster']].drop_duplicates()))"
   ]
  },
  {
   "cell_type": "code",
   "execution_count": null,
   "id": "d756873b-fefd-4285-ac7a-a46e62b21e93",
   "metadata": {},
   "outputs": [],
   "source": []
  },
  {
   "cell_type": "code",
   "execution_count": 22,
   "id": "27dbea23-2730-4587-8c92-de3da377d244",
   "metadata": {},
   "outputs": [],
   "source": [
    "chain = 'TRB'\n",
    "giana_res_raw[chain] = pd.read_csv(f'benchmark/outputs/giana_res_{chain}.txt',sep='\\t')\n",
    "giana_res[chain] = vdjdb_data_giana[vdjdb_data_giana['chain']==chain][['chain','data_id','cdr3aa','v','antigen.epitope']].merge(giana_res_raw[chain], how = 'left')\n",
    "giana_res[chain]['is_cluster'] = giana_res[chain]['is_cluster'].fillna(0)"
   ]
  },
  {
   "cell_type": "code",
   "execution_count": 23,
   "id": "501c55bc-cc55-44e5-bffc-722daa478bcc",
   "metadata": {},
   "outputs": [
    {
     "name": "stdout",
     "output_type": "stream",
     "text": [
      "{'f1': 0.6677369627522027, 'precision': 0.6611237871815081, 'recall': 0.6917443408788282}\n",
      "0.6917443408788282\n"
     ]
    },
    {
     "name": "stderr",
     "output_type": "stream",
     "text": [
      "/home/ykremlyakova/.conda/envs/py311/lib/python3.11/site-packages/sklearn/metrics/_classification.py:1469: UndefinedMetricWarning: Precision is ill-defined and being set to 0.0 in labels with no predicted samples. Use `zero_division` parameter to control this behavior.\n",
      "  _warn_prf(average, modifier, msg_start, len(result))\n"
     ]
    }
   ],
   "source": [
    "print(ml_utils.clsf_metrics(giana_res_raw[chain]['antigen.epitope'],giana_res_raw[chain]['label_cluster'], average='weighted'))\n",
    "print(ml_utils.count_clstr_purity(giana_res_raw[chain][['cluster','label_cluster','total_cluster','count_matched','fraction_matched','p_value','fraction_matched_exp','is_cluster']].drop_duplicates()))"
   ]
  },
  {
   "cell_type": "code",
   "execution_count": null,
   "id": "2da60f17-273a-4ab2-9da5-584e4a3c7a9f",
   "metadata": {},
   "outputs": [],
   "source": []
  },
  {
   "cell_type": "code",
   "execution_count": 24,
   "id": "75f1bc11-19c8-4f39-a408-cd9f23f556f9",
   "metadata": {},
   "outputs": [
    {
     "data": {
      "text/plain": [
       "{'purity': 0.4825250192455735,\n",
       " 'retention': 0.5391383746990952,\n",
       " 'consistency': 0.0002669033901681939,\n",
       " 'ami': 0.2770754899951193,\n",
       " 'accuracy': 0.00015394088305032414,\n",
       " 'precision': 0.44517727256792533,\n",
       " 'recall': 0.4825250192455726,\n",
       " 'f1-score': 0.46309936691783915,\n",
       " 'support': 6495,\n",
       " 'mean_clustsize': 5.2591093117408905}"
      ]
     },
     "execution_count": 24,
     "metadata": {},
     "output_type": "execute_result"
    }
   ],
   "source": [
    "chain = 'TRA'\n",
    "metrics_giana[chain] = get_clustermetrics(giana_res[chain], 'antigen.epitope')\n",
    "metrics_giana[chain]"
   ]
  },
  {
   "cell_type": "code",
   "execution_count": 25,
   "id": "7c49b3eb-a556-4f21-80d5-de3bab50d413",
   "metadata": {},
   "outputs": [
    {
     "data": {
      "text/plain": [
       "{'purity': 0.6917443408788282,\n",
       " 'retention': 0.24881968027830698,\n",
       " 'consistency': 0.0004080693529076077,\n",
       " 'ami': 0.6144344860542508,\n",
       " 'accuracy': 0.00016641703649461614,\n",
       " 'precision': 0.6611237871815083,\n",
       " 'recall': 0.6917443408788297,\n",
       " 'f1-score': 0.6760875342061295,\n",
       " 'support': 6008,\n",
       " 'mean_clustsize': 3.5361977633902297}"
      ]
     },
     "execution_count": 25,
     "metadata": {},
     "output_type": "execute_result"
    }
   ],
   "source": [
    "chain = 'TRB'\n",
    "metrics_giana[chain] = get_clustermetrics(giana_res[chain], 'antigen.epitope')\n",
    "metrics_giana[chain]"
   ]
  },
  {
   "cell_type": "code",
   "execution_count": null,
   "id": "edf67867-87a3-461a-9f3d-41828e8fa011",
   "metadata": {},
   "outputs": [],
   "source": []
  },
  {
   "cell_type": "code",
   "execution_count": null,
   "id": "e11028c3-985c-4d45-ad26-f176ed576264",
   "metadata": {},
   "outputs": [],
   "source": []
  },
  {
   "cell_type": "markdown",
   "id": "699fb568-765c-4913-b302-7186ccf23db0",
   "metadata": {},
   "source": [
    "### TCRemb"
   ]
  },
  {
   "cell_type": "code",
   "execution_count": 26,
   "id": "178a8ced-ea54-4b5c-b932-f2444c487242",
   "metadata": {},
   "outputs": [],
   "source": [
    "tcremb_res = {}\n",
    "metrics_tcremb= {}"
   ]
  },
  {
   "cell_type": "code",
   "execution_count": 27,
   "id": "bde8720d-c6fe-4f64-b7b9-cfcc1de8f9bb",
   "metadata": {},
   "outputs": [],
   "source": [
    "chain = 'TRA'\n",
    "tcremb_res[chain] = pd.read_csv(f'benchmark/outputs/tcremb_res_{chain}.txt', sep='\\t')"
   ]
  },
  {
   "cell_type": "code",
   "execution_count": 28,
   "id": "c2933377-6994-43e7-ae7a-f534ec219d44",
   "metadata": {},
   "outputs": [
    {
     "name": "stdout",
     "output_type": "stream",
     "text": [
      "{'f1': 0.6350164259826362, 'precision': 0.6429292992414077, 'recall': 0.6524592888002658}\n",
      "0.5685404847859722\n"
     ]
    },
    {
     "name": "stderr",
     "output_type": "stream",
     "text": [
      "/home/ykremlyakova/.conda/envs/py311/lib/python3.11/site-packages/sklearn/metrics/_classification.py:1469: UndefinedMetricWarning: Precision is ill-defined and being set to 0.0 in labels with no predicted samples. Use `zero_division` parameter to control this behavior.\n",
      "  _warn_prf(average, modifier, msg_start, len(result))\n"
     ]
    }
   ],
   "source": [
    "print(ml_utils.clsf_metrics(tcremb_res[chain]['antigen.epitope'],tcremb_res[chain]['label_cluster'], average='weighted'))\n",
    "print(ml_utils.count_clstr_purity(tcremb_res[chain][['cluster','label_cluster','total_cluster','count_matched','fraction_matched','p_value','fraction_matched_exp','is_cluster']].drop_duplicates()))\n"
   ]
  },
  {
   "cell_type": "code",
   "execution_count": 29,
   "id": "581d704d-eb32-47cc-a906-2ede3bae3572",
   "metadata": {},
   "outputs": [
    {
     "data": {
      "text/plain": [
       "{'purity': 0.5685404847859722,\n",
       " 'retention': 0.8055001661681622,\n",
       " 'consistency': 0.00014429948236984046,\n",
       " 'ami': 0.38664303398603656,\n",
       " 'accuracy': 0.00010313531243408753,\n",
       " 'precision': 0.5324856322224675,\n",
       " 'recall': 0.5685404847859704,\n",
       " 'f1-score': 0.5499227217386806,\n",
       " 'support': 9695,\n",
       " 'mean_clustsize': 3.2819905213270144}"
      ]
     },
     "execution_count": 29,
     "metadata": {},
     "output_type": "execute_result"
    }
   ],
   "source": [
    "metrics_tcremb[chain] = get_clustermetrics(tcremb_res[chain], 'antigen.epitope')\n",
    "metrics_tcremb[chain]"
   ]
  },
  {
   "cell_type": "code",
   "execution_count": 30,
   "id": "468208d0-f74d-4250-ac8d-15f5089cede5",
   "metadata": {},
   "outputs": [],
   "source": [
    "chain = 'TRB'\n",
    "tcremb_res[chain] = pd.read_csv(f'benchmark/outputs/tcremb_res_{chain}.txt', sep='\\t')"
   ]
  },
  {
   "cell_type": "code",
   "execution_count": 31,
   "id": "d31e1644-4e49-491c-98a4-262311aee342",
   "metadata": {},
   "outputs": [
    {
     "name": "stdout",
     "output_type": "stream",
     "text": [
      "{'f1': 0.6383707171539844, 'precision': 0.6461357229574785, 'recall': 0.6458739171882124}\n",
      "0.5549304578840444\n"
     ]
    },
    {
     "name": "stderr",
     "output_type": "stream",
     "text": [
      "/home/ykremlyakova/.conda/envs/py311/lib/python3.11/site-packages/sklearn/metrics/_classification.py:1469: UndefinedMetricWarning: Precision is ill-defined and being set to 0.0 in labels with no predicted samples. Use `zero_division` parameter to control this behavior.\n",
      "  _warn_prf(average, modifier, msg_start, len(result))\n"
     ]
    }
   ],
   "source": [
    "print(ml_utils.clsf_metrics(tcremb_res[chain]['antigen.epitope'],tcremb_res[chain]['label_cluster'], average='weighted'))\n",
    "print(ml_utils.count_clstr_purity(tcremb_res[chain][['cluster','label_cluster','total_cluster','count_matched','fraction_matched','p_value','fraction_matched_exp','is_cluster']].drop_duplicates()))\n"
   ]
  },
  {
   "cell_type": "code",
   "execution_count": 32,
   "id": "e881a7f0-bb87-4236-af8c-4ff468adadc6",
   "metadata": {},
   "outputs": [
    {
     "data": {
      "text/plain": [
       "{'purity': 0.5549304578840444,\n",
       " 'retention': 0.7956646081153894,\n",
       " 'consistency': 8.043693514312158e-05,\n",
       " 'ami': 0.4096978760161506,\n",
       " 'accuracy': 5.208875910441079e-05,\n",
       " 'precision': 0.5381555830296473,\n",
       " 'recall': 0.5549304578840456,\n",
       " 'f1-score': 0.5464143039533654,\n",
       " 'support': 19197,\n",
       " 'mean_clustsize': 3.3761871262750613}"
      ]
     },
     "execution_count": 32,
     "metadata": {},
     "output_type": "execute_result"
    }
   ],
   "source": [
    "metrics_tcremb[chain] = get_clustermetrics(tcremb_res[chain], 'antigen.epitope')\n",
    "metrics_tcremb[chain]"
   ]
  },
  {
   "cell_type": "code",
   "execution_count": null,
   "id": "1550f625-55d3-485f-bbc1-e7dba9f8a7bb",
   "metadata": {},
   "outputs": [],
   "source": []
  },
  {
   "cell_type": "code",
   "execution_count": 33,
   "id": "c4900883-d7b4-41b1-9247-7bdaada52ee7",
   "metadata": {},
   "outputs": [],
   "source": [
    "tcremb_res_pred_enriched = {}\n",
    "metrics_tcremb_pred_enriched= {}"
   ]
  },
  {
   "cell_type": "code",
   "execution_count": 34,
   "id": "8716495e-8b5a-46d8-9848-2109dc383f06",
   "metadata": {},
   "outputs": [],
   "source": [
    "chain = 'TRA'\n",
    "tcremb_res_pred_enriched[chain] = pd.read_csv(f'benchmark/outputs/tcremb_res_pred_enriched_{chain}.txt', sep='\\t')"
   ]
  },
  {
   "cell_type": "code",
   "execution_count": 35,
   "id": "2b183e59-8054-4bf0-8720-06175ac7c3f3",
   "metadata": {},
   "outputs": [
    {
     "data": {
      "text/plain": [
       "{'purity': 0.6377502383222117,\n",
       " 'retention': 0.34862080425390496,\n",
       " 'consistency': 0.00037209975246200235,\n",
       " 'ami': 0.4935287114206751,\n",
       " 'accuracy': 0.00023826541415356765,\n",
       " 'precision': 0.595273668489001,\n",
       " 'recall': 0.6377502383222103,\n",
       " 'f1-score': 0.6157803135019393,\n",
       " 'support': 4196,\n",
       " 'mean_clustsize': 3.324881141045959}"
      ]
     },
     "execution_count": 35,
     "metadata": {},
     "output_type": "execute_result"
    }
   ],
   "source": [
    "metrics_tcremb_pred_enriched[chain] = get_clustermetrics(tcremb_res_pred_enriched[chain], 'antigen.epitope')\n",
    "metrics_tcremb_pred_enriched[chain]"
   ]
  },
  {
   "cell_type": "code",
   "execution_count": null,
   "id": "5a71995c-9149-4ce7-b5e3-0bf7187e8f47",
   "metadata": {},
   "outputs": [],
   "source": []
  },
  {
   "cell_type": "code",
   "execution_count": 36,
   "id": "2c63c209-2968-4c54-94d8-0d284757b901",
   "metadata": {},
   "outputs": [],
   "source": [
    "chain = 'TRB'\n",
    "tcremb_res_pred_enriched[chain] = pd.read_csv(f'benchmark/outputs/tcremb_res_pred_enriched_{chain}.txt', sep='\\t')"
   ]
  },
  {
   "cell_type": "code",
   "execution_count": 37,
   "id": "7bb2e13e-0d49-429d-8d0b-d3ecc906724a",
   "metadata": {},
   "outputs": [
    {
     "data": {
      "text/plain": [
       "{'purity': 0.6619977884260966,\n",
       " 'retention': 0.33733990964479627,\n",
       " 'consistency': 0.00021380647993253962,\n",
       " 'ami': 0.5542369028106987,\n",
       " 'accuracy': 0.0001228501209955944,\n",
       " 'precision': 0.6413431973995336,\n",
       " 'recall': 0.6619977884260982,\n",
       " 'f1-score': 0.6515068319311105,\n",
       " 'support': 8139,\n",
       " 'mean_clustsize': 3.269987946966653}"
      ]
     },
     "execution_count": 37,
     "metadata": {},
     "output_type": "execute_result"
    }
   ],
   "source": [
    "metrics_tcremb_pred_enriched[chain] = get_clustermetrics(tcremb_res_pred_enriched[chain], 'antigen.epitope')\n",
    "metrics_tcremb_pred_enriched[chain]"
   ]
  },
  {
   "cell_type": "code",
   "execution_count": null,
   "id": "0a688a15-1fdc-4a47-a803-e2beee78f886",
   "metadata": {},
   "outputs": [],
   "source": []
  },
  {
   "cell_type": "code",
   "execution_count": null,
   "id": "9bc8e55a-8320-4958-ad44-2ba770d20988",
   "metadata": {},
   "outputs": [],
   "source": []
  },
  {
   "cell_type": "code",
   "execution_count": 38,
   "id": "3ad81139-2549-42f3-b130-4986dd5f5d32",
   "metadata": {},
   "outputs": [],
   "source": [
    "tcremb_res_pred_enriched_sq = {}\n",
    "metrics_tcremb_pred_enriched_sq= {}"
   ]
  },
  {
   "cell_type": "code",
   "execution_count": 39,
   "id": "6663765b-218a-4810-900a-9b5368e0ae8a",
   "metadata": {},
   "outputs": [],
   "source": [
    "chain = 'TRA'\n",
    "tcremb_res_pred_enriched_sq[chain] = pd.read_csv(f'benchmark/outputs/tcremb_res_pred_enriched_sq_{chain}.txt', sep='\\t')"
   ]
  },
  {
   "cell_type": "code",
   "execution_count": 40,
   "id": "0b8e9cc7-7cc4-471e-86df-be54c801571c",
   "metadata": {},
   "outputs": [
    {
     "data": {
      "text/plain": [
       "{'purity': 0.6614261650758001,\n",
       " 'retention': 0.2959454968428049,\n",
       " 'consistency': 0.00045104858817800316,\n",
       " 'ami': 0.5267028110292189,\n",
       " 'accuracy': 0.00028066234105652627,\n",
       " 'precision': 0.621636950952209,\n",
       " 'recall': 0.6614261650757984,\n",
       " 'f1-score': 0.6409146041242084,\n",
       " 'support': 3562,\n",
       " 'mean_clustsize': 3.382716049382716}"
      ]
     },
     "execution_count": 40,
     "metadata": {},
     "output_type": "execute_result"
    }
   ],
   "source": [
    "metrics_tcremb_pred_enriched_sq[chain] = get_clustermetrics(tcremb_res_pred_enriched_sq[chain], 'antigen.epitope')\n",
    "metrics_tcremb_pred_enriched_sq[chain]"
   ]
  },
  {
   "cell_type": "code",
   "execution_count": null,
   "id": "3bd5af14-9253-4a47-92f5-4b8a6eada5d0",
   "metadata": {},
   "outputs": [],
   "source": []
  },
  {
   "cell_type": "code",
   "execution_count": 41,
   "id": "62a7d341-3817-4710-ade8-831bf7f312f9",
   "metadata": {},
   "outputs": [],
   "source": [
    "chain = 'TRB'\n",
    "tcremb_res_pred_enriched_sq[chain] = pd.read_csv(f'benchmark/outputs/tcremb_res_pred_enriched_sq_{chain}.txt', sep='\\t')"
   ]
  },
  {
   "cell_type": "code",
   "execution_count": 42,
   "id": "02a78a0c-761a-4577-8bbe-06d13551bdbd",
   "metadata": {},
   "outputs": [
    {
     "data": {
      "text/plain": [
       "{'purity': 0.6860228517764908,\n",
       " 'retention': 0.2648070626269325,\n",
       " 'consistency': 0.0002911832227040636,\n",
       " 'ami': 0.5821943170755852,\n",
       " 'accuracy': 0.00015649451885787124,\n",
       " 'precision': 0.6655791962367529,\n",
       " 'recall': 0.6860228517764941,\n",
       " 'f1-score': 0.6756464137600491,\n",
       " 'support': 6389,\n",
       " 'mean_clustsize': 3.3172377985462096}"
      ]
     },
     "execution_count": 42,
     "metadata": {},
     "output_type": "execute_result"
    }
   ],
   "source": [
    "metrics_tcremb_pred_enriched_sq[chain] = get_clustermetrics(tcremb_res_pred_enriched_sq[chain], 'antigen.epitope')\n",
    "metrics_tcremb_pred_enriched_sq[chain]"
   ]
  },
  {
   "cell_type": "code",
   "execution_count": null,
   "id": "88f9a173-94bf-4fad-912c-4f891659d6b7",
   "metadata": {},
   "outputs": [],
   "source": []
  },
  {
   "cell_type": "code",
   "execution_count": 63,
   "id": "818de57d-09ce-43f3-af14-6aae89f35391",
   "metadata": {},
   "outputs": [],
   "source": [
    "tcremb_res_pred_enriched_between = {}\n",
    "metrics_tcremb_pred_enriched_between= {}"
   ]
  },
  {
   "cell_type": "code",
   "execution_count": 64,
   "id": "b2ff7411-fb49-4a19-a869-72f5f37e32e8",
   "metadata": {},
   "outputs": [],
   "source": [
    "chain = 'TRA'\n",
    "tcremb_res_pred_enriched_between[chain] = pd.read_csv(f'benchmark/outputs/tcremb_res_pred_enriched_between_{chain}.txt', sep='\\t')"
   ]
  },
  {
   "cell_type": "code",
   "execution_count": 65,
   "id": "4955a399-5685-4fad-ba03-12a3aadd20c0",
   "metadata": {},
   "outputs": [
    {
     "data": {
      "text/plain": [
       "{'purity': 0.6593099160708735,\n",
       " 'retention': 0.26728148886673314,\n",
       " 'consistency': 0.0005075882475614121,\n",
       " 'ami': 0.5343515424089592,\n",
       " 'accuracy': 0.00031075198986113653,\n",
       " 'precision': 0.6210054927662714,\n",
       " 'recall': 0.6593099160708741,\n",
       " 'f1-score': 0.639584709344636,\n",
       " 'support': 3217,\n",
       " 'mean_clustsize': 3.340602284527518}"
      ]
     },
     "execution_count": 65,
     "metadata": {},
     "output_type": "execute_result"
    }
   ],
   "source": [
    "metrics_tcremb_pred_enriched_between[chain] = get_clustermetrics(tcremb_res_pred_enriched_between[chain], 'antigen.epitope')\n",
    "metrics_tcremb_pred_enriched_between[chain]"
   ]
  },
  {
   "cell_type": "code",
   "execution_count": null,
   "id": "f071d83e-95ad-43e3-9d52-b2bcfa96c4fa",
   "metadata": {},
   "outputs": [],
   "source": []
  },
  {
   "cell_type": "code",
   "execution_count": 71,
   "id": "e6c57a8e-9eb1-4e6f-bfe5-aff2b6364b98",
   "metadata": {},
   "outputs": [],
   "source": [
    "chain = 'TRB'\n",
    "tcremb_res_pred_enriched_between[chain] = pd.read_csv(f'benchmark/outputs/tcremb_res_pred_enriched_between_{chain}.txt', sep='\\t')"
   ]
  },
  {
   "cell_type": "code",
   "execution_count": 72,
   "id": "2e90c93e-5563-410b-bf48-6b1700a45a1b",
   "metadata": {},
   "outputs": [
    {
     "data": {
      "text/plain": [
       "{'purity': 0.725367922175106,\n",
       " 'retention': 0.16616239068263772,\n",
       " 'consistency': 0.00046862215002766686,\n",
       " 'ami': 0.645699122629703,\n",
       " 'accuracy': 0.0002493765430873575,\n",
       " 'precision': 0.7062480728203275,\n",
       " 'recall': 0.7253679221751042,\n",
       " 'f1-score': 0.7156803205785465,\n",
       " 'support': 4009,\n",
       " 'mean_clustsize': 3.4148211243611586}"
      ]
     },
     "execution_count": 72,
     "metadata": {},
     "output_type": "execute_result"
    }
   ],
   "source": [
    "metrics_tcremb_pred_enriched_between[chain] = get_clustermetrics(tcremb_res_pred_enriched_between[chain], 'antigen.epitope')\n",
    "metrics_tcremb_pred_enriched_between[chain]"
   ]
  },
  {
   "cell_type": "code",
   "execution_count": null,
   "id": "4a492c3a-01dc-456a-af67-7bce50d16bf7",
   "metadata": {},
   "outputs": [],
   "source": []
  },
  {
   "cell_type": "markdown",
   "id": "812515c6-b3dc-4a37-84ac-86ff2a5cd803",
   "metadata": {},
   "source": [
    "### iSMART"
   ]
  },
  {
   "cell_type": "code",
   "execution_count": 43,
   "id": "afc11df7-9719-4eee-a9f4-4eb7ef62616c",
   "metadata": {},
   "outputs": [],
   "source": [
    "ismart_res_raw = {}\n",
    "ismart_res= {}\n",
    "metrics_ismart = {}"
   ]
  },
  {
   "cell_type": "code",
   "execution_count": 44,
   "id": "3215021b-3e84-4db5-8c41-2f5cb1608924",
   "metadata": {},
   "outputs": [],
   "source": [
    "os.chdir('/home/ykremlyakova/projects/tcr_emb/')"
   ]
  },
  {
   "cell_type": "code",
   "execution_count": 78,
   "id": "df1dddbe-cb5a-4e41-a54e-548b36cb9cb4",
   "metadata": {},
   "outputs": [
    {
     "name": "stdout",
     "output_type": "stream",
     "text": [
      "Clustering 12047 sequences with iSMART.\n",
      "\n",
      "iSMARTf is intended to perform pairwise CDR3 alignment for large volume (10^6-10^8) of sequneces. It implements\n",
      "k-mer based clustering to recursively reduce the search space, and report sequences with high similarity.\n",
      "Currently, gap is not supported. \n",
      "\n",
      "Input columns:\n",
      "1. CDR3 amino acid sequence (Starting from C, ending with the first F/L in motif [FL]G.G)\n",
      "2. Variable gene name in Imgt format: TRBVXX-XX*XX\n",
      "3. Joining gene name (optional)\n",
      "4. Frequency (optional)\n",
      "5. Other information (optional)\n",
      "\n",
      "Processing data.txt\n",
      "Collecting data and building K-mer index\n",
      "Done! Time Elapsed 1.624965\n",
      "Performing pairwise alignment\n",
      "Number of pairs to be processed: 768820\n",
      "Done!\n",
      "Dividing CDR3s into clusters\n",
      "    Solved 200 clusters\n",
      "    Solved 400 clusters\n",
      "    Solved 600 clusters\n",
      "    Solved 800 clusters\n",
      "Done! Time Elapsed 11.167840\n",
      "Total time elapsed: 14.494826\n",
      "Maximum memory usage: 0.120704 MB\n",
      "Elapsed time: 17.942458391189575 seconds.\n"
     ]
    }
   ],
   "source": [
    "chain = 'TRA'\n",
    "ismart_res_raw[chain] = run_ismart(vdjdb_data_giana, chain,2)"
   ]
  },
  {
   "cell_type": "code",
   "execution_count": 80,
   "id": "b6574208-3976-4af4-9409-7265d5bef8fa",
   "metadata": {},
   "outputs": [
    {
     "name": "stdout",
     "output_type": "stream",
     "text": [
      "Clustering 24146 sequences with iSMART.\n",
      "\n",
      "iSMARTf is intended to perform pairwise CDR3 alignment for large volume (10^6-10^8) of sequneces. It implements\n",
      "k-mer based clustering to recursively reduce the search space, and report sequences with high similarity.\n",
      "Currently, gap is not supported. \n",
      "\n",
      "Input columns:\n",
      "1. CDR3 amino acid sequence (Starting from C, ending with the first F/L in motif [FL]G.G)\n",
      "2. Variable gene name in Imgt format: TRBVXX-XX*XX\n",
      "3. Joining gene name (optional)\n",
      "4. Frequency (optional)\n",
      "5. Other information (optional)\n",
      "\n",
      "Processing data.txt\n",
      "Collecting data and building K-mer index\n",
      "Done! Time Elapsed 6.636398\n",
      "Performing pairwise alignment\n",
      "Number of pairs to be processed: 3053292\n",
      "Processed 1000000 pairs. Elapsed time 15.739884\n",
      "Processed 2000000 pairs. Elapsed time 31.796248\n",
      "Processed 3000000 pairs. Elapsed time 47.632060\n",
      "Done!\n",
      "Dividing CDR3s into clusters\n",
      "    Solved 200 clusters\n",
      "    Solved 400 clusters\n",
      "    Solved 600 clusters\n",
      "    Solved 800 clusters\n",
      "    Solved 1000 clusters\n",
      "Done! Time Elapsed 55.542902\n",
      "Total time elapsed: 58.784996\n",
      "Maximum memory usage: 0.295084 MB\n",
      "Elapsed time: 58.9722044467926 seconds.\n"
     ]
    }
   ],
   "source": [
    "\n",
    "chain = 'TRB'\n",
    "ismart_res_raw[chain] = run_ismart(vdjdb_data_giana, chain,2)"
   ]
  },
  {
   "cell_type": "code",
   "execution_count": null,
   "id": "c62d6fdc-d374-45fb-a38a-4b800133943a",
   "metadata": {},
   "outputs": [],
   "source": []
  },
  {
   "cell_type": "code",
   "execution_count": 45,
   "id": "43edaa17-bced-47a4-a967-94ee482cd11b",
   "metadata": {},
   "outputs": [],
   "source": [
    "chain = 'TRA'\n",
    "ismart_res_raw[chain] = pd.read_csv(f'benchmark/outputs/ismart_res_{chain}.txt',sep='\\t')\n",
    "ismart_res[chain] = vdjdb_data_giana[vdjdb_data_giana['chain']==chain][['chain','data_id','cdr3aa','v','antigen.epitope']].merge(ismart_res_raw[chain], how = 'left')\n",
    "ismart_res[chain]['is_cluster'] = ismart_res[chain]['is_cluster'].fillna(0)"
   ]
  },
  {
   "cell_type": "code",
   "execution_count": 46,
   "id": "12e0c68d-0ee8-452f-b4ec-b539e9b1af1b",
   "metadata": {},
   "outputs": [
    {
     "name": "stdout",
     "output_type": "stream",
     "text": [
      "{'f1': 0.7045291522343512, 'precision': 0.696265537456997, 'recall': 0.7344761904761905}\n",
      "0.7344761904761905\n"
     ]
    },
    {
     "name": "stderr",
     "output_type": "stream",
     "text": [
      "/home/ykremlyakova/.conda/envs/py311/lib/python3.11/site-packages/sklearn/metrics/_classification.py:1469: UndefinedMetricWarning: Precision is ill-defined and being set to 0.0 in labels with no predicted samples. Use `zero_division` parameter to control this behavior.\n",
      "  _warn_prf(average, modifier, msg_start, len(result))\n"
     ]
    }
   ],
   "source": [
    "print(ml_utils.clsf_metrics(ismart_res_raw[chain]['antigen.epitope'],ismart_res_raw[chain]['label_cluster'], average='weighted'))\n",
    "print(ml_utils.count_clstr_purity(ismart_res_raw[chain][['cluster','label_cluster','total_cluster','count_matched','fraction_matched','p_value','fraction_matched_exp','is_cluster']].drop_duplicates()))"
   ]
  },
  {
   "cell_type": "code",
   "execution_count": null,
   "id": "662ea3db-08a0-4559-8c5b-76504deacb6c",
   "metadata": {},
   "outputs": [],
   "source": []
  },
  {
   "cell_type": "code",
   "execution_count": 47,
   "id": "7c00b37d-d72e-46a4-9bfb-e4dcfbc2a404",
   "metadata": {},
   "outputs": [],
   "source": [
    "chain = 'TRB'\n",
    "ismart_res_raw[chain] = pd.read_csv(f'benchmark/outputs/ismart_res_{chain}.txt',sep='\\t')\n",
    "ismart_res[chain] = vdjdb_data_giana[vdjdb_data_giana['chain']==chain][['chain','data_id','cdr3aa','v','antigen.epitope']].merge(ismart_res_raw[chain], how = 'left')\n",
    "ismart_res[chain]['is_cluster'] = ismart_res[chain]['is_cluster'].fillna(0)"
   ]
  },
  {
   "cell_type": "code",
   "execution_count": 48,
   "id": "f6b7f398-fb47-4eea-ac3e-6fa9608b138e",
   "metadata": {},
   "outputs": [
    {
     "name": "stdout",
     "output_type": "stream",
     "text": [
      "{'f1': 0.8105571874572931, 'precision': 0.8236780240015059, 'recall': 0.8260004971414368}\n",
      "0.8260004971414368\n"
     ]
    },
    {
     "name": "stderr",
     "output_type": "stream",
     "text": [
      "/home/ykremlyakova/.conda/envs/py311/lib/python3.11/site-packages/sklearn/metrics/_classification.py:1469: UndefinedMetricWarning: Precision is ill-defined and being set to 0.0 in labels with no predicted samples. Use `zero_division` parameter to control this behavior.\n",
      "  _warn_prf(average, modifier, msg_start, len(result))\n"
     ]
    }
   ],
   "source": [
    "print(ml_utils.clsf_metrics(ismart_res_raw[chain]['antigen.epitope'],ismart_res_raw[chain]['label_cluster'], average='weighted'))\n",
    "print(ml_utils.count_clstr_purity(ismart_res_raw[chain][['cluster','label_cluster','total_cluster','count_matched','fraction_matched','p_value','fraction_matched_exp','is_cluster']].drop_duplicates()))"
   ]
  },
  {
   "cell_type": "code",
   "execution_count": null,
   "id": "2f2915d9-d58b-42aa-a0fd-9069dcd10758",
   "metadata": {},
   "outputs": [],
   "source": []
  },
  {
   "cell_type": "code",
   "execution_count": 49,
   "id": "349d182f-f418-4876-801d-18bfb46f2944",
   "metadata": {},
   "outputs": [
    {
     "data": {
      "text/plain": [
       "{'purity': 0.7344761904761905,\n",
       " 'retention': 0.2178965717606043,\n",
       " 'consistency': 0.0007501105705440072,\n",
       " 'ami': 0.653237968574239,\n",
       " 'accuracy': 0.0003808072562358277,\n",
       " 'precision': 0.6962655374569966,\n",
       " 'recall': 0.7344761904761897,\n",
       " 'f1-score': 0.714860620232295,\n",
       " 'support': 2625,\n",
       " 'mean_clustsize': 3.2051282051282053}"
      ]
     },
     "execution_count": 49,
     "metadata": {},
     "output_type": "execute_result"
    }
   ],
   "source": [
    "chain = 'TRA'\n",
    "metrics_ismart[chain] = get_clustermetrics(ismart_res[chain], 'antigen.epitope')\n",
    "metrics_ismart[chain]"
   ]
  },
  {
   "cell_type": "code",
   "execution_count": 50,
   "id": "4110a540-1680-4d9b-81d6-d30fafdfd528",
   "metadata": {},
   "outputs": [
    {
     "data": {
      "text/plain": [
       "{'purity': 0.8260004971414368,\n",
       " 'retention': 0.16661144703056407,\n",
       " 'consistency': 0.000756341823985766,\n",
       " 'ami': 0.8206155630342775,\n",
       " 'accuracy': 0.003220977267858706,\n",
       " 'precision': 0.8236780240015071,\n",
       " 'recall': 0.8260004971414353,\n",
       " 'f1-score': 0.8248376257434074,\n",
       " 'support': 4023,\n",
       " 'mean_clustsize': 3.3892165122156697}"
      ]
     },
     "execution_count": 50,
     "metadata": {},
     "output_type": "execute_result"
    }
   ],
   "source": [
    "chain = 'TRB'\n",
    "metrics_ismart[chain] = get_clustermetrics(ismart_res[chain], 'antigen.epitope')\n",
    "metrics_ismart[chain]"
   ]
  },
  {
   "cell_type": "code",
   "execution_count": null,
   "id": "c7b865e5-e84c-44e5-8139-5f8a0b9f2c93",
   "metadata": {},
   "outputs": [],
   "source": []
  },
  {
   "cell_type": "code",
   "execution_count": null,
   "id": "790c1d51-7e57-421f-bc05-83b2ed73bf87",
   "metadata": {},
   "outputs": [],
   "source": []
  },
  {
   "cell_type": "markdown",
   "id": "c4bf2422-6085-40d6-b6d0-c669d6b98356",
   "metadata": {},
   "source": [
    "### Compare metrics"
   ]
  },
  {
   "cell_type": "code",
   "execution_count": 79,
   "id": "17432147-a140-4fbd-a941-f90dc61f3041",
   "metadata": {},
   "outputs": [],
   "source": [
    "metrics = {}"
   ]
  },
  {
   "cell_type": "code",
   "execution_count": 80,
   "id": "bb03800e-68f3-4d1a-9a0d-ad54db178417",
   "metadata": {},
   "outputs": [],
   "source": [
    "chain = 'TRA'\n",
    "metrics[chain] = pd.concat([pd.DataFrame(metrics_tcrdist[chain], index=['tcrdist'])\n",
    "           ,pd.DataFrame(metrics_giana[chain], index=['GIANA'])\n",
    "           ,pd.DataFrame(metrics_ismart[chain], index=['iSMART'])\n",
    "           , pd.DataFrame(metrics_tcremb[chain], index=['TCRemb'])])\n",
    "metrics[chain]['method'] = metrics[chain].index\n",
    "\n",
    "chain = 'TRB'\n",
    "metrics[chain] = pd.concat([pd.DataFrame(metrics_tcrdist[chain], index=['tcrdist'])\n",
    "           ,pd.DataFrame(metrics_giana[chain], index=['GIANA'])\n",
    "           ,pd.DataFrame(metrics_ismart[chain], index=['iSMART'])\n",
    "           , pd.DataFrame(metrics_tcremb[chain], index=['TCRemb'])])\n",
    "metrics[chain]['method'] = metrics[chain].index"
   ]
  },
  {
   "cell_type": "code",
   "execution_count": 81,
   "id": "70ecb60f-e940-4e5e-96c5-1f38a0ea6142",
   "metadata": {},
   "outputs": [
    {
     "data": {
      "text/html": [
       "<svg  width=\"440\" height=\"55\"><rect x=\"0\" y=\"0\" width=\"55\" height=\"55\" style=\"fill:#66c2a5;stroke-width:2;stroke:rgb(255,255,255)\"/><rect x=\"55\" y=\"0\" width=\"55\" height=\"55\" style=\"fill:#fc8d62;stroke-width:2;stroke:rgb(255,255,255)\"/><rect x=\"110\" y=\"0\" width=\"55\" height=\"55\" style=\"fill:#8da0cb;stroke-width:2;stroke:rgb(255,255,255)\"/><rect x=\"165\" y=\"0\" width=\"55\" height=\"55\" style=\"fill:#e78ac3;stroke-width:2;stroke:rgb(255,255,255)\"/><rect x=\"220\" y=\"0\" width=\"55\" height=\"55\" style=\"fill:#a6d854;stroke-width:2;stroke:rgb(255,255,255)\"/><rect x=\"275\" y=\"0\" width=\"55\" height=\"55\" style=\"fill:#ffd92f;stroke-width:2;stroke:rgb(255,255,255)\"/><rect x=\"330\" y=\"0\" width=\"55\" height=\"55\" style=\"fill:#e5c494;stroke-width:2;stroke:rgb(255,255,255)\"/><rect x=\"385\" y=\"0\" width=\"55\" height=\"55\" style=\"fill:#b3b3b3;stroke-width:2;stroke:rgb(255,255,255)\"/></svg>"
      ],
      "text/plain": [
       "[(0.4, 0.7607843137254902, 0.6470588235294118),\n",
       " (0.9882352941176471, 0.5529411764705883, 0.3843137254901961),\n",
       " (0.5529411764705883, 0.6274509803921569, 0.796078431372549),\n",
       " (0.9058823529411765, 0.5411764705882353, 0.7647058823529411),\n",
       " (0.6509803921568628, 0.8470588235294118, 0.32941176470588235),\n",
       " (1.0, 0.8509803921568627, 0.1843137254901961),\n",
       " (0.8980392156862745, 0.7686274509803922, 0.5803921568627451),\n",
       " (0.7019607843137254, 0.7019607843137254, 0.7019607843137254)]"
      ]
     },
     "execution_count": 81,
     "metadata": {},
     "output_type": "execute_result"
    }
   ],
   "source": [
    "sns.color_palette(\"Set2\")"
   ]
  },
  {
   "cell_type": "code",
   "execution_count": 82,
   "id": "3b8c3683-1f92-471b-9c75-c5cef04dba34",
   "metadata": {},
   "outputs": [
    {
     "name": "stdout",
     "output_type": "stream",
     "text": [
      "['#66c2a5', '#fc8d62', '#8da0cb', '#e78ac3', '#a6d854', '#ffd92f', '#e5c494', '#b3b3b3']\n"
     ]
    }
   ],
   "source": [
    "print(sns.color_palette(\"Set2\").as_hex())"
   ]
  },
  {
   "cell_type": "code",
   "execution_count": 83,
   "id": "f450d0c8-4efc-4901-96a6-54dea6c1bf09",
   "metadata": {},
   "outputs": [],
   "source": [
    "color_map = {'tcrdist':'#fc8d62','GIANA':'#e78ac3','iSMART':'#a6d854','TCRemb':'#66c2a5'}"
   ]
  },
  {
   "cell_type": "code",
   "execution_count": null,
   "id": "adb90091-3a94-40bc-85d3-ff9c5a25cab6",
   "metadata": {},
   "outputs": [],
   "source": []
  },
  {
   "cell_type": "code",
   "execution_count": 84,
   "id": "2186d17c-6378-4ad1-bfb7-aeabc9c9c566",
   "metadata": {},
   "outputs": [
    {
     "data": {
      "image/png": "[encoded data removed]",
      "text/plain": [
       "<Figure size 1200x1500 with 6 Axes>"
      ]
     },
     "metadata": {},
     "output_type": "display_data"
    }
   ],
   "source": [
    "fig, axes = plt.subplots(3,2, figsize = (12,15))\n",
    "\n",
    "chain = 'TRA'\n",
    "\n",
    "sns.barplot(data = metrics[chain], x = 'method', y = 'purity', palette= color_map, ax = axes[0,0])\n",
    "loc = 0\n",
    "for i,r in metrics[chain].iterrows():\n",
    "    axes[0,0].text(loc, r['purity'] + 0.01, round(r['purity'],2), color='black', ha=\"center\")\n",
    "    loc +=1\n",
    "axes[0,0].set_title(f'Purity {chain}')\n",
    "axes[0,0].set_ylim(0, 1)\n",
    "\n",
    "sns.barplot(data = metrics[chain], x = 'method', y = 'f1-score', palette= color_map, ax = axes[1,0])\n",
    "loc = 0\n",
    "for i,r in metrics[chain].iterrows():\n",
    "    axes[1,0].text(loc, r['f1-score'] + 0.01, round(r['f1-score'],2), color='black', ha=\"center\")\n",
    "    loc +=1\n",
    "axes[1,0].set_title(f'F1-score {chain}')   \n",
    "axes[1,0].set_ylim(0, 1)\n",
    "\n",
    "sns.barplot(data = metrics[chain], x = 'method', y = 'retention', palette= color_map, ax = axes[2,0])\n",
    "loc = 0\n",
    "for i,r in metrics[chain].iterrows():\n",
    "    axes[2,0].text(loc, r['retention'] + 0.01, round(r['retention'],2), color='black', ha=\"center\")\n",
    "    loc +=1\n",
    "axes[2,0].set_title(f'Retention {chain}') \n",
    "axes[2,0].set_ylim(0, 1)\n",
    "\n",
    "chain = 'TRB'\n",
    "\n",
    "sns.barplot(data = metrics[chain], x = 'method', y = 'purity', palette= color_map, ax = axes[0,1])\n",
    "loc = 0\n",
    "for i,r in metrics[chain].iterrows():\n",
    "    axes[0,1].text(loc, r['purity'] + 0.01, round(r['purity'],2), color='black', ha=\"center\")\n",
    "    loc +=1\n",
    "axes[0,1].set_title(f'Purity {chain}')\n",
    "axes[0,1].set_ylim(0, 1)\n",
    "\n",
    "sns.barplot(data = metrics[chain], x = 'method', y = 'f1-score', palette= color_map, ax = axes[1,1])\n",
    "loc = 0\n",
    "for i,r in metrics[chain].iterrows():\n",
    "    axes[1,1].text(loc, r['f1-score'] + 0.01, round(r['f1-score'],2), color='black', ha=\"center\")\n",
    "    loc +=1\n",
    "axes[1,1].set_title(f'F1-score {chain}')   \n",
    "axes[1,1].set_ylim(0, 1)\n",
    "\n",
    "sns.barplot(data = metrics[chain], x = 'method', y = 'retention', palette= color_map, ax = axes[2,1])\n",
    "loc = 0\n",
    "for i,r in metrics[chain].iterrows():\n",
    "    axes[2,1].text(loc, r['retention'] + 0.01, round(r['retention'],2), color='black', ha=\"center\")\n",
    "    loc +=1\n",
    "axes[2,1].set_title(f'Retention {chain}') \n",
    "axes[2,1].set_ylim(0, 1)\n",
    "\n",
    "plt.savefig(f\"figures/fig4.png\")"
   ]
  },
  {
   "cell_type": "code",
   "execution_count": null,
   "id": "7923c3e4-e1d1-442c-b108-35c6d8ac55d0",
   "metadata": {},
   "outputs": [],
   "source": []
  },
  {
   "cell_type": "code",
   "execution_count": null,
   "id": "f6b644b0-aa22-4807-b747-21da8f2431f7",
   "metadata": {},
   "outputs": [],
   "source": []
  },
  {
   "cell_type": "code",
   "execution_count": 85,
   "id": "700a46bb-ead8-4597-b75e-e1281458499d",
   "metadata": {},
   "outputs": [],
   "source": [
    "metrics_2 = {}"
   ]
  },
  {
   "cell_type": "code",
   "execution_count": 86,
   "id": "63545363-7d17-4e9f-8df4-03e4c2c66a6f",
   "metadata": {},
   "outputs": [],
   "source": [
    "chain = 'TRA'\n",
    "metrics_2[chain] = pd.concat([pd.DataFrame(metrics_tcrdist[chain], index=['tcrdist'])\n",
    "           ,pd.DataFrame(metrics_giana[chain], index=['GIANA'])\n",
    "           ,pd.DataFrame(metrics_ismart[chain], index=['iSMART'])\n",
    "           , pd.DataFrame(metrics_tcremb_pred_enriched[chain], index=['TCRemb'])])\n",
    "metrics_2[chain]['method'] = metrics_2[chain].index\n",
    "\n",
    "chain = 'TRB'\n",
    "metrics_2[chain] = pd.concat([pd.DataFrame(metrics_tcrdist[chain], index=['tcrdist'])\n",
    "           ,pd.DataFrame(metrics_giana[chain], index=['GIANA'])\n",
    "           ,pd.DataFrame(metrics_ismart[chain], index=['iSMART'])\n",
    "           , pd.DataFrame(metrics_tcremb_pred_enriched[chain], index=['TCRemb'])])\n",
    "metrics_2[chain]['method'] = metrics_2[chain].index"
   ]
  },
  {
   "cell_type": "code",
   "execution_count": 87,
   "id": "4feb2c19-6ad5-46fe-bfcc-9aa418d50fd2",
   "metadata": {},
   "outputs": [
    {
     "data": {
      "image/png": "[encoded data removed]",
      "text/plain": [
       "<Figure size 1200x1500 with 6 Axes>"
      ]
     },
     "metadata": {},
     "output_type": "display_data"
    }
   ],
   "source": [
    "fig, axes = plt.subplots(3,2, figsize = (12,15))\n",
    "\n",
    "chain = 'TRA'\n",
    "\n",
    "sns.barplot(data = metrics_2[chain], x = 'method', y = 'purity', palette= color_map, ax = axes[0,0])\n",
    "loc = 0\n",
    "for i,r in metrics_2[chain].iterrows():\n",
    "    axes[0,0].text(loc, r['purity'] + 0.01, round(r['purity'],2), color='black', ha=\"center\")\n",
    "    loc +=1\n",
    "axes[0,0].set_title(f'Purity {chain}')\n",
    "\n",
    "sns.barplot(data = metrics_2[chain], x = 'method', y = 'f1-score', palette= color_map, ax = axes[1,0])\n",
    "loc = 0\n",
    "for i,r in metrics_2[chain].iterrows():\n",
    "    axes[1,0].text(loc, r['f1-score'] + 0.01, round(r['f1-score'],2), color='black', ha=\"center\")\n",
    "    loc +=1\n",
    "axes[1,0].set_title(f'F1-score {chain}')   \n",
    "\n",
    "sns.barplot(data = metrics_2[chain], x = 'method', y = 'retention', palette= color_map, ax = axes[2,0])\n",
    "loc = 0\n",
    "for i,r in metrics_2[chain].iterrows():\n",
    "    axes[2,0].text(loc, r['retention'] + 0.01, round(r['retention'],2), color='black', ha=\"center\")\n",
    "    loc +=1\n",
    "axes[2,0].set_title(f'Retention {chain}') \n",
    "\n",
    "chain = 'TRB'\n",
    "\n",
    "sns.barplot(data = metrics_2[chain], x = 'method', y = 'purity', palette= color_map, ax = axes[0,1])\n",
    "loc = 0\n",
    "for i,r in metrics_2[chain].iterrows():\n",
    "    axes[0,1].text(loc, r['purity'] + 0.01, round(r['purity'],2), color='black', ha=\"center\")\n",
    "    loc +=1\n",
    "axes[0,1].set_title(f'Purity {chain}')\n",
    "\n",
    "sns.barplot(data = metrics_2[chain], x = 'method', y = 'f1-score', palette= color_map, ax = axes[1,1])\n",
    "loc = 0\n",
    "for i,r in metrics_2[chain].iterrows():\n",
    "    axes[1,1].text(loc, r['f1-score'] + 0.01, round(r['f1-score'],2), color='black', ha=\"center\")\n",
    "    loc +=1\n",
    "axes[1,1].set_title(f'F1-score {chain}')   \n",
    "\n",
    "sns.barplot(data = metrics_2[chain], x = 'method', y = 'retention', palette= color_map, ax = axes[2,1])\n",
    "loc = 0\n",
    "for i,r in metrics_2[chain].iterrows():\n",
    "    axes[2,1].text(loc, r['retention'] + 0.01, round(r['retention'],2), color='black', ha=\"center\")\n",
    "    loc +=1\n",
    "axes[2,1].set_title(f'Retention {chain}')   \n",
    "\n",
    "plt.savefig(f\"figures/fig4_2.png\")"
   ]
  },
  {
   "cell_type": "code",
   "execution_count": null,
   "id": "03eb46ac-4c47-4f1f-8173-3af0ae02cb73",
   "metadata": {},
   "outputs": [],
   "source": []
  },
  {
   "cell_type": "code",
   "execution_count": 90,
   "id": "7ed69971-53b7-424d-8cfb-5a9a587abcdb",
   "metadata": {},
   "outputs": [],
   "source": [
    "metrics_3 = {}"
   ]
  },
  {
   "cell_type": "code",
   "execution_count": 91,
   "id": "e94a7a21-9023-483f-b018-bc0d61306025",
   "metadata": {},
   "outputs": [],
   "source": [
    "chain = 'TRA'\n",
    "metrics_3[chain] = pd.concat([pd.DataFrame(metrics_tcrdist[chain], index=['tcrdist'])\n",
    "           ,pd.DataFrame(metrics_giana[chain], index=['GIANA'])\n",
    "           ,pd.DataFrame(metrics_ismart[chain], index=['iSMART'])\n",
    "           , pd.DataFrame(metrics_tcremb_pred_enriched_sq[chain], index=['TCRemb'])])\n",
    "metrics_3[chain]['method'] = metrics_3[chain].index\n",
    "\n",
    "chain = 'TRB'\n",
    "metrics_3[chain] = pd.concat([pd.DataFrame(metrics_tcrdist[chain], index=['tcrdist'])\n",
    "           ,pd.DataFrame(metrics_giana[chain], index=['GIANA'])\n",
    "           ,pd.DataFrame(metrics_ismart[chain], index=['iSMART'])\n",
    "           , pd.DataFrame(metrics_tcremb_pred_enriched_sq[chain], index=['TCRemb'])])\n",
    "metrics_3[chain]['method'] = metrics_3[chain].index"
   ]
  },
  {
   "cell_type": "code",
   "execution_count": 92,
   "id": "d85173b1-59e8-4c2b-8d6f-31edbc2701dd",
   "metadata": {},
   "outputs": [],
   "source": [
    "chain = 'TRA'\n",
    "metrics_3[chain] = pd.concat([pd.DataFrame(metrics_tcrdist[chain], index=['tcrdist'])\n",
    "           ,pd.DataFrame(metrics_giana[chain], index=['GIANA'])\n",
    "           ,pd.DataFrame(metrics_ismart[chain], index=['iSMART'])\n",
    "           , pd.DataFrame(metrics_tcremb_pred_enriched_between[chain], index=['TCRemb'])])\n",
    "metrics_3[chain]['method'] = metrics_3[chain].index\n",
    "\n",
    "chain = 'TRB'\n",
    "metrics_3[chain] = pd.concat([pd.DataFrame(metrics_tcrdist[chain], index=['tcrdist'])\n",
    "           ,pd.DataFrame(metrics_giana[chain], index=['GIANA'])\n",
    "           ,pd.DataFrame(metrics_ismart[chain], index=['iSMART'])\n",
    "           , pd.DataFrame(metrics_tcremb_pred_enriched_between[chain], index=['TCRemb'])])\n",
    "metrics_3[chain]['method'] = metrics_3[chain].index"
   ]
  },
  {
   "cell_type": "code",
   "execution_count": null,
   "id": "6c13f910-7d38-4744-961f-ea9a429ae7f0",
   "metadata": {},
   "outputs": [],
   "source": []
  },
  {
   "cell_type": "code",
   "execution_count": 93,
   "id": "e896827f-d130-4dc6-8005-3a1654e7c030",
   "metadata": {},
   "outputs": [
    {
     "data": {
      "image/png": "[encoded data removed]",
      "text/plain": [
       "<Figure size 1200x1500 with 6 Axes>"
      ]
     },
     "metadata": {},
     "output_type": "display_data"
    }
   ],
   "source": [
    "fig, axes = plt.subplots(3,2, figsize = (12,15))\n",
    "\n",
    "chain = 'TRA'\n",
    "\n",
    "sns.barplot(data = metrics_3[chain], x = 'method', y = 'purity', palette= color_map, ax = axes[0,0])\n",
    "loc = 0\n",
    "for i,r in metrics_3[chain].iterrows():\n",
    "    axes[0,0].text(loc, r['purity'] + 0.01, round(r['purity'],2), color='black', ha=\"center\")\n",
    "    loc +=1\n",
    "axes[0,0].set_title(f'Purity {chain}')\n",
    "axes[0,0].set_ylim(0, 1)\n",
    "\n",
    "sns.barplot(data = metrics_3[chain], x = 'method', y = 'f1-score', palette= color_map, ax = axes[1,0])\n",
    "loc = 0\n",
    "for i,r in metrics_3[chain].iterrows():\n",
    "    axes[1,0].text(loc, r['f1-score'] + 0.01, round(r['f1-score'],2), color='black', ha=\"center\")\n",
    "    loc +=1\n",
    "axes[1,0].set_title(f'F1-score {chain}')\n",
    "axes[1,0].set_ylim(0, 1)\n",
    "\n",
    "sns.barplot(data = metrics_3[chain], x = 'method', y = 'retention', palette= color_map, ax = axes[2,0])\n",
    "loc = 0\n",
    "for i,r in metrics_3[chain].iterrows():\n",
    "    axes[2,0].text(loc, r['retention'] + 0.01, round(r['retention'],2), color='black', ha=\"center\")\n",
    "    loc +=1\n",
    "axes[2,0].set_title(f'Retention {chain}') \n",
    "axes[2,0].set_ylim(0, 1)\n",
    "\n",
    "chain = 'TRB'\n",
    "\n",
    "sns.barplot(data = metrics_3[chain], x = 'method', y = 'purity', palette= color_map, ax = axes[0,1])\n",
    "loc = 0\n",
    "for i,r in metrics_3[chain].iterrows():\n",
    "    axes[0,1].text(loc, r['purity'] + 0.01, round(r['purity'],2), color='black', ha=\"center\")\n",
    "    loc +=1\n",
    "axes[0,1].set_title(f'Purity {chain}')\n",
    "axes[0,1].set_ylim(0, 1)\n",
    "\n",
    "sns.barplot(data = metrics_3[chain], x = 'method', y = 'f1-score', palette= color_map, ax = axes[1,1])\n",
    "loc = 0\n",
    "for i,r in metrics_3[chain].iterrows():\n",
    "    axes[1,1].text(loc, r['f1-score'] + 0.01, round(r['f1-score'],2), color='black', ha=\"center\")\n",
    "    loc +=1\n",
    "axes[1,1].set_title(f'F1-score {chain}')   \n",
    "axes[1,1].set_ylim(0, 1)\n",
    "\n",
    "sns.barplot(data = metrics_3[chain], x = 'method', y = 'retention', palette= color_map, ax = axes[2,1])\n",
    "loc = 0\n",
    "for i,r in metrics_3[chain].iterrows():\n",
    "    axes[2,1].text(loc, r['retention'] + 0.01, round(r['retention'],2), color='black', ha=\"center\")\n",
    "    loc +=1\n",
    "axes[2,1].set_title(f'Retention {chain}')   \n",
    "axes[2,1].set_ylim(0, 1)\n",
    "\n",
    "plt.savefig(f\"figures/fig4_3.png\")"
   ]
  },
  {
   "cell_type": "code",
   "execution_count": null,
   "id": "fd131f69-3ec5-488b-93ee-c0e82a68ba1e",
   "metadata": {},
   "outputs": [],
   "source": []
  },
  {
   "cell_type": "markdown",
   "id": "889cfcb5-bec7-40b8-81ba-4405236409c9",
   "metadata": {},
   "source": [
    "## VDJdb V10-V1000"
   ]
  },
  {
   "cell_type": "code",
   "execution_count": 4,
   "id": "b3171a4d-5e07-4eb4-9026-0946a3779156",
   "metadata": {},
   "outputs": [],
   "source": [
    "#samples_n = [10,50,100,500,1000]\n",
    "samples_n = [1000]"
   ]
  },
  {
   "cell_type": "raw",
   "id": "e470687c-270a-4ba9-a123-a95fa973582d",
   "metadata": {},
   "source": [
    "f'data/data_preped/VDJdb_data_{chain}_V{i}.csv'"
   ]
  },
  {
   "cell_type": "code",
   "execution_count": 5,
   "id": "12231042-2309-4b09-98b4-9d42f9d002de",
   "metadata": {},
   "outputs": [],
   "source": [
    "tcrdist_res_v = {}\n",
    "metrics_tcrdist_v = {}\n",
    "\n",
    "giana_res_raw_v = {}\n",
    "giana_res_v = {}\n",
    "metrics_giana_v = {}\n",
    "\n",
    "ismart_res_raw_v = {}\n",
    "ismart_res_v = {}\n",
    "metrics_ismart_v = {}\n",
    "\n",
    "tcremb_res_v = {}\n",
    "metrics_tcremb_v = {}"
   ]
  },
  {
   "cell_type": "code",
   "execution_count": null,
   "id": "24b795f0-e286-41e5-b6e1-31db62ea2f8c",
   "metadata": {},
   "outputs": [],
   "source": []
  },
  {
   "cell_type": "markdown",
   "id": "9ca9d76e-be7c-48a5-b215-679d425b0e51",
   "metadata": {},
   "source": [
    "### TCRDIST3"
   ]
  },
  {
   "cell_type": "code",
   "execution_count": null,
   "id": "c3a0253c-bf00-4521-9fca-fce41d0880ee",
   "metadata": {},
   "outputs": [],
   "source": [
    "chain = 'TRA'\n",
    "for i in samples_n:\n",
    "    vdjdb_v = pd.read_csv(f'data/data_preped/VDJdb_data_{chain}_V{i}.csv',sep='\\t')\n",
    "    vdjdb_v['v']= vdjdb_v['v'] + '*01'\n",
    "    vdjdb_v['j']= vdjdb_v['j'] + '*01'\n",
    "    vdjdb_v['v'] = vdjdb_v['v'].str.replace('DV','/DV')\n",
    "    print(len(vdjdb_v))\n",
    "    \n",
    "    tcrdist_res[chain] = run_tcrdist3(vdjdb_data_tcrdist3,chain, n_clusters=5295)"
   ]
  },
  {
   "cell_type": "code",
   "execution_count": null,
   "id": "6ba98811-7e78-4304-986d-3d0c90d5e4cb",
   "metadata": {},
   "outputs": [],
   "source": []
  },
  {
   "cell_type": "code",
   "execution_count": null,
   "id": "7725e481-a236-442e-8e53-6f71d6db7ae0",
   "metadata": {},
   "outputs": [],
   "source": []
  },
  {
   "cell_type": "markdown",
   "id": "624680d0-e7d6-4d01-b1ca-7b6eaf13b5f5",
   "metadata": {},
   "source": [
    "### GIANA"
   ]
  },
  {
   "cell_type": "code",
   "execution_count": 13,
   "id": "7b15c4b0-cf91-4a00-8cdf-2230a5fc6a3e",
   "metadata": {},
   "outputs": [
    {
     "name": "stdout",
     "output_type": "stream",
     "text": [
      "TCR-epitope paires count in V10 dataset: 10352\n",
      "GIANA clustering of 10352 sequences.\n"
     ]
    },
    {
     "name": "stderr",
     "output_type": "stream",
     "text": [
      "/home/ykremlyakova/.conda/envs/py311/lib/python3.11/site-packages/sklearn/manifold/_mds.py:298: FutureWarning: The default value of `normalized_stress` will change to `'auto'` in version 1.4. To suppress this warning, manually set the value of `normalized_stress`.\n",
      "  warnings.warn(\n",
      "/home/ykremlyakova/.conda/envs/py311/lib/python3.11/site-packages/sklearn/manifold/_mds.py:298: FutureWarning: The default value of `normalized_stress` will change to `'auto'` in version 1.4. To suppress this warning, manually set the value of `normalized_stress`.\n",
      "  warnings.warn(\n"
     ]
    },
    {
     "name": "stdout",
     "output_type": "stream",
     "text": [
      "\n",
      "GIANA: Geometric Isometry based ANtigen-specific tcr Alignment\n",
      "Ultrafast short peptide alignment exclusively designed for large-scale adaptome analysis\n",
      "\n",
      "Input columns:\n",
      "1. CDR3 amino acid sequence (Starting from C, ending with the first F/L in motif [FL]G.G)\n",
      "2. Variable gene name in Imgt format: TRBVXX-XX*XX\n",
      "3. Joining gene name (optional)\n",
      "4. Frequency (optional)\n",
      "5. Other information (optional)\n",
      "\n",
      "!!! ALL amino acid letters must be CAPITAL !!!\n",
      "\n",
      "\n",
      "Processing data.txt\n",
      "Total time elapsed: 1.853260\n",
      "Maximum memory usage: 0.188256 MB\n",
      "Elapsed time: 6.8176703453063965 seconds.\n",
      "TCR-epitope paires count in V50 dataset: 9259\n",
      "GIANA clustering of 9259 sequences.\n"
     ]
    },
    {
     "name": "stderr",
     "output_type": "stream",
     "text": [
      "/home/ykremlyakova/.conda/envs/py311/lib/python3.11/site-packages/sklearn/manifold/_mds.py:298: FutureWarning: The default value of `normalized_stress` will change to `'auto'` in version 1.4. To suppress this warning, manually set the value of `normalized_stress`.\n",
      "  warnings.warn(\n",
      "/home/ykremlyakova/.conda/envs/py311/lib/python3.11/site-packages/sklearn/manifold/_mds.py:298: FutureWarning: The default value of `normalized_stress` will change to `'auto'` in version 1.4. To suppress this warning, manually set the value of `normalized_stress`.\n",
      "  warnings.warn(\n"
     ]
    },
    {
     "name": "stdout",
     "output_type": "stream",
     "text": [
      "\n",
      "GIANA: Geometric Isometry based ANtigen-specific tcr Alignment\n",
      "Ultrafast short peptide alignment exclusively designed for large-scale adaptome analysis\n",
      "\n",
      "Input columns:\n",
      "1. CDR3 amino acid sequence (Starting from C, ending with the first F/L in motif [FL]G.G)\n",
      "2. Variable gene name in Imgt format: TRBVXX-XX*XX\n",
      "3. Joining gene name (optional)\n",
      "4. Frequency (optional)\n",
      "5. Other information (optional)\n",
      "\n",
      "!!! ALL amino acid letters must be CAPITAL !!!\n",
      "\n",
      "\n",
      "Processing data.txt\n",
      "Total time elapsed: 1.503953\n",
      "Maximum memory usage: 0.188584 MB\n",
      "Elapsed time: 6.396569490432739 seconds.\n",
      "TCR-epitope paires count in V100 dataset: 8648\n",
      "GIANA clustering of 8648 sequences.\n"
     ]
    },
    {
     "name": "stderr",
     "output_type": "stream",
     "text": [
      "/home/ykremlyakova/.conda/envs/py311/lib/python3.11/site-packages/sklearn/manifold/_mds.py:298: FutureWarning: The default value of `normalized_stress` will change to `'auto'` in version 1.4. To suppress this warning, manually set the value of `normalized_stress`.\n",
      "  warnings.warn(\n",
      "/home/ykremlyakova/.conda/envs/py311/lib/python3.11/site-packages/sklearn/manifold/_mds.py:298: FutureWarning: The default value of `normalized_stress` will change to `'auto'` in version 1.4. To suppress this warning, manually set the value of `normalized_stress`.\n",
      "  warnings.warn(\n"
     ]
    },
    {
     "name": "stdout",
     "output_type": "stream",
     "text": [
      "\n",
      "GIANA: Geometric Isometry based ANtigen-specific tcr Alignment\n",
      "Ultrafast short peptide alignment exclusively designed for large-scale adaptome analysis\n",
      "\n",
      "Input columns:\n",
      "1. CDR3 amino acid sequence (Starting from C, ending with the first F/L in motif [FL]G.G)\n",
      "2. Variable gene name in Imgt format: TRBVXX-XX*XX\n",
      "3. Joining gene name (optional)\n",
      "4. Frequency (optional)\n",
      "5. Other information (optional)\n",
      "\n",
      "!!! ALL amino acid letters must be CAPITAL !!!\n",
      "\n",
      "\n",
      "Processing data.txt\n",
      "Total time elapsed: 1.381646\n",
      "Maximum memory usage: 0.187048 MB\n",
      "Elapsed time: 6.236727476119995 seconds.\n",
      "TCR-epitope paires count in V500 dataset: 5634\n",
      "GIANA clustering of 5634 sequences.\n"
     ]
    },
    {
     "name": "stderr",
     "output_type": "stream",
     "text": [
      "/home/ykremlyakova/.conda/envs/py311/lib/python3.11/site-packages/sklearn/manifold/_mds.py:298: FutureWarning: The default value of `normalized_stress` will change to `'auto'` in version 1.4. To suppress this warning, manually set the value of `normalized_stress`.\n",
      "  warnings.warn(\n",
      "/home/ykremlyakova/.conda/envs/py311/lib/python3.11/site-packages/sklearn/manifold/_mds.py:298: FutureWarning: The default value of `normalized_stress` will change to `'auto'` in version 1.4. To suppress this warning, manually set the value of `normalized_stress`.\n",
      "  warnings.warn(\n"
     ]
    },
    {
     "name": "stdout",
     "output_type": "stream",
     "text": [
      "\n",
      "GIANA: Geometric Isometry based ANtigen-specific tcr Alignment\n",
      "Ultrafast short peptide alignment exclusively designed for large-scale adaptome analysis\n",
      "\n",
      "Input columns:\n",
      "1. CDR3 amino acid sequence (Starting from C, ending with the first F/L in motif [FL]G.G)\n",
      "2. Variable gene name in Imgt format: TRBVXX-XX*XX\n",
      "3. Joining gene name (optional)\n",
      "4. Frequency (optional)\n",
      "5. Other information (optional)\n",
      "\n",
      "!!! ALL amino acid letters must be CAPITAL !!!\n",
      "\n",
      "\n",
      "Processing data.txt\n",
      "Total time elapsed: 0.898809\n",
      "Maximum memory usage: 0.182600 MB\n",
      "Elapsed time: 5.791729927062988 seconds.\n",
      "TCR-epitope paires count in V1000 dataset: 4971\n",
      "GIANA clustering of 4971 sequences.\n"
     ]
    },
    {
     "name": "stderr",
     "output_type": "stream",
     "text": [
      "/home/ykremlyakova/.conda/envs/py311/lib/python3.11/site-packages/sklearn/manifold/_mds.py:298: FutureWarning: The default value of `normalized_stress` will change to `'auto'` in version 1.4. To suppress this warning, manually set the value of `normalized_stress`.\n",
      "  warnings.warn(\n",
      "/home/ykremlyakova/.conda/envs/py311/lib/python3.11/site-packages/sklearn/manifold/_mds.py:298: FutureWarning: The default value of `normalized_stress` will change to `'auto'` in version 1.4. To suppress this warning, manually set the value of `normalized_stress`.\n",
      "  warnings.warn(\n"
     ]
    },
    {
     "name": "stdout",
     "output_type": "stream",
     "text": [
      "\n",
      "GIANA: Geometric Isometry based ANtigen-specific tcr Alignment\n",
      "Ultrafast short peptide alignment exclusively designed for large-scale adaptome analysis\n",
      "\n",
      "Input columns:\n",
      "1. CDR3 amino acid sequence (Starting from C, ending with the first F/L in motif [FL]G.G)\n",
      "2. Variable gene name in Imgt format: TRBVXX-XX*XX\n",
      "3. Joining gene name (optional)\n",
      "4. Frequency (optional)\n",
      "5. Other information (optional)\n",
      "\n",
      "!!! ALL amino acid letters must be CAPITAL !!!\n",
      "\n",
      "\n",
      "Processing data.txt\n",
      "Total time elapsed: 0.839431\n",
      "Maximum memory usage: 0.181128 MB\n",
      "Elapsed time: 5.501701354980469 seconds.\n"
     ]
    }
   ],
   "source": [
    "## Run Giana\n",
    "chain = 'TRA'\n",
    "for i in samples_n:\n",
    "    giana_res_raw_v[i]={}\n",
    "    vdjdb_v = pd.read_csv(f'data/data_preped/VDJdb_data_{chain}_V{i}.csv',sep='\\t')\n",
    "    vdjdb_v['v']= vdjdb_v['v'] + '*01'\n",
    "    vdjdb_v['j']= vdjdb_v['j'] + '*01'\n",
    "    print(f\"TCR-epitope paires count in V{i} dataset: {len(vdjdb_v)}\")\n",
    "    \n",
    "    giana_res_raw_v[i][chain] = models.run_GIANA(vdjdb_v, chain, f'V{i}',2)\n",
    "    \n"
   ]
  },
  {
   "cell_type": "code",
   "execution_count": 14,
   "id": "631513a0-928f-4242-bbea-8dd253754ac1",
   "metadata": {},
   "outputs": [
    {
     "name": "stdout",
     "output_type": "stream",
     "text": [
      "TCR-epitope paires count in V10 dataset: 22057\n",
      "GIANA clustering of 22057 sequences.\n"
     ]
    },
    {
     "name": "stderr",
     "output_type": "stream",
     "text": [
      "/home/ykremlyakova/.conda/envs/py311/lib/python3.11/site-packages/sklearn/manifold/_mds.py:298: FutureWarning: The default value of `normalized_stress` will change to `'auto'` in version 1.4. To suppress this warning, manually set the value of `normalized_stress`.\n",
      "  warnings.warn(\n",
      "/home/ykremlyakova/.conda/envs/py311/lib/python3.11/site-packages/sklearn/manifold/_mds.py:298: FutureWarning: The default value of `normalized_stress` will change to `'auto'` in version 1.4. To suppress this warning, manually set the value of `normalized_stress`.\n",
      "  warnings.warn(\n"
     ]
    },
    {
     "name": "stdout",
     "output_type": "stream",
     "text": [
      "\n",
      "GIANA: Geometric Isometry based ANtigen-specific tcr Alignment\n",
      "Ultrafast short peptide alignment exclusively designed for large-scale adaptome analysis\n",
      "\n",
      "Input columns:\n",
      "1. CDR3 amino acid sequence (Starting from C, ending with the first F/L in motif [FL]G.G)\n",
      "2. Variable gene name in Imgt format: TRBVXX-XX*XX\n",
      "3. Joining gene name (optional)\n",
      "4. Frequency (optional)\n",
      "5. Other information (optional)\n",
      "\n",
      "!!! ALL amino acid letters must be CAPITAL !!!\n",
      "\n",
      "\n",
      "Processing data.txt\n",
      "Total time elapsed: 2.089911\n",
      "Maximum memory usage: 0.211128 MB\n",
      "Elapsed time: 7.108323097229004 seconds.\n",
      "TCR-epitope paires count in V50 dataset: 19791\n",
      "GIANA clustering of 19791 sequences.\n"
     ]
    },
    {
     "name": "stderr",
     "output_type": "stream",
     "text": [
      "/home/ykremlyakova/.conda/envs/py311/lib/python3.11/site-packages/sklearn/manifold/_mds.py:298: FutureWarning: The default value of `normalized_stress` will change to `'auto'` in version 1.4. To suppress this warning, manually set the value of `normalized_stress`.\n",
      "  warnings.warn(\n",
      "/home/ykremlyakova/.conda/envs/py311/lib/python3.11/site-packages/sklearn/manifold/_mds.py:298: FutureWarning: The default value of `normalized_stress` will change to `'auto'` in version 1.4. To suppress this warning, manually set the value of `normalized_stress`.\n",
      "  warnings.warn(\n"
     ]
    },
    {
     "name": "stdout",
     "output_type": "stream",
     "text": [
      "\n",
      "GIANA: Geometric Isometry based ANtigen-specific tcr Alignment\n",
      "Ultrafast short peptide alignment exclusively designed for large-scale adaptome analysis\n",
      "\n",
      "Input columns:\n",
      "1. CDR3 amino acid sequence (Starting from C, ending with the first F/L in motif [FL]G.G)\n",
      "2. Variable gene name in Imgt format: TRBVXX-XX*XX\n",
      "3. Joining gene name (optional)\n",
      "4. Frequency (optional)\n",
      "5. Other information (optional)\n",
      "\n",
      "!!! ALL amino acid letters must be CAPITAL !!!\n",
      "\n",
      "\n",
      "Processing data.txt\n",
      "Total time elapsed: 1.919839\n",
      "Maximum memory usage: 0.208548 MB\n",
      "Elapsed time: 6.882146835327148 seconds.\n",
      "TCR-epitope paires count in V100 dataset: 18072\n",
      "GIANA clustering of 18072 sequences.\n"
     ]
    },
    {
     "name": "stderr",
     "output_type": "stream",
     "text": [
      "/home/ykremlyakova/.conda/envs/py311/lib/python3.11/site-packages/sklearn/manifold/_mds.py:298: FutureWarning: The default value of `normalized_stress` will change to `'auto'` in version 1.4. To suppress this warning, manually set the value of `normalized_stress`.\n",
      "  warnings.warn(\n",
      "/home/ykremlyakova/.conda/envs/py311/lib/python3.11/site-packages/sklearn/manifold/_mds.py:298: FutureWarning: The default value of `normalized_stress` will change to `'auto'` in version 1.4. To suppress this warning, manually set the value of `normalized_stress`.\n",
      "  warnings.warn(\n"
     ]
    },
    {
     "name": "stdout",
     "output_type": "stream",
     "text": [
      "\n",
      "GIANA: Geometric Isometry based ANtigen-specific tcr Alignment\n",
      "Ultrafast short peptide alignment exclusively designed for large-scale adaptome analysis\n",
      "\n",
      "Input columns:\n",
      "1. CDR3 amino acid sequence (Starting from C, ending with the first F/L in motif [FL]G.G)\n",
      "2. Variable gene name in Imgt format: TRBVXX-XX*XX\n",
      "3. Joining gene name (optional)\n",
      "4. Frequency (optional)\n",
      "5. Other information (optional)\n",
      "\n",
      "!!! ALL amino acid letters must be CAPITAL !!!\n",
      "\n",
      "\n",
      "Processing data.txt\n",
      "Total time elapsed: 1.791123\n",
      "Maximum memory usage: 0.209748 MB\n",
      "Elapsed time: 6.611473798751831 seconds.\n",
      "TCR-epitope paires count in V500 dataset: 11184\n",
      "GIANA clustering of 11184 sequences.\n"
     ]
    },
    {
     "name": "stderr",
     "output_type": "stream",
     "text": [
      "/home/ykremlyakova/.conda/envs/py311/lib/python3.11/site-packages/sklearn/manifold/_mds.py:298: FutureWarning: The default value of `normalized_stress` will change to `'auto'` in version 1.4. To suppress this warning, manually set the value of `normalized_stress`.\n",
      "  warnings.warn(\n",
      "/home/ykremlyakova/.conda/envs/py311/lib/python3.11/site-packages/sklearn/manifold/_mds.py:298: FutureWarning: The default value of `normalized_stress` will change to `'auto'` in version 1.4. To suppress this warning, manually set the value of `normalized_stress`.\n",
      "  warnings.warn(\n"
     ]
    },
    {
     "name": "stdout",
     "output_type": "stream",
     "text": [
      "\n",
      "GIANA: Geometric Isometry based ANtigen-specific tcr Alignment\n",
      "Ultrafast short peptide alignment exclusively designed for large-scale adaptome analysis\n",
      "\n",
      "Input columns:\n",
      "1. CDR3 amino acid sequence (Starting from C, ending with the first F/L in motif [FL]G.G)\n",
      "2. Variable gene name in Imgt format: TRBVXX-XX*XX\n",
      "3. Joining gene name (optional)\n",
      "4. Frequency (optional)\n",
      "5. Other information (optional)\n",
      "\n",
      "!!! ALL amino acid letters must be CAPITAL !!!\n",
      "\n",
      "\n",
      "Processing data.txt\n",
      "Total time elapsed: 1.091952\n",
      "Maximum memory usage: 0.194924 MB\n",
      "Elapsed time: 5.731211423873901 seconds.\n",
      "TCR-epitope paires count in V1000 dataset: 8763\n",
      "GIANA clustering of 8763 sequences.\n"
     ]
    },
    {
     "name": "stderr",
     "output_type": "stream",
     "text": [
      "/home/ykremlyakova/.conda/envs/py311/lib/python3.11/site-packages/sklearn/manifold/_mds.py:298: FutureWarning: The default value of `normalized_stress` will change to `'auto'` in version 1.4. To suppress this warning, manually set the value of `normalized_stress`.\n",
      "  warnings.warn(\n",
      "/home/ykremlyakova/.conda/envs/py311/lib/python3.11/site-packages/sklearn/manifold/_mds.py:298: FutureWarning: The default value of `normalized_stress` will change to `'auto'` in version 1.4. To suppress this warning, manually set the value of `normalized_stress`.\n",
      "  warnings.warn(\n"
     ]
    },
    {
     "name": "stdout",
     "output_type": "stream",
     "text": [
      "\n",
      "GIANA: Geometric Isometry based ANtigen-specific tcr Alignment\n",
      "Ultrafast short peptide alignment exclusively designed for large-scale adaptome analysis\n",
      "\n",
      "Input columns:\n",
      "1. CDR3 amino acid sequence (Starting from C, ending with the first F/L in motif [FL]G.G)\n",
      "2. Variable gene name in Imgt format: TRBVXX-XX*XX\n",
      "3. Joining gene name (optional)\n",
      "4. Frequency (optional)\n",
      "5. Other information (optional)\n",
      "\n",
      "!!! ALL amino acid letters must be CAPITAL !!!\n",
      "\n",
      "\n",
      "Processing data.txt\n",
      "Total time elapsed: 0.743410\n",
      "Maximum memory usage: 0.189848 MB\n",
      "Elapsed time: 5.5610010623931885 seconds.\n"
     ]
    }
   ],
   "source": [
    "## Run Giana\n",
    "chain = 'TRB'\n",
    "for i in samples_n:\n",
    "    giana_res_raw_v[i]={}\n",
    "    vdjdb_v = pd.read_csv(f'data/data_preped/VDJdb_data_{chain}_V{i}.csv',sep='\\t')\n",
    "    vdjdb_v['v']= vdjdb_v['v'] + '*01'\n",
    "    vdjdb_v['j']= vdjdb_v['j'] + '*01'\n",
    "    print(f\"TCR-epitope paires count in V{i} dataset: {len(vdjdb_v)}\")\n",
    "    \n",
    "    giana_res_raw_v[i][chain] = models.run_GIANA(vdjdb_v, chain, f'V{i}',2)\n",
    "    \n"
   ]
  },
  {
   "cell_type": "code",
   "execution_count": 15,
   "id": "0b70a81a-c906-42c9-bd1e-fbd3826041b5",
   "metadata": {},
   "outputs": [
    {
     "name": "stdout",
     "output_type": "stream",
     "text": [
      "TCR-epitope paires count in V10 dataset: 10352\n",
      "{'f1': 0.5227617295274909, 'precision': 0.5461768198064888, 'recall': 0.548778213019959}\n",
      "0.548778213019959\n"
     ]
    },
    {
     "name": "stderr",
     "output_type": "stream",
     "text": [
      "/home/ykremlyakova/.conda/envs/py311/lib/python3.11/site-packages/sklearn/metrics/_classification.py:1469: UndefinedMetricWarning: Precision is ill-defined and being set to 0.0 in labels with no predicted samples. Use `zero_division` parameter to control this behavior.\n",
      "  _warn_prf(average, modifier, msg_start, len(result))\n"
     ]
    },
    {
     "name": "stdout",
     "output_type": "stream",
     "text": [
      "{'purity': 0.548778213019959, 'retention': 0.517870942812983, 'consistency': 0.001279420697439724, 'ami': 0.30376688325432744, 'accuracy': 0.001117732818641796, 'precision': 0.5461768198064889, 'recall': 0.5487782130199589, 'f1-score': 0.5474744262193583, 'support': 5361, 'mean_clustsize': 4.9730983302411875}\n",
      "TCR-epitope paires count in V50 dataset: 9259\n",
      "{'f1': 0.5722748334298549, 'precision': 0.5886703194692913, 'recall': 0.5859324585932458}\n",
      "0.5859324585932458\n",
      "{'purity': 0.5859324585932458, 'retention': 0.5021060589696511, 'consistency': 0.0030574931628921742, 'ami': 0.3129181087615778, 'accuracy': 0.0739096906561874, 'precision': 0.5886703194692914, 'recall': 0.5859324585932458, 'f1-score': 0.5872981982154811, 'support': 4649, 'mean_clustsize': 4.857889237199582}\n",
      "TCR-epitope paires count in V100 dataset: 8648\n",
      "{'f1': 0.598793952128795, 'precision': 0.6165793965555366, 'recall': 0.6112925804946336}\n",
      "0.6112018669778296\n",
      "{'purity': 0.6112018669778296, 'retention': 0.49549028677150786, 'consistency': 0.004470920592028496, 'ami': 0.3180557499851617, 'accuracy': 0.07904766702657366, 'precision': 0.6164676533193806, 'recall': 0.6112018669778297, 'f1-score': 0.6138234670011675, 'support': 4285, 'mean_clustsize': 4.830890642615558}\n",
      "TCR-epitope paires count in V500 dataset: 5634\n",
      "{'f1': 0.7748489261663289, 'precision': 0.7800516138797927, 'recall': 0.7753651796288985}\n",
      "0.7752764612954186\n",
      "{'purity': 0.7752764612954186, 'retention': 0.4494142705005325, 'consistency': 0.02659294365455503, 'ami': 0.3398005122092036, 'accuracy': 0.12220777835178905, 'precision': 0.7799417557850294, 'recall': 0.7752764612954187, 'f1-score': 0.7776021111386903, 'support': 2532, 'mean_clustsize': 4.521428571428571}\n",
      "TCR-epitope paires count in V1000 dataset: 4971\n",
      "{'f1': 0.809283154080364, 'precision': 0.8098943684346566, 'recall': 0.8113646949231486}\n",
      "0.8112767940354148\n",
      "{'purity': 0.8112767940354148, 'retention': 0.4317038825186079, 'consistency': 0.04217148182665424, 'ami': 0.2814069550280654, 'accuracy': 0.31642063215640365, 'precision': 0.8098107726035719, 'recall': 0.8112767940354149, 'f1-score': 0.8105431204253712, 'support': 2146, 'mean_clustsize': 4.470833333333333}\n"
     ]
    }
   ],
   "source": [
    "## work with results\n",
    "chain = 'TRA'\n",
    "for i in samples_n:\n",
    "    giana_res_raw_v[i]={}\n",
    "    giana_res_v[i]={}\n",
    "    metrics_giana_v[i]={}\n",
    "    giana_res_raw_v[i][chain] = pd.read_csv(f'benchmark/outputs/giana_res_{chain}_V{i}.txt',sep='\\t')\n",
    "    \n",
    "    vdjdb_v = pd.read_csv(f'data/data_preped/VDJdb_data_{chain}_V{i}.csv',sep='\\t')\n",
    "    vdjdb_v['v']= vdjdb_v['v'] + '*01'\n",
    "    vdjdb_v['j']= vdjdb_v['j'] + '*01'\n",
    "    print(f\"TCR-epitope paires count in V{i} dataset: {len(vdjdb_v)}\")\n",
    "    \n",
    "    giana_res_v[i][chain] = vdjdb_v[vdjdb_v['chain']==chain][['chain','data_id','cdr3aa','v','antigen.epitope']].merge(giana_res_raw_v[i][chain], how = 'left')\n",
    "    giana_res_v[i][chain]['is_cluster'] = giana_res_v[i][chain]['is_cluster'].fillna(0)\n",
    "    \n",
    "    print(ml_utils.clsf_metrics(giana_res_raw_v[i][chain]['antigen.epitope'],giana_res_raw_v[i][chain]['label_cluster'], average='weighted'))\n",
    "    print(ml_utils.count_clstr_purity(giana_res_raw_v[i][chain][['cluster','label_cluster','total_cluster','count_matched','fraction_matched','p_value','fraction_matched_exp','is_cluster']].drop_duplicates()))\n",
    "    \n",
    "    metrics_giana_v[i][chain] = metrics.get_clustermetrics(giana_res_v[i][chain], 'antigen.epitope')\n",
    "    print(metrics_giana_v[i][chain])"
   ]
  },
  {
   "cell_type": "code",
   "execution_count": 16,
   "id": "c4bf2418-8859-4147-add8-f4d33a923d40",
   "metadata": {},
   "outputs": [
    {
     "name": "stdout",
     "output_type": "stream",
     "text": [
      "TCR-epitope paires count in V10 dataset: 22057\n",
      "{'f1': 0.7193003389680143, 'precision': 0.7249899616436254, 'recall': 0.7337136547662864}\n",
      "0.7337136547662864\n"
     ]
    },
    {
     "name": "stderr",
     "output_type": "stream",
     "text": [
      "/home/ykremlyakova/.conda/envs/py311/lib/python3.11/site-packages/sklearn/metrics/_classification.py:1469: UndefinedMetricWarning: Precision is ill-defined and being set to 0.0 in labels with no predicted samples. Use `zero_division` parameter to control this behavior.\n",
      "  _warn_prf(average, modifier, msg_start, len(result))\n"
     ]
    },
    {
     "name": "stdout",
     "output_type": "stream",
     "text": [
      "{'purity': 0.7337136547662864, 'retention': 0.24636169923380333, 'consistency': 0.0009573893978156169, 'ami': 0.6366612223330667, 'accuracy': 0.003119239012154961, 'precision': 0.7249899616436257, 'recall': 0.7337136547662855, 'f1-score': 0.7293257224323414, 'support': 5434, 'mean_clustsize': 3.5171521035598707}\n",
      "TCR-epitope paires count in V50 dataset: 19791\n",
      "{'f1': 0.7526459916736051, 'precision': 0.7598913887165964, 'recall': 0.7607232968881413}\n",
      "0.7607232968881413\n",
      "{'purity': 0.7607232968881413, 'retention': 0.2403112525895609, 'consistency': 0.0021059447047672443, 'ami': 0.6497707226753061, 'accuracy': 0.0033521465692311282, 'precision': 0.7598913887165966, 'recall': 0.7607232968881412, 'f1-score': 0.760307115239393, 'support': 4756, 'mean_clustsize': 3.5334323922734026}\n",
      "TCR-epitope paires count in V100 dataset: 18072\n",
      "{'f1': 0.7731527160808344, 'precision': 0.7780485863172668, 'recall': 0.7799476065729936}\n",
      "0.7799476065729936\n",
      "{'purity': 0.7799476065729936, 'retention': 0.23234838424081453, 'consistency': 0.0032839899224126044, 'ami': 0.6491246346234013, 'accuracy': 0.003797726593291216, 'precision': 0.7780485863172668, 'recall': 0.7799476065729934, 'f1-score': 0.7789969391002186, 'support': 4199, 'mean_clustsize': 3.6167097329888027}\n",
      "TCR-epitope paires count in V500 dataset: 11184\n",
      "{'f1': 0.8839553672176994, 'precision': 0.886324430266382, 'recall': 0.8867286559594252}\n",
      "0.8866807610993658\n",
      "{'purity': 0.8866807610993658, 'retention': 0.21146280400572245, 'consistency': 0.025299506694855534, 'ami': 0.6744947737846746, 'accuracy': 0.18242784797679334, 'precision': 0.8862763644863676, 'recall': 0.8866807610993658, 'f1-score': 0.8864785166731333, 'support': 2365, 'mean_clustsize': 4.200710479573712}\n",
      "TCR-epitope paires count in V1000 dataset: 8763\n",
      "{'f1': 0.9123792860341162, 'precision': 0.9187286405852778, 'recall': 0.9175257731958762}\n",
      "0.9174725983236621\n",
      "{'purity': 0.9174725983236621, 'retention': 0.17699418007531667, 'consistency': 0.037395228884590584, 'ami': 0.6307378650722955, 'accuracy': 0.3371431920754938, 'precision': 0.9186762412561904, 'recall': 0.9174725983236622, 'f1-score': 0.9180740252804296, 'support': 1551, 'mean_clustsize': 3.9667519181585678}\n"
     ]
    }
   ],
   "source": [
    "## work with results\n",
    "chain = 'TRB'\n",
    "for i in samples_n:\n",
    "    giana_res_raw_v[i]={}\n",
    "    giana_res_v[i]={}\n",
    "    metrics_giana_v[i]={}\n",
    "    giana_res_raw_v[i][chain] = pd.read_csv(f'benchmark/outputs/giana_res_{chain}_V{i}.txt',sep='\\t')\n",
    "    \n",
    "    vdjdb_v = pd.read_csv(f'data/data_preped/VDJdb_data_{chain}_V{i}.csv',sep='\\t')\n",
    "    vdjdb_v['v']= vdjdb_v['v'] + '*01'\n",
    "    vdjdb_v['j']= vdjdb_v['j'] + '*01'\n",
    "    print(f\"TCR-epitope paires count in V{i} dataset: {len(vdjdb_v)}\")\n",
    "    \n",
    "    giana_res_v[i][chain] = vdjdb_v[vdjdb_v['chain']==chain][['chain','data_id','cdr3aa','v','antigen.epitope']].merge(giana_res_raw_v[i][chain], how = 'left')\n",
    "    giana_res_v[i][chain]['is_cluster'] = giana_res_v[i][chain]['is_cluster'].fillna(0)\n",
    "    \n",
    "    print(ml_utils.clsf_metrics(giana_res_raw_v[i][chain]['antigen.epitope'],giana_res_raw_v[i][chain]['label_cluster'], average='weighted'))\n",
    "    print(ml_utils.count_clstr_purity(giana_res_raw_v[i][chain][['cluster','label_cluster','total_cluster','count_matched','fraction_matched','p_value','fraction_matched_exp','is_cluster']].drop_duplicates()))\n",
    "    \n",
    "    metrics_giana_v[i][chain] = metrics.get_clustermetrics(giana_res_v[i][chain], 'antigen.epitope')\n",
    "    print(metrics_giana_v[i][chain])"
   ]
  },
  {
   "cell_type": "code",
   "execution_count": null,
   "id": "349b9e0d-e6b9-4275-b867-bbf57debaac1",
   "metadata": {},
   "outputs": [],
   "source": []
  },
  {
   "cell_type": "code",
   "execution_count": null,
   "id": "932e5cf5-68b0-40ad-bdef-0f6858c78817",
   "metadata": {},
   "outputs": [],
   "source": []
  },
  {
   "cell_type": "markdown",
   "id": "5c56645d-1221-4fc3-808b-b189d6c3491c",
   "metadata": {},
   "source": [
    "### TCRemb"
   ]
  },
  {
   "cell_type": "code",
   "execution_count": 7,
   "id": "be6173eb-bd54-4147-8dbf-871c7605fa2e",
   "metadata": {},
   "outputs": [
    {
     "name": "stdout",
     "output_type": "stream",
     "text": [
      "TCR-epitope paires count in V1000 dataset: 4971\n",
      "data/data_preped/VDJdb_data_TRA_V1000.csv\n",
      "TCRemb clustering\n",
      "python tcremb_run.py --input data/data_preped/VDJdb_data_TRA_V1000.csv --runname compare_V1000 --chain TRA --label antigen.epitope --data_id data_id --skip_scores True\n"
     ]
    },
    {
     "name": "stderr",
     "output_type": "stream",
     "text": [
      "/home/ykremlyakova/.conda/envs/py311/lib/python3.11/site-packages/sklearn/base.py:457: UserWarning: X has feature names, but PCA was fitted without feature names\n",
      "  warnings.warn(\n",
      "/home/ykremlyakova/.conda/envs/py311/lib/python3.11/site-packages/sklearn/cluster/_kmeans.py:1412: FutureWarning: The default value of `n_init` will change from 10 to 'auto' in 1.4. Set the value of `n_init` explicitly to suppress the warning\n",
      "  super()._check_params_vs_input(X, default_n_init=10)\n"
     ]
    },
    {
     "name": "stdout",
     "output_type": "stream",
     "text": [
      "clstr\n",
      "skip_scores was passed as parameter. continue withot scores calculation\n",
      "calculating pca of dists scores for TRA chain data/data_preped/VDJdb_data_TRA_V1000.csv\n",
      "For n_clusters = 25 The average silhouette_score is : 0.1603150848987832\n",
      "For n_clusters = 50 The average silhouette_score is : 0.14802710689067233\n",
      "For n_clusters = 248 The average silhouette_score is : 0.15061280874885846\n",
      "For n_clusters = 495 The average silhouette_score is : 0.16492684526717066\n",
      "For n_clusters = 743 The average silhouette_score is : 0.17909310545874169\n",
      "For n_clusters = 990 The average silhouette_score is : 0.18517511982792173\n",
      "For n_clusters = 1238 The average silhouette_score is : 0.19381253637100385\n",
      "For n_clusters = 1486 The average silhouette_score is : 0.19998395015737325\n",
      "For n_clusters = 1981 The average silhouette_score is : 0.20658609571487438\n",
      "For n_clusters = 2476 The average silhouette_score is : 0.202466668686806\n",
      "For n_clusters = 2971 The average silhouette_score is : 0.1973034475259984\n",
      "For n_clusters = 3466 The average silhouette_score is : 0.17594391722373068\n",
      "For n_clusters = 3962 The average silhouette_score is : 0.14868615817129968\n",
      "For n_clusters = 4457 The average silhouette_score is : 0.09165438556013969\n",
      "For n_clusters = 1387 The average silhouette_score is : 0.1984437301003337\n",
      "For n_clusters = 1585 The average silhouette_score is : 0.20169791218503116\n",
      "For n_clusters = 1783 The average silhouette_score is : 0.20655257015445966\n",
      "For n_clusters = 1981 The average silhouette_score is : 0.20658609571487438\n",
      "For n_clusters = 2179 The average silhouette_score is : 0.20529745907878558\n",
      "For n_clusters = 2377 The average silhouette_score is : 0.2033186048006645\n",
      "For n_clusters = 2575 The average silhouette_score is : 0.20173912381563747\n",
      "purity:0.7964622641509433\n",
      "Results are in tcremb_outputs/compare_V1000/\n",
      "Elapsed time: 80.60517811775208 seconds.\n"
     ]
    }
   ],
   "source": [
    "chain = 'TRA'\n",
    "for i in samples_n:\n",
    "    tcremb_res_v[i]={}\n",
    "    v_path = f'data/data_preped/VDJdb_data_{chain}_V{i}.csv'\n",
    "    vdjdb_v = pd.read_csv(v_path,sep='\\t')\n",
    "    print(f\"TCR-epitope paires count in V{i} dataset: {len(vdjdb_v)}\")\n",
    "    print(v_path)\n",
    "    \n",
    "    tcremb_res_v[i][chain] = models.run_tcremb(v_path, chain, f'V{i}',skip_scores=True)"
   ]
  },
  {
   "cell_type": "code",
   "execution_count": 42,
   "id": "157f9aae-2635-46dc-bb10-ac3c1190677b",
   "metadata": {},
   "outputs": [
    {
     "name": "stdout",
     "output_type": "stream",
     "text": [
      "TCR-epitope paires count in V10 dataset: 22057\n",
      "data/data_preped/VDJdb_data_TRB_V10.csv\n",
      "TCRemb clustering\n",
      "python tcremb_run.py --input data/data_preped/VDJdb_data_TRB_V10.csv --runname compare_V10 --chain TRB --label antigen.epitope --data_id data_id\n"
     ]
    },
    {
     "name": "stderr",
     "output_type": "stream",
     "text": [
      "/home/ykremlyakova/.conda/envs/py311/lib/python3.11/site-packages/sklearn/base.py:457: UserWarning: X has feature names, but PCA was fitted without feature names\n",
      "  warnings.warn(\n",
      "/home/ykremlyakova/.conda/envs/py311/lib/python3.11/site-packages/sklearn/cluster/_kmeans.py:1412: FutureWarning: The default value of `n_init` will change from 10 to 'auto' in 1.4. Set the value of `n_init` explicitly to suppress the warning\n",
      "  super()._check_params_vs_input(X, default_n_init=10)\n"
     ]
    },
    {
     "name": "stdout",
     "output_type": "stream",
     "text": [
      "clstr\n",
      "calculating dist scores for TRB chain data/data_preped/VDJdb_data_TRB_V10.csv\n",
      "[κ0 CASSAFPCREGRNNEQFF, κ1 CASSHGVGQGPYEQYF, κ2 CASSLTTESGEQYF, κ3 CASSLGTLEETQYF, κ4 CASIPEGGRETQYF, κ5 CASSLDSLNTIYF, κ6 CASSQDTASSYEQYF, κ7 CASSLSYRGNSPLHF, κ8 CASSEALRDSGGQYF, κ9 CSADGLPISSYNEQFF]\n",
      "(21725, 9001)\n",
      "3010.0536744594574\n",
      "calculating pca of dists scores for TRB chain data/data_preped/VDJdb_data_TRB_V10.csv\n",
      "For n_clusters = 109 The average silhouette_score is : 0.09232760822885738\n",
      "For n_clusters = 217 The average silhouette_score is : 0.09251468102084295\n",
      "For n_clusters = 1086 The average silhouette_score is : 0.11361474566644801\n",
      "For n_clusters = 2172 The average silhouette_score is : 0.1236468505627214\n",
      "For n_clusters = 3259 The average silhouette_score is : 0.13211985667850557\n",
      "For n_clusters = 4345 The average silhouette_score is : 0.14129369969871355\n",
      "For n_clusters = 5431 The average silhouette_score is : 0.1457130170962894\n",
      "For n_clusters = 6518 The average silhouette_score is : 0.1502883552172329\n",
      "For n_clusters = 8690 The average silhouette_score is : 0.15378118629175183\n",
      "For n_clusters = 10862 The average silhouette_score is : 0.15202505952000578\n",
      "For n_clusters = 13035 The average silhouette_score is : 0.14580008842324874\n",
      "For n_clusters = 15207 The average silhouette_score is : 0.13361299086444373\n",
      "For n_clusters = 17380 The average silhouette_score is : 0.111598789149983\n",
      "For n_clusters = 19552 The average silhouette_score is : 0.07688825641874257\n",
      "For n_clusters = 6083 The average silhouette_score is : 0.1488988119549933\n",
      "For n_clusters = 6952 The average silhouette_score is : 0.1517706801870685\n",
      "For n_clusters = 7821 The average silhouette_score is : 0.15310914697786154\n",
      "For n_clusters = 8690 The average silhouette_score is : 0.15378118629175183\n",
      "For n_clusters = 9559 The average silhouette_score is : 0.15392016237348988\n",
      "For n_clusters = 10428 The average silhouette_score is : 0.15308688830654\n",
      "For n_clusters = 11297 The average silhouette_score is : 0.15114112731249346\n",
      "purity:0.5783980031767643\n",
      "Results are in tcremb_outputs/compare_V10/\n",
      "Elapsed time: 3891.7638080120087 seconds.\n",
      "TCR-epitope paires count in V50 dataset: 19791\n",
      "data/data_preped/VDJdb_data_TRB_V50.csv\n",
      "TCRemb clustering\n",
      "python tcremb_run.py --input data/data_preped/VDJdb_data_TRB_V50.csv --runname compare_V50 --chain TRB --label antigen.epitope --data_id data_id\n"
     ]
    },
    {
     "name": "stderr",
     "output_type": "stream",
     "text": [
      "/home/ykremlyakova/.conda/envs/py311/lib/python3.11/site-packages/sklearn/base.py:457: UserWarning: X has feature names, but PCA was fitted without feature names\n",
      "  warnings.warn(\n",
      "/home/ykremlyakova/.conda/envs/py311/lib/python3.11/site-packages/sklearn/cluster/_kmeans.py:1412: FutureWarning: The default value of `n_init` will change from 10 to 'auto' in 1.4. Set the value of `n_init` explicitly to suppress the warning\n",
      "  super()._check_params_vs_input(X, default_n_init=10)\n"
     ]
    },
    {
     "name": "stdout",
     "output_type": "stream",
     "text": [
      "clstr\n",
      "calculating dist scores for TRB chain data/data_preped/VDJdb_data_TRB_V50.csv\n",
      "[κ0 CASSAFPCREGRNNEQFF, κ1 CASSHGVGQGPYEQYF, κ2 CASSLTTESGEQYF, κ3 CASSLGTLEETQYF, κ4 CASIPEGGRETQYF, κ5 CASSLDSLNTIYF, κ6 CASSQDTASSYEQYF, κ7 CASSLSYRGNSPLHF, κ8 CASSEALRDSGGQYF, κ9 CSADGLPISSYNEQFF]\n",
      "(19526, 9001)\n",
      "2720.2942731380463\n",
      "calculating pca of dists scores for TRB chain data/data_preped/VDJdb_data_TRB_V50.csv\n",
      "For n_clusters = 98 The average silhouette_score is : 0.09846692929622045\n",
      "For n_clusters = 195 The average silhouette_score is : 0.09500914669084828\n",
      "For n_clusters = 976 The average silhouette_score is : 0.11353282763987423\n",
      "For n_clusters = 1953 The average silhouette_score is : 0.12507823666724688\n",
      "For n_clusters = 2929 The average silhouette_score is : 0.1327050369655785\n",
      "For n_clusters = 3905 The average silhouette_score is : 0.1400143960221537\n",
      "For n_clusters = 4882 The average silhouette_score is : 0.1483318698810141\n",
      "For n_clusters = 5858 The average silhouette_score is : 0.15209648134528328\n",
      "For n_clusters = 7810 The average silhouette_score is : 0.15371822419780382\n",
      "For n_clusters = 9763 The average silhouette_score is : 0.1523656285439165\n",
      "For n_clusters = 11716 The average silhouette_score is : 0.14337064073271455\n",
      "For n_clusters = 13668 The average silhouette_score is : 0.13082407108031904\n",
      "For n_clusters = 15621 The average silhouette_score is : 0.11037935475370647\n",
      "For n_clusters = 17573 The average silhouette_score is : 0.07635527764308138\n",
      "For n_clusters = 5467 The average silhouette_score is : 0.15059033266019028\n",
      "For n_clusters = 6248 The average silhouette_score is : 0.15295808561464577\n",
      "For n_clusters = 7029 The average silhouette_score is : 0.15508057820416946\n",
      "For n_clusters = 7810 The average silhouette_score is : 0.15371822419780382\n",
      "For n_clusters = 8591 The average silhouette_score is : 0.15358849657868606\n",
      "For n_clusters = 9372 The average silhouette_score is : 0.1530780871226383\n",
      "For n_clusters = 10153 The average silhouette_score is : 0.15112539899102717\n",
      "purity:0.5737311385459534\n",
      "Results are in tcremb_outputs/compare_V50/\n",
      "Elapsed time: 3425.6263756752014 seconds.\n",
      "TCR-epitope paires count in V100 dataset: 18072\n",
      "data/data_preped/VDJdb_data_TRB_V100.csv\n",
      "TCRemb clustering\n",
      "python tcremb_run.py --input data/data_preped/VDJdb_data_TRB_V100.csv --runname compare_V100 --chain TRB --label antigen.epitope --data_id data_id\n"
     ]
    },
    {
     "name": "stderr",
     "output_type": "stream",
     "text": [
      "/home/ykremlyakova/.conda/envs/py311/lib/python3.11/site-packages/sklearn/base.py:457: UserWarning: X has feature names, but PCA was fitted without feature names\n",
      "  warnings.warn(\n",
      "/home/ykremlyakova/.conda/envs/py311/lib/python3.11/site-packages/sklearn/cluster/_kmeans.py:1412: FutureWarning: The default value of `n_init` will change from 10 to 'auto' in 1.4. Set the value of `n_init` explicitly to suppress the warning\n",
      "  super()._check_params_vs_input(X, default_n_init=10)\n"
     ]
    },
    {
     "name": "stdout",
     "output_type": "stream",
     "text": [
      "clstr\n",
      "calculating dist scores for TRB chain data/data_preped/VDJdb_data_TRB_V100.csv\n",
      "[κ0 CASSAFPCREGRNNEQFF, κ1 CASSHGVGQGPYEQYF, κ2 CASSLTTESGEQYF, κ3 CASSLGTLEETQYF, κ4 CASIPEGGRETQYF, κ5 CASSLDSLNTIYF, κ6 CASSQDTASSYEQYF, κ7 CASSLSYRGNSPLHF, κ8 CASSEALRDSGGQYF, κ9 CSADGLPISSYNEQFF]\n",
      "(17868, 9001)\n",
      "2668.6081490516663\n",
      "calculating pca of dists scores for TRB chain data/data_preped/VDJdb_data_TRB_V100.csv\n",
      "For n_clusters = 89 The average silhouette_score is : 0.0994383159326713\n",
      "For n_clusters = 179 The average silhouette_score is : 0.09364402698612692\n",
      "For n_clusters = 893 The average silhouette_score is : 0.11231646399688545\n",
      "For n_clusters = 1787 The average silhouette_score is : 0.1245351566202473\n",
      "For n_clusters = 2680 The average silhouette_score is : 0.1312669667386104\n",
      "For n_clusters = 3574 The average silhouette_score is : 0.14088199817080163\n",
      "For n_clusters = 4467 The average silhouette_score is : 0.14772471233887635\n",
      "For n_clusters = 5360 The average silhouette_score is : 0.15391057744307704\n",
      "For n_clusters = 7147 The average silhouette_score is : 0.15479913963026082\n",
      "For n_clusters = 8934 The average silhouette_score is : 0.15069942696175445\n",
      "For n_clusters = 10721 The average silhouette_score is : 0.1435689024476121\n",
      "For n_clusters = 12508 The average silhouette_score is : 0.1285159017733475\n",
      "For n_clusters = 14294 The average silhouette_score is : 0.10799952065175274\n",
      "For n_clusters = 16081 The average silhouette_score is : 0.07392695895997012\n",
      "For n_clusters = 5003 The average silhouette_score is : 0.1517066668652931\n",
      "For n_clusters = 5718 The average silhouette_score is : 0.154119235108214\n",
      "For n_clusters = 6432 The average silhouette_score is : 0.1547894822474134\n",
      "For n_clusters = 7147 The average silhouette_score is : 0.15479913963026082\n",
      "For n_clusters = 7862 The average silhouette_score is : 0.15421148264640533\n",
      "For n_clusters = 8576 The average silhouette_score is : 0.1523476988460307\n",
      "For n_clusters = 9291 The average silhouette_score is : 0.14925951050825942\n",
      "purity:0.6072132439889634\n",
      "Results are in tcremb_outputs/compare_V100/\n",
      "Elapsed time: 3298.1724288463593 seconds.\n",
      "TCR-epitope paires count in V500 dataset: 11184\n",
      "data/data_preped/VDJdb_data_TRB_V500.csv\n",
      "TCRemb clustering\n",
      "python tcremb_run.py --input data/data_preped/VDJdb_data_TRB_V500.csv --runname compare_V500 --chain TRB --label antigen.epitope --data_id data_id\n"
     ]
    },
    {
     "name": "stderr",
     "output_type": "stream",
     "text": [
      "/home/ykremlyakova/.conda/envs/py311/lib/python3.11/site-packages/sklearn/base.py:457: UserWarning: X has feature names, but PCA was fitted without feature names\n",
      "  warnings.warn(\n",
      "/home/ykremlyakova/.conda/envs/py311/lib/python3.11/site-packages/sklearn/cluster/_kmeans.py:1412: FutureWarning: The default value of `n_init` will change from 10 to 'auto' in 1.4. Set the value of `n_init` explicitly to suppress the warning\n",
      "  super()._check_params_vs_input(X, default_n_init=10)\n"
     ]
    },
    {
     "name": "stdout",
     "output_type": "stream",
     "text": [
      "clstr\n",
      "calculating dist scores for TRB chain data/data_preped/VDJdb_data_TRB_V500.csv\n",
      "[κ0 CASSAFPCREGRNNEQFF, κ1 CASSHGVGQGPYEQYF, κ2 CASSLTTESGEQYF, κ3 CASSLGTLEETQYF, κ4 CASIPEGGRETQYF, κ5 CASSLDSLNTIYF, κ6 CASSQDTASSYEQYF, κ7 CASSLSYRGNSPLHF, κ8 CSADGLPISSYNEQFF, κ9 CASSFRQGAFGDTQYF]\n",
      "(11144, 9001)\n",
      "1623.0583646297455\n",
      "calculating pca of dists scores for TRB chain data/data_preped/VDJdb_data_TRB_V500.csv\n",
      "For n_clusters = 56 The average silhouette_score is : 0.10874644155667842\n",
      "For n_clusters = 111 The average silhouette_score is : 0.10092901950886876\n",
      "For n_clusters = 557 The average silhouette_score is : 0.11638289439513053\n",
      "For n_clusters = 1114 The average silhouette_score is : 0.123087335044367\n",
      "For n_clusters = 1672 The average silhouette_score is : 0.13160720355976577\n",
      "For n_clusters = 2229 The average silhouette_score is : 0.14039925241305523\n",
      "For n_clusters = 2786 The average silhouette_score is : 0.14510716141454694\n",
      "For n_clusters = 3343 The average silhouette_score is : 0.14689284384236856\n",
      "For n_clusters = 4458 The average silhouette_score is : 0.1498284437150199\n",
      "For n_clusters = 5572 The average silhouette_score is : 0.14773081150525383\n",
      "For n_clusters = 6686 The average silhouette_score is : 0.14159867571766033\n",
      "For n_clusters = 7801 The average silhouette_score is : 0.1265480633267159\n",
      "For n_clusters = 8915 The average silhouette_score is : 0.10419076754501336\n",
      "For n_clusters = 10030 The average silhouette_score is : 0.0709400889567758\n",
      "For n_clusters = 3121 The average silhouette_score is : 0.145743943533018\n",
      "For n_clusters = 3566 The average silhouette_score is : 0.14802570416976069\n",
      "For n_clusters = 4012 The average silhouette_score is : 0.14921600763244094\n",
      "For n_clusters = 4458 The average silhouette_score is : 0.1498284437150199\n",
      "For n_clusters = 4904 The average silhouette_score is : 0.15049852147109752\n",
      "For n_clusters = 5350 The average silhouette_score is : 0.14892028174584226\n",
      "For n_clusters = 5795 The average silhouette_score is : 0.14723416717217241\n",
      "purity:0.7272214067968839\n",
      "Results are in tcremb_outputs/compare_V500/\n",
      "Elapsed time: 1947.2298679351807 seconds.\n",
      "TCR-epitope paires count in V1000 dataset: 8763\n",
      "data/data_preped/VDJdb_data_TRB_V1000.csv\n",
      "TCRemb clustering\n",
      "python tcremb_run.py --input data/data_preped/VDJdb_data_TRB_V1000.csv --runname compare_V1000 --chain TRB --label antigen.epitope --data_id data_id\n"
     ]
    },
    {
     "name": "stderr",
     "output_type": "stream",
     "text": [
      "/home/ykremlyakova/.conda/envs/py311/lib/python3.11/site-packages/sklearn/base.py:457: UserWarning: X has feature names, but PCA was fitted without feature names\n",
      "  warnings.warn(\n",
      "/home/ykremlyakova/.conda/envs/py311/lib/python3.11/site-packages/sklearn/cluster/_kmeans.py:1412: FutureWarning: The default value of `n_init` will change from 10 to 'auto' in 1.4. Set the value of `n_init` explicitly to suppress the warning\n",
      "  super()._check_params_vs_input(X, default_n_init=10)\n"
     ]
    },
    {
     "name": "stdout",
     "output_type": "stream",
     "text": [
      "clstr\n",
      "calculating dist scores for TRB chain data/data_preped/VDJdb_data_TRB_V1000.csv\n",
      "[κ0 CASSAFPCREGRNNEQFF, κ1 CASSLTTESGEQYF, κ2 CASSLGTLEETQYF, κ3 CASSLDSLNTIYF, κ4 CASSQDTASSYEQYF, κ5 CSADGLPISSYNEQFF, κ6 CASSFRQGAFGDTQYF, κ7 CASSFGPRAGTTGELFF, κ8 CSASTTTGLAPVEQYF, κ9 CASSYGTGKDFEQFF]\n",
      "(8743, 9001)\n",
      "1209.268597126007\n",
      "calculating pca of dists scores for TRB chain data/data_preped/VDJdb_data_TRB_V1000.csv\n",
      "For n_clusters = 44 The average silhouette_score is : 0.10896030655034021\n",
      "For n_clusters = 87 The average silhouette_score is : 0.1004795142417115\n",
      "For n_clusters = 437 The average silhouette_score is : 0.10577339222360715\n",
      "For n_clusters = 874 The average silhouette_score is : 0.11489595409089592\n",
      "For n_clusters = 1311 The average silhouette_score is : 0.12213551917710323\n",
      "For n_clusters = 1749 The average silhouette_score is : 0.1289889086033662\n",
      "For n_clusters = 2186 The average silhouette_score is : 0.13642847280377762\n",
      "For n_clusters = 2623 The average silhouette_score is : 0.13734642911780384\n",
      "For n_clusters = 3497 The average silhouette_score is : 0.1435465419405619\n",
      "For n_clusters = 4372 The average silhouette_score is : 0.1432834992245228\n",
      "For n_clusters = 5246 The average silhouette_score is : 0.13443858357895144\n",
      "For n_clusters = 6120 The average silhouette_score is : 0.12145772561980457\n",
      "For n_clusters = 6994 The average silhouette_score is : 0.10187800538510534\n",
      "For n_clusters = 7869 The average silhouette_score is : 0.06625698962234079\n",
      "For n_clusters = 2448 The average silhouette_score is : 0.13808316873245993\n",
      "For n_clusters = 2798 The average silhouette_score is : 0.13957689672344104\n",
      "For n_clusters = 3147 The average silhouette_score is : 0.14248912179987022\n",
      "For n_clusters = 3497 The average silhouette_score is : 0.1435465419405619\n",
      "For n_clusters = 3847 The average silhouette_score is : 0.14441037475201912\n",
      "For n_clusters = 4196 The average silhouette_score is : 0.14376552558925335\n",
      "For n_clusters = 4546 The average silhouette_score is : 0.1422818870704883\n",
      "purity:0.778160424738126\n",
      "Results are in tcremb_outputs/compare_V1000/\n",
      "Elapsed time: 1430.506228685379 seconds.\n"
     ]
    }
   ],
   "source": [
    "chain = 'TRB'\n",
    "for i in samples_n:\n",
    "    tcremb_res_v[i]={}\n",
    "    v_path = f'data/data_preped/VDJdb_data_{chain}_V{i}.csv'\n",
    "    vdjdb_v = pd.read_csv(v_path,sep='\\t')\n",
    "    print(f\"TCR-epitope paires count in V{i} dataset: {len(vdjdb_v)}\")\n",
    "    print(v_path)\n",
    "    \n",
    "    tcremb_res_v[i][chain] = run_tcremb(v_path, chain, f'V{i}')"
   ]
  },
  {
   "cell_type": "code",
   "execution_count": null,
   "id": "024f9a2e-20db-4e57-b300-6b5c4e0ecd7e",
   "metadata": {},
   "outputs": [],
   "source": []
  },
  {
   "cell_type": "code",
   "execution_count": 8,
   "id": "e0618f50-65b9-4add-b054-85dd1bbb8740",
   "metadata": {},
   "outputs": [
    {
     "name": "stdout",
     "output_type": "stream",
     "text": [
      "TCR-epitope paires count in V1000 dataset: 4964\n",
      "{'f1': 0.82619252652972, 'precision': 0.8263189551735587, 'recall': 0.8261482675261885}\n",
      "0.8982889733840305\n",
      "{'purity': 0.8982889733840305, 'retention': 0.2119258662369057, 'consistency': 0.019486692015209126, 'ami': 0.48934987288187354, 'accuracy': 0.2945909656059796, 'precision': 0.8973945977272973, 'recall': 0.8982889733840305, 'f1-score': 0.8978415628249367, 'support': 1052, 'mean_clustsize': 3.460526315789474}\n"
     ]
    }
   ],
   "source": [
    "## work with results\n",
    "chain = 'TRA'\n",
    "for i in samples_n:\n",
    "    tcremb_res_v[i]={}\n",
    "    metrics_tcremb_v[i]={}\n",
    "    tcremb_res_v[i][chain] = pd.read_csv(f'tcremb_outputs/compare_V{i}/tcremb_clstr_res_{chain}.txt',sep='\\t')\n",
    "\n",
    "    print(f\"TCR-epitope paires count in V{i} dataset: {len(tcremb_res_v[i][chain])}\")\n",
    "    \n",
    "    print(ml_utils.clsf_metrics(tcremb_res_v[i][chain]['antigen.epitope'],tcremb_res_v[i][chain]['label_cluster'], average='weighted'))\n",
    "    print(ml_utils.count_clstr_purity(tcremb_res_v[i][chain][['cluster','label_cluster','total_cluster','count_matched','fraction_matched','p_value','fraction_matched_exp','is_cluster']].drop_duplicates()))\n",
    "    \n",
    "    metrics_tcremb_v[i][chain] = metrics.get_clustermetrics(tcremb_res_v[i][chain], 'antigen.epitope')\n",
    "    print(metrics_tcremb_v[i][chain])"
   ]
  },
  {
   "cell_type": "code",
   "execution_count": 44,
   "id": "87d966c2-cfa6-4281-90cd-218c9b33aec4",
   "metadata": {},
   "outputs": [
    {
     "name": "stdout",
     "output_type": "stream",
     "text": [
      "TCR-epitope paires count in V10 dataset: 22038\n",
      "{'f1': 0.6590495956433875, 'precision': 0.6675101493820986, 'recall': 0.6627643161811416}\n",
      "0.5783980031767643\n",
      "{'purity': 0.5783980031767643, 'retention': 0.7998910971957528, 'consistency': 0.00023370549574778287, 'ami': 0.40694636587814487, 'accuracy': 0.0045722849022758055, 'precision': 0.576235001922712, 'recall': 0.5783980031767643, 'f1-score': 0.5773144765490935, 'support': 17628, 'mean_clustsize': 3.4235773936686735}\n",
      "TCR-epitope paires count in V50 dataset: 19774\n",
      "{'f1': 0.617070423087933, 'precision': 0.6199579191786735, 'recall': 0.6228380701931829}\n",
      "0.5737311385459534\n",
      "{'purity': 0.5737311385459534, 'retention': 0.8847982198846971, 'consistency': 0.0003937407915460041, 'ami': 0.3724118515931559, 'accuracy': 0.0048890004304857505, 'precision': 0.5662400412766414, 'recall': 0.5737311385459533, 'f1-score': 0.5699609767722585, 'support': 17496, 'mean_clustsize': 3.6825931382866766}\n",
      "TCR-epitope paires count in V100 dataset: 18056\n",
      "{'f1': 0.665402604808469, 'precision': 0.6715348167104126, 'recall': 0.6688635356668143}\n",
      "0.6072132439889634\n",
      "{'purity': 0.6072132439889634, 'retention': 0.8430438635356668, 'consistency': 0.0005359279159665028, 'ami': 0.3928162560559727, 'accuracy': 0.005225168275950479, 'precision': 0.6062273529868074, 'recall': 0.6072132439889633, 'f1-score': 0.6067198979816428, 'support': 15222, 'mean_clustsize': 3.529329932761419}\n",
      "TCR-epitope paires count in V500 dataset: 11170\n",
      "{'f1': 0.7822146666118283, 'precision': 0.7825769879095703, 'recall': 0.7837063563115488}\n",
      "0.7272214067968839\n",
      "{'purity': 0.7272214067968839, 'retention': 0.792927484333035, 'consistency': 0.0018064807496895108, 'ami': 0.3939572906863285, 'accuracy': 0.08778635728941662, 'precision': 0.72349883229701, 'recall': 0.7272214067968839, 'f1-score': 0.7253553434500353, 'support': 8857, 'mean_clustsize': 3.4183712852180625}\n",
      "TCR-epitope paires count in V1000 dataset: 8749\n",
      "{'f1': 0.8185591905809045, 'precision': 0.8201004616832075, 'recall': 0.8232940907532289}\n",
      "0.778160424738126\n",
      "{'purity': 0.778160424738126, 'retention': 0.7965481769345067, 'consistency': 0.0030611756827856698, 'ami': 0.3230287861410743, 'accuracy': 0.4129464060969349, 'precision': 0.7689961707231461, 'recall': 0.778160424738126, 'f1-score': 0.7735511564729581, 'support': 6969, 'mean_clustsize': 3.3715529753265603}\n"
     ]
    }
   ],
   "source": [
    "## work with results\n",
    "chain = 'TRB'\n",
    "for i in samples_n:\n",
    "    tcremb_res_v[i]={}\n",
    "    metrics_tcremb_v[i]={}\n",
    "    tcremb_res_v[i][chain] = pd.read_csv(f'tcremb_outputs/compare_V{i}/tcremb_clstr_res_{chain}.txt',sep='\\t')\n",
    "\n",
    "    print(f\"TCR-epitope paires count in V{i} dataset: {len(tcremb_res_v[i][chain])}\")\n",
    "    \n",
    "    print(ml_utils.clsf_metrics(tcremb_res_v[i][chain]['antigen.epitope'],tcremb_res_v[i][chain]['label_cluster'], average='weighted'))\n",
    "    print(ml_utils.count_clstr_purity(tcremb_res_v[i][chain][['cluster','label_cluster','total_cluster','count_matched','fraction_matched','p_value','fraction_matched_exp','is_cluster']].drop_duplicates()))\n",
    "    \n",
    "    metrics_tcremb_v[i][chain] = metrics.get_clustermetrics(tcremb_res_v[i][chain], 'antigen.epitope')\n",
    "    print(metrics_tcremb_v[i][chain])"
   ]
  },
  {
   "cell_type": "code",
   "execution_count": null,
   "id": "d71844b0-9dde-4ce2-bf43-51c1da84e4b9",
   "metadata": {},
   "outputs": [],
   "source": []
  },
  {
   "cell_type": "code",
   "execution_count": 40,
   "id": "890239b5-45fa-4874-99c6-d4a62779b9d4",
   "metadata": {},
   "outputs": [],
   "source": [
    "def run_tcremb(data_path, chain, output_suf, skip_scores=False):\n",
    "    run_name = f'compare_{output_suf}'\n",
    "    label_cl = 'antigen.epitope'\n",
    "    \n",
    "    #cdir = os.getcwd()\n",
    "    print('TCRemb clustering')\n",
    "\n",
    "    # Run TCRemb\n",
    "    t0 = time.time()\n",
    "    command = f'python tcremb_run.py --input {data_path} --runname {run_name} --chain {chain} --label {label_cl} --data_id data_id'\n",
    "    print(command)\n",
    "    os.system(command)\n",
    "    t1 = time.time()\n",
    "    t = t1 - t0\n",
    "\n",
    "    print('Elapsed time: {} seconds.'.format(t))\n",
    "\n",
    "    tcremb_data = pd.read_csv(f'tcremb_outputs/{run_name}/tcremb_clstr_res_{chain}.txt')\n",
    "    #tcremb_data.to_csv(f'benchmark/outputs/tcremb_res_{chain}_{output_suf}.txt',sep='\\t', index=False)\n",
    "\n",
    "    return tcremb_data"
   ]
  },
  {
   "cell_type": "code",
   "execution_count": null,
   "id": "573c0af3-0971-40a7-9975-25646b2707d3",
   "metadata": {},
   "outputs": [],
   "source": []
  },
  {
   "cell_type": "markdown",
   "id": "c9ad1af7-56a7-49a5-949f-cd9a12c01b06",
   "metadata": {},
   "source": [
    "# Classification"
   ]
  },
  {
   "cell_type": "markdown",
   "id": "1dce6f53-bf53-4049-a98a-d2204265133f",
   "metadata": {},
   "source": [
    "## ATM_TCR"
   ]
  },
  {
   "cell_type": "markdown",
   "id": "f3355270-a0e4-4778-88da-76aa87939a7c",
   "metadata": {},
   "source": [
    "2650 11772 505 6706\n",
    "accuracy   0.4325\n",
    "auc        0.6519\n",
    "f1macro    0.4118\n",
    "f1micro    0.4325\n",
    "loss       442818.7955\n",
    "precision0 0.8399\n",
    "precision1 0.3629\n",
    "recall0    0.1837\n",
    "recall1    0.9300"
   ]
  },
  {
   "cell_type": "code",
   "execution_count": 9,
   "id": "578707bb-62f7-4af8-a053-10b8c71ce7f3",
   "metadata": {},
   "outputs": [],
   "source": [
    "atm_results_path = '/home/ykremlyakova/apps/ATM-TCR/result/pred_my_model_vdjdb_trb_atmtcr_test.csv'\n",
    "real_test_path = '/home/ykremlyakova/projects/tcr_emb/data/data_preped/vdjdb_trb_atmtcr_test.csv'"
   ]
  },
  {
   "cell_type": "code",
   "execution_count": 8,
   "id": "8776fe0a-f04a-4243-afb5-10d80ca37513",
   "metadata": {},
   "outputs": [
    {
     "name": "stdout",
     "output_type": "stream",
     "text": [
      "/home/ykremlyakova/projects/tcr_emb\n"
     ]
    }
   ],
   "source": [
    "!pwd"
   ]
  },
  {
   "cell_type": "code",
   "execution_count": 14,
   "id": "5c754d60-4bd8-4e2b-b507-6fa4c35aae58",
   "metadata": {},
   "outputs": [
    {
     "data": {
      "text/html": [
       "<div>\n",
       "<style scoped>\n",
       "    .dataframe tbody tr th:only-of-type {\n",
       "        vertical-align: middle;\n",
       "    }\n",
       "\n",
       "    .dataframe tbody tr th {\n",
       "        vertical-align: top;\n",
       "    }\n",
       "\n",
       "    .dataframe thead th {\n",
       "        text-align: right;\n",
       "    }\n",
       "</style>\n",
       "<table border=\"1\" class=\"dataframe\">\n",
       "  <thead>\n",
       "    <tr style=\"text-align: right;\">\n",
       "      <th></th>\n",
       "      <th>0</th>\n",
       "      <th>1</th>\n",
       "      <th>2</th>\n",
       "    </tr>\n",
       "  </thead>\n",
       "  <tbody>\n",
       "    <tr>\n",
       "      <th>0</th>\n",
       "      <td>NLVPMVATV</td>\n",
       "      <td>CASSFPLGGTYEQYF</td>\n",
       "      <td>1</td>\n",
       "    </tr>\n",
       "    <tr>\n",
       "      <th>1</th>\n",
       "      <td>NLVPMVATV</td>\n",
       "      <td>CASSLGLDTQYF</td>\n",
       "      <td>1</td>\n",
       "    </tr>\n",
       "    <tr>\n",
       "      <th>2</th>\n",
       "      <td>NLVPMVATV</td>\n",
       "      <td>CSARDLDRADNTGELFF</td>\n",
       "      <td>1</td>\n",
       "    </tr>\n",
       "    <tr>\n",
       "      <th>3</th>\n",
       "      <td>GTSGSPIVNR</td>\n",
       "      <td>CASLSGRAPQHF</td>\n",
       "      <td>1</td>\n",
       "    </tr>\n",
       "    <tr>\n",
       "      <th>4</th>\n",
       "      <td>NLVPMVATV</td>\n",
       "      <td>CASSLNYEQYF</td>\n",
       "      <td>1</td>\n",
       "    </tr>\n",
       "    <tr>\n",
       "      <th>...</th>\n",
       "      <td>...</td>\n",
       "      <td>...</td>\n",
       "      <td>...</td>\n",
       "    </tr>\n",
       "    <tr>\n",
       "      <th>21628</th>\n",
       "      <td>ELAGIGILTV</td>\n",
       "      <td>CASSPGEARGEQFF</td>\n",
       "      <td>0</td>\n",
       "    </tr>\n",
       "    <tr>\n",
       "      <th>21629</th>\n",
       "      <td>TTDPSFLGRY</td>\n",
       "      <td>CASSPGTLSTEAFF</td>\n",
       "      <td>0</td>\n",
       "    </tr>\n",
       "    <tr>\n",
       "      <th>21630</th>\n",
       "      <td>QYIKWPWYI</td>\n",
       "      <td>CASSSSFLGNQPQHF</td>\n",
       "      <td>0</td>\n",
       "    </tr>\n",
       "    <tr>\n",
       "      <th>21631</th>\n",
       "      <td>NLVPMVATV</td>\n",
       "      <td>CASSRFPTGSNNEQFF</td>\n",
       "      <td>0</td>\n",
       "    </tr>\n",
       "    <tr>\n",
       "      <th>21632</th>\n",
       "      <td>SPRWYFYYL</td>\n",
       "      <td>CSARWDYEQYF</td>\n",
       "      <td>0</td>\n",
       "    </tr>\n",
       "  </tbody>\n",
       "</table>\n",
       "<p>21633 rows × 3 columns</p>\n",
       "</div>"
      ],
      "text/plain": [
       "                0                  1  2\n",
       "0       NLVPMVATV    CASSFPLGGTYEQYF  1\n",
       "1       NLVPMVATV       CASSLGLDTQYF  1\n",
       "2       NLVPMVATV  CSARDLDRADNTGELFF  1\n",
       "3      GTSGSPIVNR       CASLSGRAPQHF  1\n",
       "4       NLVPMVATV        CASSLNYEQYF  1\n",
       "...           ...                ... ..\n",
       "21628  ELAGIGILTV     CASSPGEARGEQFF  0\n",
       "21629  TTDPSFLGRY     CASSPGTLSTEAFF  0\n",
       "21630   QYIKWPWYI    CASSSSFLGNQPQHF  0\n",
       "21631   NLVPMVATV   CASSRFPTGSNNEQFF  0\n",
       "21632   SPRWYFYYL        CSARWDYEQYF  0\n",
       "\n",
       "[21633 rows x 3 columns]"
      ]
     },
     "execution_count": 14,
     "metadata": {},
     "output_type": "execute_result"
    }
   ],
   "source": [
    "real_test = pd.read_csv(real_test_path,header=None)\n",
    "real_test"
   ]
  },
  {
   "cell_type": "code",
   "execution_count": 17,
   "id": "aa18e495-248c-4915-9b20-165cfb93a6fb",
   "metadata": {},
   "outputs": [],
   "source": [
    "atm = pd.read_csv(atm_results_path, sep='\\t',header=None)\n",
    "atm = atm.rename({0:'antigen.epitope',1:'cdr3aa',2:'bind',3:'pred'},axis=1)"
   ]
  },
  {
   "cell_type": "code",
   "execution_count": 19,
   "id": "4ef03579-5d47-4220-b018-b51d69234944",
   "metadata": {},
   "outputs": [],
   "source": [
    "epitopes_list = ['CINGVCWTV',\n",
    " 'ELAGIGILTV',\n",
    " 'FRDYVDRFYKTLRAEQASQE',\n",
    " 'GILGFVFTL',\n",
    " 'GLCTLVAML',\n",
    " 'KRWIILGLNK',\n",
    " 'LLLGIGILV',\n",
    " 'LLWNGPMAV',\n",
    " 'NLVPMVATV',\n",
    " 'PKYVKQNTLKLAT',\n",
    " 'SPRWYFYYL',\n",
    " 'TFEYVSQPFLMDLE',\n",
    " 'TPRVTGGGAM',\n",
    " 'TTDPSFLGRY',\n",
    " 'YLQPRTFLL']"
   ]
  },
  {
   "cell_type": "code",
   "execution_count": 31,
   "id": "18339a12-d2b5-4133-b671-286a811131a3",
   "metadata": {},
   "outputs": [],
   "source": [
    "atm_e = atm[atm['antigen.epitope'].isin(epitopes_list)]"
   ]
  },
  {
   "cell_type": "code",
   "execution_count": 23,
   "id": "6c7c6988-bfa3-4276-9062-bf37dca2a133",
   "metadata": {},
   "outputs": [],
   "source": [
    "#atm_e = atm_e[atm_e['bind']==1]"
   ]
  },
  {
   "cell_type": "code",
   "execution_count": 42,
   "id": "798ffa4d-0fd2-44bb-91da-853af6211d37",
   "metadata": {},
   "outputs": [],
   "source": [
    "roc_res = []\n",
    "for e in epitopes_list:\n",
    "    r={}\n",
    "    r['class']= e\n",
    "    r['roc_auc'] = ml_utils.roc_auc_count_binary(atm_e[atm_e['antigen.epitope']==e]['bind'], atm_e[atm_e['antigen.epitope']==e]['pred'])\n",
    "    roc_res.append(r)"
   ]
  },
  {
   "cell_type": "code",
   "execution_count": 43,
   "id": "e0924aff-37e2-4f3b-a5fb-e44744b483e4",
   "metadata": {},
   "outputs": [
    {
     "data": {
      "text/plain": [
       "[{'class': 'CINGVCWTV', 'roc_auc': 0.5752120257985882},\n",
       " {'class': 'ELAGIGILTV', 'roc_auc': 0.515489498116114},\n",
       " {'class': 'FRDYVDRFYKTLRAEQASQE', 'roc_auc': 0.677350859453994},\n",
       " {'class': 'GILGFVFTL', 'roc_auc': 0.5704231955814368},\n",
       " {'class': 'GLCTLVAML', 'roc_auc': 0.5417590286425903},\n",
       " {'class': 'KRWIILGLNK', 'roc_auc': 0.5725415070242657},\n",
       " {'class': 'LLLGIGILV', 'roc_auc': 0.5764722698684963},\n",
       " {'class': 'LLWNGPMAV', 'roc_auc': 0.5477210630899155},\n",
       " {'class': 'NLVPMVATV', 'roc_auc': 0.5250316938946034},\n",
       " {'class': 'PKYVKQNTLKLAT', 'roc_auc': 0.5584946899431166},\n",
       " {'class': 'SPRWYFYYL', 'roc_auc': 0.5273414985590779},\n",
       " {'class': 'TFEYVSQPFLMDLE', 'roc_auc': 0.730540427314621},\n",
       " {'class': 'TPRVTGGGAM', 'roc_auc': 0.6228962818003914},\n",
       " {'class': 'TTDPSFLGRY', 'roc_auc': 0.5266290726817043},\n",
       " {'class': 'YLQPRTFLL', 'roc_auc': 0.6320013101867017}]"
      ]
     },
     "execution_count": 43,
     "metadata": {},
     "output_type": "execute_result"
    }
   ],
   "source": [
    "roc_res\n"
   ]
  },
  {
   "cell_type": "code",
   "execution_count": 30,
   "id": "ec627a6a-6f7e-4315-9444-fac8f93b2489",
   "metadata": {},
   "outputs": [
    {
     "data": {
      "text/html": [
       "<div>\n",
       "<style scoped>\n",
       "    .dataframe tbody tr th:only-of-type {\n",
       "        vertical-align: middle;\n",
       "    }\n",
       "\n",
       "    .dataframe tbody tr th {\n",
       "        vertical-align: top;\n",
       "    }\n",
       "\n",
       "    .dataframe thead th {\n",
       "        text-align: right;\n",
       "    }\n",
       "</style>\n",
       "<table border=\"1\" class=\"dataframe\">\n",
       "  <thead>\n",
       "    <tr style=\"text-align: right;\">\n",
       "      <th></th>\n",
       "      <th>antigen.epitope</th>\n",
       "      <th>cdr3aa</th>\n",
       "      <th>bind</th>\n",
       "      <th>pred</th>\n",
       "      <th>4</th>\n",
       "    </tr>\n",
       "  </thead>\n",
       "  <tbody>\n",
       "  </tbody>\n",
       "</table>\n",
       "</div>"
      ],
      "text/plain": [
       "Empty DataFrame\n",
       "Columns: [antigen.epitope, cdr3aa, bind, pred, 4]\n",
       "Index: []"
      ]
     },
     "execution_count": 30,
     "metadata": {},
     "output_type": "execute_result"
    }
   ],
   "source": [
    "atm_e[atm_e['pred'].isna()]"
   ]
  },
  {
   "cell_type": "code",
   "execution_count": null,
   "id": "7b424a49-bfda-452e-a2a2-e3710134d055",
   "metadata": {},
   "outputs": [],
   "source": []
  }
 ],
 "metadata": {
  "kernelspec": {
   "display_name": "Python [conda env:.conda-py311]",
   "language": "python",
   "name": "conda-env-.conda-py311-py"
  },
  "language_info": {
   "codemirror_mode": {
    "name": "ipython",
    "version": 3
   },
   "file_extension": ".py",
   "mimetype": "text/x-python",
   "name": "python",
   "nbconvert_exporter": "python",
   "pygments_lexer": "ipython3",
   "version": "3.11.4"
  }
 },
 "nbformat": 4,
 "nbformat_minor": 5
}
