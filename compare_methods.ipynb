{
 "cells": [
  {
   "cell_type": "code",
   "execution_count": 1,
   "id": "9b7692da-525a-47cd-a1d2-c43bfabb4d73",
   "metadata": {},
   "outputs": [],
   "source": [
    "import numpy as np\n",
    "import pandas as pd\n",
    "import time, os, sys\n",
    "import matplotlib.pyplot as plt\n",
    "import seaborn as sns\n",
    "import statistics"
   ]
  },
  {
   "cell_type": "code",
   "execution_count": 2,
   "id": "f1cdeb5f-515b-43f8-96ce-b450dc1498a9",
   "metadata": {},
   "outputs": [],
   "source": [
    "from sklearn.metrics import precision_recall_fscore_support, classification_report, adjusted_mutual_info_score\n",
    "from sklearn.metrics import multilabel_confusion_matrix"
   ]
  },
  {
   "cell_type": "code",
   "execution_count": 3,
   "id": "e5515b41-c565-4167-83e0-f6102ee50ac2",
   "metadata": {},
   "outputs": [],
   "source": [
    "import tcremb.ml_utils as ml_utils\n",
    "import benchmark.models as models\n",
    "import benchmark.metrics as metrics\n",
    "#import benchmark.models_tcrdist as models_tcrdist"
   ]
  },
  {
   "cell_type": "raw",
   "id": "dc3a0c61-9338-4c03-b5f1-badfead1fc56",
   "metadata": {},
   "source": [
    "from tcrdist.repertoire import TCRrep\n",
    "from tcrdist.rep_funcs import  compute_pw_sparse_out_of_memory2\n",
    "from sklearn.cluster import KMeans"
   ]
  },
  {
   "cell_type": "code",
   "execution_count": null,
   "id": "6d971c74-5d37-4c12-95e4-70154ac32b71",
   "metadata": {},
   "outputs": [],
   "source": []
  },
  {
   "cell_type": "code",
   "execution_count": 4,
   "id": "570f00c3-e570-4f40-8b01-a274048238a1",
   "metadata": {},
   "outputs": [],
   "source": [
    "tcr_columns_paired = {'TRA':['a_cdr3aa','TRAV','TRAJ'],'TRB':['b_cdr3aa','TRBV','TRBJ']}\n",
    "label = 'antigen.epitope'\n",
    "label_s = 'antigen.species'\n",
    "#label = 'antigen.species_freq'\n",
    "#output_suf = 'vdjdb_freq'\n",
    "output_suf = 'vdjdb'\n",
    "output_suf_s = 'vdjdb_s'"
   ]
  },
  {
   "cell_type": "code",
   "execution_count": null,
   "id": "153ccf80-8b13-4c00-ad1d-2019127ab468",
   "metadata": {},
   "outputs": [],
   "source": []
  },
  {
   "cell_type": "markdown",
   "id": "02efe6c5-44ce-4b1b-9fb2-038f89ca9fe5",
   "metadata": {},
   "source": [
    "# Clustering"
   ]
  },
  {
   "cell_type": "markdown",
   "id": "45e72cab-5459-4727-9b42-9145bc4fe653",
   "metadata": {},
   "source": [
    "## VDJdb"
   ]
  },
  {
   "cell_type": "code",
   "execution_count": 5,
   "id": "72c2bbcc-88f3-4d59-9c8a-f1cf62647aba",
   "metadata": {},
   "outputs": [],
   "source": [
    "vdjdb_data_path = '/home/ykremlyakova/projects/tcr_emb/data/data_preped/VDJdb_data.csv'"
   ]
  },
  {
   "cell_type": "code",
   "execution_count": 6,
   "id": "aa98bc60-55ae-4dff-9df3-330173a0306f",
   "metadata": {},
   "outputs": [],
   "source": [
    "\n",
    "vdjdb_data = pd.read_csv(vdjdb_data_path,sep='\\t')"
   ]
  },
  {
   "cell_type": "code",
   "execution_count": 7,
   "id": "17da9c28-5adf-40bc-bfb8-b24b6c661f38",
   "metadata": {},
   "outputs": [],
   "source": [
    "label = 'antigen.epitope'\n",
    "label_s = 'antigen.species'\n",
    "#label = 'antigen.species_freq'\n",
    "#output_suf = 'vdjdb_freq'\n",
    "output_suf = 'vdjdb'\n",
    "output_suf_s = 'vdjdb_s'"
   ]
  },
  {
   "cell_type": "code",
   "execution_count": null,
   "id": "53dbd7e0-926b-4f5f-8ccf-c37dc316019f",
   "metadata": {},
   "outputs": [],
   "source": []
  },
  {
   "cell_type": "code",
   "execution_count": null,
   "id": "b4719faf-68c1-4686-87c9-4a88574f2af5",
   "metadata": {},
   "outputs": [],
   "source": [
    "def tcrdist3_dist(data_df, chain, n_clusters=None, chunk=True):\n",
    "    df = data_df.copy()\n",
    "    cdr3a = 'cdr3_a_aa'\n",
    "    va = 'v_a_gene'\n",
    "    ja = 'j_a_gene'\n",
    "    cdr3b = 'cdr3_b_aa'\n",
    "    vb = 'v_b_gene'\n",
    "    jb = 'j_b_gene'\n",
    "\n",
    "    if not 'count' in df.columns:\n",
    "        df['count']=[1]*len(df)\n",
    "\n",
    "    if chain == 'TRA':\n",
    "        df = df[df['chain']==chain].reset_index(drop=True)\n",
    "        df = df.rename(columns={'cdr3aa': cdr3a,\n",
    "                                                'v': va,\n",
    "                                                'j':ja})\n",
    "        df = df[[cdr3a, va, ja,'antigen.epitope', 'count','data_id']]\n",
    "\n",
    "    elif chain == 'TRB':\n",
    "        df = df[df['chain']==chain].reset_index(drop=True)\n",
    "        df= df.rename(columns={'cdr3aa': cdr3b,\n",
    "                                                'v': vb,\n",
    "                                                'j':jb})\n",
    "        df = df[[cdr3b, vb, jb,'antigen.epitope', 'count','data_id']]\n",
    "\n",
    "    else:\n",
    "        pass\n",
    "\n",
    "\n",
    "    seqs = df.drop(columns=['antigen.epitope','data_id'], axis=1).reset_index(drop=True)\n",
    "\n",
    "    if chain =='TRA':\n",
    "        chain1 = ['alpha']\n",
    "    else:\n",
    "        chain1 = ['beta']\n",
    "\n",
    "    # Run tcrdist3\n",
    "\n",
    "    print('\\n*** Tcrdist3 clustering %s %s chains ' % (len(seqs), chain))\n",
    "\n",
    "    t0 = time.time()\n",
    "\n",
    "    # Create tcrdist object\n",
    "    tr = TCRrep(cell_df=seqs,   # Input data\n",
    "                organism='human',   # Organism\n",
    "                chains=chain1,       # Chain selection\n",
    "                infer_all_genes=True,   # Infer genes\n",
    "                infer_cdrs=True,        # Infer CDRs\n",
    "                infer_index_cols=True,  # Infer column names\n",
    "                store_all_cdr=True,     # Store CDRs\n",
    "                deduplicate=False,      # Deduplicate\n",
    "                compute_distances=False)    # Compute distances\n",
    "    return tr, df\n",
    "    \n",
    "    # Compute tcrdist distances using sparse rect distances\n",
    "def tcrdist3_compute(tr, chain, cpus, radius=50):\n",
    "    if chain =='TRA':\n",
    "        chain1 = ['alpha']\n",
    "        name = 'alpha'\n",
    "    else:\n",
    "        chain1 = ['beta']\n",
    "        name = 'beta'\n",
    "\n",
    "\n",
    "    S, _ = compute_pw_sparse_out_of_memory2(tr = tr,\n",
    "        row_size      = 50,\n",
    "        pm_processes  = cpus,\n",
    "        pm_pbar       = True,\n",
    "        max_distance  = radius,\n",
    "        reassemble    = True,\n",
    "        cleanup       = True,\n",
    "        assign        = True)\n",
    "    S=S[name]\n",
    "\n",
    "    return S   \n",
    "\n",
    "    # Cluster tcrdist matrix\n",
    "def tcrdust3_cluster(S, chain, n_clusters):\n",
    "    if not n_clusters:\n",
    "        n_clusters=500\n",
    "    kmeans = KMeans(init='random',\n",
    "                    n_init=10,\n",
    "                    n_clusters=int(n_clusters)).fit(S)\n",
    "    labels = kmeans.labels_\n",
    "    \n",
    "    pd.DataFrame(labels).to_csv()\n",
    "\n",
    "    return labels\n",
    "\n",
    "def run_tcrdist3(vdjdb_data_tcrdist3, chain, n_clusters):\n",
    "    tcrdist3_tr, tcrdist_data = tcrdist3_dist(vdjdb_data_tcrdist3,chain)\n",
    "    tcrdist3_s = tcrdist3_compute(tcrdist3_tr,chain,2)\n",
    "    tcrdist3_labels = tcrdust3_cluster(tcrdist3_s, chain, n_clusters)\n",
    "    tcrdist_data['cluster']= tcrdist3_labels\n",
    "    binom_res = ml_utils.binominal_test(tcrdist_data, 'cluster', 'antigen.epitope')\n",
    "    binom_res = binom_res.rename({'antigen.epitope':'label_cluster'},axis=1)\n",
    "    tcrdist_data = tcrdist_data.merge(binom_res)\n",
    "    tcrdist_data.to_csv(f'benchmark/outputs/tcrdist_res_{chain}.txt',sep='\\t')\n",
    "    return tcrdist_data\n",
    "\n",
    "\n",
    "def run_GIANA(data_df, chain, cpus):\n",
    "    '''Run GIANA clustering algorithm\n",
    "'''\n",
    "    df = data_df[data_df['chain']==chain][['cdr3aa','v','antigen.epitope','data_id']].reset_index(drop=True)\n",
    "    df = df.rename({'cdr3aa':'CDR3','v':'V'},axis=1)\n",
    "    # Reformat input for GIANA\n",
    "    seqs = df[['CDR3','V']]\n",
    "\n",
    "    #save data for GIANA\n",
    "    cdir = os.getcwd()\n",
    "    giana_path = os.path.join(cdir, 'benchmark/GIANA/')\n",
    "    os.chdir(giana_path)\n",
    "    seqs.to_csv('data.txt', index=False, header=False, sep='\\t')\n",
    "    print('GIANA clustering of {} sequences.'.format(len(df)))\n",
    "\n",
    "    # Run GIANA\n",
    "    t0 = time.time()\n",
    "    os.system('python GIANA4.1.py -f data.txt -O data_clustered.txt -v True -N {}'.format(cpus))\n",
    "    t1 = time.time()\n",
    "    t = t1 - t0\n",
    "\n",
    "    print('Elapsed time: {} seconds.'.format(t))\n",
    "\n",
    "    with open(os.path.join(giana_path, 'data_clustered.txt'), 'r') as f:\n",
    "        results = f.read().splitlines()[3:]\n",
    "        results = pd.DataFrame([x.split('\\t') for x in results], columns=['CDR3',\n",
    "                                                                            'cluster',\n",
    "                                                                            'V',\n",
    "                                                                         ])   \n",
    "    os.chdir(cdir)\n",
    "    \n",
    "    giana_data = pd.merge(df, results.drop_duplicates(),on=['CDR3','V'])\n",
    "    \n",
    "    binom_res = ml_utils.binominal_test(giana_data, 'cluster', 'antigen.epitope')\n",
    "    binom_res = binom_res.rename({'antigen.epitope':'label_cluster'},axis=1)\n",
    "    giana_data = giana_data.merge(binom_res)\n",
    "    giana_data.to_csv(f'benchmark/outputs/giana_res_{chain}.txt',sep='\\t')\n",
    "\n",
    "    return giana_data"
   ]
  },
  {
   "cell_type": "code",
   "execution_count": null,
   "id": "915aeb98-751c-4dd8-ab23-b3259fad6079",
   "metadata": {},
   "outputs": [],
   "source": [
    "def run_ismart(data_df, chain_selection,cpus):\n",
    "    \n",
    "    df = data_df[data_df['chain']==chain][['cdr3aa','v','antigen.epitope','data_id']].reset_index(drop=True)\n",
    "    df = df.rename({'cdr3aa':'CDR3','v':'V'},axis=1)\n",
    "    \n",
    "    # Reformat input for iSMART\n",
    "    seqs = df[['CDR3','V']]\n",
    "\n",
    "    #save data for iSMART\n",
    "    cdir = os.getcwd()\n",
    "    ismart_path = os.path.join(cdir, 'benchmark/iSMART/')\n",
    "    os.chdir(ismart_path)\n",
    "    seqs.to_csv('data.txt', index=False, header=False, sep='\\t')\n",
    "    print('Clustering {} sequences with iSMART.'.format(len(df)))\n",
    "    \n",
    "    \n",
    "    t0 = time.time()\n",
    "    #os.system('python iSMARTf3.py -f input.txt -v True -N {}'.format(cpus))\n",
    "    os.system('python iSMARTf3.py -f data.txt')\n",
    "    t1 = time.time()\n",
    "    t = t1 - t0\n",
    "    \n",
    "    \n",
    "    print('Elapsed time: {} seconds.'.format(t))\n",
    "\n",
    "    with open(os.path.join(ismart_path, 'data_clustered_v3.txt'), 'r') as f:\n",
    "        results = f.read().splitlines()[3:]\n",
    "        results = pd.DataFrame([x.split('\\t') for x in results], columns=['CDR3',\n",
    "                                                                            'V',\n",
    "                                                                            'cluster',\n",
    "                                                                         ])   \n",
    "    os.chdir(cdir)\n",
    "    \n",
    "    ismart_data = pd.merge(df, results.drop_duplicates(),on=['CDR3','V'])\n",
    "    \n",
    "    binom_res = ml_utils.binominal_test(ismart_data, 'cluster', 'antigen.epitope')\n",
    "    binom_res = binom_res.rename({'antigen.epitope':'label_cluster'},axis=1)\n",
    "    ismart_data = ismart_data.merge(binom_res)\n",
    "    ismart_data.to_csv(f'benchmark/outputs/ismart_res_{chain}.txt',sep='\\t')\n",
    "\n",
    "    return ismart_data"
   ]
  },
  {
   "cell_type": "code",
   "execution_count": null,
   "id": "6cf4249d-f340-4303-96b0-40048a391eca",
   "metadata": {},
   "outputs": [],
   "source": []
  },
  {
   "cell_type": "markdown",
   "id": "2ebb4819-e2d0-4cdd-b9c8-c928bd3d0cc6",
   "metadata": {},
   "source": [
    "### TCRDIST3"
   ]
  },
  {
   "cell_type": "code",
   "execution_count": null,
   "id": "803df4d4-c043-45fa-93ef-f54a41d3570f",
   "metadata": {},
   "outputs": [],
   "source": [
    "vdjdb_data_tcrdist3 = vdjdb_data.copy()\n",
    "vdjdb_data_tcrdist3['v']= vdjdb_data_tcrdist3['v'] + '*01'\n",
    "vdjdb_data_tcrdist3['j']= vdjdb_data_tcrdist3['j'] + '*01'\n",
    "vdjdb_data_tcrdist3['v'] = vdjdb_data_tcrdist3['v'].str.replace('DV','/DV')\n",
    "vdjdb_data_tcrdist3"
   ]
  },
  {
   "cell_type": "code",
   "execution_count": null,
   "id": "ea57925e-2471-442d-b1ee-c5bec7eb30e6",
   "metadata": {},
   "outputs": [],
   "source": []
  },
  {
   "cell_type": "code",
   "execution_count": null,
   "id": "731d10f3-5694-47e7-9cbf-f4272c3cf3f9",
   "metadata": {},
   "outputs": [],
   "source": [
    "tcrdist_res = {}\n",
    "metrics_tcrdist = {}"
   ]
  },
  {
   "cell_type": "code",
   "execution_count": null,
   "id": "3ed8d2b6-9ce3-420f-b34a-06caa0e2385f",
   "metadata": {},
   "outputs": [],
   "source": [
    "chain = 'TRA'\n",
    "tcrdist_res[chain] = run_tcrdist3(vdjdb_data_tcrdist3,chain, n_clusters=5295)"
   ]
  },
  {
   "cell_type": "code",
   "execution_count": null,
   "id": "03159a3a-bffd-44bb-a89c-018f09b6a5ff",
   "metadata": {},
   "outputs": [],
   "source": [
    "chain = 'TRB'\n",
    "tcrdist_res[chain] = run_tcrdist3(vdjdb_data_tcrdist3,chain, n_clusters=10616)"
   ]
  },
  {
   "cell_type": "code",
   "execution_count": null,
   "id": "ca2572b4-b661-4a75-8d8b-d2bfbe7619f4",
   "metadata": {},
   "outputs": [],
   "source": []
  },
  {
   "cell_type": "code",
   "execution_count": null,
   "id": "571eb9f2-b5b5-4901-a21e-66af7e6af744",
   "metadata": {},
   "outputs": [],
   "source": [
    "chain = 'TRA'\n",
    "tcrdist_res[chain]=pd.read_csv(f'benchmark/outputs/tcrdist_res_{chain}.txt',sep='\\t')"
   ]
  },
  {
   "cell_type": "code",
   "execution_count": null,
   "id": "8d1e8ffa-c926-4d31-a2df-855304ea2183",
   "metadata": {},
   "outputs": [],
   "source": [
    "print(ml_utils.clsf_metrics(tcrdist_res[chain]['antigen.epitope'],tcrdist_res[chain]['label_cluster'], average='weighted'))\n",
    "print(ml_utils.count_clstr_purity(tcrdist_res[chain][['cluster','label_cluster','total_cluster','count_matched','fraction_matched','p_value','fraction_matched_exp','is_cluster']].drop_duplicates()))\n"
   ]
  },
  {
   "cell_type": "code",
   "execution_count": null,
   "id": "1d584422-2ff5-4d83-a800-9f34969e4662",
   "metadata": {},
   "outputs": [],
   "source": []
  },
  {
   "cell_type": "code",
   "execution_count": null,
   "id": "cd34c14c-395c-415f-9327-f0bab96c89bd",
   "metadata": {},
   "outputs": [],
   "source": [
    "chain = 'TRB'\n",
    "tcrdist_res[chain]=pd.read_csv(f'benchmark/outputs/tcrdist_res_{chain}.txt',sep='\\t')\n",
    "tcrdist_res[chain]['is_cluster'] = tcrdist_res[chain]['total_cluster'].apply(lambda x: 1 if x>1 else 0)"
   ]
  },
  {
   "cell_type": "code",
   "execution_count": null,
   "id": "62e51847-1968-4444-aca3-143a3c76d537",
   "metadata": {},
   "outputs": [],
   "source": []
  },
  {
   "cell_type": "code",
   "execution_count": null,
   "id": "8a16b93e-69ac-42fb-b9e0-3591714c2295",
   "metadata": {},
   "outputs": [],
   "source": [
    "print(ml_utils.clsf_metrics(tcrdist_res[chain]['antigen.epitope'],tcrdist_res[chain]['label_cluster'], average='weighted'))\n",
    "print(ml_utils.count_clstr_purity(tcrdist_res[chain][['cluster','label_cluster','total_cluster','count_matched','fraction_matched','p_value','fraction_matched_exp','is_cluster']].drop_duplicates()))\n"
   ]
  },
  {
   "cell_type": "code",
   "execution_count": null,
   "id": "67c13bbf-2851-4989-b22e-bbf5c1f7dc6f",
   "metadata": {},
   "outputs": [],
   "source": []
  },
  {
   "cell_type": "code",
   "execution_count": null,
   "id": "b9bbc572-ef56-4518-85f5-8e38ed968c6d",
   "metadata": {},
   "outputs": [],
   "source": [
    "chain = 'TRA'\n",
    "metrics_tcrdist[chain] = metrics.get_clustermetrics(tcrdist_res[chain], 'antigen.epitope')\n",
    "metrics_tcrdist[chain]"
   ]
  },
  {
   "cell_type": "code",
   "execution_count": null,
   "id": "66a49785-3490-4f8b-b2d3-cec974085cd8",
   "metadata": {},
   "outputs": [],
   "source": [
    "chain = 'TRB'\n",
    "metrics_tcrdist[chain] = metrics.get_clustermetrics(tcrdist_res[chain], 'antigen.epitope')\n",
    "metrics_tcrdist[chain]"
   ]
  },
  {
   "cell_type": "code",
   "execution_count": null,
   "id": "fc7883d1-7a33-42d2-bce3-7f686595384e",
   "metadata": {},
   "outputs": [],
   "source": []
  },
  {
   "cell_type": "code",
   "execution_count": null,
   "id": "5a0631c0-b1d5-42a8-a666-0c849407b8b4",
   "metadata": {},
   "outputs": [],
   "source": []
  },
  {
   "cell_type": "markdown",
   "id": "2cd44726-5107-4523-ac34-4517ce70e914",
   "metadata": {},
   "source": [
    "### GIANA"
   ]
  },
  {
   "cell_type": "code",
   "execution_count": null,
   "id": "f2adebe7-af9a-4ba1-9fbd-f573b81110ca",
   "metadata": {},
   "outputs": [],
   "source": [
    "vdjdb_data_giana = vdjdb_data.copy()\n",
    "vdjdb_data_giana['v']= vdjdb_data_giana['v'] + '*01'\n",
    "vdjdb_data_giana['j']= vdjdb_data_giana['j'] + '*01'\n",
    "vdjdb_data_giana"
   ]
  },
  {
   "cell_type": "code",
   "execution_count": null,
   "id": "ed960ed1-a7f9-4b80-b956-6bc038b11b26",
   "metadata": {},
   "outputs": [],
   "source": [
    "giana_res_raw = {}\n",
    "giana_res= {}\n",
    "metrics_giana = {}\n"
   ]
  },
  {
   "cell_type": "code",
   "execution_count": null,
   "id": "00067843-55bc-4b32-8422-fc884df38997",
   "metadata": {},
   "outputs": [],
   "source": [
    "#giana_res_raw_s = {}\n",
    "#giana_res_s= {}\n",
    "metrics_giana_s = {}"
   ]
  },
  {
   "cell_type": "code",
   "execution_count": null,
   "id": "d27e4a98-94ef-4645-b82a-99a0d8bb6571",
   "metadata": {},
   "outputs": [],
   "source": [
    "\n",
    "chain = 'TRA'\n",
    "giana_res_raw[chain] = models.run_GIANA(vdjdb_data_giana, chain,output_suf=output_suf,label = label)"
   ]
  },
  {
   "cell_type": "code",
   "execution_count": null,
   "id": "c7d90b28-cc30-4c01-b3f3-40e4c937d21d",
   "metadata": {},
   "outputs": [],
   "source": [
    "\n",
    "chain = 'TRA'\n",
    "giana_res_raw[chain] = models.run_GIANA(vdjdb_data_giana, chain,output_suf=output_suf_s,label = label_s)"
   ]
  },
  {
   "cell_type": "code",
   "execution_count": null,
   "id": "5e056b81-cae5-4794-bd57-0558e86f1599",
   "metadata": {},
   "outputs": [],
   "source": [
    "chain = 'TRB'\n",
    "giana_res_raw[chain] = models.run_GIANA(vdjdb_data_giana, chain,output_suf=output_suf,label = label)"
   ]
  },
  {
   "cell_type": "code",
   "execution_count": null,
   "id": "6a2b04f3-cdc2-4c73-a901-07e3e15ee34b",
   "metadata": {},
   "outputs": [],
   "source": [
    "chain = 'TRB'\n",
    "giana_res_raw[chain] = models.run_GIANA(vdjdb_data_giana, chain,output_suf=output_suf_s,label = label_s)"
   ]
  },
  {
   "cell_type": "code",
   "execution_count": null,
   "id": "a837bb56-9f52-4008-9233-ca2184b5014b",
   "metadata": {},
   "outputs": [],
   "source": []
  },
  {
   "cell_type": "code",
   "execution_count": null,
   "id": "5cada9eb-1bad-47c0-8c91-b0cb9e63f8fc",
   "metadata": {},
   "outputs": [],
   "source": []
  },
  {
   "cell_type": "markdown",
   "id": "18dcef2f-76ba-412d-aa67-af0ebce013d1",
   "metadata": {},
   "source": [
    "#### metrics epitope"
   ]
  },
  {
   "cell_type": "code",
   "execution_count": null,
   "id": "0fba7552-001f-43cf-80bf-d6bed12f67c8",
   "metadata": {},
   "outputs": [],
   "source": [
    "chain = 'TRA'\n",
    "giana_res_raw[chain] = pd.read_csv(f'benchmark/outputs/giana_res_{chain}_{output_suf}.txt',sep='\\t')\n",
    "giana_res[chain] = vdjdb_data_giana[vdjdb_data_giana['chain']==chain][['chain','data_id','cdr3aa','v',label]].merge(giana_res_raw[chain], how = 'left')\n",
    "giana_res[chain]['is_cluster'] = giana_res[chain]['is_cluster'].fillna(0)"
   ]
  },
  {
   "cell_type": "code",
   "execution_count": null,
   "id": "a16c5165-dfd4-4265-b70e-e964a0d8c4ca",
   "metadata": {},
   "outputs": [],
   "source": [
    "print(ml_utils.clsf_metrics(giana_res_raw[chain][label],giana_res_raw[chain]['label_cluster'], average='weighted'))\n",
    "print(ml_utils.count_clstr_purity(giana_res_raw[chain][['cluster','label_cluster','total_cluster','count_matched','fraction_matched','p_value','fraction_matched_exp','is_cluster']].drop_duplicates()))"
   ]
  },
  {
   "cell_type": "code",
   "execution_count": null,
   "id": "886bee78-6d79-4739-af64-ea3df96da23b",
   "metadata": {},
   "outputs": [],
   "source": [
    "metrics_giana[chain] = metrics.get_clustermetrics(giana_res[chain], label)\n",
    "metrics_giana[chain]"
   ]
  },
  {
   "cell_type": "code",
   "execution_count": null,
   "id": "554f0789-5e02-46b9-bd0e-a331f68df4d1",
   "metadata": {},
   "outputs": [],
   "source": []
  },
  {
   "cell_type": "code",
   "execution_count": null,
   "id": "d756873b-fefd-4285-ac7a-a46e62b21e93",
   "metadata": {},
   "outputs": [],
   "source": []
  },
  {
   "cell_type": "code",
   "execution_count": null,
   "id": "27dbea23-2730-4587-8c92-de3da377d244",
   "metadata": {},
   "outputs": [],
   "source": [
    "chain = 'TRB'\n",
    "giana_res_raw[chain] = pd.read_csv(f'benchmark/outputs/giana_res_{chain}_{output_suf}.txt',sep='\\t')\n",
    "giana_res[chain] = vdjdb_data_giana[vdjdb_data_giana['chain']==chain][['chain','data_id','cdr3aa','v',label]].merge(giana_res_raw[chain], how = 'left')\n",
    "giana_res[chain]['is_cluster'] = giana_res[chain]['is_cluster'].fillna(0)"
   ]
  },
  {
   "cell_type": "code",
   "execution_count": null,
   "id": "501c55bc-cc55-44e5-bffc-722daa478bcc",
   "metadata": {},
   "outputs": [],
   "source": [
    "print(ml_utils.clsf_metrics(giana_res_raw[chain][label],giana_res_raw[chain]['label_cluster'], average='weighted'))\n",
    "print(ml_utils.count_clstr_purity(giana_res_raw[chain][['cluster','label_cluster','total_cluster','count_matched','fraction_matched','p_value','fraction_matched_exp','is_cluster']].drop_duplicates()))"
   ]
  },
  {
   "cell_type": "code",
   "execution_count": null,
   "id": "3fa13148-315b-4368-80b1-6bcbd4aea24c",
   "metadata": {},
   "outputs": [],
   "source": [
    "metrics_giana[chain] = metrics.get_clustermetrics(giana_res[chain], label)\n",
    "metrics_giana[chain]"
   ]
  },
  {
   "cell_type": "code",
   "execution_count": null,
   "id": "9e7bdc9f-81e4-4b2f-a510-d3e8d87b5f18",
   "metadata": {},
   "outputs": [],
   "source": []
  },
  {
   "cell_type": "markdown",
   "id": "85a183c9-38a1-4795-84b9-2b811fdee3fb",
   "metadata": {},
   "source": [
    "#### metrics species"
   ]
  },
  {
   "cell_type": "code",
   "execution_count": null,
   "id": "4880152f-6dfd-4120-b120-462c9244d007",
   "metadata": {},
   "outputs": [],
   "source": [
    "chain = 'TRA'\n",
    "giana_res_raw[chain] = pd.read_csv(f'benchmark/outputs/giana_res_{chain}_{output_suf_s}.txt',sep='\\t')\n",
    "giana_res[chain] = vdjdb_data_giana[vdjdb_data_giana['chain']==chain][['chain','data_id','cdr3aa','v',label_s]].merge(giana_res_raw[chain], how = 'left')\n",
    "giana_res[chain]['is_cluster'] = giana_res[chain]['is_cluster'].fillna(0)\n",
    "print(ml_utils.clsf_metrics(giana_res_raw[chain][label_s],giana_res_raw[chain]['label_cluster'], average='weighted'))\n",
    "print(ml_utils.count_clstr_purity(giana_res_raw[chain][['cluster','label_cluster','total_cluster','count_matched','fraction_matched','p_value','fraction_matched_exp','is_cluster']].drop_duplicates()))"
   ]
  },
  {
   "cell_type": "code",
   "execution_count": null,
   "id": "a350e516-8d6d-46f8-bbc7-b96f605b782e",
   "metadata": {},
   "outputs": [],
   "source": [
    "metrics_giana_s[chain] = metrics.get_clustermetrics(giana_res[chain], label_s)\n",
    "metrics_giana_s[chain]"
   ]
  },
  {
   "cell_type": "code",
   "execution_count": null,
   "id": "9848c1b1-c22b-45e6-871f-242df694cd43",
   "metadata": {},
   "outputs": [],
   "source": []
  },
  {
   "cell_type": "code",
   "execution_count": null,
   "id": "1da776fd-965e-4ab3-9422-1685417ccf58",
   "metadata": {},
   "outputs": [],
   "source": [
    "chain = 'TRB'\n",
    "giana_res_raw[chain] = pd.read_csv(f'benchmark/outputs/giana_res_{chain}_{output_suf_s}.txt',sep='\\t')\n",
    "giana_res[chain] = vdjdb_data_giana[vdjdb_data_giana['chain']==chain][['chain','data_id','cdr3aa','v',label_s]].merge(giana_res_raw[chain], how = 'left')\n",
    "giana_res[chain]['is_cluster'] = giana_res[chain]['is_cluster'].fillna(0)\n",
    "print(ml_utils.clsf_metrics(giana_res_raw[chain][label_s],giana_res_raw[chain]['label_cluster'], average='weighted'))\n",
    "print(ml_utils.count_clstr_purity(giana_res_raw[chain][['cluster','label_cluster','total_cluster','count_matched','fraction_matched','p_value','fraction_matched_exp','is_cluster']].drop_duplicates()))"
   ]
  },
  {
   "cell_type": "code",
   "execution_count": null,
   "id": "7ac24fd9-3829-45cc-8e3e-5378cd60ce46",
   "metadata": {},
   "outputs": [],
   "source": [
    "metrics_giana_s[chain] = metrics.get_clustermetrics(giana_res[chain], label_s)\n",
    "metrics_giana_s[chain]"
   ]
  },
  {
   "cell_type": "code",
   "execution_count": null,
   "id": "db48d23a-ced3-4052-ba37-bef24b5b5a56",
   "metadata": {},
   "outputs": [],
   "source": []
  },
  {
   "cell_type": "code",
   "execution_count": null,
   "id": "e37c8511-3aad-4f8c-b900-2cd96d6a6a14",
   "metadata": {},
   "outputs": [],
   "source": []
  },
  {
   "cell_type": "code",
   "execution_count": null,
   "id": "edf67867-87a3-461a-9f3d-41828e8fa011",
   "metadata": {},
   "outputs": [],
   "source": []
  },
  {
   "cell_type": "code",
   "execution_count": null,
   "id": "e11028c3-985c-4d45-ad26-f176ed576264",
   "metadata": {},
   "outputs": [],
   "source": []
  },
  {
   "cell_type": "markdown",
   "id": "699fb568-765c-4913-b302-7186ccf23db0",
   "metadata": {},
   "source": [
    "### TCRemb"
   ]
  },
  {
   "cell_type": "code",
   "execution_count": null,
   "id": "178a8ced-ea54-4b5c-b932-f2444c487242",
   "metadata": {},
   "outputs": [],
   "source": [
    "tcremb_res = {}\n",
    "metrics_tcremb= {}\n",
    "\n",
    "tcremb_res_dbscan = {}\n",
    "metrics_tcremb_s= {}\n",
    "metrics_tcremb_dbscan= {}\n",
    "metrics_tcremb_dbscan_s= {}\n",
    "output_suf_dbscan = output_suf + '_dbscan'\n",
    "output_suf_dbscan_s = output_suf + '_dbscan_s'"
   ]
  },
  {
   "cell_type": "code",
   "execution_count": null,
   "id": "d1a4397c-0229-4492-b7fe-c4a1d2f9090e",
   "metadata": {},
   "outputs": [],
   "source": [
    "chain = 'TRA'\n",
    "tcremb_res[chain] = models.run_tcremb(vdjdb_data_path, chain, output_suf=output_suf,skip_scores=True, label=label)"
   ]
  },
  {
   "cell_type": "code",
   "execution_count": null,
   "id": "58ac4806-4e03-4ec1-bddf-b3b433534942",
   "metadata": {},
   "outputs": [],
   "source": [
    "chain = 'TRA'\n",
    "tcremb_res[chain] = models.run_tcremb(vdjdb_data_path, chain, output_suf=output_suf_s,skip_scores=True, label=label_s)"
   ]
  },
  {
   "cell_type": "code",
   "execution_count": null,
   "id": "a109b225-0c83-472e-b3ad-60724ce729fe",
   "metadata": {},
   "outputs": [],
   "source": [
    "chain = 'TRA'\n",
    "tcremb_res_dbscan[chain] = models.run_tcremb(vdjdb_data_path, chain, output_suf=output_suf_dbscan, skip_scores=True, label=label, model='dbscan')"
   ]
  },
  {
   "cell_type": "code",
   "execution_count": null,
   "id": "a79d9a83-d7a8-4213-bca8-002c8a5352fb",
   "metadata": {},
   "outputs": [],
   "source": [
    "chain = 'TRA'\n",
    "tcremb_res_dbscan[chain] = models.run_tcremb(vdjdb_data_path, chain, output_suf=output_suf_dbscan_s,skip_scores=True, label=label_s, model='dbscan')"
   ]
  },
  {
   "cell_type": "code",
   "execution_count": null,
   "id": "95047cf8-4af3-4322-a813-30ef4f6ae916",
   "metadata": {},
   "outputs": [],
   "source": []
  },
  {
   "cell_type": "code",
   "execution_count": null,
   "id": "0fc33691-39eb-436c-b24b-20987303f2df",
   "metadata": {},
   "outputs": [],
   "source": [
    "chain = 'TRB'\n",
    "tcremb_res[chain] = models.run_tcremb(vdjdb_data_path, chain, output_suf=output_suf,skip_scores=True, label=label)"
   ]
  },
  {
   "cell_type": "code",
   "execution_count": null,
   "id": "e1a930b0-f5c7-4fcc-b8e4-20e9c28a6fd7",
   "metadata": {},
   "outputs": [],
   "source": [
    "chain = 'TRB'\n",
    "tcremb_res[chain] = models.run_tcremb(vdjdb_data_path, chain, output_suf=output_suf_s,skip_scores=True, label=label_s)"
   ]
  },
  {
   "cell_type": "code",
   "execution_count": null,
   "id": "9e4387ea-b961-4288-b457-ccc4476a5cf0",
   "metadata": {},
   "outputs": [],
   "source": [
    "chain = 'TRB'\n",
    "tcremb_res_dbscan[chain] = models.run_tcremb(vdjdb_data_path, chain, output_suf=output_suf_dbscan,skip_scores=True ,label=label, model='dbscan')"
   ]
  },
  {
   "cell_type": "code",
   "execution_count": null,
   "id": "fbce91d6-ddcb-471d-a3ef-742d7dfb99a1",
   "metadata": {},
   "outputs": [],
   "source": [
    "chain = 'TRB'\n",
    "tcremb_res_dbscan[chain] = models.run_tcremb(vdjdb_data_path, chain, output_suf=output_suf_dbscan_s,skip_scores=True, label=label_s, model='dbscan')"
   ]
  },
  {
   "cell_type": "code",
   "execution_count": null,
   "id": "f46d7426-c602-48fd-a1a8-434535ab1107",
   "metadata": {},
   "outputs": [],
   "source": []
  },
  {
   "cell_type": "markdown",
   "id": "83be6c00-37c1-42cc-a191-e545cc80c6d2",
   "metadata": {},
   "source": [
    "#### metrics epitope"
   ]
  },
  {
   "cell_type": "code",
   "execution_count": null,
   "id": "bde8720d-c6fe-4f64-b7b9-cfcc1de8f9bb",
   "metadata": {},
   "outputs": [],
   "source": [
    "chain = 'TRA'\n",
    "run_name = f'compare_{output_suf}'\n",
    "tcremb_res[chain] = pd.read_csv(f'tcremb_outputs/{run_name}/tcremb_clstr_res_{chain}.txt',sep='\\t')\n",
    "print(ml_utils.clsf_metrics(tcremb_res[chain][label],tcremb_res[chain]['label_cluster'], average='weighted'))\n",
    "print(ml_utils.count_clstr_purity(tcremb_res[chain][['cluster','label_cluster','total_cluster','count_matched','fraction_matched','p_value','fraction_matched_exp','is_cluster']].drop_duplicates()))\n"
   ]
  },
  {
   "cell_type": "code",
   "execution_count": null,
   "id": "78322045-ceef-45f2-9992-6604bedef049",
   "metadata": {},
   "outputs": [],
   "source": [
    "metrics_tcremb[chain] = metrics.get_clustermetrics(tcremb_res[chain], label)\n",
    "metrics_tcremb[chain]"
   ]
  },
  {
   "cell_type": "code",
   "execution_count": null,
   "id": "72e63683-a4d4-4b02-babe-fc08ad2e75c7",
   "metadata": {},
   "outputs": [],
   "source": []
  },
  {
   "cell_type": "code",
   "execution_count": null,
   "id": "46ca054b-bdd3-45f5-a45b-986f8e180e25",
   "metadata": {},
   "outputs": [],
   "source": [
    "chain = 'TRA'\n",
    "run_name = f'compare_{output_suf_dbscan}'\n",
    "tcremb_res_dbscan[chain] = pd.read_csv(f'tcremb_outputs/{run_name}/tcremb_clstr_res_{chain}.txt',sep='\\t')\n",
    "print(ml_utils.clsf_metrics(tcremb_res_dbscan[chain][label],tcremb_res_dbscan[chain]['label_cluster'], average='weighted'))\n",
    "print(ml_utils.count_clstr_purity(tcremb_res_dbscan[chain][['cluster','label_cluster','total_cluster','count_matched','fraction_matched','p_value','fraction_matched_exp','is_cluster']].drop_duplicates()))\n"
   ]
  },
  {
   "cell_type": "code",
   "execution_count": null,
   "id": "246393bf-0d89-42cf-9200-3497c43a9854",
   "metadata": {},
   "outputs": [],
   "source": [
    "metrics_tcremb_dbscan[chain] = metrics.get_clustermetrics(tcremb_res_dbscan[chain], label)\n",
    "metrics_tcremb_dbscan[chain]"
   ]
  },
  {
   "cell_type": "code",
   "execution_count": null,
   "id": "c0220881-fc01-4fac-82b2-79aa268e8a16",
   "metadata": {},
   "outputs": [],
   "source": []
  },
  {
   "cell_type": "code",
   "execution_count": null,
   "id": "5d371c9d-88e4-4b98-bacc-dc455103d62e",
   "metadata": {},
   "outputs": [],
   "source": [
    "chain = 'TRB'\n",
    "run_name = f'compare_{output_suf}'\n",
    "tcremb_res[chain] = pd.read_csv(f'tcremb_outputs/{run_name}/tcremb_clstr_res_{chain}.txt',sep='\\t')\n",
    "print(ml_utils.clsf_metrics(tcremb_res[chain][label],tcremb_res[chain]['label_cluster'], average='weighted'))\n",
    "print(ml_utils.count_clstr_purity(tcremb_res[chain][['cluster','label_cluster','total_cluster','count_matched','fraction_matched','p_value','fraction_matched_exp','is_cluster']].drop_duplicates()))\n"
   ]
  },
  {
   "cell_type": "code",
   "execution_count": null,
   "id": "8460424b-65dc-47e6-8222-cb9668e8f215",
   "metadata": {},
   "outputs": [],
   "source": [
    "metrics_tcremb[chain] = metrics.get_clustermetrics(tcremb_res[chain], label)\n",
    "metrics_tcremb[chain]"
   ]
  },
  {
   "cell_type": "code",
   "execution_count": null,
   "id": "8a599b7e-e874-41d1-a908-7fc5da27e21b",
   "metadata": {},
   "outputs": [],
   "source": []
  },
  {
   "cell_type": "code",
   "execution_count": null,
   "id": "7d3c16af-3914-4638-8350-0095c79b65dd",
   "metadata": {},
   "outputs": [],
   "source": [
    "chain = 'TRB'\n",
    "run_name = f'compare_{output_suf_dbscan}'\n",
    "tcremb_res_dbscan[chain] = pd.read_csv(f'tcremb_outputs/{run_name}/tcremb_clstr_res_{chain}.txt',sep='\\t')\n",
    "print(ml_utils.clsf_metrics(tcremb_res_dbscan[chain][label],tcremb_res_dbscan[chain]['label_cluster'], average='weighted'))\n",
    "print(ml_utils.count_clstr_purity(tcremb_res_dbscan[chain][['cluster','label_cluster','total_cluster','count_matched','fraction_matched','p_value','fraction_matched_exp','is_cluster']].drop_duplicates()))\n"
   ]
  },
  {
   "cell_type": "code",
   "execution_count": null,
   "id": "a8da51ca-55ee-459b-bb3b-2686f29c07f6",
   "metadata": {},
   "outputs": [],
   "source": [
    "metrics_tcremb_dbscan[chain] = metrics.get_clustermetrics(tcremb_res_dbscan[chain], label)\n",
    "metrics_tcremb_dbscan[chain]"
   ]
  },
  {
   "cell_type": "code",
   "execution_count": null,
   "id": "3a4ea209-095d-4065-b4de-b5819cdc5cc3",
   "metadata": {},
   "outputs": [],
   "source": []
  },
  {
   "cell_type": "code",
   "execution_count": null,
   "id": "fe706723-fc41-4699-84f9-082e20606492",
   "metadata": {},
   "outputs": [],
   "source": []
  },
  {
   "cell_type": "markdown",
   "id": "c56e798d-f704-46ad-b3be-4e5b7ab485c8",
   "metadata": {},
   "source": [
    "#### metrics species"
   ]
  },
  {
   "cell_type": "code",
   "execution_count": null,
   "id": "7e259b3d-2090-4a51-909a-ad48deecd453",
   "metadata": {},
   "outputs": [],
   "source": [
    "chain = 'TRA'\n",
    "run_name = f'compare_{output_suf_s}'\n",
    "tcremb_res[chain] = pd.read_csv(f'tcremb_outputs/{run_name}/tcremb_clstr_res_{chain}.txt',sep='\\t')\n",
    "print(ml_utils.clsf_metrics(tcremb_res[chain][label_s],tcremb_res[chain]['label_cluster'], average='weighted'))\n",
    "print(ml_utils.count_clstr_purity(tcremb_res[chain][['cluster','label_cluster','total_cluster','count_matched','fraction_matched','p_value','fraction_matched_exp','is_cluster']].drop_duplicates()))\n"
   ]
  },
  {
   "cell_type": "code",
   "execution_count": null,
   "id": "da063b6e-35fb-453f-bdaa-29367d8a039c",
   "metadata": {},
   "outputs": [],
   "source": [
    "metrics_tcremb_s[chain] = metrics.get_clustermetrics(tcremb_res[chain], label_s)\n",
    "metrics_tcremb_s[chain]"
   ]
  },
  {
   "cell_type": "code",
   "execution_count": null,
   "id": "5af3c41d-57d3-4ea9-b905-f066dc17df37",
   "metadata": {},
   "outputs": [],
   "source": []
  },
  {
   "cell_type": "code",
   "execution_count": null,
   "id": "372b78ea-ad50-4587-9f24-61f80cab4a8b",
   "metadata": {},
   "outputs": [],
   "source": [
    "chain = 'TRA'\n",
    "run_name = f'compare_{output_suf_dbscan_s}'\n",
    "tcremb_res_dbscan[chain] = pd.read_csv(f'tcremb_outputs/{run_name}/tcremb_clstr_res_{chain}.txt',sep='\\t')\n",
    "print(ml_utils.clsf_metrics(tcremb_res_dbscan[chain][label_s],tcremb_res_dbscan[chain]['label_cluster'], average='weighted'))\n",
    "print(ml_utils.count_clstr_purity(tcremb_res_dbscan[chain][['cluster','label_cluster','total_cluster','count_matched','fraction_matched','p_value','fraction_matched_exp','is_cluster']].drop_duplicates()))\n"
   ]
  },
  {
   "cell_type": "code",
   "execution_count": null,
   "id": "dae0a49f-e1ee-471b-b22f-e771bf640c23",
   "metadata": {},
   "outputs": [],
   "source": [
    "metrics_tcremb_dbscan_s[chain] = metrics.get_clustermetrics(tcremb_res_dbscan[chain], label_s)\n",
    "metrics_tcremb_dbscan_s[chain]"
   ]
  },
  {
   "cell_type": "code",
   "execution_count": null,
   "id": "a34f0485-e587-49bd-9664-325a5022e327",
   "metadata": {},
   "outputs": [],
   "source": []
  },
  {
   "cell_type": "code",
   "execution_count": null,
   "id": "1550f625-55d3-485f-bbc1-e7dba9f8a7bb",
   "metadata": {},
   "outputs": [],
   "source": [
    "chain = 'TRB'\n",
    "run_name = f'compare_{output_suf_s}'\n",
    "tcremb_res[chain] = pd.read_csv(f'tcremb_outputs/{run_name}/tcremb_clstr_res_{chain}.txt',sep='\\t')\n",
    "print(ml_utils.clsf_metrics(tcremb_res[chain][label_s],tcremb_res[chain]['label_cluster'], average='weighted'))\n",
    "print(ml_utils.count_clstr_purity(tcremb_res[chain][['cluster','label_cluster','total_cluster','count_matched','fraction_matched','p_value','fraction_matched_exp','is_cluster']].drop_duplicates()))\n"
   ]
  },
  {
   "cell_type": "code",
   "execution_count": null,
   "id": "9e8eabd4-9910-4f45-bc61-46b77714ce6b",
   "metadata": {},
   "outputs": [],
   "source": [
    "metrics_tcremb_s[chain] = metrics.get_clustermetrics(tcremb_res[chain], label_s)\n",
    "metrics_tcremb_s[chain]"
   ]
  },
  {
   "cell_type": "code",
   "execution_count": null,
   "id": "782c5eb9-bc5e-408f-aed7-6383fc6e1c1a",
   "metadata": {},
   "outputs": [],
   "source": []
  },
  {
   "cell_type": "code",
   "execution_count": null,
   "id": "e47af3f3-cf59-44cd-9d48-d2754fcef39f",
   "metadata": {},
   "outputs": [],
   "source": [
    "chain = 'TRB'\n",
    "run_name = f'compare_{output_suf_dbscan_s}'\n",
    "tcremb_res_dbscan[chain] = pd.read_csv(f'tcremb_outputs/{run_name}/tcremb_clstr_res_{chain}.txt',sep='\\t')\n",
    "print(ml_utils.clsf_metrics(tcremb_res_dbscan[chain][label_s],tcremb_res_dbscan[chain]['label_cluster'], average='weighted'))\n",
    "print(ml_utils.count_clstr_purity(tcremb_res_dbscan[chain][['cluster','label_cluster','total_cluster','count_matched','fraction_matched','p_value','fraction_matched_exp','is_cluster']].drop_duplicates()))\n"
   ]
  },
  {
   "cell_type": "code",
   "execution_count": null,
   "id": "b7175ee3-34a8-484c-8d33-78df920beb9b",
   "metadata": {},
   "outputs": [],
   "source": [
    "metrics_tcremb_dbscan_s[chain] = metrics.get_clustermetrics(tcremb_res_dbscan[chain], label_s)\n",
    "metrics_tcremb_dbscan_s[chain]"
   ]
  },
  {
   "cell_type": "code",
   "execution_count": null,
   "id": "8a8b1e24-ae41-4ec1-a33f-f8905d02f810",
   "metadata": {},
   "outputs": [],
   "source": []
  },
  {
   "cell_type": "code",
   "execution_count": null,
   "id": "72458d9c-dafa-456c-b60a-38796fc6402e",
   "metadata": {},
   "outputs": [],
   "source": []
  },
  {
   "cell_type": "markdown",
   "id": "cfec773a-1bfe-47d4-93f9-ca70f9ce3e5b",
   "metadata": {},
   "source": [
    "#### check tcremb and ismart"
   ]
  },
  {
   "cell_type": "code",
   "execution_count": null,
   "id": "88f9a173-94bf-4fad-912c-4f891659d6b7",
   "metadata": {},
   "outputs": [],
   "source": [
    "tcremb_t = tcremb_res[chain].copy()"
   ]
  },
  {
   "cell_type": "code",
   "execution_count": null,
   "id": "98297772-e592-4473-9305-57123fbb7673",
   "metadata": {},
   "outputs": [],
   "source": []
  },
  {
   "cell_type": "code",
   "execution_count": null,
   "id": "6b4ac147-45b6-4e94-a38c-33b6422c58a1",
   "metadata": {},
   "outputs": [],
   "source": [
    "t = ismart_res[chain][~ismart_res[chain]['cluster'].isna()]"
   ]
  },
  {
   "cell_type": "code",
   "execution_count": null,
   "id": "92250da8-f299-46fd-b3e9-85c40461831b",
   "metadata": {},
   "outputs": [],
   "source": [
    "len(t['cluster'].drop_duplicates())"
   ]
  },
  {
   "cell_type": "code",
   "execution_count": null,
   "id": "6cee2a36-aa94-49e3-b625-55d084974ca6",
   "metadata": {},
   "outputs": [],
   "source": [
    "tcremb_t = tcremb_t[tcremb_t['data_id'].isin(t['data_id'])]\n",
    "tcremb_t"
   ]
  },
  {
   "cell_type": "code",
   "execution_count": null,
   "id": "5a4c45d7-aa07-4e03-801f-d2ae4c68639e",
   "metadata": {},
   "outputs": [],
   "source": [
    "len(tcremb_t['cluster'].drop_duplicates())"
   ]
  },
  {
   "cell_type": "code",
   "execution_count": null,
   "id": "1937cf3b-b181-464b-87b9-756c26127687",
   "metadata": {},
   "outputs": [],
   "source": [
    "print(ml_utils.clsf_metrics(tcremb_t[label],tcremb_t['label_cluster'], average='weighted'))"
   ]
  },
  {
   "cell_type": "code",
   "execution_count": null,
   "id": "e7686b3b-ee0d-4d83-bacf-5c4e6f717796",
   "metadata": {},
   "outputs": [],
   "source": [
    "tcremb_t.sort_values('total_cluster')"
   ]
  },
  {
   "cell_type": "code",
   "execution_count": null,
   "id": "8f9d08af-4360-42c8-b39e-8cd64367db7d",
   "metadata": {},
   "outputs": [],
   "source": []
  },
  {
   "cell_type": "code",
   "execution_count": null,
   "id": "69797e85-5f12-41de-a80d-956f53aad156",
   "metadata": {},
   "outputs": [],
   "source": []
  },
  {
   "cell_type": "code",
   "execution_count": null,
   "id": "818de57d-09ce-43f3-af14-6aae89f35391",
   "metadata": {},
   "outputs": [],
   "source": [
    "tcremb_res_pred_between = {}\n",
    "metrics_tcremb_pred_between= {}"
   ]
  },
  {
   "cell_type": "code",
   "execution_count": null,
   "id": "b2ff7411-fb49-4a19-a869-72f5f37e32e8",
   "metadata": {},
   "outputs": [],
   "source": [
    "chain = 'TRA'\n",
    "#tcremb_res_pred_enriched_between[chain] = pd.read_csv(f'benchmark/outputs/tcremb_res_pred_enriched_between_{chain}.txt', sep='\\t')\n",
    "tcremb_res_pred_between[chain] = tcremb_res[chain].copy()\n",
    "tcremb_res_pred_between[chain]['is_cluster']=tcremb_res_pred_between[chain]['is_cluster_between']"
   ]
  },
  {
   "cell_type": "code",
   "execution_count": null,
   "id": "4955a399-5685-4fad-ba03-12a3aadd20c0",
   "metadata": {},
   "outputs": [],
   "source": [
    "metrics_tcremb_pred_between[chain] = metrics.get_clustermetrics(tcremb_res_pred_between[chain], label)\n",
    "metrics_tcremb_pred_between[chain]"
   ]
  },
  {
   "cell_type": "code",
   "execution_count": null,
   "id": "f071d83e-95ad-43e3-9d52-b2bcfa96c4fa",
   "metadata": {},
   "outputs": [],
   "source": []
  },
  {
   "cell_type": "code",
   "execution_count": null,
   "id": "e6c57a8e-9eb1-4e6f-bfe5-aff2b6364b98",
   "metadata": {},
   "outputs": [],
   "source": [
    "chain = 'TRB'\n",
    "#tcremb_res_pred_enriched_between[chain] = pd.read_csv(f'benchmark/outputs/tcremb_res_pred_enriched_between_{chain}.txt', sep='\\t')\n",
    "tcremb_res_pred_between[chain] = tcremb_res[chain].copy()\n",
    "tcremb_res_pred_between[chain]['is_cluster']=tcremb_res_pred_between[chain]['is_cluster_between']"
   ]
  },
  {
   "cell_type": "code",
   "execution_count": null,
   "id": "2e90c93e-5563-410b-bf48-6b1700a45a1b",
   "metadata": {},
   "outputs": [],
   "source": [
    "metrics_tcremb_pred_between[chain] = metrics.get_clustermetrics(tcremb_res_pred_between[chain], label)\n",
    "metrics_tcremb_pred_between[chain]"
   ]
  },
  {
   "cell_type": "code",
   "execution_count": null,
   "id": "4a492c3a-01dc-456a-af67-7bce50d16bf7",
   "metadata": {},
   "outputs": [],
   "source": []
  },
  {
   "cell_type": "markdown",
   "id": "812515c6-b3dc-4a37-84ac-86ff2a5cd803",
   "metadata": {},
   "source": [
    "### iSMART"
   ]
  },
  {
   "cell_type": "code",
   "execution_count": null,
   "id": "afc11df7-9719-4eee-a9f4-4eb7ef62616c",
   "metadata": {},
   "outputs": [],
   "source": [
    "ismart_res_raw = {}\n",
    "ismart_res= {}\n",
    "metrics_ismart = {}\n",
    "metrics_ismart_s = {}"
   ]
  },
  {
   "cell_type": "code",
   "execution_count": null,
   "id": "3215021b-3e84-4db5-8c41-2f5cb1608924",
   "metadata": {},
   "outputs": [],
   "source": [
    "os.chdir('/home/ykremlyakova/projects/tcr_emb/')"
   ]
  },
  {
   "cell_type": "code",
   "execution_count": null,
   "id": "df1dddbe-cb5a-4e41-a54e-548b36cb9cb4",
   "metadata": {},
   "outputs": [],
   "source": [
    "chain = 'TRA'\n",
    "ismart_res_raw[chain] = models.run_ismart(vdjdb_data_giana, chain,output_suf=output_suf,label = label)"
   ]
  },
  {
   "cell_type": "code",
   "execution_count": null,
   "id": "d65c3868-ada0-462b-a8e6-364766303e02",
   "metadata": {},
   "outputs": [],
   "source": [
    "chain = 'TRA'\n",
    "ismart_res_raw[chain] = models.run_ismart(vdjdb_data_giana, chain,output_suf=output_suf_s,label = label_s)"
   ]
  },
  {
   "cell_type": "code",
   "execution_count": null,
   "id": "b6574208-3976-4af4-9409-7265d5bef8fa",
   "metadata": {},
   "outputs": [],
   "source": [
    "\n",
    "chain = 'TRB'\n",
    "ismart_res_raw[chain] = models.run_ismart(vdjdb_data_giana, chain,output_suf=output_suf,label = label)"
   ]
  },
  {
   "cell_type": "code",
   "execution_count": null,
   "id": "3c3d0eb7-c437-4d44-8f74-7a6bd1a98272",
   "metadata": {},
   "outputs": [],
   "source": [
    "\n",
    "chain = 'TRB'\n",
    "ismart_res_raw[chain] = models.run_ismart(vdjdb_data_giana, chain,output_suf=output_suf_s,label = label_s)"
   ]
  },
  {
   "cell_type": "code",
   "execution_count": null,
   "id": "3f2d4f2b-d005-4f1f-8c23-aa1bf1af96a3",
   "metadata": {},
   "outputs": [],
   "source": []
  },
  {
   "cell_type": "markdown",
   "id": "c47d2ef1-954a-46b9-9353-da90dcb7ef78",
   "metadata": {},
   "source": [
    "#### metrics epitope"
   ]
  },
  {
   "cell_type": "code",
   "execution_count": null,
   "id": "43edaa17-bced-47a4-a967-94ee482cd11b",
   "metadata": {},
   "outputs": [],
   "source": [
    "chain = 'TRA'\n",
    "ismart_res_raw[chain] = pd.read_csv(f'benchmark/outputs/ismart_res_{chain}_{output_suf}.txt',sep='\\t')\n",
    "ismart_res[chain] = vdjdb_data_giana[vdjdb_data_giana['chain']==chain][['chain','data_id','cdr3aa','v',label]].merge(ismart_res_raw[chain], how = 'left')\n",
    "ismart_res[chain]['is_cluster'] = ismart_res[chain]['is_cluster'].fillna(0)\n",
    "print(ml_utils.clsf_metrics(ismart_res_raw[chain][label],ismart_res_raw[chain]['label_cluster'], average='weighted'))\n",
    "print(ml_utils.count_clstr_purity(ismart_res_raw[chain][['cluster','label_cluster','total_cluster','count_matched','fraction_matched','p_value','fraction_matched_exp','is_cluster']].drop_duplicates()))"
   ]
  },
  {
   "cell_type": "code",
   "execution_count": null,
   "id": "43a20ca5-5729-463e-9a4b-15dc90a98a72",
   "metadata": {},
   "outputs": [],
   "source": [
    "metrics_ismart[chain] = metrics.get_clustermetrics(ismart_res[chain], label)\n",
    "metrics_ismart[chain]"
   ]
  },
  {
   "cell_type": "code",
   "execution_count": null,
   "id": "36316dbf-3483-421d-96a0-bbb20edcf27f",
   "metadata": {},
   "outputs": [],
   "source": []
  },
  {
   "cell_type": "code",
   "execution_count": null,
   "id": "662ea3db-08a0-4559-8c5b-76504deacb6c",
   "metadata": {},
   "outputs": [],
   "source": []
  },
  {
   "cell_type": "code",
   "execution_count": null,
   "id": "7c00b37d-d72e-46a4-9bfb-e4dcfbc2a404",
   "metadata": {},
   "outputs": [],
   "source": [
    "chain = 'TRB'\n",
    "ismart_res_raw[chain] = pd.read_csv(f'benchmark/outputs/ismart_res_{chain}_{output_suf}.txt',sep='\\t')\n",
    "ismart_res[chain] = vdjdb_data_giana[vdjdb_data_giana['chain']==chain][['chain','data_id','cdr3aa','v',label]].merge(ismart_res_raw[chain], how = 'left')\n",
    "ismart_res[chain]['is_cluster'] = ismart_res[chain]['is_cluster'].fillna(0)\n",
    "print(ml_utils.clsf_metrics(ismart_res_raw[chain][label],ismart_res_raw[chain]['label_cluster'], average='weighted'))\n",
    "print(ml_utils.count_clstr_purity(ismart_res_raw[chain][['cluster','label_cluster','total_cluster','count_matched','fraction_matched','p_value','fraction_matched_exp','is_cluster']].drop_duplicates()))"
   ]
  },
  {
   "cell_type": "code",
   "execution_count": null,
   "id": "f6b7f398-fb47-4eea-ac3e-6fa9608b138e",
   "metadata": {},
   "outputs": [],
   "source": [
    "metrics_ismart[chain] = metrics.get_clustermetrics(ismart_res[chain], label)\n",
    "metrics_ismart[chain]"
   ]
  },
  {
   "cell_type": "code",
   "execution_count": null,
   "id": "8ae31ee8-eb48-4869-8b52-c7ba80afbba4",
   "metadata": {},
   "outputs": [],
   "source": []
  },
  {
   "cell_type": "markdown",
   "id": "ac2116f6-780d-4f3c-91e9-b46536ac25c2",
   "metadata": {},
   "source": [
    "#### metrics species"
   ]
  },
  {
   "cell_type": "code",
   "execution_count": null,
   "id": "763fcc21-8811-409b-9abf-acf1ac6d72b3",
   "metadata": {},
   "outputs": [],
   "source": [
    "chain = 'TRA'\n",
    "ismart_res_raw[chain] = pd.read_csv(f'benchmark/outputs/ismart_res_{chain}_{output_suf_s}.txt',sep='\\t')\n",
    "ismart_res[chain] = vdjdb_data_giana[vdjdb_data_giana['chain']==chain][['chain','data_id','cdr3aa','v',label_s]].merge(ismart_res_raw[chain], how = 'left')\n",
    "ismart_res[chain]['is_cluster'] = ismart_res[chain]['is_cluster'].fillna(0)\n",
    "print(ml_utils.clsf_metrics(ismart_res_raw[chain][label_s],ismart_res_raw[chain]['label_cluster'], average='weighted'))\n",
    "print(ml_utils.count_clstr_purity(ismart_res_raw[chain][['cluster','label_cluster','total_cluster','count_matched','fraction_matched','p_value','fraction_matched_exp','is_cluster']].drop_duplicates()))"
   ]
  },
  {
   "cell_type": "code",
   "execution_count": null,
   "id": "a098f386-1c2a-4c9c-b7b1-5fecd2807626",
   "metadata": {},
   "outputs": [],
   "source": [
    "metrics_ismart_s[chain] = metrics.get_clustermetrics(ismart_res[chain], label_s)\n",
    "metrics_ismart_s[chain]"
   ]
  },
  {
   "cell_type": "code",
   "execution_count": null,
   "id": "6fb522d7-19b1-446a-8323-306bd1c0c952",
   "metadata": {},
   "outputs": [],
   "source": []
  },
  {
   "cell_type": "code",
   "execution_count": null,
   "id": "067ee9c3-3eb3-46a6-ad9f-6c7b4a8e2d30",
   "metadata": {},
   "outputs": [],
   "source": [
    "chain = 'TRB'\n",
    "ismart_res_raw[chain] = pd.read_csv(f'benchmark/outputs/ismart_res_{chain}_{output_suf_s}.txt',sep='\\t')\n",
    "ismart_res[chain] = vdjdb_data_giana[vdjdb_data_giana['chain']==chain][['chain','data_id','cdr3aa','v',label_s]].merge(ismart_res_raw[chain], how = 'left')\n",
    "ismart_res[chain]['is_cluster'] = ismart_res[chain]['is_cluster'].fillna(0)\n",
    "print(ml_utils.clsf_metrics(ismart_res_raw[chain][label_s],ismart_res_raw[chain]['label_cluster'], average='weighted'))\n",
    "print(ml_utils.count_clstr_purity(ismart_res_raw[chain][['cluster','label_cluster','total_cluster','count_matched','fraction_matched','p_value','fraction_matched_exp','is_cluster']].drop_duplicates()))"
   ]
  },
  {
   "cell_type": "code",
   "execution_count": null,
   "id": "85569203-04ff-454f-a98b-040c91568f8f",
   "metadata": {},
   "outputs": [],
   "source": [
    "metrics_ismart_s[chain] = metrics.get_clustermetrics(ismart_res[chain], label_s)\n",
    "metrics_ismart_s[chain]"
   ]
  },
  {
   "cell_type": "code",
   "execution_count": null,
   "id": "56a0c66c-ba8c-4ff6-9ce3-79f55312ee2d",
   "metadata": {},
   "outputs": [],
   "source": []
  },
  {
   "cell_type": "code",
   "execution_count": null,
   "id": "f2e953a8-365c-4dcc-a0b7-614a3f1feff7",
   "metadata": {},
   "outputs": [],
   "source": [
    "ismart_res[chain]['len']=ismart_res[chain]['cdr3aa'].apply(len)"
   ]
  },
  {
   "cell_type": "code",
   "execution_count": null,
   "id": "e7cb41c3-2d99-41e4-b721-3e1aaadbfe6a",
   "metadata": {},
   "outputs": [],
   "source": [
    "ismart_res[chain][-ismart_res[chain]['cluster'].isna()]"
   ]
  },
  {
   "cell_type": "code",
   "execution_count": null,
   "id": "6281472b-dcb6-47c6-a7ea-19f8e7b912c2",
   "metadata": {},
   "outputs": [],
   "source": [
    "sns.distplot(ismart_res[chain][-ismart_res[chain]['cluster'].isna()]['len'])"
   ]
  },
  {
   "cell_type": "code",
   "execution_count": null,
   "id": "55a24b81-2cfc-4a7e-b442-cfc8dbc79766",
   "metadata": {},
   "outputs": [],
   "source": []
  },
  {
   "cell_type": "code",
   "execution_count": null,
   "id": "349d182f-f418-4876-801d-18bfb46f2944",
   "metadata": {},
   "outputs": [],
   "source": [
    "chain = 'TRA'\n",
    "metrics_ismart[chain] = metrics.get_clustermetrics(ismart_res[chain], label)\n",
    "metrics_ismart[chain]"
   ]
  },
  {
   "cell_type": "code",
   "execution_count": null,
   "id": "4110a540-1680-4d9b-81d6-d30fafdfd528",
   "metadata": {},
   "outputs": [],
   "source": [
    "chain = 'TRB'\n",
    "metrics_ismart[chain] = metrics.get_clustermetrics(ismart_res[chain], label)\n",
    "metrics_ismart[chain]"
   ]
  },
  {
   "cell_type": "code",
   "execution_count": null,
   "id": "c7b865e5-e84c-44e5-8139-5f8a0b9f2c93",
   "metadata": {},
   "outputs": [],
   "source": []
  },
  {
   "cell_type": "code",
   "execution_count": null,
   "id": "790c1d51-7e57-421f-bc05-83b2ed73bf87",
   "metadata": {},
   "outputs": [],
   "source": []
  },
  {
   "cell_type": "markdown",
   "id": "c4bf2422-6085-40d6-b6d0-c669d6b98356",
   "metadata": {},
   "source": [
    "### Compare metrics"
   ]
  },
  {
   "cell_type": "code",
   "execution_count": null,
   "id": "17432147-a140-4fbd-a941-f90dc61f3041",
   "metadata": {},
   "outputs": [],
   "source": [
    "metrics_res = {}"
   ]
  },
  {
   "cell_type": "code",
   "execution_count": null,
   "id": "bb03800e-68f3-4d1a-9a0d-ad54db178417",
   "metadata": {},
   "outputs": [],
   "source": [
    "chain = 'TRA'\n",
    "metrics_res[chain] = pd.concat([pd.DataFrame(metrics_tcrdist[chain], index=['tcrdist'])\n",
    "           ,pd.DataFrame(metrics_giana[chain], index=['GIANA'])\n",
    "           ,pd.DataFrame(metrics_ismart[chain], index=['iSMART'])\n",
    "           , pd.DataFrame(metrics_tcremb[chain], index=['TCRemb'])])\n",
    "metrics_res[chain]['method'] = metrics_res[chain].index\n",
    "\n",
    "chain = 'TRB'\n",
    "metrics_res[chain] = pd.concat([pd.DataFrame(metrics_tcrdist[chain], index=['tcrdist'])\n",
    "           ,pd.DataFrame(metrics_giana[chain], index=['GIANA'])\n",
    "           ,pd.DataFrame(metrics_ismart[chain], index=['iSMART'])\n",
    "           , pd.DataFrame(metrics_tcremb[chain], index=['TCRemb'])])\n",
    "metrics_res[chain]['method'] = metrics_res[chain].index"
   ]
  },
  {
   "cell_type": "code",
   "execution_count": null,
   "id": "70ecb60f-e940-4e5e-96c5-1f38a0ea6142",
   "metadata": {},
   "outputs": [],
   "source": [
    "sns.color_palette(\"Set2\")"
   ]
  },
  {
   "cell_type": "code",
   "execution_count": null,
   "id": "3b8c3683-1f92-471b-9c75-c5cef04dba34",
   "metadata": {},
   "outputs": [],
   "source": [
    "print(sns.color_palette(\"Set2\").as_hex())"
   ]
  },
  {
   "cell_type": "code",
   "execution_count": null,
   "id": "f450d0c8-4efc-4901-96a6-54dea6c1bf09",
   "metadata": {},
   "outputs": [],
   "source": [
    "color_map = {'tcrdist':'#fc8d62','GIANA':'#e78ac3','iSMART':'#a6d854','TCRemb':'#66c2a5'}"
   ]
  },
  {
   "cell_type": "code",
   "execution_count": null,
   "id": "adb90091-3a94-40bc-85d3-ff9c5a25cab6",
   "metadata": {},
   "outputs": [],
   "source": []
  },
  {
   "cell_type": "code",
   "execution_count": null,
   "id": "2186d17c-6378-4ad1-bfb7-aeabc9c9c566",
   "metadata": {},
   "outputs": [],
   "source": [
    "fig, axes = plt.subplots(3,2, figsize = (12,15))\n",
    "\n",
    "chain = 'TRA'\n",
    "\n",
    "sns.barplot(data = metrics_res[chain], x = 'method', y = 'purity', palette= color_map, ax = axes[0,0])\n",
    "loc = 0\n",
    "for i,r in metrics_res[chain].iterrows():\n",
    "    axes[0,0].text(loc, r['purity'] + 0.01, round(r['purity'],2), color='black', ha=\"center\")\n",
    "    loc +=1\n",
    "axes[0,0].set_title(f'Purity {chain}')\n",
    "axes[0,0].set_ylim(0, 1)\n",
    "\n",
    "sns.barplot(data = metrics_res[chain], x = 'method', y = 'f1-score', palette= color_map, ax = axes[1,0])\n",
    "loc = 0\n",
    "for i,r in metrics_res[chain].iterrows():\n",
    "    axes[1,0].text(loc, r['f1-score'] + 0.01, round(r['f1-score'],2), color='black', ha=\"center\")\n",
    "    loc +=1\n",
    "axes[1,0].set_title(f'F1-score {chain}')   \n",
    "axes[1,0].set_ylim(0, 1)\n",
    "\n",
    "sns.barplot(data = metrics_res[chain], x = 'method', y = 'retention', palette= color_map, ax = axes[2,0])\n",
    "loc = 0\n",
    "for i,r in metrics_res[chain].iterrows():\n",
    "    axes[2,0].text(loc, r['retention'] + 0.01, round(r['retention'],2), color='black', ha=\"center\")\n",
    "    loc +=1\n",
    "axes[2,0].set_title(f'Retention {chain}') \n",
    "axes[2,0].set_ylim(0, 1)\n",
    "\n",
    "chain = 'TRB'\n",
    "\n",
    "sns.barplot(data = metrics_res[chain], x = 'method', y = 'purity', palette= color_map, ax = axes[0,1])\n",
    "loc = 0\n",
    "for i,r in metrics_res[chain].iterrows():\n",
    "    axes[0,1].text(loc, r['purity'] + 0.01, round(r['purity'],2), color='black', ha=\"center\")\n",
    "    loc +=1\n",
    "axes[0,1].set_title(f'Purity {chain}')\n",
    "axes[0,1].set_ylim(0, 1)\n",
    "\n",
    "sns.barplot(data = metrics_res[chain], x = 'method', y = 'f1-score', palette= color_map, ax = axes[1,1])\n",
    "loc = 0\n",
    "for i,r in metrics_res[chain].iterrows():\n",
    "    axes[1,1].text(loc, r['f1-score'] + 0.01, round(r['f1-score'],2), color='black', ha=\"center\")\n",
    "    loc +=1\n",
    "axes[1,1].set_title(f'F1-score {chain}')   \n",
    "axes[1,1].set_ylim(0, 1)\n",
    "\n",
    "sns.barplot(data = metrics_res[chain], x = 'method', y = 'retention', palette= color_map, ax = axes[2,1])\n",
    "loc = 0\n",
    "for i,r in metrics_res[chain].iterrows():\n",
    "    axes[2,1].text(loc, r['retention'] + 0.01, round(r['retention'],2), color='black', ha=\"center\")\n",
    "    loc +=1\n",
    "axes[2,1].set_title(f'Retention {chain}') \n",
    "axes[2,1].set_ylim(0, 1)\n",
    "\n",
    "plt.savefig(f\"figures/fig4.png\")"
   ]
  },
  {
   "cell_type": "code",
   "execution_count": null,
   "id": "7923c3e4-e1d1-442c-b108-35c6d8ac55d0",
   "metadata": {},
   "outputs": [],
   "source": []
  },
  {
   "cell_type": "code",
   "execution_count": null,
   "id": "f6b644b0-aa22-4807-b747-21da8f2431f7",
   "metadata": {},
   "outputs": [],
   "source": []
  },
  {
   "cell_type": "code",
   "execution_count": null,
   "id": "700a46bb-ead8-4597-b75e-e1281458499d",
   "metadata": {},
   "outputs": [],
   "source": [
    "metrics_res_2 = {}"
   ]
  },
  {
   "cell_type": "code",
   "execution_count": null,
   "id": "63545363-7d17-4e9f-8df4-03e4c2c66a6f",
   "metadata": {},
   "outputs": [],
   "source": [
    "chain = 'TRA'\n",
    "metrics_res_2[chain] = pd.concat([pd.DataFrame(metrics_tcrdist[chain], index=['tcrdist'])\n",
    "           ,pd.DataFrame(metrics_giana[chain], index=['GIANA'])\n",
    "           ,pd.DataFrame(metrics_ismart[chain], index=['iSMART'])\n",
    "           , pd.DataFrame(metrics_tcremb_dbscan[chain], index=['TCRemb'])])\n",
    "metrics_res_2[chain]['method'] = metrics_res_2[chain].index\n",
    "\n",
    "chain = 'TRB'\n",
    "metrics_res_2[chain] = pd.concat([pd.DataFrame(metrics_tcrdist[chain], index=['tcrdist'])\n",
    "           ,pd.DataFrame(metrics_giana[chain], index=['GIANA'])\n",
    "           ,pd.DataFrame(metrics_ismart[chain], index=['iSMART'])\n",
    "           , pd.DataFrame(metrics_tcremb_dbscan[chain], index=['TCRemb'])])\n",
    "metrics_res_2[chain]['method'] = metrics_res_2[chain].index"
   ]
  },
  {
   "cell_type": "code",
   "execution_count": null,
   "id": "4feb2c19-6ad5-46fe-bfcc-9aa418d50fd2",
   "metadata": {},
   "outputs": [],
   "source": [
    "fig, axes = plt.subplots(3,2, figsize = (12,15))\n",
    "\n",
    "chain = 'TRA'\n",
    "\n",
    "sns.barplot(data = metrics_res_2[chain], x = 'method', y = 'purity', palette= color_map, ax = axes[0,0])\n",
    "loc = 0\n",
    "for i,r in metrics_res_2[chain].iterrows():\n",
    "    axes[0,0].text(loc, r['purity'] + 0.01, round(r['purity'],2), color='black', ha=\"center\")\n",
    "    loc +=1\n",
    "axes[0,0].set_title(f'Purity {chain}')\n",
    "\n",
    "sns.barplot(data = metrics_res_2[chain], x = 'method', y = 'f1-score', palette= color_map, ax = axes[1,0])\n",
    "loc = 0\n",
    "for i,r in metrics_res_2[chain].iterrows():\n",
    "    axes[1,0].text(loc, r['f1-score'] + 0.01, round(r['f1-score'],2), color='black', ha=\"center\")\n",
    "    loc +=1\n",
    "axes[1,0].set_title(f'F1-score {chain}')   \n",
    "\n",
    "sns.barplot(data = metrics_res_2[chain], x = 'method', y = 'retention', palette= color_map, ax = axes[2,0])\n",
    "loc = 0\n",
    "for i,r in metrics_res_2[chain].iterrows():\n",
    "    axes[2,0].text(loc, r['retention'] + 0.01, round(r['retention'],2), color='black', ha=\"center\")\n",
    "    loc +=1\n",
    "axes[2,0].set_title(f'Retention {chain}') \n",
    "\n",
    "chain = 'TRB'\n",
    "\n",
    "sns.barplot(data = metrics_res_2[chain], x = 'method', y = 'purity', palette= color_map, ax = axes[0,1])\n",
    "loc = 0\n",
    "for i,r in metrics_res_2[chain].iterrows():\n",
    "    axes[0,1].text(loc, r['purity'] + 0.01, round(r['purity'],2), color='black', ha=\"center\")\n",
    "    loc +=1\n",
    "axes[0,1].set_title(f'Purity {chain}')\n",
    "\n",
    "sns.barplot(data = metrics_res_2[chain], x = 'method', y = 'f1-score', palette= color_map, ax = axes[1,1])\n",
    "loc = 0\n",
    "for i,r in metrics_res_2[chain].iterrows():\n",
    "    axes[1,1].text(loc, r['f1-score'] + 0.01, round(r['f1-score'],2), color='black', ha=\"center\")\n",
    "    loc +=1\n",
    "axes[1,1].set_title(f'F1-score {chain}')   \n",
    "\n",
    "sns.barplot(data = metrics_res_2[chain], x = 'method', y = 'retention', palette= color_map, ax = axes[2,1])\n",
    "loc = 0\n",
    "for i,r in metrics_res_2[chain].iterrows():\n",
    "    axes[2,1].text(loc, r['retention'] + 0.01, round(r['retention'],2), color='black', ha=\"center\")\n",
    "    loc +=1\n",
    "axes[2,1].set_title(f'Retention {chain}')   \n",
    "\n",
    "plt.savefig(f\"figures/fig4_2.png\")"
   ]
  },
  {
   "cell_type": "code",
   "execution_count": null,
   "id": "03eb46ac-4c47-4f1f-8173-3af0ae02cb73",
   "metadata": {},
   "outputs": [],
   "source": []
  },
  {
   "cell_type": "code",
   "execution_count": null,
   "id": "7ed69971-53b7-424d-8cfb-5a9a587abcdb",
   "metadata": {},
   "outputs": [],
   "source": [
    "metrics_3 = {}"
   ]
  },
  {
   "cell_type": "code",
   "execution_count": null,
   "id": "e94a7a21-9023-483f-b018-bc0d61306025",
   "metadata": {},
   "outputs": [],
   "source": [
    "chain = 'TRA'\n",
    "metrics_3[chain] = pd.concat([\n",
    "    #pd.DataFrame(metrics_tcrdist[chain], index=['tcrdist']),\n",
    "    pd.DataFrame(metrics_giana_s[chain], index=['GIANA'])\n",
    "           ,pd.DataFrame(metrics_ismart_s[chain], index=['iSMART'])\n",
    "           , pd.DataFrame(metrics_tcremb_s[chain], index=['TCRemb'])])\n",
    "metrics_3[chain]['method'] = metrics_3[chain].index\n",
    "\n",
    "chain = 'TRB'\n",
    "metrics_3[chain] = pd.concat([\n",
    "    #pd.DataFrame(metrics_tcrdist[chain], index=['tcrdist']),\n",
    "    pd.DataFrame(metrics_giana_s[chain], index=['GIANA'])\n",
    "           ,pd.DataFrame(metrics_ismart_s[chain], index=['iSMART'])\n",
    "           , pd.DataFrame(metrics_tcremb_s[chain], index=['TCRemb'])])\n",
    "metrics_3[chain]['method'] = metrics_3[chain].index"
   ]
  },
  {
   "cell_type": "code",
   "execution_count": null,
   "id": "6c13f910-7d38-4744-961f-ea9a429ae7f0",
   "metadata": {},
   "outputs": [],
   "source": []
  },
  {
   "cell_type": "code",
   "execution_count": null,
   "id": "e896827f-d130-4dc6-8005-3a1654e7c030",
   "metadata": {},
   "outputs": [],
   "source": [
    "fig, axes = plt.subplots(3,2, figsize = (12,15))\n",
    "\n",
    "chain = 'TRA'\n",
    "\n",
    "sns.barplot(data = metrics_3[chain], x = 'method', y = 'purity', palette= color_map, ax = axes[0,0])\n",
    "loc = 0\n",
    "for i,r in metrics_3[chain].iterrows():\n",
    "    axes[0,0].text(loc, r['purity'] + 0.01, round(r['purity'],2), color='black', ha=\"center\")\n",
    "    loc +=1\n",
    "axes[0,0].set_title(f'Purity {chain}')\n",
    "axes[0,0].set_ylim(0, 1)\n",
    "\n",
    "sns.barplot(data = metrics_3[chain], x = 'method', y = 'f1-score', palette= color_map, ax = axes[1,0])\n",
    "loc = 0\n",
    "for i,r in metrics_3[chain].iterrows():\n",
    "    axes[1,0].text(loc, r['f1-score'] + 0.01, round(r['f1-score'],2), color='black', ha=\"center\")\n",
    "    loc +=1\n",
    "axes[1,0].set_title(f'F1-score {chain}')\n",
    "axes[1,0].set_ylim(0, 1)\n",
    "\n",
    "sns.barplot(data = metrics_3[chain], x = 'method', y = 'retention', palette= color_map, ax = axes[2,0])\n",
    "loc = 0\n",
    "for i,r in metrics_3[chain].iterrows():\n",
    "    axes[2,0].text(loc, r['retention'] + 0.01, round(r['retention'],2), color='black', ha=\"center\")\n",
    "    loc +=1\n",
    "axes[2,0].set_title(f'Retention {chain}') \n",
    "axes[2,0].set_ylim(0, 1)\n",
    "\n",
    "chain = 'TRB'\n",
    "\n",
    "sns.barplot(data = metrics_3[chain], x = 'method', y = 'purity', palette= color_map, ax = axes[0,1])\n",
    "loc = 0\n",
    "for i,r in metrics_3[chain].iterrows():\n",
    "    axes[0,1].text(loc, r['purity'] + 0.01, round(r['purity'],2), color='black', ha=\"center\")\n",
    "    loc +=1\n",
    "axes[0,1].set_title(f'Purity {chain}')\n",
    "axes[0,1].set_ylim(0, 1)\n",
    "\n",
    "sns.barplot(data = metrics_3[chain], x = 'method', y = 'f1-score', palette= color_map, ax = axes[1,1])\n",
    "loc = 0\n",
    "for i,r in metrics_3[chain].iterrows():\n",
    "    axes[1,1].text(loc, r['f1-score'] + 0.01, round(r['f1-score'],2), color='black', ha=\"center\")\n",
    "    loc +=1\n",
    "axes[1,1].set_title(f'F1-score {chain}')   \n",
    "axes[1,1].set_ylim(0, 1)\n",
    "\n",
    "sns.barplot(data = metrics_3[chain], x = 'method', y = 'retention', palette= color_map, ax = axes[2,1])\n",
    "loc = 0\n",
    "for i,r in metrics_3[chain].iterrows():\n",
    "    axes[2,1].text(loc, r['retention'] + 0.01, round(r['retention'],2), color='black', ha=\"center\")\n",
    "    loc +=1\n",
    "axes[2,1].set_title(f'Retention {chain}')   \n",
    "axes[2,1].set_ylim(0, 1)\n",
    "\n",
    "plt.savefig(f\"figures/fig4_3.png\")"
   ]
  },
  {
   "cell_type": "code",
   "execution_count": null,
   "id": "fd131f69-3ec5-488b-93ee-c0e82a68ba1e",
   "metadata": {},
   "outputs": [],
   "source": []
  },
  {
   "cell_type": "markdown",
   "id": "889cfcb5-bec7-40b8-81ba-4405236409c9",
   "metadata": {},
   "source": [
    "## VDJdb V10-V1000"
   ]
  },
  {
   "cell_type": "code",
   "execution_count": 5,
   "id": "b3171a4d-5e07-4eb4-9026-0946a3779156",
   "metadata": {},
   "outputs": [],
   "source": [
    "samples_n = [10,50,100,500,1000]\n",
    "samples_n_b = [10,50,100]\n",
    "#samples_n = [1000]"
   ]
  },
  {
   "cell_type": "raw",
   "id": "e470687c-270a-4ba9-a123-a95fa973582d",
   "metadata": {},
   "source": [
    "f'data/data_preped/VDJdb_data_{chain}_V{i}.csv'"
   ]
  },
  {
   "cell_type": "code",
   "execution_count": 6,
   "id": "12231042-2309-4b09-98b4-9d42f9d002de",
   "metadata": {},
   "outputs": [],
   "source": [
    "tcrdist_res_v = {}\n",
    "metrics_tcrdist_v = {}\n",
    "\n",
    "giana_res_raw_v = {}\n",
    "giana_res_v = {}\n",
    "metrics_giana_v = {}\n",
    "\n",
    "ismart_res_raw_v = {}\n",
    "ismart_res_v = {}\n",
    "metrics_ismart_v = {}\n",
    "\n",
    "tcremb_res_v = {}\n",
    "metrics_tcremb_v = {}\n",
    "\n",
    "tcremb_res_v_dbscan = {}\n",
    "metrics_tcremb_v_dbscan = {}\n",
    "\n",
    "metrics_tcremb_v_all_clstr = {}\n",
    "metrics_tcremb_v_enriched = {}"
   ]
  },
  {
   "cell_type": "code",
   "execution_count": null,
   "id": "24b795f0-e286-41e5-b6e1-31db62ea2f8c",
   "metadata": {},
   "outputs": [],
   "source": []
  },
  {
   "cell_type": "markdown",
   "id": "9ca9d76e-be7c-48a5-b215-679d425b0e51",
   "metadata": {},
   "source": [
    "### TCRDIST3"
   ]
  },
  {
   "cell_type": "raw",
   "id": "3621bfca-2f4a-438b-9740-5ee9948c1769",
   "metadata": {},
   "source": [
    "chain = 'TRA'\n",
    "for i in samples_n:\n",
    "    vdjdb_v = pd.read_csv(f'data/data_preped/VDJdb_data_{chain}_V{i}.csv',sep='\\t')\n",
    "    vdjdb_v['v']= vdjdb_v['v'] + '*01'\n",
    "    vdjdb_v['j']= vdjdb_v['j'] + '*01'\n",
    "    vdjdb_v['v'] = vdjdb_v['v'].str.replace('DV','/DV')\n",
    "    print(len(vdjdb_v))\n",
    "    \n",
    "    tcrdist_res[chain] = run_tcrdist3(vdjdb_data_tcrdist3,chain, n_clusters=5295)"
   ]
  },
  {
   "cell_type": "code",
   "execution_count": null,
   "id": "6ba98811-7e78-4304-986d-3d0c90d5e4cb",
   "metadata": {},
   "outputs": [],
   "source": []
  },
  {
   "cell_type": "markdown",
   "id": "b64e421c-1284-400d-bae6-6762e6ec8a23",
   "metadata": {},
   "source": [
    "### ismart"
   ]
  },
  {
   "cell_type": "code",
   "execution_count": 7,
   "id": "2f5e04da-d72e-4ff1-b542-fac4971ac02f",
   "metadata": {},
   "outputs": [
    {
     "name": "stdout",
     "output_type": "stream",
     "text": [
      "TCR-epitope paires count in V10 dataset: 13027\n",
      "Clustering 13027 sequences with iSMART.\n",
      "\n",
      "iSMARTf is intended to perform pairwise CDR3 alignment for large volume (10^6-10^8) of sequneces. It implements\n",
      "k-mer based clustering to recursively reduce the search space, and report sequences with high similarity.\n",
      "Currently, gap is not supported. \n",
      "\n",
      "Input columns:\n",
      "1. CDR3 amino acid sequence (Starting from C, ending with the first F/L in motif [FL]G.G)\n",
      "2. Variable gene name in Imgt format: TRBVXX-XX*XX\n",
      "3. Joining gene name (optional)\n",
      "4. Frequency (optional)\n",
      "5. Other information (optional)\n",
      "\n",
      "Processing data.txt\n",
      "Collecting data and building K-mer index\n",
      "Done! Time Elapsed 1.325772\n",
      "Performing pairwise alignment\n",
      "Number of pairs to be processed: 614764\n",
      "Done!\n",
      "Dividing CDR3s into clusters\n",
      "    Solved 200 clusters\n",
      "    Solved 400 clusters\n",
      "    Solved 600 clusters\n",
      "Done! Time Elapsed 9.701992\n",
      "Total time elapsed: 12.967257\n",
      "Maximum memory usage: 0.108280 MB\n",
      "Elapsed time: 13.201587677001953 seconds.\n",
      "TCR-epitope paires count in V50 dataset: 11912\n",
      "Clustering 11912 sequences with iSMART.\n",
      "\n",
      "iSMARTf is intended to perform pairwise CDR3 alignment for large volume (10^6-10^8) of sequneces. It implements\n",
      "k-mer based clustering to recursively reduce the search space, and report sequences with high similarity.\n",
      "Currently, gap is not supported. \n",
      "\n",
      "Input columns:\n",
      "1. CDR3 amino acid sequence (Starting from C, ending with the first F/L in motif [FL]G.G)\n",
      "2. Variable gene name in Imgt format: TRBVXX-XX*XX\n",
      "3. Joining gene name (optional)\n",
      "4. Frequency (optional)\n",
      "5. Other information (optional)\n",
      "\n",
      "Processing data.txt\n",
      "Collecting data and building K-mer index\n",
      "Done! Time Elapsed 1.174060\n",
      "Performing pairwise alignment\n",
      "Number of pairs to be processed: 532794\n",
      "Done!\n",
      "Dividing CDR3s into clusters\n",
      "    Solved 200 clusters\n",
      "    Solved 400 clusters\n",
      "Done! Time Elapsed 8.814133\n",
      "Total time elapsed: 12.007101\n",
      "Maximum memory usage: 0.099896 MB\n",
      "Elapsed time: 12.184843063354492 seconds.\n",
      "TCR-epitope paires count in V100 dataset: 11197\n",
      "Clustering 11197 sequences with iSMART.\n",
      "\n",
      "iSMARTf is intended to perform pairwise CDR3 alignment for large volume (10^6-10^8) of sequneces. It implements\n",
      "k-mer based clustering to recursively reduce the search space, and report sequences with high similarity.\n",
      "Currently, gap is not supported. \n",
      "\n",
      "Input columns:\n",
      "1. CDR3 amino acid sequence (Starting from C, ending with the first F/L in motif [FL]G.G)\n",
      "2. Variable gene name in Imgt format: TRBVXX-XX*XX\n",
      "3. Joining gene name (optional)\n",
      "4. Frequency (optional)\n",
      "5. Other information (optional)\n",
      "\n",
      "Processing data.txt\n",
      "Collecting data and building K-mer index\n",
      "Done! Time Elapsed 1.085978\n",
      "Performing pairwise alignment\n",
      "Number of pairs to be processed: 487854\n",
      "Done!\n",
      "Dividing CDR3s into clusters\n",
      "    Solved 200 clusters\n",
      "    Solved 400 clusters\n",
      "Done! Time Elapsed 8.919523\n",
      "Total time elapsed: 12.097169\n",
      "Maximum memory usage: 0.096600 MB\n",
      "Elapsed time: 12.24834656715393 seconds.\n",
      "TCR-epitope paires count in V500 dataset: 6920\n",
      "Clustering 6920 sequences with iSMART.\n",
      "\n",
      "iSMARTf is intended to perform pairwise CDR3 alignment for large volume (10^6-10^8) of sequneces. It implements\n",
      "k-mer based clustering to recursively reduce the search space, and report sequences with high similarity.\n",
      "Currently, gap is not supported. \n",
      "\n",
      "Input columns:\n",
      "1. CDR3 amino acid sequence (Starting from C, ending with the first F/L in motif [FL]G.G)\n",
      "2. Variable gene name in Imgt format: TRBVXX-XX*XX\n",
      "3. Joining gene name (optional)\n",
      "4. Frequency (optional)\n",
      "5. Other information (optional)\n",
      "\n",
      "Processing data.txt\n",
      "Collecting data and building K-mer index\n",
      "Done! Time Elapsed 0.634546\n",
      "Performing pairwise alignment\n",
      "Number of pairs to be processed: 249348\n",
      "Done!\n",
      "Dividing CDR3s into clusters\n",
      "    Solved 200 clusters\n",
      "Done! Time Elapsed 4.886814\n",
      "Total time elapsed: 8.079277\n",
      "Maximum memory usage: 0.077936 MB\n",
      "Elapsed time: 8.228058099746704 seconds.\n",
      "TCR-epitope paires count in V1000 dataset: 6048\n",
      "Clustering 6048 sequences with iSMART.\n",
      "\n",
      "iSMARTf is intended to perform pairwise CDR3 alignment for large volume (10^6-10^8) of sequneces. It implements\n",
      "k-mer based clustering to recursively reduce the search space, and report sequences with high similarity.\n",
      "Currently, gap is not supported. \n",
      "\n",
      "Input columns:\n",
      "1. CDR3 amino acid sequence (Starting from C, ending with the first F/L in motif [FL]G.G)\n",
      "2. Variable gene name in Imgt format: TRBVXX-XX*XX\n",
      "3. Joining gene name (optional)\n",
      "4. Frequency (optional)\n",
      "5. Other information (optional)\n",
      "\n",
      "Processing data.txt\n",
      "Collecting data and building K-mer index\n",
      "Done! Time Elapsed 0.564727\n",
      "Performing pairwise alignment\n",
      "Number of pairs to be processed: 221654\n",
      "Done!\n",
      "Dividing CDR3s into clusters\n",
      "    Solved 200 clusters\n",
      "Done! Time Elapsed 4.354643\n",
      "Total time elapsed: 7.633949\n",
      "Maximum memory usage: 0.075088 MB\n",
      "Elapsed time: 7.784619331359863 seconds.\n"
     ]
    }
   ],
   "source": [
    "## Run ismart\n",
    "chain = 'TRA'\n",
    "for i in samples_n:\n",
    "    ismart_res_raw_v[i]={}\n",
    "    vdjdb_v = pd.read_csv(f'data/data_preped/VDJdb_data_{chain}_V{i}.csv',sep='\\t')\n",
    "    vdjdb_v[tcr_columns_paired[chain][1]]= vdjdb_v[tcr_columns_paired[chain][1]] + '*01'\n",
    "    vdjdb_v[tcr_columns_paired[chain][2]]= vdjdb_v[tcr_columns_paired[chain][2]] + '*01'\n",
    "    print(f\"TCR-epitope paires count in V{i} dataset: {len(vdjdb_v)}\")\n",
    "    \n",
    "    ismart_res_raw_v[i][chain] = models.run_ismart(vdjdb_v, chain, f'V{i}',2)\n",
    "    \n"
   ]
  },
  {
   "cell_type": "code",
   "execution_count": 8,
   "id": "d3c402ab-23ba-464c-8b6d-738d0f3902f1",
   "metadata": {},
   "outputs": [
    {
     "name": "stdout",
     "output_type": "stream",
     "text": [
      "TCR-epitope paires count in V10 dataset: 27135\n",
      "Clustering 27135 sequences with iSMART.\n",
      "\n",
      "iSMARTf is intended to perform pairwise CDR3 alignment for large volume (10^6-10^8) of sequneces. It implements\n",
      "k-mer based clustering to recursively reduce the search space, and report sequences with high similarity.\n",
      "Currently, gap is not supported. \n",
      "\n",
      "Input columns:\n",
      "1. CDR3 amino acid sequence (Starting from C, ending with the first F/L in motif [FL]G.G)\n",
      "2. Variable gene name in Imgt format: TRBVXX-XX*XX\n",
      "3. Joining gene name (optional)\n",
      "4. Frequency (optional)\n",
      "5. Other information (optional)\n",
      "\n",
      "Processing data.txt\n",
      "Collecting data and building K-mer index\n",
      "Done! Time Elapsed 5.596825\n",
      "Performing pairwise alignment\n",
      "Number of pairs to be processed: 2569922\n",
      "Processed 1000000 pairs. Elapsed time 15.958491\n",
      "Processed 2000000 pairs. Elapsed time 34.258090\n",
      "Done!\n",
      "Dividing CDR3s into clusters\n",
      "    Solved 200 clusters\n",
      "    Solved 400 clusters\n",
      "    Solved 600 clusters\n",
      "    Solved 800 clusters\n",
      "Done! Time Elapsed 48.574325\n",
      "Total time elapsed: 51.778190\n",
      "Maximum memory usage: 0.264804 MB\n",
      "Elapsed time: 51.934531688690186 seconds.\n",
      "TCR-epitope paires count in V50 dataset: 24964\n",
      "Clustering 24964 sequences with iSMART.\n",
      "\n",
      "iSMARTf is intended to perform pairwise CDR3 alignment for large volume (10^6-10^8) of sequneces. It implements\n",
      "k-mer based clustering to recursively reduce the search space, and report sequences with high similarity.\n",
      "Currently, gap is not supported. \n",
      "\n",
      "Input columns:\n",
      "1. CDR3 amino acid sequence (Starting from C, ending with the first F/L in motif [FL]G.G)\n",
      "2. Variable gene name in Imgt format: TRBVXX-XX*XX\n",
      "3. Joining gene name (optional)\n",
      "4. Frequency (optional)\n",
      "5. Other information (optional)\n",
      "\n",
      "Processing data.txt\n",
      "Collecting data and building K-mer index\n",
      "Done! Time Elapsed 4.919038\n",
      "Performing pairwise alignment\n",
      "Number of pairs to be processed: 2150092\n",
      "Processed 1000000 pairs. Elapsed time 17.875855\n",
      "Processed 2000000 pairs. Elapsed time 36.055453\n",
      "Done!\n",
      "Dividing CDR3s into clusters\n",
      "    Solved 200 clusters\n",
      "    Solved 400 clusters\n",
      "    Solved 600 clusters\n",
      "    Solved 800 clusters\n",
      "Done! Time Elapsed 43.154639\n",
      "Total time elapsed: 46.468458\n",
      "Maximum memory usage: 0.236036 MB\n",
      "Elapsed time: 46.62591552734375 seconds.\n",
      "TCR-epitope paires count in V100 dataset: 22643\n",
      "Clustering 22643 sequences with iSMART.\n",
      "\n",
      "iSMARTf is intended to perform pairwise CDR3 alignment for large volume (10^6-10^8) of sequneces. It implements\n",
      "k-mer based clustering to recursively reduce the search space, and report sequences with high similarity.\n",
      "Currently, gap is not supported. \n",
      "\n",
      "Input columns:\n",
      "1. CDR3 amino acid sequence (Starting from C, ending with the first F/L in motif [FL]G.G)\n",
      "2. Variable gene name in Imgt format: TRBVXX-XX*XX\n",
      "3. Joining gene name (optional)\n",
      "4. Frequency (optional)\n",
      "5. Other information (optional)\n",
      "\n",
      "Processing data.txt\n",
      "Collecting data and building K-mer index\n",
      "Done! Time Elapsed 4.333569\n",
      "Performing pairwise alignment\n",
      "Number of pairs to be processed: 1816142\n",
      "Processed 1000000 pairs. Elapsed time 18.158673\n",
      "Done!\n",
      "Dividing CDR3s into clusters\n",
      "    Solved 200 clusters\n",
      "    Solved 400 clusters\n",
      "    Solved 600 clusters\n",
      "Done! Time Elapsed 38.646192\n",
      "Total time elapsed: 41.849995\n",
      "Maximum memory usage: 0.213616 MB\n",
      "Elapsed time: 42.00106739997864 seconds.\n",
      "TCR-epitope paires count in V500 dataset: 14719\n",
      "Clustering 14719 sequences with iSMART.\n",
      "\n",
      "iSMARTf is intended to perform pairwise CDR3 alignment for large volume (10^6-10^8) of sequneces. It implements\n",
      "k-mer based clustering to recursively reduce the search space, and report sequences with high similarity.\n",
      "Currently, gap is not supported. \n",
      "\n",
      "Input columns:\n",
      "1. CDR3 amino acid sequence (Starting from C, ending with the first F/L in motif [FL]G.G)\n",
      "2. Variable gene name in Imgt format: TRBVXX-XX*XX\n",
      "3. Joining gene name (optional)\n",
      "4. Frequency (optional)\n",
      "5. Other information (optional)\n",
      "\n",
      "Processing data.txt\n",
      "Collecting data and building K-mer index\n",
      "Done! Time Elapsed 2.427682\n",
      "Performing pairwise alignment\n",
      "Number of pairs to be processed: 846170\n",
      "Done!\n",
      "Dividing CDR3s into clusters\n",
      "    Solved 200 clusters\n",
      "    Solved 400 clusters\n",
      "Done! Time Elapsed 22.762959\n",
      "Total time elapsed: 26.064603\n",
      "Maximum memory usage: 0.138936 MB\n",
      "Elapsed time: 26.21463441848755 seconds.\n",
      "TCR-epitope paires count in V1000 dataset: 13514\n",
      "Clustering 13514 sequences with iSMART.\n",
      "\n",
      "iSMARTf is intended to perform pairwise CDR3 alignment for large volume (10^6-10^8) of sequneces. It implements\n",
      "k-mer based clustering to recursively reduce the search space, and report sequences with high similarity.\n",
      "Currently, gap is not supported. \n",
      "\n",
      "Input columns:\n",
      "1. CDR3 amino acid sequence (Starting from C, ending with the first F/L in motif [FL]G.G)\n",
      "2. Variable gene name in Imgt format: TRBVXX-XX*XX\n",
      "3. Joining gene name (optional)\n",
      "4. Frequency (optional)\n",
      "5. Other information (optional)\n",
      "\n",
      "Processing data.txt\n",
      "Collecting data and building K-mer index\n",
      "Done! Time Elapsed 2.183316\n",
      "Performing pairwise alignment\n",
      "Number of pairs to be processed: 748538\n",
      "Done!\n",
      "Dividing CDR3s into clusters\n",
      "    Solved 200 clusters\n",
      "Done! Time Elapsed 21.365393\n",
      "Total time elapsed: 24.579335\n",
      "Maximum memory usage: 0.129272 MB\n",
      "Elapsed time: 24.729523181915283 seconds.\n"
     ]
    }
   ],
   "source": [
    "## Run ismart\n",
    "chain = 'TRB'\n",
    "for i in samples_n:\n",
    "    ismart_res_raw_v[i]={}\n",
    "    vdjdb_v = pd.read_csv(f'data/data_preped/VDJdb_data_{chain}_V{i}.csv',sep='\\t')\n",
    "    vdjdb_v[tcr_columns_paired[chain][1]]= vdjdb_v[tcr_columns_paired[chain][1]] + '*01'\n",
    "    vdjdb_v[tcr_columns_paired[chain][2]]= vdjdb_v[tcr_columns_paired[chain][2]] + '*01'\n",
    "    print(f\"TCR-epitope paires count in V{i} dataset: {len(vdjdb_v)}\")\n",
    "    \n",
    "    ismart_res_raw_v[i][chain] = models.run_ismart(vdjdb_v, chain, f'V{i}',2)\n",
    "    \n"
   ]
  },
  {
   "cell_type": "code",
   "execution_count": null,
   "id": "fabf7f40-a38f-421f-a6d6-37e9a63af7d0",
   "metadata": {},
   "outputs": [],
   "source": []
  },
  {
   "cell_type": "code",
   "execution_count": 9,
   "id": "0704725a-9e64-4e3c-8356-f2534311e7a9",
   "metadata": {},
   "outputs": [
    {
     "name": "stdout",
     "output_type": "stream",
     "text": [
      "TCR-epitope paires count in V10 dataset: 13027\n",
      "{'f1': 0.8905104279291896, 'precision': 0.890577392061109, 'recall': 0.895746887966805}\n",
      "0.895746887966805\n"
     ]
    },
    {
     "name": "stderr",
     "output_type": "stream",
     "text": [
      "/home/ykremlyakova/.conda/envs/py311/lib/python3.11/site-packages/sklearn/metrics/_classification.py:1469: UndefinedMetricWarning: Precision is ill-defined and being set to 0.0 in labels with no predicted samples. Use `zero_division` parameter to control this behavior.\n",
      "  _warn_prf(average, modifier, msg_start, len(result))\n"
     ]
    },
    {
     "name": "stdout",
     "output_type": "stream",
     "text": [
      "{'purity': 0.895746887966805, 'retention': 0.2960006141091579, 'consistency': 0.004247098442480005, 'ami': 0.806072284660475, 'accuracy': 0.0005184031783199325, 'precision': 0.8905773920611086, 'recall': 0.8957468879668046, 'f1-score': 0.8931546599365099, 'support': 3856, 'mean_clustsize': 6.280130293159609, 'method': 'iSmart'}\n",
      "TCR-epitope paires count in V50 dataset: 11912\n",
      "{'f1': 0.9143651518927306, 'precision': 0.916690078205998, 'recall': 0.9157570668905681}\n",
      "0.9157570668905681\n",
      "{'purity': 0.9157570668905681, 'retention': 0.29994963062458024, 'consistency': 0.0086237055695494, 'ami': 0.8221288845295603, 'accuracy': 0.10934466752345172, 'precision': 0.916690078205998, 'recall': 0.9157570668905682, 'f1-score': 0.916223335021619, 'support': 3573, 'mean_clustsize': 6.496363636363636, 'method': 'iSmart'}\n",
      "TCR-epitope paires count in V100 dataset: 11197\n",
      "{'f1': 0.9264126687141963, 'precision': 0.9278527792120849, 'recall': 0.9267216009417304}\n",
      "0.9267216009417304\n",
      "{'purity': 0.9267216009417304, 'retention': 0.30347414486023044, 'consistency': 0.01320104263011856, 'ami': 0.830656989455838, 'accuracy': 0.11453306154885973, 'precision': 0.927852779212085, 'recall': 0.9267216009417305, 'f1-score': 0.9272868451017228, 'support': 3398, 'mean_clustsize': 6.782435129740519, 'method': 'iSmart'}\n",
      "TCR-epitope paires count in V500 dataset: 6920\n",
      "{'f1': 0.9623844862326527, 'precision': 0.9628049962184633, 'recall': 0.9621172807472755}\n",
      "0.9621172807472755\n",
      "{'purity': 0.9621172807472755, 'retention': 0.27846820809248557, 'consistency': 0.04843452689846047, 'ami': 0.8025410445842651, 'accuracy': 0.1969984345583168, 'precision': 0.9628049962184632, 'recall': 0.9621172807472756, 'f1-score': 0.9624610156330861, 'support': 1927, 'mean_clustsize': 6.857651245551601, 'method': 'iSmart'}\n",
      "TCR-epitope paires count in V1000 dataset: 6048\n",
      "{'f1': 0.9659462999345121, 'precision': 0.9659462999345121, 'recall': 0.9659462999345121}\n",
      "0.9659462999345121\n",
      "{'purity': 0.9659462999345121, 'retention': 0.2524801587301587, 'consistency': 0.05893909626719057, 'ami': 0.6894147594504704, 'accuracy': 0.15687929429191813, 'precision': 0.9659462999345121, 'recall': 0.9659462999345121, 'f1-score': 0.9659462999345121, 'support': 1527, 'mean_clustsize': 6.697368421052632, 'method': 'iSmart'}\n"
     ]
    }
   ],
   "source": [
    "## work with results\n",
    "chain = 'TRA'\n",
    "ismart_res_raw_v[chain]={}\n",
    "ismart_res_v[chain]={}\n",
    "metrics_ismart_v[chain]={}\n",
    "\n",
    "for i in samples_n:\n",
    "    ismart_res_raw_v[chain][i] = pd.read_csv(f'benchmark/outputs/ismart_res_{chain}_V{i}.txt',sep='\\t')\n",
    "    \n",
    "    vdjdb_v = pd.read_csv(f'data/data_preped/VDJdb_data_{chain}_V{i}.csv',sep='\\t')\n",
    "    vdjdb_v[tcr_columns_paired[chain][1]]= vdjdb_v[tcr_columns_paired[chain][1]] + '*01'\n",
    "    vdjdb_v[tcr_columns_paired[chain][2]]= vdjdb_v[tcr_columns_paired[chain][2]] + '*01'\n",
    "    print(f\"TCR-epitope paires count in V{i} dataset: {len(vdjdb_v[~vdjdb_v[tcr_columns_paired[chain][0]].isna()])}\")\n",
    "    \n",
    "    ismart_res_v[chain][i] = vdjdb_v[~vdjdb_v[tcr_columns_paired[chain][0]].isna()][['data_id',tcr_columns_paired[chain][0],tcr_columns_paired[chain][2],'antigen.epitope']].merge(ismart_res_raw_v[chain][i], how = 'left')\n",
    "    ismart_res_v[chain][i]['is_cluster'] = ismart_res_v[chain][i]['is_cluster'].fillna(0)\n",
    "    \n",
    "    print(ml_utils.clsf_metrics(ismart_res_raw_v[chain][i]['antigen.epitope'],ismart_res_raw_v[chain][i]['label_cluster'], average='weighted'))\n",
    "    print(ml_utils.count_clstr_purity(ismart_res_raw_v[chain][i][['cluster','label_cluster','total_cluster','count_matched','fraction_matched','p_value','fraction_matched_exp','is_cluster']].drop_duplicates()))\n",
    "    \n",
    "    metrics_ismart_v[chain][i] = metrics.get_clustermetrics(ismart_res_v[chain][i], 'antigen.epitope')\n",
    "    metrics_ismart_v[chain][i]['method']='iSmart'\n",
    "    print(metrics_ismart_v[chain][i])"
   ]
  },
  {
   "cell_type": "code",
   "execution_count": 10,
   "id": "694a97c5-181c-4065-9b09-7fb871aa5c30",
   "metadata": {},
   "outputs": [
    {
     "name": "stdout",
     "output_type": "stream",
     "text": [
      "TCR-epitope paires count in V10 dataset: 27135\n",
      "{'f1': 0.922622716128603, 'precision': 0.9250365254533343, 'recall': 0.9266022827041265}\n",
      "0.9266022827041265\n"
     ]
    },
    {
     "name": "stderr",
     "output_type": "stream",
     "text": [
      "/home/ykremlyakova/.conda/envs/py311/lib/python3.11/site-packages/sklearn/metrics/_classification.py:1469: UndefinedMetricWarning: Precision is ill-defined and being set to 0.0 in labels with no predicted samples. Use `zero_division` parameter to control this behavior.\n",
      "  _warn_prf(average, modifier, msg_start, len(result))\n"
     ]
    },
    {
     "name": "stdout",
     "output_type": "stream",
     "text": [
      "{'purity': 0.9266022827041265, 'retention': 0.20987654320987653, 'consistency': 0.002294860538934288, 'ami': 0.8910188082825049, 'accuracy': 0.002104151555397623, 'precision': 0.9250365254533345, 'recall': 0.9266022827041269, 'f1-score': 0.9258187420717137, 'support': 5695, 'mean_clustsize': 6.130247578040904, 'method': 'iSmart'}\n",
      "TCR-epitope paires count in V50 dataset: 24964\n",
      "{'f1': 0.931425606273726, 'precision': 0.9348051103709515, 'recall': 0.9340453438261196}\n",
      "0.9340453438261196\n"
     ]
    },
    {
     "name": "stderr",
     "output_type": "stream",
     "text": [
      "/home/ykremlyakova/.conda/envs/py311/lib/python3.11/site-packages/sklearn/metrics/_classification.py:1469: UndefinedMetricWarning: Precision is ill-defined and being set to 0.0 in labels with no predicted samples. Use `zero_division` parameter to control this behavior.\n",
      "  _warn_prf(average, modifier, msg_start, len(result))\n"
     ]
    },
    {
     "name": "stdout",
     "output_type": "stream",
     "text": [
      "{'purity': 0.9340453438261196, 'retention': 0.21378785451049512, 'consistency': 0.003908404521187458, 'ami': 0.8935140377666198, 'accuracy': 0.002245083823589663, 'precision': 0.9348051103709518, 'recall': 0.9340453438261196, 'f1-score': 0.9344250726599606, 'support': 5337, 'mean_clustsize': 6.368735083532219, 'method': 'iSmart'}\n",
      "TCR-epitope paires count in V100 dataset: 22643\n",
      "{'f1': 0.9398048897190318, 'precision': 0.9418853881256337, 'recall': 0.941747572815534}\n",
      "0.941747572815534\n"
     ]
    },
    {
     "name": "stderr",
     "output_type": "stream",
     "text": [
      "/home/ykremlyakova/.conda/envs/py311/lib/python3.11/site-packages/sklearn/metrics/_classification.py:1469: UndefinedMetricWarning: Precision is ill-defined and being set to 0.0 in labels with no predicted samples. Use `zero_division` parameter to control this behavior.\n",
      "  _warn_prf(average, modifier, msg_start, len(result))\n"
     ]
    },
    {
     "name": "stdout",
     "output_type": "stream",
     "text": [
      "{'purity': 0.941747572815534, 'retention': 0.20924789118049728, 'consistency': 0.006074395906474896, 'ami': 0.8882522263654906, 'accuracy': 0.0025284377978464978, 'precision': 0.941885388125634, 'recall': 0.941747572815534, 'f1-score': 0.941816475428981, 'support': 4738, 'mean_clustsize': 6.635854341736695, 'method': 'iSmart'}\n",
      "TCR-epitope paires count in V500 dataset: 14719\n",
      "{'f1': 0.975170394525824, 'precision': 0.9756778616312436, 'recall': 0.9752691300552808}\n",
      "0.9752691300552808\n",
      "{'purity': 0.9752691300552808, 'retention': 0.23350771112167945, 'consistency': 0.03537137869404381, 'ami': 0.9112920977655182, 'accuracy': 0.10788016120248856, 'precision': 0.9756778616312436, 'recall': 0.9752691300552808, 'f1-score': 0.9754734530277726, 'support': 3437, 'mean_clustsize': 7.864988558352403, 'method': 'iSmart'}\n",
      "TCR-epitope paires count in V1000 dataset: 13514\n",
      "{'f1': 0.9765956921769379, 'precision': 0.9770265059966788, 'recall': 0.9767733835530445}\n",
      "0.9767733835530445\n",
      "{'purity': 0.9767733835530445, 'retention': 0.23575551280153914, 'consistency': 0.05185185185185186, 'ami': 0.9065580966980724, 'accuracy': 0.11637385627405523, 'precision': 0.977026505996679, 'recall': 0.9767733835530445, 'f1-score': 0.9768999283783588, 'support': 3186, 'mean_clustsize': 8.541554959785524, 'method': 'iSmart'}\n"
     ]
    }
   ],
   "source": [
    "## work with results\n",
    "chain = 'TRB'\n",
    "ismart_res_raw_v[chain]={}\n",
    "ismart_res_v[chain]={}\n",
    "metrics_ismart_v[chain]={}\n",
    "\n",
    "for i in samples_n:\n",
    "    ismart_res_raw_v[chain][i] = pd.read_csv(f'benchmark/outputs/ismart_res_{chain}_V{i}.txt',sep='\\t')\n",
    "    \n",
    "    vdjdb_v = pd.read_csv(f'data/data_preped/VDJdb_data_{chain}_V{i}.csv',sep='\\t')\n",
    "    vdjdb_v[tcr_columns_paired[chain][1]]= vdjdb_v[tcr_columns_paired[chain][1]] + '*01'\n",
    "    vdjdb_v[tcr_columns_paired[chain][2]]= vdjdb_v[tcr_columns_paired[chain][2]] + '*01'\n",
    "    print(f\"TCR-epitope paires count in V{i} dataset: {len(vdjdb_v[~vdjdb_v[tcr_columns_paired[chain][0]].isna()])}\")\n",
    "    \n",
    "    ismart_res_v[chain][i] = vdjdb_v[~vdjdb_v[tcr_columns_paired[chain][0]].isna()][['data_id',tcr_columns_paired[chain][0],tcr_columns_paired[chain][2],'antigen.epitope']].merge(ismart_res_raw_v[chain][i], how = 'left')\n",
    "    ismart_res_v[chain][i]['is_cluster'] = ismart_res_v[chain][i]['is_cluster'].fillna(0)\n",
    "    \n",
    "    print(ml_utils.clsf_metrics(ismart_res_raw_v[chain][i]['antigen.epitope'],ismart_res_raw_v[chain][i]['label_cluster'], average='weighted'))\n",
    "    print(ml_utils.count_clstr_purity(ismart_res_raw_v[chain][i][['cluster','label_cluster','total_cluster','count_matched','fraction_matched','p_value','fraction_matched_exp','is_cluster']].drop_duplicates()))\n",
    "    \n",
    "    metrics_ismart_v[chain][i] = metrics.get_clustermetrics(ismart_res_v[chain][i], 'antigen.epitope')\n",
    "    metrics_ismart_v[chain][i]['method']='iSmart'\n",
    "    print(metrics_ismart_v[chain][i])"
   ]
  },
  {
   "cell_type": "code",
   "execution_count": 11,
   "id": "b42f3923-0996-4d96-afc8-a8cc6550c193",
   "metadata": {},
   "outputs": [
    {
     "data": {
      "text/html": [
       "<div>\n",
       "<style scoped>\n",
       "    .dataframe tbody tr th:only-of-type {\n",
       "        vertical-align: middle;\n",
       "    }\n",
       "\n",
       "    .dataframe tbody tr th {\n",
       "        vertical-align: top;\n",
       "    }\n",
       "\n",
       "    .dataframe thead th {\n",
       "        text-align: right;\n",
       "    }\n",
       "</style>\n",
       "<table border=\"1\" class=\"dataframe\">\n",
       "  <thead>\n",
       "    <tr style=\"text-align: right;\">\n",
       "      <th></th>\n",
       "      <th>data_id</th>\n",
       "      <th>b_cdr3aa</th>\n",
       "      <th>TRBJ</th>\n",
       "      <th>antigen.epitope</th>\n",
       "      <th>Unnamed: 0</th>\n",
       "      <th>CDR3</th>\n",
       "      <th>V</th>\n",
       "      <th>cluster</th>\n",
       "      <th>label_cluster</th>\n",
       "      <th>total_cluster</th>\n",
       "      <th>total_group</th>\n",
       "      <th>count_matched</th>\n",
       "      <th>fraction_matched</th>\n",
       "      <th>fraction_matched_exp</th>\n",
       "      <th>p_value</th>\n",
       "      <th>is_cluster</th>\n",
       "      <th>enriched_clstr</th>\n",
       "    </tr>\n",
       "  </thead>\n",
       "  <tbody>\n",
       "    <tr>\n",
       "      <th>0</th>\n",
       "      <td>667</td>\n",
       "      <td>CASSFTPYNEQFF</td>\n",
       "      <td>TRBJ2-1*01</td>\n",
       "      <td>ELAGIGILTV</td>\n",
       "      <td>NaN</td>\n",
       "      <td>NaN</td>\n",
       "      <td>NaN</td>\n",
       "      <td>NaN</td>\n",
       "      <td>NaN</td>\n",
       "      <td>NaN</td>\n",
       "      <td>NaN</td>\n",
       "      <td>NaN</td>\n",
       "      <td>NaN</td>\n",
       "      <td>NaN</td>\n",
       "      <td>NaN</td>\n",
       "      <td>0.0</td>\n",
       "      <td>NaN</td>\n",
       "    </tr>\n",
       "    <tr>\n",
       "      <th>1</th>\n",
       "      <td>668</td>\n",
       "      <td>CASSPQGLGTEAFF</td>\n",
       "      <td>TRBJ1-1*01</td>\n",
       "      <td>ELAGIGILTV</td>\n",
       "      <td>0.0</td>\n",
       "      <td>CASSPQGLGTEAFF</td>\n",
       "      <td>TRBV28*01</td>\n",
       "      <td>0.0</td>\n",
       "      <td>ELAGIGILTV</td>\n",
       "      <td>2.0</td>\n",
       "      <td>47.0</td>\n",
       "      <td>2.0</td>\n",
       "      <td>1.0</td>\n",
       "      <td>0.014752</td>\n",
       "      <td>0.000218</td>\n",
       "      <td>1.0</td>\n",
       "      <td>1.0</td>\n",
       "    </tr>\n",
       "    <tr>\n",
       "      <th>2</th>\n",
       "      <td>669</td>\n",
       "      <td>CAEGQGFVGQPQHF</td>\n",
       "      <td>TRBJ1-5*01</td>\n",
       "      <td>ELAGIGILTV</td>\n",
       "      <td>NaN</td>\n",
       "      <td>NaN</td>\n",
       "      <td>NaN</td>\n",
       "      <td>NaN</td>\n",
       "      <td>NaN</td>\n",
       "      <td>NaN</td>\n",
       "      <td>NaN</td>\n",
       "      <td>NaN</td>\n",
       "      <td>NaN</td>\n",
       "      <td>NaN</td>\n",
       "      <td>NaN</td>\n",
       "      <td>0.0</td>\n",
       "      <td>NaN</td>\n",
       "    </tr>\n",
       "    <tr>\n",
       "      <th>3</th>\n",
       "      <td>670</td>\n",
       "      <td>CASLRSAVWADTQYF</td>\n",
       "      <td>TRBJ2-3*01</td>\n",
       "      <td>ELAGIGILTV</td>\n",
       "      <td>NaN</td>\n",
       "      <td>NaN</td>\n",
       "      <td>NaN</td>\n",
       "      <td>NaN</td>\n",
       "      <td>NaN</td>\n",
       "      <td>NaN</td>\n",
       "      <td>NaN</td>\n",
       "      <td>NaN</td>\n",
       "      <td>NaN</td>\n",
       "      <td>NaN</td>\n",
       "      <td>NaN</td>\n",
       "      <td>0.0</td>\n",
       "      <td>NaN</td>\n",
       "    </tr>\n",
       "    <tr>\n",
       "      <th>4</th>\n",
       "      <td>671</td>\n",
       "      <td>CASTLTGLGQPQHF</td>\n",
       "      <td>TRBJ1-5*01</td>\n",
       "      <td>ELAGIGILTV</td>\n",
       "      <td>2.0</td>\n",
       "      <td>CASTLTGLGQPQHF</td>\n",
       "      <td>TRBV28*01</td>\n",
       "      <td>2.0</td>\n",
       "      <td>ELAGIGILTV</td>\n",
       "      <td>3.0</td>\n",
       "      <td>47.0</td>\n",
       "      <td>3.0</td>\n",
       "      <td>1.0</td>\n",
       "      <td>0.014752</td>\n",
       "      <td>0.000003</td>\n",
       "      <td>1.0</td>\n",
       "      <td>1.0</td>\n",
       "    </tr>\n",
       "    <tr>\n",
       "      <th>...</th>\n",
       "      <td>...</td>\n",
       "      <td>...</td>\n",
       "      <td>...</td>\n",
       "      <td>...</td>\n",
       "      <td>...</td>\n",
       "      <td>...</td>\n",
       "      <td>...</td>\n",
       "      <td>...</td>\n",
       "      <td>...</td>\n",
       "      <td>...</td>\n",
       "      <td>...</td>\n",
       "      <td>...</td>\n",
       "      <td>...</td>\n",
       "      <td>...</td>\n",
       "      <td>...</td>\n",
       "      <td>...</td>\n",
       "      <td>...</td>\n",
       "    </tr>\n",
       "    <tr>\n",
       "      <th>13509</th>\n",
       "      <td>61766</td>\n",
       "      <td>CASLLKLRDTSYEQYF</td>\n",
       "      <td>TRBJ2-7*01</td>\n",
       "      <td>YLQPRTFLL</td>\n",
       "      <td>NaN</td>\n",
       "      <td>NaN</td>\n",
       "      <td>NaN</td>\n",
       "      <td>NaN</td>\n",
       "      <td>NaN</td>\n",
       "      <td>NaN</td>\n",
       "      <td>NaN</td>\n",
       "      <td>NaN</td>\n",
       "      <td>NaN</td>\n",
       "      <td>NaN</td>\n",
       "      <td>NaN</td>\n",
       "      <td>0.0</td>\n",
       "      <td>NaN</td>\n",
       "    </tr>\n",
       "    <tr>\n",
       "      <th>13510</th>\n",
       "      <td>61768</td>\n",
       "      <td>CSVMDSLNTGELFF</td>\n",
       "      <td>TRBJ2-2*01</td>\n",
       "      <td>YLQPRTFLL</td>\n",
       "      <td>NaN</td>\n",
       "      <td>NaN</td>\n",
       "      <td>NaN</td>\n",
       "      <td>NaN</td>\n",
       "      <td>NaN</td>\n",
       "      <td>NaN</td>\n",
       "      <td>NaN</td>\n",
       "      <td>NaN</td>\n",
       "      <td>NaN</td>\n",
       "      <td>NaN</td>\n",
       "      <td>NaN</td>\n",
       "      <td>0.0</td>\n",
       "      <td>NaN</td>\n",
       "    </tr>\n",
       "    <tr>\n",
       "      <th>13511</th>\n",
       "      <td>61774</td>\n",
       "      <td>CASQQGNTGELFF</td>\n",
       "      <td>TRBJ2-2*01</td>\n",
       "      <td>YLQPRTFLL</td>\n",
       "      <td>1878.0</td>\n",
       "      <td>CASQQGNTGELFF</td>\n",
       "      <td>TRBV19*01</td>\n",
       "      <td>126.0</td>\n",
       "      <td>YLQPRTFLL</td>\n",
       "      <td>6.0</td>\n",
       "      <td>371.0</td>\n",
       "      <td>6.0</td>\n",
       "      <td>1.0</td>\n",
       "      <td>0.116447</td>\n",
       "      <td>0.000002</td>\n",
       "      <td>1.0</td>\n",
       "      <td>1.0</td>\n",
       "    </tr>\n",
       "    <tr>\n",
       "      <th>13512</th>\n",
       "      <td>61775</td>\n",
       "      <td>CATQDGNTGELFF</td>\n",
       "      <td>TRBJ2-2*01</td>\n",
       "      <td>YLQPRTFLL</td>\n",
       "      <td>NaN</td>\n",
       "      <td>NaN</td>\n",
       "      <td>NaN</td>\n",
       "      <td>NaN</td>\n",
       "      <td>NaN</td>\n",
       "      <td>NaN</td>\n",
       "      <td>NaN</td>\n",
       "      <td>NaN</td>\n",
       "      <td>NaN</td>\n",
       "      <td>NaN</td>\n",
       "      <td>NaN</td>\n",
       "      <td>0.0</td>\n",
       "      <td>NaN</td>\n",
       "    </tr>\n",
       "    <tr>\n",
       "      <th>13513</th>\n",
       "      <td>61799</td>\n",
       "      <td>CASNPDRNTGELFF</td>\n",
       "      <td>TRBJ2-2*01</td>\n",
       "      <td>YLQPRTFLL</td>\n",
       "      <td>NaN</td>\n",
       "      <td>NaN</td>\n",
       "      <td>NaN</td>\n",
       "      <td>NaN</td>\n",
       "      <td>NaN</td>\n",
       "      <td>NaN</td>\n",
       "      <td>NaN</td>\n",
       "      <td>NaN</td>\n",
       "      <td>NaN</td>\n",
       "      <td>NaN</td>\n",
       "      <td>NaN</td>\n",
       "      <td>0.0</td>\n",
       "      <td>NaN</td>\n",
       "    </tr>\n",
       "  </tbody>\n",
       "</table>\n",
       "<p>13514 rows × 17 columns</p>\n",
       "</div>"
      ],
      "text/plain": [
       "       data_id          b_cdr3aa        TRBJ antigen.epitope  Unnamed: 0  \\\n",
       "0          667     CASSFTPYNEQFF  TRBJ2-1*01      ELAGIGILTV         NaN   \n",
       "1          668    CASSPQGLGTEAFF  TRBJ1-1*01      ELAGIGILTV         0.0   \n",
       "2          669    CAEGQGFVGQPQHF  TRBJ1-5*01      ELAGIGILTV         NaN   \n",
       "3          670   CASLRSAVWADTQYF  TRBJ2-3*01      ELAGIGILTV         NaN   \n",
       "4          671    CASTLTGLGQPQHF  TRBJ1-5*01      ELAGIGILTV         2.0   \n",
       "...        ...               ...         ...             ...         ...   \n",
       "13509    61766  CASLLKLRDTSYEQYF  TRBJ2-7*01       YLQPRTFLL         NaN   \n",
       "13510    61768    CSVMDSLNTGELFF  TRBJ2-2*01       YLQPRTFLL         NaN   \n",
       "13511    61774     CASQQGNTGELFF  TRBJ2-2*01       YLQPRTFLL      1878.0   \n",
       "13512    61775     CATQDGNTGELFF  TRBJ2-2*01       YLQPRTFLL         NaN   \n",
       "13513    61799    CASNPDRNTGELFF  TRBJ2-2*01       YLQPRTFLL         NaN   \n",
       "\n",
       "                 CDR3          V  cluster label_cluster  total_cluster  \\\n",
       "0                 NaN        NaN      NaN           NaN            NaN   \n",
       "1      CASSPQGLGTEAFF  TRBV28*01      0.0    ELAGIGILTV            2.0   \n",
       "2                 NaN        NaN      NaN           NaN            NaN   \n",
       "3                 NaN        NaN      NaN           NaN            NaN   \n",
       "4      CASTLTGLGQPQHF  TRBV28*01      2.0    ELAGIGILTV            3.0   \n",
       "...               ...        ...      ...           ...            ...   \n",
       "13509             NaN        NaN      NaN           NaN            NaN   \n",
       "13510             NaN        NaN      NaN           NaN            NaN   \n",
       "13511   CASQQGNTGELFF  TRBV19*01    126.0     YLQPRTFLL            6.0   \n",
       "13512             NaN        NaN      NaN           NaN            NaN   \n",
       "13513             NaN        NaN      NaN           NaN            NaN   \n",
       "\n",
       "       total_group  count_matched  fraction_matched  fraction_matched_exp  \\\n",
       "0              NaN            NaN               NaN                   NaN   \n",
       "1             47.0            2.0               1.0              0.014752   \n",
       "2              NaN            NaN               NaN                   NaN   \n",
       "3              NaN            NaN               NaN                   NaN   \n",
       "4             47.0            3.0               1.0              0.014752   \n",
       "...            ...            ...               ...                   ...   \n",
       "13509          NaN            NaN               NaN                   NaN   \n",
       "13510          NaN            NaN               NaN                   NaN   \n",
       "13511        371.0            6.0               1.0              0.116447   \n",
       "13512          NaN            NaN               NaN                   NaN   \n",
       "13513          NaN            NaN               NaN                   NaN   \n",
       "\n",
       "        p_value  is_cluster  enriched_clstr  \n",
       "0           NaN         0.0             NaN  \n",
       "1      0.000218         1.0             1.0  \n",
       "2           NaN         0.0             NaN  \n",
       "3           NaN         0.0             NaN  \n",
       "4      0.000003         1.0             1.0  \n",
       "...         ...         ...             ...  \n",
       "13509       NaN         0.0             NaN  \n",
       "13510       NaN         0.0             NaN  \n",
       "13511  0.000002         1.0             1.0  \n",
       "13512       NaN         0.0             NaN  \n",
       "13513       NaN         0.0             NaN  \n",
       "\n",
       "[13514 rows x 17 columns]"
      ]
     },
     "execution_count": 11,
     "metadata": {},
     "output_type": "execute_result"
    }
   ],
   "source": [
    "ismart_res_v[chain][i]"
   ]
  },
  {
   "cell_type": "code",
   "execution_count": null,
   "id": "7725e481-a236-442e-8e53-6f71d6db7ae0",
   "metadata": {},
   "outputs": [],
   "source": []
  },
  {
   "cell_type": "markdown",
   "id": "624680d0-e7d6-4d01-b1ca-7b6eaf13b5f5",
   "metadata": {},
   "source": [
    "### GIANA"
   ]
  },
  {
   "cell_type": "code",
   "execution_count": 13,
   "id": "7b15c4b0-cf91-4a00-8cdf-2230a5fc6a3e",
   "metadata": {},
   "outputs": [
    {
     "name": "stdout",
     "output_type": "stream",
     "text": [
      "TCR-epitope paires count in V10 dataset: 13027\n",
      "GIANA clustering of 13027 sequences.\n"
     ]
    },
    {
     "name": "stderr",
     "output_type": "stream",
     "text": [
      "/home/ykremlyakova/.conda/envs/py311/lib/python3.11/site-packages/sklearn/manifold/_mds.py:298: FutureWarning: The default value of `normalized_stress` will change to `'auto'` in version 1.4. To suppress this warning, manually set the value of `normalized_stress`.\n",
      "  warnings.warn(\n",
      "/home/ykremlyakova/.conda/envs/py311/lib/python3.11/site-packages/sklearn/manifold/_mds.py:298: FutureWarning: The default value of `normalized_stress` will change to `'auto'` in version 1.4. To suppress this warning, manually set the value of `normalized_stress`.\n",
      "  warnings.warn(\n"
     ]
    },
    {
     "name": "stdout",
     "output_type": "stream",
     "text": [
      "\n",
      "GIANA: Geometric Isometry based ANtigen-specific tcr Alignment\n",
      "Ultrafast short peptide alignment exclusively designed for large-scale adaptome analysis\n",
      "\n",
      "Input columns:\n",
      "1. CDR3 amino acid sequence (Starting from C, ending with the first F/L in motif [FL]G.G)\n",
      "2. Variable gene name in Imgt format: TRBVXX-XX*XX\n",
      "3. Joining gene name (optional)\n",
      "4. Frequency (optional)\n",
      "5. Other information (optional)\n",
      "\n",
      "!!! ALL amino acid letters must be CAPITAL !!!\n",
      "\n",
      "\n",
      "Processing data.txt\n",
      "Total time elapsed: 1.629788\n",
      "Maximum memory usage: 0.191328 MB\n",
      "Elapsed time: 6.385992527008057 seconds.\n",
      "TCR-epitope paires count in V50 dataset: 11912\n",
      "GIANA clustering of 11912 sequences.\n"
     ]
    },
    {
     "name": "stderr",
     "output_type": "stream",
     "text": [
      "/home/ykremlyakova/.conda/envs/py311/lib/python3.11/site-packages/sklearn/manifold/_mds.py:298: FutureWarning: The default value of `normalized_stress` will change to `'auto'` in version 1.4. To suppress this warning, manually set the value of `normalized_stress`.\n",
      "  warnings.warn(\n",
      "/home/ykremlyakova/.conda/envs/py311/lib/python3.11/site-packages/sklearn/manifold/_mds.py:298: FutureWarning: The default value of `normalized_stress` will change to `'auto'` in version 1.4. To suppress this warning, manually set the value of `normalized_stress`.\n",
      "  warnings.warn(\n"
     ]
    },
    {
     "name": "stdout",
     "output_type": "stream",
     "text": [
      "\n",
      "GIANA: Geometric Isometry based ANtigen-specific tcr Alignment\n",
      "Ultrafast short peptide alignment exclusively designed for large-scale adaptome analysis\n",
      "\n",
      "Input columns:\n",
      "1. CDR3 amino acid sequence (Starting from C, ending with the first F/L in motif [FL]G.G)\n",
      "2. Variable gene name in Imgt format: TRBVXX-XX*XX\n",
      "3. Joining gene name (optional)\n",
      "4. Frequency (optional)\n",
      "5. Other information (optional)\n",
      "\n",
      "!!! ALL amino acid letters must be CAPITAL !!!\n",
      "\n",
      "\n",
      "Processing data.txt\n",
      "Total time elapsed: 1.442584\n",
      "Maximum memory usage: 0.189024 MB\n",
      "Elapsed time: 6.176640033721924 seconds.\n",
      "TCR-epitope paires count in V100 dataset: 11197\n",
      "GIANA clustering of 11197 sequences.\n"
     ]
    },
    {
     "name": "stderr",
     "output_type": "stream",
     "text": [
      "/home/ykremlyakova/.conda/envs/py311/lib/python3.11/site-packages/sklearn/manifold/_mds.py:298: FutureWarning: The default value of `normalized_stress` will change to `'auto'` in version 1.4. To suppress this warning, manually set the value of `normalized_stress`.\n",
      "  warnings.warn(\n",
      "/home/ykremlyakova/.conda/envs/py311/lib/python3.11/site-packages/sklearn/manifold/_mds.py:298: FutureWarning: The default value of `normalized_stress` will change to `'auto'` in version 1.4. To suppress this warning, manually set the value of `normalized_stress`.\n",
      "  warnings.warn(\n"
     ]
    },
    {
     "name": "stdout",
     "output_type": "stream",
     "text": [
      "\n",
      "GIANA: Geometric Isometry based ANtigen-specific tcr Alignment\n",
      "Ultrafast short peptide alignment exclusively designed for large-scale adaptome analysis\n",
      "\n",
      "Input columns:\n",
      "1. CDR3 amino acid sequence (Starting from C, ending with the first F/L in motif [FL]G.G)\n",
      "2. Variable gene name in Imgt format: TRBVXX-XX*XX\n",
      "3. Joining gene name (optional)\n",
      "4. Frequency (optional)\n",
      "5. Other information (optional)\n",
      "\n",
      "!!! ALL amino acid letters must be CAPITAL !!!\n",
      "\n",
      "\n",
      "Processing data.txt\n",
      "Total time elapsed: 1.292549\n",
      "Maximum memory usage: 0.185792 MB\n",
      "Elapsed time: 5.998913288116455 seconds.\n",
      "TCR-epitope paires count in V500 dataset: 6920\n",
      "GIANA clustering of 6920 sequences.\n"
     ]
    },
    {
     "name": "stderr",
     "output_type": "stream",
     "text": [
      "/home/ykremlyakova/.conda/envs/py311/lib/python3.11/site-packages/sklearn/manifold/_mds.py:298: FutureWarning: The default value of `normalized_stress` will change to `'auto'` in version 1.4. To suppress this warning, manually set the value of `normalized_stress`.\n",
      "  warnings.warn(\n",
      "/home/ykremlyakova/.conda/envs/py311/lib/python3.11/site-packages/sklearn/manifold/_mds.py:298: FutureWarning: The default value of `normalized_stress` will change to `'auto'` in version 1.4. To suppress this warning, manually set the value of `normalized_stress`.\n",
      "  warnings.warn(\n"
     ]
    },
    {
     "name": "stdout",
     "output_type": "stream",
     "text": [
      "\n",
      "GIANA: Geometric Isometry based ANtigen-specific tcr Alignment\n",
      "Ultrafast short peptide alignment exclusively designed for large-scale adaptome analysis\n",
      "\n",
      "Input columns:\n",
      "1. CDR3 amino acid sequence (Starting from C, ending with the first F/L in motif [FL]G.G)\n",
      "2. Variable gene name in Imgt format: TRBVXX-XX*XX\n",
      "3. Joining gene name (optional)\n",
      "4. Frequency (optional)\n",
      "5. Other information (optional)\n",
      "\n",
      "!!! ALL amino acid letters must be CAPITAL !!!\n",
      "\n",
      "\n",
      "Processing data.txt\n",
      "Total time elapsed: 0.825265\n",
      "Maximum memory usage: 0.176204 MB\n",
      "Elapsed time: 5.632134199142456 seconds.\n",
      "TCR-epitope paires count in V1000 dataset: 6048\n",
      "GIANA clustering of 6048 sequences.\n"
     ]
    },
    {
     "name": "stderr",
     "output_type": "stream",
     "text": [
      "/home/ykremlyakova/.conda/envs/py311/lib/python3.11/site-packages/sklearn/manifold/_mds.py:298: FutureWarning: The default value of `normalized_stress` will change to `'auto'` in version 1.4. To suppress this warning, manually set the value of `normalized_stress`.\n",
      "  warnings.warn(\n",
      "/home/ykremlyakova/.conda/envs/py311/lib/python3.11/site-packages/sklearn/manifold/_mds.py:298: FutureWarning: The default value of `normalized_stress` will change to `'auto'` in version 1.4. To suppress this warning, manually set the value of `normalized_stress`.\n",
      "  warnings.warn(\n"
     ]
    },
    {
     "name": "stdout",
     "output_type": "stream",
     "text": [
      "\n",
      "GIANA: Geometric Isometry based ANtigen-specific tcr Alignment\n",
      "Ultrafast short peptide alignment exclusively designed for large-scale adaptome analysis\n",
      "\n",
      "Input columns:\n",
      "1. CDR3 amino acid sequence (Starting from C, ending with the first F/L in motif [FL]G.G)\n",
      "2. Variable gene name in Imgt format: TRBVXX-XX*XX\n",
      "3. Joining gene name (optional)\n",
      "4. Frequency (optional)\n",
      "5. Other information (optional)\n",
      "\n",
      "!!! ALL amino acid letters must be CAPITAL !!!\n",
      "\n",
      "\n",
      "Processing data.txt\n",
      "Total time elapsed: 0.741748\n",
      "Maximum memory usage: 0.175216 MB\n",
      "Elapsed time: 5.504449844360352 seconds.\n"
     ]
    }
   ],
   "source": [
    "## Run Giana\n",
    "chain = 'TRA'\n",
    "giana_res_raw_v[chain]={}\n",
    "for i in samples_n:\n",
    "    vdjdb_v = pd.read_csv(f'data/data_preped/VDJdb_data_{chain}_V{i}.csv',sep='\\t')\n",
    "    vdjdb_v[tcr_columns_paired[chain][1]]= vdjdb_v[tcr_columns_paired[chain][1]] + '*01'\n",
    "    vdjdb_v[tcr_columns_paired[chain][2]]= vdjdb_v[tcr_columns_paired[chain][2]] + '*01'\n",
    "    print(f\"TCR-epitope paires count in V{i} dataset: {len(vdjdb_v)}\")\n",
    "    \n",
    "    giana_res_raw_v[chain][i] = models.run_GIANA(vdjdb_v, chain, f'V{i}',2)\n",
    "    \n"
   ]
  },
  {
   "cell_type": "code",
   "execution_count": null,
   "id": "b2d4699f-1e03-466b-b133-a71b46694aa7",
   "metadata": {},
   "outputs": [],
   "source": []
  },
  {
   "cell_type": "code",
   "execution_count": 32,
   "id": "10e28f0b-00d2-49cc-a3aa-ee886a6c85f8",
   "metadata": {},
   "outputs": [
    {
     "data": {
      "text/html": [
       "<div>\n",
       "<style scoped>\n",
       "    .dataframe tbody tr th:only-of-type {\n",
       "        vertical-align: middle;\n",
       "    }\n",
       "\n",
       "    .dataframe tbody tr th {\n",
       "        vertical-align: top;\n",
       "    }\n",
       "\n",
       "    .dataframe thead th {\n",
       "        text-align: right;\n",
       "    }\n",
       "</style>\n",
       "<table border=\"1\" class=\"dataframe\">\n",
       "  <thead>\n",
       "    <tr style=\"text-align: right;\">\n",
       "      <th></th>\n",
       "      <th>CDR3</th>\n",
       "      <th>V</th>\n",
       "      <th>antigen.epitope</th>\n",
       "      <th>data_id</th>\n",
       "      <th>cluster</th>\n",
       "      <th>label_cluster</th>\n",
       "      <th>total_cluster</th>\n",
       "      <th>total_group</th>\n",
       "      <th>count_matched</th>\n",
       "      <th>fraction_matched</th>\n",
       "      <th>fraction_matched_exp</th>\n",
       "      <th>p_value</th>\n",
       "      <th>is_cluster</th>\n",
       "      <th>enriched_clstr</th>\n",
       "    </tr>\n",
       "  </thead>\n",
       "  <tbody>\n",
       "    <tr>\n",
       "      <th>0</th>\n",
       "      <td>CAGAGSQGNLIF</td>\n",
       "      <td>TRAV27*01</td>\n",
       "      <td>GILGFVFTL</td>\n",
       "      <td>1174</td>\n",
       "      <td>93</td>\n",
       "      <td>GILGFVFTL</td>\n",
       "      <td>54</td>\n",
       "      <td>2062</td>\n",
       "      <td>54</td>\n",
       "      <td>1.0</td>\n",
       "      <td>0.665376</td>\n",
       "      <td>2.790118e-10</td>\n",
       "      <td>1</td>\n",
       "      <td>1</td>\n",
       "    </tr>\n",
       "    <tr>\n",
       "      <th>1</th>\n",
       "      <td>CAGAGSQGNLIF</td>\n",
       "      <td>TRAV27*01</td>\n",
       "      <td>GILGFVFTL</td>\n",
       "      <td>1196</td>\n",
       "      <td>93</td>\n",
       "      <td>GILGFVFTL</td>\n",
       "      <td>54</td>\n",
       "      <td>2062</td>\n",
       "      <td>54</td>\n",
       "      <td>1.0</td>\n",
       "      <td>0.665376</td>\n",
       "      <td>2.790118e-10</td>\n",
       "      <td>1</td>\n",
       "      <td>1</td>\n",
       "    </tr>\n",
       "    <tr>\n",
       "      <th>2</th>\n",
       "      <td>CAGAGSQGNLIF</td>\n",
       "      <td>TRAV27*01</td>\n",
       "      <td>GILGFVFTL</td>\n",
       "      <td>1197</td>\n",
       "      <td>93</td>\n",
       "      <td>GILGFVFTL</td>\n",
       "      <td>54</td>\n",
       "      <td>2062</td>\n",
       "      <td>54</td>\n",
       "      <td>1.0</td>\n",
       "      <td>0.665376</td>\n",
       "      <td>2.790118e-10</td>\n",
       "      <td>1</td>\n",
       "      <td>1</td>\n",
       "    </tr>\n",
       "    <tr>\n",
       "      <th>3</th>\n",
       "      <td>CAGAGSQGNLIF</td>\n",
       "      <td>TRAV27*01</td>\n",
       "      <td>GILGFVFTL</td>\n",
       "      <td>1198</td>\n",
       "      <td>93</td>\n",
       "      <td>GILGFVFTL</td>\n",
       "      <td>54</td>\n",
       "      <td>2062</td>\n",
       "      <td>54</td>\n",
       "      <td>1.0</td>\n",
       "      <td>0.665376</td>\n",
       "      <td>2.790118e-10</td>\n",
       "      <td>1</td>\n",
       "      <td>1</td>\n",
       "    </tr>\n",
       "    <tr>\n",
       "      <th>4</th>\n",
       "      <td>CAGAGSQGNLIF</td>\n",
       "      <td>TRAV27*01</td>\n",
       "      <td>GILGFVFTL</td>\n",
       "      <td>3914</td>\n",
       "      <td>93</td>\n",
       "      <td>GILGFVFTL</td>\n",
       "      <td>54</td>\n",
       "      <td>2062</td>\n",
       "      <td>54</td>\n",
       "      <td>1.0</td>\n",
       "      <td>0.665376</td>\n",
       "      <td>2.790118e-10</td>\n",
       "      <td>1</td>\n",
       "      <td>1</td>\n",
       "    </tr>\n",
       "    <tr>\n",
       "      <th>...</th>\n",
       "      <td>...</td>\n",
       "      <td>...</td>\n",
       "      <td>...</td>\n",
       "      <td>...</td>\n",
       "      <td>...</td>\n",
       "      <td>...</td>\n",
       "      <td>...</td>\n",
       "      <td>...</td>\n",
       "      <td>...</td>\n",
       "      <td>...</td>\n",
       "      <td>...</td>\n",
       "      <td>...</td>\n",
       "      <td>...</td>\n",
       "      <td>...</td>\n",
       "    </tr>\n",
       "    <tr>\n",
       "      <th>3094</th>\n",
       "      <td>CAVTSNNNDMRF</td>\n",
       "      <td>TRAV12-2*01</td>\n",
       "      <td>GILGFVFTL</td>\n",
       "      <td>47961</td>\n",
       "      <td>12</td>\n",
       "      <td>GILGFVFTL</td>\n",
       "      <td>2</td>\n",
       "      <td>2062</td>\n",
       "      <td>2</td>\n",
       "      <td>1.0</td>\n",
       "      <td>0.665376</td>\n",
       "      <td>4.427251e-01</td>\n",
       "      <td>1</td>\n",
       "      <td>1</td>\n",
       "    </tr>\n",
       "    <tr>\n",
       "      <th>3095</th>\n",
       "      <td>CAVTNNNNDMRF</td>\n",
       "      <td>TRAV12-2*01</td>\n",
       "      <td>GILGFVFTL</td>\n",
       "      <td>47962</td>\n",
       "      <td>12</td>\n",
       "      <td>GILGFVFTL</td>\n",
       "      <td>2</td>\n",
       "      <td>2062</td>\n",
       "      <td>2</td>\n",
       "      <td>1.0</td>\n",
       "      <td>0.665376</td>\n",
       "      <td>4.427251e-01</td>\n",
       "      <td>1</td>\n",
       "      <td>1</td>\n",
       "    </tr>\n",
       "    <tr>\n",
       "      <th>3096</th>\n",
       "      <td>CILGWGKLQF</td>\n",
       "      <td>TRAV26-2*01</td>\n",
       "      <td>NLVPMVATV</td>\n",
       "      <td>54223</td>\n",
       "      <td>461</td>\n",
       "      <td>NLVPMVATV</td>\n",
       "      <td>3</td>\n",
       "      <td>1037</td>\n",
       "      <td>3</td>\n",
       "      <td>1.0</td>\n",
       "      <td>0.334624</td>\n",
       "      <td>3.746895e-02</td>\n",
       "      <td>1</td>\n",
       "      <td>1</td>\n",
       "    </tr>\n",
       "    <tr>\n",
       "      <th>3097</th>\n",
       "      <td>CILGWGKLQF</td>\n",
       "      <td>TRAV26-2*01</td>\n",
       "      <td>NLVPMVATV</td>\n",
       "      <td>54227</td>\n",
       "      <td>461</td>\n",
       "      <td>NLVPMVATV</td>\n",
       "      <td>3</td>\n",
       "      <td>1037</td>\n",
       "      <td>3</td>\n",
       "      <td>1.0</td>\n",
       "      <td>0.334624</td>\n",
       "      <td>3.746895e-02</td>\n",
       "      <td>1</td>\n",
       "      <td>1</td>\n",
       "    </tr>\n",
       "    <tr>\n",
       "      <th>3098</th>\n",
       "      <td>CVMGWGKLQF</td>\n",
       "      <td>TRAV10*01</td>\n",
       "      <td>NLVPMVATV</td>\n",
       "      <td>56800</td>\n",
       "      <td>461</td>\n",
       "      <td>NLVPMVATV</td>\n",
       "      <td>3</td>\n",
       "      <td>1037</td>\n",
       "      <td>3</td>\n",
       "      <td>1.0</td>\n",
       "      <td>0.334624</td>\n",
       "      <td>3.746895e-02</td>\n",
       "      <td>1</td>\n",
       "      <td>1</td>\n",
       "    </tr>\n",
       "  </tbody>\n",
       "</table>\n",
       "<p>3099 rows × 14 columns</p>\n",
       "</div>"
      ],
      "text/plain": [
       "              CDR3            V antigen.epitope  data_id cluster  \\\n",
       "0     CAGAGSQGNLIF    TRAV27*01       GILGFVFTL     1174      93   \n",
       "1     CAGAGSQGNLIF    TRAV27*01       GILGFVFTL     1196      93   \n",
       "2     CAGAGSQGNLIF    TRAV27*01       GILGFVFTL     1197      93   \n",
       "3     CAGAGSQGNLIF    TRAV27*01       GILGFVFTL     1198      93   \n",
       "4     CAGAGSQGNLIF    TRAV27*01       GILGFVFTL     3914      93   \n",
       "...            ...          ...             ...      ...     ...   \n",
       "3094  CAVTSNNNDMRF  TRAV12-2*01       GILGFVFTL    47961      12   \n",
       "3095  CAVTNNNNDMRF  TRAV12-2*01       GILGFVFTL    47962      12   \n",
       "3096    CILGWGKLQF  TRAV26-2*01       NLVPMVATV    54223     461   \n",
       "3097    CILGWGKLQF  TRAV26-2*01       NLVPMVATV    54227     461   \n",
       "3098    CVMGWGKLQF    TRAV10*01       NLVPMVATV    56800     461   \n",
       "\n",
       "     label_cluster  total_cluster  total_group  count_matched  \\\n",
       "0        GILGFVFTL             54         2062             54   \n",
       "1        GILGFVFTL             54         2062             54   \n",
       "2        GILGFVFTL             54         2062             54   \n",
       "3        GILGFVFTL             54         2062             54   \n",
       "4        GILGFVFTL             54         2062             54   \n",
       "...            ...            ...          ...            ...   \n",
       "3094     GILGFVFTL              2         2062              2   \n",
       "3095     GILGFVFTL              2         2062              2   \n",
       "3096     NLVPMVATV              3         1037              3   \n",
       "3097     NLVPMVATV              3         1037              3   \n",
       "3098     NLVPMVATV              3         1037              3   \n",
       "\n",
       "      fraction_matched  fraction_matched_exp       p_value  is_cluster  \\\n",
       "0                  1.0              0.665376  2.790118e-10           1   \n",
       "1                  1.0              0.665376  2.790118e-10           1   \n",
       "2                  1.0              0.665376  2.790118e-10           1   \n",
       "3                  1.0              0.665376  2.790118e-10           1   \n",
       "4                  1.0              0.665376  2.790118e-10           1   \n",
       "...                ...                   ...           ...         ...   \n",
       "3094               1.0              0.665376  4.427251e-01           1   \n",
       "3095               1.0              0.665376  4.427251e-01           1   \n",
       "3096               1.0              0.334624  3.746895e-02           1   \n",
       "3097               1.0              0.334624  3.746895e-02           1   \n",
       "3098               1.0              0.334624  3.746895e-02           1   \n",
       "\n",
       "      enriched_clstr  \n",
       "0                  1  \n",
       "1                  1  \n",
       "2                  1  \n",
       "3                  1  \n",
       "4                  1  \n",
       "...              ...  \n",
       "3094               1  \n",
       "3095               1  \n",
       "3096               1  \n",
       "3097               1  \n",
       "3098               1  \n",
       "\n",
       "[3099 rows x 14 columns]"
      ]
     },
     "execution_count": 32,
     "metadata": {},
     "output_type": "execute_result"
    }
   ],
   "source": [
    "giana_res_raw_v[chain][i]"
   ]
  },
  {
   "cell_type": "code",
   "execution_count": 33,
   "id": "e09b803b-8ea3-4f0b-b198-033ab87dbc9d",
   "metadata": {},
   "outputs": [
    {
     "data": {
      "text/html": [
       "<div>\n",
       "<style scoped>\n",
       "    .dataframe tbody tr th:only-of-type {\n",
       "        vertical-align: middle;\n",
       "    }\n",
       "\n",
       "    .dataframe tbody tr th {\n",
       "        vertical-align: top;\n",
       "    }\n",
       "\n",
       "    .dataframe thead th {\n",
       "        text-align: right;\n",
       "    }\n",
       "</style>\n",
       "<table border=\"1\" class=\"dataframe\">\n",
       "  <thead>\n",
       "    <tr style=\"text-align: right;\">\n",
       "      <th></th>\n",
       "      <th>CDR3</th>\n",
       "      <th>V</th>\n",
       "      <th>antigen.epitope</th>\n",
       "      <th>data_id</th>\n",
       "      <th>cluster</th>\n",
       "      <th>label_cluster</th>\n",
       "      <th>total_cluster</th>\n",
       "      <th>total_group</th>\n",
       "      <th>count_matched</th>\n",
       "      <th>fraction_matched</th>\n",
       "      <th>fraction_matched_exp</th>\n",
       "      <th>p_value</th>\n",
       "      <th>is_cluster</th>\n",
       "      <th>enriched_clstr</th>\n",
       "    </tr>\n",
       "  </thead>\n",
       "  <tbody>\n",
       "    <tr>\n",
       "      <th>0</th>\n",
       "      <td>CAGAGSQGNLIF</td>\n",
       "      <td>TRAV27*01</td>\n",
       "      <td>GILGFVFTL</td>\n",
       "      <td>1174</td>\n",
       "      <td>108</td>\n",
       "      <td>GILGFVFTL</td>\n",
       "      <td>54</td>\n",
       "      <td>2113</td>\n",
       "      <td>54</td>\n",
       "      <td>1.0</td>\n",
       "      <td>0.632824</td>\n",
       "      <td>1.859029e-11</td>\n",
       "      <td>1</td>\n",
       "      <td>1</td>\n",
       "    </tr>\n",
       "    <tr>\n",
       "      <th>1</th>\n",
       "      <td>CAGAGSQGNLIF</td>\n",
       "      <td>TRAV27*01</td>\n",
       "      <td>GILGFVFTL</td>\n",
       "      <td>1196</td>\n",
       "      <td>108</td>\n",
       "      <td>GILGFVFTL</td>\n",
       "      <td>54</td>\n",
       "      <td>2113</td>\n",
       "      <td>54</td>\n",
       "      <td>1.0</td>\n",
       "      <td>0.632824</td>\n",
       "      <td>1.859029e-11</td>\n",
       "      <td>1</td>\n",
       "      <td>1</td>\n",
       "    </tr>\n",
       "    <tr>\n",
       "      <th>2</th>\n",
       "      <td>CAGAGSQGNLIF</td>\n",
       "      <td>TRAV27*01</td>\n",
       "      <td>GILGFVFTL</td>\n",
       "      <td>1197</td>\n",
       "      <td>108</td>\n",
       "      <td>GILGFVFTL</td>\n",
       "      <td>54</td>\n",
       "      <td>2113</td>\n",
       "      <td>54</td>\n",
       "      <td>1.0</td>\n",
       "      <td>0.632824</td>\n",
       "      <td>1.859029e-11</td>\n",
       "      <td>1</td>\n",
       "      <td>1</td>\n",
       "    </tr>\n",
       "    <tr>\n",
       "      <th>3</th>\n",
       "      <td>CAGAGSQGNLIF</td>\n",
       "      <td>TRAV27*01</td>\n",
       "      <td>GILGFVFTL</td>\n",
       "      <td>1198</td>\n",
       "      <td>108</td>\n",
       "      <td>GILGFVFTL</td>\n",
       "      <td>54</td>\n",
       "      <td>2113</td>\n",
       "      <td>54</td>\n",
       "      <td>1.0</td>\n",
       "      <td>0.632824</td>\n",
       "      <td>1.859029e-11</td>\n",
       "      <td>1</td>\n",
       "      <td>1</td>\n",
       "    </tr>\n",
       "    <tr>\n",
       "      <th>4</th>\n",
       "      <td>CAGAGSQGNLIF</td>\n",
       "      <td>TRAV27*01</td>\n",
       "      <td>GILGFVFTL</td>\n",
       "      <td>3914</td>\n",
       "      <td>108</td>\n",
       "      <td>GILGFVFTL</td>\n",
       "      <td>54</td>\n",
       "      <td>2113</td>\n",
       "      <td>54</td>\n",
       "      <td>1.0</td>\n",
       "      <td>0.632824</td>\n",
       "      <td>1.859029e-11</td>\n",
       "      <td>1</td>\n",
       "      <td>1</td>\n",
       "    </tr>\n",
       "    <tr>\n",
       "      <th>...</th>\n",
       "      <td>...</td>\n",
       "      <td>...</td>\n",
       "      <td>...</td>\n",
       "      <td>...</td>\n",
       "      <td>...</td>\n",
       "      <td>...</td>\n",
       "      <td>...</td>\n",
       "      <td>...</td>\n",
       "      <td>...</td>\n",
       "      <td>...</td>\n",
       "      <td>...</td>\n",
       "      <td>...</td>\n",
       "      <td>...</td>\n",
       "      <td>...</td>\n",
       "    </tr>\n",
       "    <tr>\n",
       "      <th>3334</th>\n",
       "      <td>CILRDGGGATNKLIF</td>\n",
       "      <td>TRAV26-2*01</td>\n",
       "      <td>NLVPMVATV</td>\n",
       "      <td>51734</td>\n",
       "      <td>182</td>\n",
       "      <td>NLVPMVATV</td>\n",
       "      <td>2</td>\n",
       "      <td>1226</td>\n",
       "      <td>2</td>\n",
       "      <td>1.0</td>\n",
       "      <td>0.367176</td>\n",
       "      <td>1.348181e-01</td>\n",
       "      <td>1</td>\n",
       "      <td>1</td>\n",
       "    </tr>\n",
       "    <tr>\n",
       "      <th>3335</th>\n",
       "      <td>CILRDGGGATNKLIF</td>\n",
       "      <td>TRAV26-2*01</td>\n",
       "      <td>NLVPMVATV</td>\n",
       "      <td>51735</td>\n",
       "      <td>182</td>\n",
       "      <td>NLVPMVATV</td>\n",
       "      <td>2</td>\n",
       "      <td>1226</td>\n",
       "      <td>2</td>\n",
       "      <td>1.0</td>\n",
       "      <td>0.367176</td>\n",
       "      <td>1.348181e-01</td>\n",
       "      <td>1</td>\n",
       "      <td>1</td>\n",
       "    </tr>\n",
       "    <tr>\n",
       "      <th>3336</th>\n",
       "      <td>CILGWGKLQF</td>\n",
       "      <td>TRAV26-2*01</td>\n",
       "      <td>NLVPMVATV</td>\n",
       "      <td>54223</td>\n",
       "      <td>540</td>\n",
       "      <td>NLVPMVATV</td>\n",
       "      <td>3</td>\n",
       "      <td>1226</td>\n",
       "      <td>3</td>\n",
       "      <td>1.0</td>\n",
       "      <td>0.367176</td>\n",
       "      <td>4.950193e-02</td>\n",
       "      <td>1</td>\n",
       "      <td>1</td>\n",
       "    </tr>\n",
       "    <tr>\n",
       "      <th>3337</th>\n",
       "      <td>CILGWGKLQF</td>\n",
       "      <td>TRAV26-2*01</td>\n",
       "      <td>NLVPMVATV</td>\n",
       "      <td>54227</td>\n",
       "      <td>540</td>\n",
       "      <td>NLVPMVATV</td>\n",
       "      <td>3</td>\n",
       "      <td>1226</td>\n",
       "      <td>3</td>\n",
       "      <td>1.0</td>\n",
       "      <td>0.367176</td>\n",
       "      <td>4.950193e-02</td>\n",
       "      <td>1</td>\n",
       "      <td>1</td>\n",
       "    </tr>\n",
       "    <tr>\n",
       "      <th>3338</th>\n",
       "      <td>CVMGWGKLQF</td>\n",
       "      <td>TRAV10*01</td>\n",
       "      <td>NLVPMVATV</td>\n",
       "      <td>56800</td>\n",
       "      <td>540</td>\n",
       "      <td>NLVPMVATV</td>\n",
       "      <td>3</td>\n",
       "      <td>1226</td>\n",
       "      <td>3</td>\n",
       "      <td>1.0</td>\n",
       "      <td>0.367176</td>\n",
       "      <td>4.950193e-02</td>\n",
       "      <td>1</td>\n",
       "      <td>1</td>\n",
       "    </tr>\n",
       "  </tbody>\n",
       "</table>\n",
       "<p>3339 rows × 14 columns</p>\n",
       "</div>"
      ],
      "text/plain": [
       "                 CDR3            V antigen.epitope  data_id cluster  \\\n",
       "0        CAGAGSQGNLIF    TRAV27*01       GILGFVFTL     1174     108   \n",
       "1        CAGAGSQGNLIF    TRAV27*01       GILGFVFTL     1196     108   \n",
       "2        CAGAGSQGNLIF    TRAV27*01       GILGFVFTL     1197     108   \n",
       "3        CAGAGSQGNLIF    TRAV27*01       GILGFVFTL     1198     108   \n",
       "4        CAGAGSQGNLIF    TRAV27*01       GILGFVFTL     3914     108   \n",
       "...               ...          ...             ...      ...     ...   \n",
       "3334  CILRDGGGATNKLIF  TRAV26-2*01       NLVPMVATV    51734     182   \n",
       "3335  CILRDGGGATNKLIF  TRAV26-2*01       NLVPMVATV    51735     182   \n",
       "3336       CILGWGKLQF  TRAV26-2*01       NLVPMVATV    54223     540   \n",
       "3337       CILGWGKLQF  TRAV26-2*01       NLVPMVATV    54227     540   \n",
       "3338       CVMGWGKLQF    TRAV10*01       NLVPMVATV    56800     540   \n",
       "\n",
       "     label_cluster  total_cluster  total_group  count_matched  \\\n",
       "0        GILGFVFTL             54         2113             54   \n",
       "1        GILGFVFTL             54         2113             54   \n",
       "2        GILGFVFTL             54         2113             54   \n",
       "3        GILGFVFTL             54         2113             54   \n",
       "4        GILGFVFTL             54         2113             54   \n",
       "...            ...            ...          ...            ...   \n",
       "3334     NLVPMVATV              2         1226              2   \n",
       "3335     NLVPMVATV              2         1226              2   \n",
       "3336     NLVPMVATV              3         1226              3   \n",
       "3337     NLVPMVATV              3         1226              3   \n",
       "3338     NLVPMVATV              3         1226              3   \n",
       "\n",
       "      fraction_matched  fraction_matched_exp       p_value  is_cluster  \\\n",
       "0                  1.0              0.632824  1.859029e-11           1   \n",
       "1                  1.0              0.632824  1.859029e-11           1   \n",
       "2                  1.0              0.632824  1.859029e-11           1   \n",
       "3                  1.0              0.632824  1.859029e-11           1   \n",
       "4                  1.0              0.632824  1.859029e-11           1   \n",
       "...                ...                   ...           ...         ...   \n",
       "3334               1.0              0.367176  1.348181e-01           1   \n",
       "3335               1.0              0.367176  1.348181e-01           1   \n",
       "3336               1.0              0.367176  4.950193e-02           1   \n",
       "3337               1.0              0.367176  4.950193e-02           1   \n",
       "3338               1.0              0.367176  4.950193e-02           1   \n",
       "\n",
       "      enriched_clstr  \n",
       "0                  1  \n",
       "1                  1  \n",
       "2                  1  \n",
       "3                  1  \n",
       "4                  1  \n",
       "...              ...  \n",
       "3334               1  \n",
       "3335               1  \n",
       "3336               1  \n",
       "3337               1  \n",
       "3338               1  \n",
       "\n",
       "[3339 rows x 14 columns]"
      ]
     },
     "execution_count": 33,
     "metadata": {},
     "output_type": "execute_result"
    }
   ],
   "source": [
    "df_g_1"
   ]
  },
  {
   "cell_type": "code",
   "execution_count": 28,
   "id": "64f9becc-f030-4910-8487-bd8cad61c6c7",
   "metadata": {},
   "outputs": [],
   "source": [
    "df_g_1 = giana_res_raw_v[chain][i].copy()"
   ]
  },
  {
   "cell_type": "code",
   "execution_count": null,
   "id": "1459f745-2f61-4f85-b69b-cd9099041fc4",
   "metadata": {},
   "outputs": [],
   "source": []
  },
  {
   "cell_type": "code",
   "execution_count": 14,
   "id": "631513a0-928f-4242-bbea-8dd253754ac1",
   "metadata": {},
   "outputs": [
    {
     "name": "stdout",
     "output_type": "stream",
     "text": [
      "TCR-epitope paires count in V10 dataset: 27135\n",
      "GIANA clustering of 27135 sequences.\n"
     ]
    },
    {
     "name": "stderr",
     "output_type": "stream",
     "text": [
      "/home/ykremlyakova/.conda/envs/py311/lib/python3.11/site-packages/sklearn/manifold/_mds.py:298: FutureWarning: The default value of `normalized_stress` will change to `'auto'` in version 1.4. To suppress this warning, manually set the value of `normalized_stress`.\n",
      "  warnings.warn(\n",
      "/home/ykremlyakova/.conda/envs/py311/lib/python3.11/site-packages/sklearn/manifold/_mds.py:298: FutureWarning: The default value of `normalized_stress` will change to `'auto'` in version 1.4. To suppress this warning, manually set the value of `normalized_stress`.\n",
      "  warnings.warn(\n"
     ]
    },
    {
     "name": "stdout",
     "output_type": "stream",
     "text": [
      "\n",
      "GIANA: Geometric Isometry based ANtigen-specific tcr Alignment\n",
      "Ultrafast short peptide alignment exclusively designed for large-scale adaptome analysis\n",
      "\n",
      "Input columns:\n",
      "1. CDR3 amino acid sequence (Starting from C, ending with the first F/L in motif [FL]G.G)\n",
      "2. Variable gene name in Imgt format: TRBVXX-XX*XX\n",
      "3. Joining gene name (optional)\n",
      "4. Frequency (optional)\n",
      "5. Other information (optional)\n",
      "\n",
      "!!! ALL amino acid letters must be CAPITAL !!!\n",
      "\n",
      "\n",
      "Processing data.txt\n",
      "Total time elapsed: 1.968836\n",
      "Maximum memory usage: 0.208724 MB\n",
      "Elapsed time: 6.7839179039001465 seconds.\n",
      "TCR-epitope paires count in V50 dataset: 24964\n",
      "GIANA clustering of 24964 sequences.\n"
     ]
    },
    {
     "name": "stderr",
     "output_type": "stream",
     "text": [
      "/home/ykremlyakova/.conda/envs/py311/lib/python3.11/site-packages/sklearn/manifold/_mds.py:298: FutureWarning: The default value of `normalized_stress` will change to `'auto'` in version 1.4. To suppress this warning, manually set the value of `normalized_stress`.\n",
      "  warnings.warn(\n",
      "/home/ykremlyakova/.conda/envs/py311/lib/python3.11/site-packages/sklearn/manifold/_mds.py:298: FutureWarning: The default value of `normalized_stress` will change to `'auto'` in version 1.4. To suppress this warning, manually set the value of `normalized_stress`.\n",
      "  warnings.warn(\n"
     ]
    },
    {
     "name": "stdout",
     "output_type": "stream",
     "text": [
      "\n",
      "GIANA: Geometric Isometry based ANtigen-specific tcr Alignment\n",
      "Ultrafast short peptide alignment exclusively designed for large-scale adaptome analysis\n",
      "\n",
      "Input columns:\n",
      "1. CDR3 amino acid sequence (Starting from C, ending with the first F/L in motif [FL]G.G)\n",
      "2. Variable gene name in Imgt format: TRBVXX-XX*XX\n",
      "3. Joining gene name (optional)\n",
      "4. Frequency (optional)\n",
      "5. Other information (optional)\n",
      "\n",
      "!!! ALL amino acid letters must be CAPITAL !!!\n",
      "\n",
      "\n",
      "Processing data.txt\n",
      "Total time elapsed: 1.852245\n",
      "Maximum memory usage: 0.206740 MB\n",
      "Elapsed time: 6.686176061630249 seconds.\n",
      "TCR-epitope paires count in V100 dataset: 22643\n",
      "GIANA clustering of 22643 sequences.\n"
     ]
    },
    {
     "name": "stderr",
     "output_type": "stream",
     "text": [
      "/home/ykremlyakova/.conda/envs/py311/lib/python3.11/site-packages/sklearn/manifold/_mds.py:298: FutureWarning: The default value of `normalized_stress` will change to `'auto'` in version 1.4. To suppress this warning, manually set the value of `normalized_stress`.\n",
      "  warnings.warn(\n",
      "/home/ykremlyakova/.conda/envs/py311/lib/python3.11/site-packages/sklearn/manifold/_mds.py:298: FutureWarning: The default value of `normalized_stress` will change to `'auto'` in version 1.4. To suppress this warning, manually set the value of `normalized_stress`.\n",
      "  warnings.warn(\n"
     ]
    },
    {
     "name": "stdout",
     "output_type": "stream",
     "text": [
      "\n",
      "GIANA: Geometric Isometry based ANtigen-specific tcr Alignment\n",
      "Ultrafast short peptide alignment exclusively designed for large-scale adaptome analysis\n",
      "\n",
      "Input columns:\n",
      "1. CDR3 amino acid sequence (Starting from C, ending with the first F/L in motif [FL]G.G)\n",
      "2. Variable gene name in Imgt format: TRBVXX-XX*XX\n",
      "3. Joining gene name (optional)\n",
      "4. Frequency (optional)\n",
      "5. Other information (optional)\n",
      "\n",
      "!!! ALL amino acid letters must be CAPITAL !!!\n",
      "\n",
      "\n",
      "Processing data.txt\n",
      "Total time elapsed: 1.722681\n",
      "Maximum memory usage: 0.205696 MB\n",
      "Elapsed time: 6.479715585708618 seconds.\n",
      "TCR-epitope paires count in V500 dataset: 14719\n",
      "GIANA clustering of 14719 sequences.\n"
     ]
    },
    {
     "name": "stderr",
     "output_type": "stream",
     "text": [
      "/home/ykremlyakova/.conda/envs/py311/lib/python3.11/site-packages/sklearn/manifold/_mds.py:298: FutureWarning: The default value of `normalized_stress` will change to `'auto'` in version 1.4. To suppress this warning, manually set the value of `normalized_stress`.\n",
      "  warnings.warn(\n",
      "/home/ykremlyakova/.conda/envs/py311/lib/python3.11/site-packages/sklearn/manifold/_mds.py:298: FutureWarning: The default value of `normalized_stress` will change to `'auto'` in version 1.4. To suppress this warning, manually set the value of `normalized_stress`.\n",
      "  warnings.warn(\n"
     ]
    },
    {
     "name": "stdout",
     "output_type": "stream",
     "text": [
      "\n",
      "GIANA: Geometric Isometry based ANtigen-specific tcr Alignment\n",
      "Ultrafast short peptide alignment exclusively designed for large-scale adaptome analysis\n",
      "\n",
      "Input columns:\n",
      "1. CDR3 amino acid sequence (Starting from C, ending with the first F/L in motif [FL]G.G)\n",
      "2. Variable gene name in Imgt format: TRBVXX-XX*XX\n",
      "3. Joining gene name (optional)\n",
      "4. Frequency (optional)\n",
      "5. Other information (optional)\n",
      "\n",
      "!!! ALL amino acid letters must be CAPITAL !!!\n",
      "\n",
      "\n",
      "Processing data.txt\n",
      "Total time elapsed: 1.127159\n",
      "Maximum memory usage: 0.188684 MB\n",
      "Elapsed time: 5.907847881317139 seconds.\n",
      "TCR-epitope paires count in V1000 dataset: 13514\n",
      "GIANA clustering of 13514 sequences.\n"
     ]
    },
    {
     "name": "stderr",
     "output_type": "stream",
     "text": [
      "/home/ykremlyakova/.conda/envs/py311/lib/python3.11/site-packages/sklearn/manifold/_mds.py:298: FutureWarning: The default value of `normalized_stress` will change to `'auto'` in version 1.4. To suppress this warning, manually set the value of `normalized_stress`.\n",
      "  warnings.warn(\n",
      "/home/ykremlyakova/.conda/envs/py311/lib/python3.11/site-packages/sklearn/manifold/_mds.py:298: FutureWarning: The default value of `normalized_stress` will change to `'auto'` in version 1.4. To suppress this warning, manually set the value of `normalized_stress`.\n",
      "  warnings.warn(\n"
     ]
    },
    {
     "name": "stdout",
     "output_type": "stream",
     "text": [
      "\n",
      "GIANA: Geometric Isometry based ANtigen-specific tcr Alignment\n",
      "Ultrafast short peptide alignment exclusively designed for large-scale adaptome analysis\n",
      "\n",
      "Input columns:\n",
      "1. CDR3 amino acid sequence (Starting from C, ending with the first F/L in motif [FL]G.G)\n",
      "2. Variable gene name in Imgt format: TRBVXX-XX*XX\n",
      "3. Joining gene name (optional)\n",
      "4. Frequency (optional)\n",
      "5. Other information (optional)\n",
      "\n",
      "!!! ALL amino acid letters must be CAPITAL !!!\n",
      "\n",
      "\n",
      "Processing data.txt\n",
      "Total time elapsed: 1.049303\n",
      "Maximum memory usage: 0.186700 MB\n",
      "Elapsed time: 5.819950819015503 seconds.\n"
     ]
    }
   ],
   "source": [
    "## Run Giana\n",
    "chain = 'TRB'\n",
    "giana_res_raw_v[chain]={}\n",
    "for i in samples_n:\n",
    "    vdjdb_v = pd.read_csv(f'data/data_preped/VDJdb_data_{chain}_V{i}.csv',sep='\\t')\n",
    "    vdjdb_v[tcr_columns_paired[chain][1]]= vdjdb_v[tcr_columns_paired[chain][1]] + '*01'\n",
    "    vdjdb_v[tcr_columns_paired[chain][2]]= vdjdb_v[tcr_columns_paired[chain][2]] + '*01'\n",
    "    print(f\"TCR-epitope paires count in V{i} dataset: {len(vdjdb_v)}\")\n",
    "    \n",
    "    giana_res_raw_v[chain][i] = models.run_GIANA(vdjdb_v, chain, f'V{i}',2)\n",
    "    \n"
   ]
  },
  {
   "cell_type": "code",
   "execution_count": 15,
   "id": "71c302b1-c59c-478a-a3cd-d471616260d2",
   "metadata": {},
   "outputs": [
    {
     "name": "stdout",
     "output_type": "stream",
     "text": [
      "TCR-epitope paires count in V10 dataset: 13027\n",
      "{'f1': 0.626058889335096, 'precision': 0.6342818423838128, 'recall': 0.6459374178280305}\n",
      "0.6458908612754767\n"
     ]
    },
    {
     "name": "stderr",
     "output_type": "stream",
     "text": [
      "/home/ykremlyakova/.conda/envs/py311/lib/python3.11/site-packages/sklearn/metrics/_classification.py:1469: UndefinedMetricWarning: Precision is ill-defined and being set to 0.0 in labels with no predicted samples. Use `zero_division` parameter to control this behavior.\n",
      "  _warn_prf(average, modifier, msg_start, len(result))\n"
     ]
    },
    {
     "name": "stdout",
     "output_type": "stream",
     "text": [
      "{'purity': 0.6458908612754767, 'retention': 0.5837875182313657, 'consistency': 0.001973915569622189, 'ami': 0.43736297701118637, 'accuracy': 0.0010508329367379587, 'precision': 0.634237810444647, 'recall': 0.6458908612754769, 'f1-score': 0.6400112968192742, 'support': 7605, 'mean_clustsize': 7.107476635514018, 'method': 'GIANA'}\n",
      "TCR-epitope paires count in V50 dataset: 11912\n",
      "{'f1': 0.6694301815475632, 'precision': 0.672223511944783, 'recall': 0.6828206616366802}\n",
      "0.6827746335800319\n",
      "{'purity': 0.6827746335800319, 'retention': 0.578492276695769, 'consistency': 0.00483420403424757, 'ami': 0.4536453055115907, 'accuracy': 0.07693061438620039, 'precision': 0.6721798725014749, 'recall': 0.6827746335800319, 'f1-score': 0.6774358313687313, 'support': 6891, 'mean_clustsize': 7.067692307692307, 'method': 'GIANA'}\n",
      "TCR-epitope paires count in V100 dataset: 11197\n",
      "{'f1': 0.695192415107185, 'precision': 0.6973324868336124, 'recall': 0.7044396150263893}\n",
      "0.7043937276820369\n",
      "{'purity': 0.7043937276820369, 'retention': 0.5752433687594891, 'consistency': 0.007378327825463364, 'ami': 0.46687396006243403, 'accuracy': 0.0821323939236977, 'precision': 0.6972928453692339, 'recall': 0.7043937276820367, 'f1-score': 0.7008253001474427, 'support': 6441, 'mean_clustsize': 7.125, 'method': 'GIANA'}\n",
      "TCR-epitope paires count in V500 dataset: 6920\n",
      "{'f1': 0.8330299811840358, 'precision': 0.8328756762750497, 'recall': 0.8331970564186427}\n",
      "0.8331515812431843\n",
      "{'purity': 0.8331515812431843, 'retention': 0.5300578034682081, 'consistency': 0.027535441657579065, 'ami': 0.4502322878587328, 'accuracy': 0.13315907331407592, 'precision': 0.8328302688995752, 'recall': 0.8331515812431843, 'f1-score': 0.8329908940861616, 'support': 3668, 'mean_clustsize': 6.435087719298245, 'method': 'GIANA'}\n",
      "TCR-epitope paires count in V1000 dataset: 6048\n",
      "{'f1': 0.8614659427713938, 'precision': 0.8610824911420851, 'recall': 0.862213617295902}\n",
      "0.8621691413815364\n",
      "{'purity': 0.8621691413815364, 'retention': 0.5122354497354498, 'consistency': 0.05309877340219497, 'ami': 0.38290732772347863, 'accuracy': 0.28859567450376156, 'precision': 0.8610383865861626, 'recall': 0.8621691413815364, 'f1-score': 0.8616033929877893, 'support': 3098, 'mean_clustsize': 6.3095723014256615, 'method': 'GIANA'}\n"
     ]
    }
   ],
   "source": [
    "## work with results\n",
    "chain = 'TRA'\n",
    "giana_res_raw_v[chain]={}\n",
    "giana_res_v[chain]={}\n",
    "metrics_giana_v[chain]={}\n",
    "for i in samples_n:\n",
    "    giana_res_raw_v[chain][i] = pd.read_csv(f'benchmark/outputs/giana_res_{chain}_V{i}.txt',sep='\\t')\n",
    "    \n",
    "    vdjdb_v = pd.read_csv(f'data/data_preped/VDJdb_data_{chain}_V{i}.csv',sep='\\t')\n",
    "    vdjdb_v[tcr_columns_paired[chain][1]]= vdjdb_v[tcr_columns_paired[chain][1]] + '*01'\n",
    "    vdjdb_v[tcr_columns_paired[chain][2]]= vdjdb_v[tcr_columns_paired[chain][2]] + '*01'\n",
    "    print(f\"TCR-epitope paires count in V{i} dataset: {len(vdjdb_v[~vdjdb_v[tcr_columns_paired[chain][0]].isna()])}\")\n",
    "    \n",
    "    giana_res_v[chain][i] = vdjdb_v[~vdjdb_v[tcr_columns_paired[chain][0]].isna()][['data_id',tcr_columns_paired[chain][0],tcr_columns_paired[chain][2],'antigen.epitope']].merge(giana_res_raw_v[chain][i], how = 'left')\n",
    "    giana_res_v[chain][i]['is_cluster'] = giana_res_v[chain][i]['is_cluster'].fillna(0)\n",
    "    \n",
    "    print(ml_utils.clsf_metrics(giana_res_raw_v[chain][i]['antigen.epitope'],giana_res_raw_v[chain][i]['label_cluster'], average='weighted'))\n",
    "    print(ml_utils.count_clstr_purity(giana_res_raw_v[chain][i][['cluster','label_cluster','total_cluster','count_matched','fraction_matched','p_value','fraction_matched_exp','is_cluster']].drop_duplicates()))\n",
    "    \n",
    "    metrics_giana_v[chain][i] = metrics.get_clustermetrics(giana_res_v[chain][i], 'antigen.epitope')\n",
    "    metrics_giana_v[chain][i]['method']='GIANA'\n",
    "    print(metrics_giana_v[chain][i])"
   ]
  },
  {
   "cell_type": "code",
   "execution_count": 16,
   "id": "c4bf2418-8859-4147-add8-f4d33a923d40",
   "metadata": {},
   "outputs": [
    {
     "name": "stdout",
     "output_type": "stream",
     "text": [
      "TCR-epitope paires count in V10 dataset: 27135\n",
      "{'f1': 0.8087487056074413, 'precision': 0.8114462970452061, 'recall': 0.8188848696519895}\n",
      "0.8188622754491018\n"
     ]
    },
    {
     "name": "stderr",
     "output_type": "stream",
     "text": [
      "/home/ykremlyakova/.conda/envs/py311/lib/python3.11/site-packages/sklearn/metrics/_classification.py:1469: UndefinedMetricWarning: Precision is ill-defined and being set to 0.0 in labels with no predicted samples. Use `zero_division` parameter to control this behavior.\n",
      "  _warn_prf(average, modifier, msg_start, len(result))\n"
     ]
    },
    {
     "name": "stdout",
     "output_type": "stream",
     "text": [
      "{'purity': 0.8188622754491018, 'retention': 0.2954118297401879, 'consistency': 0.0013774534264803726, 'ami': 0.7249804903616464, 'accuracy': 0.002490029920199521, 'precision': 0.811420645422921, 'recall': 0.8188622754491015, 'f1-score': 0.8151244763111279, 'support': 8016, 'mean_clustsize': 5.475409836065574, 'method': 'GIANA'}\n",
      "TCR-epitope paires count in V50 dataset: 24964\n",
      "{'f1': 0.8351864199860989, 'precision': 0.8421250142557698, 'recall': 0.8394377618597108}\n",
      "0.8394160583941606\n",
      "{'purity': 0.8394160583941606, 'retention': 0.29634673930459865, 'consistency': 0.0030478433638117665, 'ami': 0.7384826407911236, 'accuracy': 0.0024284856366125125, 'precision': 0.8421000598148859, 'recall': 0.8394160583941604, 'f1-score': 0.8407559170306088, 'support': 7398, 'mean_clustsize': 5.638719512195122, 'method': 'GIANA'}\n",
      "TCR-epitope paires count in V100 dataset: 22643\n",
      "{'f1': 0.852918179536899, 'precision': 0.8585929609983196, 'recall': 0.8563561266636072}\n",
      "0.8563341493268054\n",
      "{'purity': 0.8563341493268054, 'retention': 0.28865433025659143, 'consistency': 0.0049108875421679556, 'ami': 0.7376465831353558, 'accuracy': 0.00274807899456021, 'precision': 0.8585672350180694, 'recall': 0.8563341493268054, 'f1-score': 0.857449238248687, 'support': 6536, 'mean_clustsize': 5.728308501314636, 'method': 'GIANA'}\n",
      "TCR-epitope paires count in V500 dataset: 14719\n",
      "{'f1': 0.9234765726748282, 'precision': 0.9242330505354823, 'recall': 0.9241618497109827}\n",
      "0.9241443108233117\n",
      "{'purity': 0.9241443108233117, 'retention': 0.2937699571981792, 'consistency': 0.0332364213030263, 'ami': 0.7678624249230734, 'accuracy': 0.14139981781011005, 'precision': 0.9242158998566541, 'recall': 0.9241443108233116, 'f1-score': 0.9241801039536216, 'support': 4324, 'mean_clustsize': 6.766823161189358, 'method': 'GIANA'}\n",
      "TCR-epitope paires count in V1000 dataset: 13514\n",
      "{'f1': 0.9354550620704275, 'precision': 0.9361398527647807, 'recall': 0.935244686109738}\n",
      "0.9352286773794808\n",
      "{'purity': 0.9352286773794808, 'retention': 0.2993192245079177, 'consistency': 0.0477132262051916, 'ami': 0.7815234530298937, 'accuracy': 0.15006614401334797, 'precision': 0.936124259112678, 'recall': 0.9352286773794809, 'f1-score': 0.9356762539448045, 'support': 4045, 'mean_clustsize': 7.121478873239437, 'method': 'GIANA'}\n"
     ]
    }
   ],
   "source": [
    "## work with results\n",
    "chain = 'TRB'\n",
    "giana_res_raw_v[chain]={}\n",
    "giana_res_v[chain]={}\n",
    "metrics_giana_v[chain]={}\n",
    "for i in samples_n:\n",
    "    giana_res_raw_v[chain][i] = pd.read_csv(f'benchmark/outputs/giana_res_{chain}_V{i}.txt',sep='\\t')\n",
    "    \n",
    "    vdjdb_v = pd.read_csv(f'data/data_preped/VDJdb_data_{chain}_V{i}.csv',sep='\\t')\n",
    "    vdjdb_v[tcr_columns_paired[chain][1]]= vdjdb_v[tcr_columns_paired[chain][1]] + '*01'\n",
    "    vdjdb_v[tcr_columns_paired[chain][2]]= vdjdb_v[tcr_columns_paired[chain][2]] + '*01'\n",
    "    print(f\"TCR-epitope paires count in V{i} dataset: {len(vdjdb_v[~vdjdb_v[tcr_columns_paired[chain][0]].isna()])}\")\n",
    "    \n",
    "    giana_res_v[chain][i] = vdjdb_v[~vdjdb_v[tcr_columns_paired[chain][0]].isna()][['data_id',tcr_columns_paired[chain][0],tcr_columns_paired[chain][2],'antigen.epitope']].merge(giana_res_raw_v[chain][i], how = 'left')\n",
    "    giana_res_v[chain][i]['is_cluster'] = giana_res_v[chain][i]['is_cluster'].fillna(0)\n",
    "    \n",
    "    print(ml_utils.clsf_metrics(giana_res_raw_v[chain][i]['antigen.epitope'],giana_res_raw_v[chain][i]['label_cluster'], average='weighted'))\n",
    "    print(ml_utils.count_clstr_purity(giana_res_raw_v[chain][i][['cluster','label_cluster','total_cluster','count_matched','fraction_matched','p_value','fraction_matched_exp','is_cluster']].drop_duplicates()))\n",
    "    \n",
    "    metrics_giana_v[chain][i] = metrics.get_clustermetrics(giana_res_v[chain][i], 'antigen.epitope')\n",
    "    metrics_giana_v[chain][i]['method']='GIANA'\n",
    "    print(metrics_giana_v[chain][i])"
   ]
  },
  {
   "cell_type": "code",
   "execution_count": null,
   "id": "349b9e0d-e6b9-4275-b867-bbf57debaac1",
   "metadata": {},
   "outputs": [],
   "source": []
  },
  {
   "cell_type": "code",
   "execution_count": null,
   "id": "932e5cf5-68b0-40ad-bdef-0f6858c78817",
   "metadata": {},
   "outputs": [],
   "source": []
  },
  {
   "cell_type": "code",
   "execution_count": null,
   "id": "16746fdc-6650-4cb4-96ed-9ee595889ec2",
   "metadata": {},
   "outputs": [],
   "source": []
  },
  {
   "cell_type": "code",
   "execution_count": null,
   "id": "1fdff884-6534-4920-b143-2dde5e3ad3fb",
   "metadata": {},
   "outputs": [],
   "source": []
  },
  {
   "cell_type": "markdown",
   "id": "5c56645d-1221-4fc3-808b-b189d6c3491c",
   "metadata": {},
   "source": [
    "### TCRemb"
   ]
  },
  {
   "cell_type": "code",
   "execution_count": 17,
   "id": "be6173eb-bd54-4147-8dbf-871c7605fa2e",
   "metadata": {},
   "outputs": [
    {
     "name": "stdout",
     "output_type": "stream",
     "text": [
      "TCR-epitope paires count in V10 dataset: 13027\n",
      "data/data_preped/VDJdb_data_TRA_V10.csv\n",
      "TCRemb clustering\n",
      "python tcremb_run.py --input data/data_preped/VDJdb_data_TRA_V10.csv --runname compare_V10 --chain TRA --label antigen.epitope --clstr_model dbscan --data_id data_id --skip_scores True\n"
     ]
    },
    {
     "name": "stderr",
     "output_type": "stream",
     "text": [
      "/home/ykremlyakova/.conda/envs/py311/lib/python3.11/site-packages/sklearn/base.py:457: UserWarning: X has feature names, but PCA was fitted without feature names\n",
      "  warnings.warn(\n"
     ]
    },
    {
     "name": "stdout",
     "output_type": "stream",
     "text": [
      "clstr\n",
      "skip_scores was passed as parameter. continue withot scores calculation\n",
      "calculating pca of dists scores for TRA chain data/data_preped/VDJdb_data_TRA_V10.csv\n",
      "purity:0.8793445878848064\n",
      "Results are in tcremb_outputs/compare_V10/\n",
      "Elapsed time: 61.970539569854736 seconds.\n",
      "TCR-epitope paires count in V50 dataset: 11912\n",
      "data/data_preped/VDJdb_data_TRA_V50.csv\n",
      "TCRemb clustering\n",
      "python tcremb_run.py --input data/data_preped/VDJdb_data_TRA_V50.csv --runname compare_V50 --chain TRA --label antigen.epitope --clstr_model dbscan --data_id data_id --skip_scores True\n"
     ]
    },
    {
     "name": "stderr",
     "output_type": "stream",
     "text": [
      "/home/ykremlyakova/.conda/envs/py311/lib/python3.11/site-packages/sklearn/base.py:457: UserWarning: X has feature names, but PCA was fitted without feature names\n",
      "  warnings.warn(\n"
     ]
    },
    {
     "name": "stdout",
     "output_type": "stream",
     "text": [
      "clstr\n",
      "skip_scores was passed as parameter. continue withot scores calculation\n",
      "calculating pca of dists scores for TRA chain data/data_preped/VDJdb_data_TRA_V50.csv\n",
      "purity:0.9024191356346833\n",
      "Results are in tcremb_outputs/compare_V50/\n",
      "Elapsed time: 56.72215700149536 seconds.\n",
      "TCR-epitope paires count in V100 dataset: 11197\n",
      "data/data_preped/VDJdb_data_TRA_V100.csv\n",
      "TCRemb clustering\n",
      "python tcremb_run.py --input data/data_preped/VDJdb_data_TRA_V100.csv --runname compare_V100 --chain TRA --label antigen.epitope --clstr_model dbscan --data_id data_id --skip_scores True\n"
     ]
    },
    {
     "name": "stderr",
     "output_type": "stream",
     "text": [
      "/home/ykremlyakova/.conda/envs/py311/lib/python3.11/site-packages/sklearn/base.py:457: UserWarning: X has feature names, but PCA was fitted without feature names\n",
      "  warnings.warn(\n"
     ]
    },
    {
     "name": "stdout",
     "output_type": "stream",
     "text": [
      "clstr\n",
      "skip_scores was passed as parameter. continue withot scores calculation\n",
      "calculating pca of dists scores for TRA chain data/data_preped/VDJdb_data_TRA_V100.csv\n",
      "purity:0.9140127388535032\n",
      "Results are in tcremb_outputs/compare_V100/\n",
      "Elapsed time: 52.33708930015564 seconds.\n",
      "TCR-epitope paires count in V500 dataset: 6920\n",
      "data/data_preped/VDJdb_data_TRA_V500.csv\n",
      "TCRemb clustering\n",
      "python tcremb_run.py --input data/data_preped/VDJdb_data_TRA_V500.csv --runname compare_V500 --chain TRA --label antigen.epitope --clstr_model dbscan --data_id data_id --skip_scores True\n"
     ]
    },
    {
     "name": "stderr",
     "output_type": "stream",
     "text": [
      "/home/ykremlyakova/.conda/envs/py311/lib/python3.11/site-packages/sklearn/base.py:457: UserWarning: X has feature names, but PCA was fitted without feature names\n",
      "  warnings.warn(\n"
     ]
    },
    {
     "name": "stdout",
     "output_type": "stream",
     "text": [
      "clstr\n",
      "skip_scores was passed as parameter. continue withot scores calculation\n",
      "calculating pca of dists scores for TRA chain data/data_preped/VDJdb_data_TRA_V500.csv\n",
      "purity:0.9508281573498965\n",
      "Results are in tcremb_outputs/compare_V500/\n",
      "Elapsed time: 33.05153751373291 seconds.\n",
      "TCR-epitope paires count in V1000 dataset: 6048\n",
      "data/data_preped/VDJdb_data_TRA_V1000.csv\n",
      "TCRemb clustering\n",
      "python tcremb_run.py --input data/data_preped/VDJdb_data_TRA_V1000.csv --runname compare_V1000 --chain TRA --label antigen.epitope --clstr_model dbscan --data_id data_id --skip_scores True\n"
     ]
    },
    {
     "name": "stderr",
     "output_type": "stream",
     "text": [
      "/home/ykremlyakova/.conda/envs/py311/lib/python3.11/site-packages/sklearn/base.py:457: UserWarning: X has feature names, but PCA was fitted without feature names\n",
      "  warnings.warn(\n"
     ]
    },
    {
     "name": "stdout",
     "output_type": "stream",
     "text": [
      "clstr\n",
      "skip_scores was passed as parameter. continue withot scores calculation\n",
      "calculating pca of dists scores for TRA chain data/data_preped/VDJdb_data_TRA_V1000.csv\n",
      "purity:0.9553148273527421\n",
      "Results are in tcremb_outputs/compare_V1000/\n",
      "Elapsed time: 29.507852792739868 seconds.\n"
     ]
    }
   ],
   "source": [
    "chain = 'TRA'\n",
    "tcremb_res_v[chain]={}\n",
    "for i in samples_n:\n",
    "    v_path = f'data/data_preped/VDJdb_data_{chain}_V{i}.csv'\n",
    "    vdjdb_v = pd.read_csv(v_path,sep='\\t')\n",
    "    print(f\"TCR-epitope paires count in V{i} dataset: {len(vdjdb_v)}\")\n",
    "    print(v_path)\n",
    "    \n",
    "    tcremb_res_v[chain][i] = models.run_tcremb(v_path, chain, f'V{i}',skip_scores=True, model='dbscan')"
   ]
  },
  {
   "cell_type": "code",
   "execution_count": null,
   "id": "1110cc47-1227-4627-ab1d-abea03a6c2f2",
   "metadata": {},
   "outputs": [],
   "source": []
  },
  {
   "cell_type": "code",
   "execution_count": 18,
   "id": "e0618f50-65b9-4add-b054-85dd1bbb8740",
   "metadata": {},
   "outputs": [
    {
     "name": "stdout",
     "output_type": "stream",
     "text": [
      "TCR-epitope paires count in V10 dataset: 27135\n",
      "data/data_preped/VDJdb_data_TRB_V10.csv\n",
      "TCRemb clustering\n",
      "python tcremb_run.py --input data/data_preped/VDJdb_data_TRB_V10.csv --runname compare_V10 --chain TRB --label antigen.epitope --clstr_model dbscan --data_id data_id --skip_scores True\n"
     ]
    },
    {
     "name": "stderr",
     "output_type": "stream",
     "text": [
      "/home/ykremlyakova/.conda/envs/py311/lib/python3.11/site-packages/sklearn/base.py:457: UserWarning: X has feature names, but PCA was fitted without feature names\n",
      "  warnings.warn(\n"
     ]
    },
    {
     "name": "stdout",
     "output_type": "stream",
     "text": [
      "clstr\n",
      "skip_scores was passed as parameter. continue withot scores calculation\n",
      "calculating pca of dists scores for TRB chain data/data_preped/VDJdb_data_TRB_V10.csv\n",
      "purity:0.9382418024542346\n",
      "Results are in tcremb_outputs/compare_V10/\n",
      "Elapsed time: 132.1507682800293 seconds.\n",
      "TCR-epitope paires count in V50 dataset: 24964\n",
      "data/data_preped/VDJdb_data_TRB_V50.csv\n",
      "TCRemb clustering\n",
      "python tcremb_run.py --input data/data_preped/VDJdb_data_TRB_V50.csv --runname compare_V50 --chain TRB --label antigen.epitope --clstr_model dbscan --data_id data_id --skip_scores True\n"
     ]
    },
    {
     "name": "stderr",
     "output_type": "stream",
     "text": [
      "/home/ykremlyakova/.conda/envs/py311/lib/python3.11/site-packages/sklearn/base.py:457: UserWarning: X has feature names, but PCA was fitted without feature names\n",
      "  warnings.warn(\n"
     ]
    },
    {
     "name": "stdout",
     "output_type": "stream",
     "text": [
      "clstr\n",
      "skip_scores was passed as parameter. continue withot scores calculation\n",
      "calculating pca of dists scores for TRB chain data/data_preped/VDJdb_data_TRB_V50.csv\n",
      "purity:0.945404137342717\n",
      "Results are in tcremb_outputs/compare_V50/\n",
      "Elapsed time: 119.48346948623657 seconds.\n",
      "TCR-epitope paires count in V100 dataset: 22643\n",
      "data/data_preped/VDJdb_data_TRB_V100.csv\n",
      "TCRemb clustering\n",
      "python tcremb_run.py --input data/data_preped/VDJdb_data_TRB_V100.csv --runname compare_V100 --chain TRB --label antigen.epitope --clstr_model dbscan --data_id data_id --skip_scores True\n"
     ]
    },
    {
     "name": "stderr",
     "output_type": "stream",
     "text": [
      "/home/ykremlyakova/.conda/envs/py311/lib/python3.11/site-packages/sklearn/base.py:457: UserWarning: X has feature names, but PCA was fitted without feature names\n",
      "  warnings.warn(\n"
     ]
    },
    {
     "name": "stdout",
     "output_type": "stream",
     "text": [
      "clstr\n",
      "skip_scores was passed as parameter. continue withot scores calculation\n",
      "calculating pca of dists scores for TRB chain data/data_preped/VDJdb_data_TRB_V100.csv\n",
      "purity:0.9512137077582103\n",
      "Results are in tcremb_outputs/compare_V100/\n",
      "Elapsed time: 109.48717975616455 seconds.\n",
      "TCR-epitope paires count in V500 dataset: 14719\n",
      "data/data_preped/VDJdb_data_TRB_V500.csv\n",
      "TCRemb clustering\n",
      "python tcremb_run.py --input data/data_preped/VDJdb_data_TRB_V500.csv --runname compare_V500 --chain TRB --label antigen.epitope --clstr_model dbscan --data_id data_id --skip_scores True\n"
     ]
    },
    {
     "name": "stderr",
     "output_type": "stream",
     "text": [
      "/home/ykremlyakova/.conda/envs/py311/lib/python3.11/site-packages/sklearn/base.py:457: UserWarning: X has feature names, but PCA was fitted without feature names\n",
      "  warnings.warn(\n"
     ]
    },
    {
     "name": "stdout",
     "output_type": "stream",
     "text": [
      "clstr\n",
      "skip_scores was passed as parameter. continue withot scores calculation\n",
      "calculating pca of dists scores for TRB chain data/data_preped/VDJdb_data_TRB_V500.csv\n",
      "purity:0.9767885532591415\n",
      "Results are in tcremb_outputs/compare_V500/\n",
      "Elapsed time: 68.57410001754761 seconds.\n",
      "TCR-epitope paires count in V1000 dataset: 13514\n",
      "data/data_preped/VDJdb_data_TRB_V1000.csv\n",
      "TCRemb clustering\n",
      "python tcremb_run.py --input data/data_preped/VDJdb_data_TRB_V1000.csv --runname compare_V1000 --chain TRB --label antigen.epitope --clstr_model dbscan --data_id data_id --skip_scores True\n"
     ]
    },
    {
     "name": "stderr",
     "output_type": "stream",
     "text": [
      "/home/ykremlyakova/.conda/envs/py311/lib/python3.11/site-packages/sklearn/base.py:457: UserWarning: X has feature names, but PCA was fitted without feature names\n",
      "  warnings.warn(\n"
     ]
    },
    {
     "name": "stdout",
     "output_type": "stream",
     "text": [
      "clstr\n",
      "skip_scores was passed as parameter. continue withot scores calculation\n",
      "calculating pca of dists scores for TRB chain data/data_preped/VDJdb_data_TRB_V1000.csv\n",
      "purity:0.9774562584118439\n",
      "Results are in tcremb_outputs/compare_V1000/\n",
      "Elapsed time: 61.95759558677673 seconds.\n"
     ]
    }
   ],
   "source": [
    "chain = 'TRB'\n",
    "tcremb_res_v[chain]={}\n",
    "for i in samples_n:\n",
    "    v_path = f'data/data_preped/VDJdb_data_{chain}_V{i}.csv'\n",
    "    vdjdb_v = pd.read_csv(v_path,sep='\\t')\n",
    "    print(f\"TCR-epitope paires count in V{i} dataset: {len(vdjdb_v)}\")\n",
    "    print(v_path)\n",
    "    \n",
    "    tcremb_res_v[chain][i] = models.run_tcremb(v_path, chain, f'V{i}',skip_scores=True, model='dbscan')"
   ]
  },
  {
   "cell_type": "code",
   "execution_count": 19,
   "id": "021f618b-477b-4844-82fd-e161d485ddd7",
   "metadata": {},
   "outputs": [
    {
     "name": "stdout",
     "output_type": "stream",
     "text": [
      "TCR-epitope paires count in V10 dataset: 13015\n",
      "{'f1': 0.42921885147872807, 'precision': 0.7135200459745726, 'recall': 0.44648482520169036}\n",
      "0.8793445878848064\n"
     ]
    },
    {
     "name": "stderr",
     "output_type": "stream",
     "text": [
      "/home/ykremlyakova/.conda/envs/py311/lib/python3.11/site-packages/sklearn/metrics/_classification.py:1469: UndefinedMetricWarning: Precision is ill-defined and being set to 0.0 in labels with no predicted samples. Use `zero_division` parameter to control this behavior.\n",
      "  _warn_prf(average, modifier, msg_start, len(result))\n"
     ]
    },
    {
     "name": "stdout",
     "output_type": "stream",
     "text": [
      "{'purity': 0.8793445878848064, 'retention': 0.3094890510948905, 'consistency': 0.0036292008571577913, 'ami': 0.7880468343310111, 'accuracy': 0.0009920625137444048, 'precision': 0.8725459962748934, 'recall': 0.8793445878848067, 'f1-score': 0.8759321003747583, 'support': 4028, 'mean_clustsize': 5.625698324022347, 'method': 'TCRemb'}\n",
      "TCR-epitope paires count in V50 dataset: 11900\n",
      "{'f1': 0.45371619908600536, 'precision': 0.7480838770437249, 'recall': 0.4714285714285714}\n",
      "0.9024191356346833\n"
     ]
    },
    {
     "name": "stderr",
     "output_type": "stream",
     "text": [
      "/home/ykremlyakova/.conda/envs/py311/lib/python3.11/site-packages/sklearn/metrics/_classification.py:1469: UndefinedMetricWarning: Precision is ill-defined and being set to 0.0 in labels with no predicted samples. Use `zero_division` parameter to control this behavior.\n",
      "  _warn_prf(average, modifier, msg_start, len(result))\n"
     ]
    },
    {
     "name": "stdout",
     "output_type": "stream",
     "text": [
      "{'purity': 0.9024191356346833, 'retention': 0.3091596638655462, 'consistency': 0.008128907311769504, 'ami': 0.8008855036980543, 'accuracy': 0.11314616631009836, 'precision': 0.9038702330975931, 'recall': 0.9024191356346833, 'f1-score': 0.9031441014905804, 'support': 3679, 'mean_clustsize': 5.8864, 'method': 'TCRemb'}\n",
      "TCR-epitope paires count in V100 dataset: 11186\n",
      "{'f1': 0.46886993787905623, 'precision': 0.769320193912756, 'recall': 0.48819953513320224}\n",
      "0.9140127388535032\n",
      "{'purity': 0.9140127388535032, 'retention': 0.30877883068120865, 'consistency': 0.012587200485289659, 'ami': 0.809094213492602, 'accuracy': 0.11986865844389108, 'precision': 0.9141474710665278, 'recall': 0.9140127388535032, 'f1-score': 0.9140800999952512, 'support': 3454, 'mean_clustsize': 6.080985915492958, 'method': 'TCRemb'}\n",
      "TCR-epitope paires count in V500 dataset: 6911\n",
      "{'f1': 0.5795702342952481, 'precision': 0.7891144004986664, 'recall': 0.6058457531471567}\n",
      "0.9508281573498965\n",
      "{'purity': 0.9508281573498965, 'retention': 0.27955433367095933, 'consistency': 0.04572118702553485, 'ami': 0.7746045918391598, 'accuracy': 0.20750040722022897, 'precision': 0.9526923422407505, 'recall': 0.9508281573498963, 'f1-score': 0.9517593369642537, 'support': 1932, 'mean_clustsize': 6.056426332288401, 'method': 'TCRemb'}\n",
      "TCR-epitope paires count in V1000 dataset: 6041\n",
      "{'f1': 0.587600415156203, 'precision': 0.7811508368064406, 'recall': 0.6242343982784307}\n",
      "0.9553148273527421\n",
      "{'purity': 0.9553148273527421, 'retention': 0.24449594438006952, 'consistency': 0.044346648612051454, 'ami': 0.6657222543354736, 'accuracy': 0.203740129056272, 'precision': 0.9553148273527421, 'recall': 0.9553148273527421, 'f1-score': 0.9553148273527421, 'support': 1477, 'mean_clustsize': 5.680769230769231, 'method': 'TCRemb'}\n"
     ]
    }
   ],
   "source": [
    "## work with results\n",
    "chain = 'TRA'\n",
    "tcremb_res_v[chain]={}\n",
    "metrics_tcremb_v[chain]={}\n",
    "for i in samples_n:\n",
    "    tcremb_res_v[chain][i] = pd.read_csv(f'tcremb_outputs/compare_V{i}/tcremb_clstr_res_{chain}.txt',sep='\\t')\n",
    "\n",
    "    print(f\"TCR-epitope paires count in V{i} dataset: {len(tcremb_res_v[chain][i])}\")\n",
    "    \n",
    "    print(ml_utils.clsf_metrics(tcremb_res_v[chain][i]['antigen.epitope'],tcremb_res_v[chain][i]['label_cluster'], average='weighted'))\n",
    "    print(ml_utils.count_clstr_purity(tcremb_res_v[chain][i][['cluster','label_cluster','total_cluster','count_matched','fraction_matched','p_value','fraction_matched_exp','is_cluster']].drop_duplicates()))\n",
    "    \n",
    "    metrics_tcremb_v[chain][i] = metrics.get_clustermetrics(tcremb_res_v[chain][i], 'antigen.epitope')\n",
    "    metrics_tcremb_v[chain][i]['method']='TCRemb'\n",
    "    print(metrics_tcremb_v[chain][i])"
   ]
  },
  {
   "cell_type": "code",
   "execution_count": null,
   "id": "f2e5711c-9181-4326-b0eb-f9f68ad70a5e",
   "metadata": {},
   "outputs": [],
   "source": []
  },
  {
   "cell_type": "code",
   "execution_count": 20,
   "id": "87d966c2-cfa6-4281-90cd-218c9b33aec4",
   "metadata": {},
   "outputs": [
    {
     "name": "stdout",
     "output_type": "stream",
     "text": [
      "TCR-epitope paires count in V10 dataset: 27114\n"
     ]
    },
    {
     "name": "stderr",
     "output_type": "stream",
     "text": [
      "/home/ykremlyakova/.conda/envs/py311/lib/python3.11/site-packages/sklearn/metrics/_classification.py:1469: UndefinedMetricWarning: Precision is ill-defined and being set to 0.0 in labels with no predicted samples. Use `zero_division` parameter to control this behavior.\n",
      "  _warn_prf(average, modifier, msg_start, len(result))\n"
     ]
    },
    {
     "name": "stdout",
     "output_type": "stream",
     "text": [
      "{'f1': 0.301557005518642, 'precision': 0.7196466842594328, 'recall': 0.34436084679501366}\n",
      "0.9382418024542346\n",
      "{'purity': 0.9382418024542346, 'retention': 0.18333702146492586, 'consistency': 0.0019958277695674292, 'ami': 0.8991704051842316, 'accuracy': 0.002810669211946287, 'precision': 0.9355203583163579, 'recall': 0.938241802454235, 'f1-score': 0.9368791040783908, 'support': 4971, 'mean_clustsize': 5.4506578947368425, 'method': 'TCRemb'}\n",
      "TCR-epitope paires count in V50 dataset: 24944\n"
     ]
    },
    {
     "name": "stderr",
     "output_type": "stream",
     "text": [
      "/home/ykremlyakova/.conda/envs/py311/lib/python3.11/site-packages/sklearn/metrics/_classification.py:1469: UndefinedMetricWarning: Precision is ill-defined and being set to 0.0 in labels with no predicted samples. Use `zero_division` parameter to control this behavior.\n",
      "  _warn_prf(average, modifier, msg_start, len(result))\n"
     ]
    },
    {
     "name": "stdout",
     "output_type": "stream",
     "text": [
      "{'f1': 0.3195606758362769, 'precision': 0.753560684143365, 'recall': 0.36545862732520845}\n",
      "0.945404137342717\n",
      "{'purity': 0.945404137342717, 'retention': 0.18798107761385505, 'consistency': 0.003250039799470742, 'ami': 0.9027696569085464, 'accuracy': 0.002979343759353657, 'precision': 0.9436914104639436, 'recall': 0.9454041373427166, 'f1-score': 0.9445469974912092, 'support': 4689, 'mean_clustsize': 5.663043478260869, 'method': 'TCRemb'}\n",
      "TCR-epitope paires count in V100 dataset: 22626\n"
     ]
    },
    {
     "name": "stderr",
     "output_type": "stream",
     "text": [
      "/home/ykremlyakova/.conda/envs/py311/lib/python3.11/site-packages/sklearn/metrics/_classification.py:1469: UndefinedMetricWarning: Precision is ill-defined and being set to 0.0 in labels with no predicted samples. Use `zero_division` parameter to control this behavior.\n",
      "  _warn_prf(average, modifier, msg_start, len(result))\n"
     ]
    },
    {
     "name": "stdout",
     "output_type": "stream",
     "text": [
      "{'f1': 0.3301662672034465, 'precision': 0.7522370017282435, 'recall': 0.3837620436665783}\n",
      "0.9512137077582103\n",
      "{'purity': 0.9512137077582103, 'retention': 0.1857155484840449, 'consistency': 0.004881531442634751, 'ami': 0.8996454216838858, 'accuracy': 0.003324610727966398, 'precision': 0.9513783419179924, 'recall': 0.9512137077582103, 'f1-score': 0.9512960177150802, 'support': 4202, 'mean_clustsize': 5.81994459833795, 'method': 'TCRemb'}\n",
      "TCR-epitope paires count in V500 dataset: 14704\n",
      "{'f1': 0.4718876394867444, 'precision': 0.7610899360431806, 'recall': 0.5301278563656148}\n",
      "0.9767885532591415\n",
      "{'purity': 0.9767885532591415, 'retention': 0.2138873775843308, 'consistency': 0.027708380649557118, 'ami': 0.9107776001659585, 'accuracy': 0.13106902469663154, 'precision': 0.9768567841310472, 'recall': 0.9767885532591415, 'f1-score': 0.9768226675036161, 'support': 3145, 'mean_clustsize': 6.763440860215054, 'method': 'TCRemb'}\n",
      "TCR-epitope paires count in V1000 dataset: 13499\n",
      "{'f1': 0.5089886908591886, 'precision': 0.7608928218615671, 'recall': 0.5653011334172902}\n",
      "0.9774562584118439\n",
      "{'purity': 0.9774562584118439, 'retention': 0.22016445662641676, 'consistency': 0.0395693135935397, 'ami': 0.9030451867543254, 'accuracy': 0.1387298727105746, 'precision': 0.9774326236333262, 'recall': 0.9774562584118439, 'f1-score': 0.9774444408797117, 'support': 2972, 'mean_clustsize': 7.059382422802851, 'method': 'TCRemb'}\n"
     ]
    }
   ],
   "source": [
    "## work with results\n",
    "chain = 'TRB'\n",
    "tcremb_res_v[chain]={}\n",
    "metrics_tcremb_v[chain]={}\n",
    "for i in samples_n:\n",
    "    tcremb_res_v[chain][i] = pd.read_csv(f'tcremb_outputs/compare_V{i}/tcremb_clstr_res_{chain}.txt',sep='\\t')\n",
    "\n",
    "    print(f\"TCR-epitope paires count in V{i} dataset: {len(tcremb_res_v[chain][i])}\")\n",
    "    \n",
    "    print(ml_utils.clsf_metrics(tcremb_res_v[chain][i]['antigen.epitope'],tcremb_res_v[chain][i]['label_cluster'], average='weighted'))\n",
    "    print(ml_utils.count_clstr_purity(tcremb_res_v[chain][i][['cluster','label_cluster','total_cluster','count_matched','fraction_matched','p_value','fraction_matched_exp','is_cluster']].drop_duplicates()))\n",
    "    \n",
    "    metrics_tcremb_v[chain][i] = metrics.get_clustermetrics(tcremb_res_v[chain][i], 'antigen.epitope')\n",
    "    metrics_tcremb_v[chain][i]['method']='TCRemb'\n",
    "    print(metrics_tcremb_v[chain][i])"
   ]
  },
  {
   "cell_type": "code",
   "execution_count": null,
   "id": "cf15f724-284c-4e96-8bfb-b0658c75c291",
   "metadata": {},
   "outputs": [],
   "source": []
  },
  {
   "cell_type": "code",
   "execution_count": null,
   "id": "b3df01a9-a9ec-4275-a6a2-bf595769c41a",
   "metadata": {},
   "outputs": [],
   "source": []
  },
  {
   "cell_type": "code",
   "execution_count": null,
   "id": "6109283e-44df-496b-99bb-46e2aa8af434",
   "metadata": {},
   "outputs": [],
   "source": []
  },
  {
   "cell_type": "markdown",
   "id": "466c0606-e896-4ce6-b171-39c2b2b3a0dc",
   "metadata": {},
   "source": [
    "### compare"
   ]
  },
  {
   "cell_type": "code",
   "execution_count": 21,
   "id": "890239b5-45fa-4874-99c6-d4a62779b9d4",
   "metadata": {},
   "outputs": [],
   "source": [
    "metrics_v = {}"
   ]
  },
  {
   "cell_type": "code",
   "execution_count": 22,
   "id": "de6a4a32-888d-4d50-be8c-6cc5ea0e3e80",
   "metadata": {},
   "outputs": [],
   "source": [
    "color_map = {'tcrdist':'#fc8d62','GIANA':'#e78ac3','iSmart':'#a6d854','TCRemb':'#66c2a5'}"
   ]
  },
  {
   "cell_type": "code",
   "execution_count": 23,
   "id": "f7f8a205-26fb-4633-8f1a-400c6b274d0f",
   "metadata": {},
   "outputs": [],
   "source": [
    "chain = 'TRA'\n",
    "metrics_v[chain] = pd.concat([\n",
    "    pd.DataFrame(metrics_giana_v[chain]).T\n",
    "    ,pd.DataFrame(metrics_ismart_v[chain]).T\n",
    "    #,pd.DataFrame(metrics_tcrdist[chain], index=['tcrdist'])\n",
    "    , pd.DataFrame(metrics_tcremb_v[chain]).T])\n",
    "#metrics_v[chain]['method'] = metrics_v[chain].index\n",
    "\n",
    "chain = 'TRB'\n",
    "metrics_v[chain] = pd.concat([\n",
    "    pd.DataFrame(metrics_giana_v[chain]).T\n",
    "    ,pd.DataFrame(metrics_ismart_v[chain]).T\n",
    "    #,pd.DataFrame(metrics_tcrdist[chain], index=['tcrdist'])\n",
    "    , pd.DataFrame(metrics_tcremb_v[chain]).T])"
   ]
  },
  {
   "cell_type": "raw",
   "id": "c5998667-0741-40bc-8e37-8672544d1539",
   "metadata": {},
   "source": [
    "fig, axes = plt.subplots(3,2, figsize = (12,15))\n",
    "\n",
    "chain = 'TRA'\n",
    "\n",
    "sns.barplot(data = metrics_v[chain], x = 'method', y = 'purity', palette= color_map, ax = axes[0,0])\n",
    "axes[0,0].set_title(f'Purity {chain}')\n",
    "axes[0,0].set_ylim(0, 1)\n",
    "\n",
    "sns.barplot(data = metrics_v[chain], x = 'method', y = 'f1-score', palette= color_map, ax = axes[1,0])\n",
    "axes[1,0].set_title(f'F1-score {chain}')   \n",
    "axes[1,0].set_ylim(0, 1)\n",
    "\n",
    "sns.barplot(data = metrics_v[chain], x = 'method', y = 'retention', palette= color_map, ax = axes[2,0])\n",
    "axes[2,0].set_title(f'Retention {chain}') \n",
    "axes[2,0].set_ylim(0, 1)\n",
    "\n",
    "chain = 'TRB'\n",
    "\n",
    "sns.barplot(data = metrics_v[chain], x = 'method', y = 'purity', palette= color_map, ax = axes[0,1])\n",
    "axes[0,1].set_title(f'Purity {chain}')\n",
    "axes[0,1].set_ylim(0, 1)\n",
    "\n",
    "sns.barplot(data = metrics_v[chain], x = 'method', y = 'f1-score', palette= color_map, ax = axes[1,1])\n",
    "axes[1,1].set_title(f'F1-score {chain}')   \n",
    "axes[1,1].set_ylim(0, 1)\n",
    "\n",
    "sns.barplot(data = metrics_v[chain], x = 'method', y = 'retention', palette= color_map, ax = axes[2,1])\n",
    "axes[2,1].set_title(f'Retention {chain}') \n",
    "axes[2,1].set_ylim(0, 1)\n",
    "\n",
    "plt.savefig(f\"figures/fig4.png\")"
   ]
  },
  {
   "cell_type": "code",
   "execution_count": null,
   "id": "7af1b641-d1c6-4814-aae4-1edadba7d6b4",
   "metadata": {},
   "outputs": [],
   "source": []
  },
  {
   "cell_type": "code",
   "execution_count": null,
   "id": "f16130be-286b-46fa-8643-faa6604e8512",
   "metadata": {},
   "outputs": [],
   "source": []
  },
  {
   "cell_type": "markdown",
   "id": "8865e087-b33a-4ae2-8586-910f27e007dd",
   "metadata": {},
   "source": [
    "### compare all V"
   ]
  },
  {
   "cell_type": "code",
   "execution_count": null,
   "id": "3ed181b6-0f22-474f-871d-f1fa8b1e4f0f",
   "metadata": {},
   "outputs": [],
   "source": []
  },
  {
   "cell_type": "code",
   "execution_count": 24,
   "id": "16f6b387-46c1-4b66-99b9-bdf80989bf07",
   "metadata": {},
   "outputs": [],
   "source": [
    "metrics_v['TRA']=metrics_v['TRA'].reset_index().rename({'index':'v_subset'},axis=1)\n",
    "metrics_v['TRB']=metrics_v['TRB'].reset_index().rename({'index':'v_subset'},axis=1)"
   ]
  },
  {
   "cell_type": "raw",
   "id": "fb3f9aab-702c-437d-906f-be5841ddaa21",
   "metadata": {},
   "source": [
    "## Kmeans\n",
    "\n",
    "chain = 'TRA'\n",
    "fig, axes = plt.subplots(5,5, figsize = (24,20))\n",
    "fig.suptitle(f'Clustering models compare on V10-V1000 subsets | TCRemb with K-means | {chain}')\n",
    "fig.subplots_adjust(top=0.95)\n",
    "ax_n = 0\n",
    "for i in samples_n:\n",
    "    t = metrics_v[chain][metrics_v[chain]['v_subset']==i]\n",
    "    sns.barplot(data = t, x = 'method', y = 'purity', palette= color_map, ax = axes[0,ax_n]).set_title(f'{chain}, subset min {i}/epitope')    \n",
    "    loc = 0\n",
    "    for i,r in t.iterrows():\n",
    "        axes[0,ax_n].text(loc, r['purity'] + 0.01, round(r['purity'],2), color='black', ha=\"center\")\n",
    "        loc +=1\n",
    "        axes[0,ax_n].set_ylim(0, 1)\n",
    "    \n",
    "    sns.barplot(data = t, x = 'method', y = 'f1-score', palette= color_map, ax = axes[1,ax_n])#.set_title(f'{chain}, subset min {i}/epitope')\n",
    "    loc = 0\n",
    "    for i,r in t.iterrows():\n",
    "        axes[1,ax_n].text(loc, r['f1-score'] + 0.01, round(r['f1-score'],2), color='black', ha=\"center\")\n",
    "        loc +=1\n",
    "        axes[1,ax_n].set_ylim(0, 1)\n",
    "    \n",
    "    sns.barplot(data = t, x = 'method', y = 'retention', palette= color_map, ax = axes[2,ax_n])#.set_title(f'{chain}, subset min {i}/epitope')\n",
    "    loc = 0\n",
    "    for i,r in t.iterrows():\n",
    "        axes[2,ax_n].text(loc, r['retention'] + 0.01, round(r['retention'],2), color='black', ha=\"center\")\n",
    "        loc +=1\n",
    "        axes[2,ax_n].set_ylim(0, 1)\n",
    "    \n",
    "    sns.barplot(data = t, x = 'method', y = 'consistency', palette= color_map, ax = axes[3,ax_n])#.set_title(f'{chain}, subset min {i}/epitope')\n",
    "    loc = 0\n",
    "    for i,r in t.iterrows():\n",
    "        axes[3,ax_n].text(loc, r['consistency'] + 0.01, round(r['consistency'],4), color='black', ha=\"center\")\n",
    "        loc +=1\n",
    "        axes[3,ax_n].set_ylim(0, 0.1)\n",
    "    \n",
    "    sns.barplot(data = t, x = 'method', y = 'ami', palette= color_map, ax = axes[4,ax_n])#.set_title(f'{chain}, subset min {i}/epitope')\n",
    "    loc = 0\n",
    "    for i,r in t.iterrows():\n",
    "        axes[4,ax_n].text(loc, r['ami'] + 0.01, round(r['ami'],2), color='black', ha=\"center\")\n",
    "        loc +=1\n",
    "        axes[4,ax_n].set_ylim(0, 1)\n",
    "        \n",
    "    ax_n+=1\n",
    "plt.savefig(f\"figures/fig5_kmeans_{chain}.png\")\n",
    "\n",
    "chain = 'TRB'\n",
    "fig, axes = plt.subplots(5,5, figsize = (24,20))\n",
    "fig.suptitle(f'Clustering models compare on V10-V1000 subsets | TCRemb with K-means | {chain}')\n",
    "fig.subplots_adjust(top=0.95)\n",
    "ax_n = 0\n",
    "for i in samples_n:\n",
    "    t = metrics_v[chain][metrics_v[chain]['v_subset']==i]\n",
    "    sns.barplot(data = t, x = 'method', y = 'purity', palette= color_map, ax = axes[0,ax_n]).set_title(f'{chain}, subset min {i}/epitope')\n",
    "    loc = 0\n",
    "    for i,r in t.iterrows():\n",
    "        axes[0,ax_n].text(loc, r['purity'] + 0.01, round(r['purity'],2), color='black', ha=\"center\")\n",
    "        loc +=1\n",
    "        axes[0,ax_n].set_ylim(0, 1)\n",
    "    \n",
    "    sns.barplot(data = t, x = 'method', y = 'f1-score', palette= color_map, ax = axes[1,ax_n])#.set_title(f'{chain}, subset min {i}/epitope')\n",
    "    loc = 0\n",
    "    for i,r in t.iterrows():\n",
    "        axes[1,ax_n].text(loc, r['f1-score'] + 0.01, round(r['f1-score'],2), color='black', ha=\"center\")\n",
    "        loc +=1\n",
    "        axes[1,ax_n].set_ylim(0, 1)\n",
    "    \n",
    "    sns.barplot(data = t, x = 'method', y = 'retention', palette= color_map, ax = axes[2,ax_n])#.set_title(f'{chain}, subset min {i}/epitope')\n",
    "    loc = 0\n",
    "    for i,r in t.iterrows():\n",
    "        axes[2,ax_n].text(loc, r['retention'] + 0.01, round(r['retention'],2), color='black', ha=\"center\")\n",
    "        loc +=1\n",
    "        axes[2,ax_n].set_ylim(0, 1)\n",
    "    \n",
    "    sns.barplot(data = t, x = 'method', y = 'consistency', palette= color_map, ax = axes[3,ax_n])#.set_title(f'{chain}, subset min {i}/epitope')\n",
    "    loc = 0\n",
    "    for i,r in t.iterrows():\n",
    "        axes[3,ax_n].text(loc, r['consistency'] + 0.01, round(r['consistency'],4), color='black', ha=\"center\")\n",
    "        loc +=1\n",
    "        axes[3,ax_n].set_ylim(0, 0.1)\n",
    "    \n",
    "    sns.barplot(data = t, x = 'method', y = 'ami', palette= color_map, ax = axes[4,ax_n])#.set_title(f'{chain}, subset min {i}/epitope')\n",
    "    loc = 0\n",
    "    for i,r in t.iterrows():\n",
    "        axes[4,ax_n].text(loc, r['ami'] + 0.01, round(r['ami'],2), color='black', ha=\"center\")\n",
    "        loc +=1\n",
    "        axes[4,ax_n].set_ylim(0, 1)\n",
    "        \n",
    "    ax_n+=1\n",
    "plt.savefig(f\"figures/fig5_kmeans_{chain}.png\")"
   ]
  },
  {
   "cell_type": "code",
   "execution_count": 25,
   "id": "28e0622b-a8ae-4195-af14-b5ab8110ce7b",
   "metadata": {},
   "outputs": [
    {
     "data": {
      "image/png": "[encoded data removed]",
      "text/plain": [
       "<Figure size 2400x2000 with 25 Axes>"
      ]
     },
     "metadata": {},
     "output_type": "display_data"
    },
    {
     "data": {
      "image/png": "[encoded data removed]",
      "text/plain": [
       "<Figure size 2400x2000 with 25 Axes>"
      ]
     },
     "metadata": {},
     "output_type": "display_data"
    }
   ],
   "source": [
    "## dbscan\n",
    "\n",
    "chain = 'TRA'\n",
    "fig, axes = plt.subplots(5,5, figsize = (24,20))\n",
    "fig.suptitle(f'Clustering models compare on V10-V1000 subsets | TCRemb with dbscan | {chain}')\n",
    "fig.subplots_adjust(top=0.95)\n",
    "ax_n = 0\n",
    "for i in samples_n:\n",
    "    t = metrics_v[chain][metrics_v[chain]['v_subset']==i]\n",
    "    sns.barplot(data = t, x = 'method', y = 'purity', palette= color_map, ax = axes[0,ax_n]).set_title(f'{chain}, subset min {i}/epitope')    \n",
    "    loc = 0\n",
    "    for i,r in t.iterrows():\n",
    "        axes[0,ax_n].text(loc, r['purity'] + 0.01, round(r['purity'],2), color='black', ha=\"center\")\n",
    "        loc +=1\n",
    "        axes[0,ax_n].set_ylim(0, 1)\n",
    "    \n",
    "    sns.barplot(data = t, x = 'method', y = 'f1-score', palette= color_map, ax = axes[1,ax_n])#.set_title(f'{chain}, subset min {i}/epitope')\n",
    "    loc = 0\n",
    "    for i,r in t.iterrows():\n",
    "        axes[1,ax_n].text(loc, r['f1-score'] + 0.01, round(r['f1-score'],2), color='black', ha=\"center\")\n",
    "        loc +=1\n",
    "        axes[1,ax_n].set_ylim(0, 1)\n",
    "    \n",
    "    sns.barplot(data = t, x = 'method', y = 'retention', palette= color_map, ax = axes[2,ax_n])#.set_title(f'{chain}, subset min {i}/epitope')\n",
    "    loc = 0\n",
    "    for i,r in t.iterrows():\n",
    "        axes[2,ax_n].text(loc, r['retention'] + 0.01, round(r['retention'],2), color='black', ha=\"center\")\n",
    "        loc +=1\n",
    "        axes[2,ax_n].set_ylim(0, 1)\n",
    "    \n",
    "    sns.barplot(data = t, x = 'method', y = 'consistency', palette= color_map, ax = axes[3,ax_n])#.set_title(f'{chain}, subset min {i}/epitope')\n",
    "    loc = 0\n",
    "    for i,r in t.iterrows():\n",
    "        axes[3,ax_n].text(loc, r['consistency'] + 0.01, round(r['consistency'],4), color='black', ha=\"center\")\n",
    "        loc +=1\n",
    "        axes[3,ax_n].set_ylim(0, 0.1)\n",
    "    \n",
    "    sns.barplot(data = t, x = 'method', y = 'ami', palette= color_map, ax = axes[4,ax_n])#.set_title(f'{chain}, subset min {i}/epitope')\n",
    "    loc = 0\n",
    "    for i,r in t.iterrows():\n",
    "        axes[4,ax_n].text(loc, r['ami'] + 0.01, round(r['ami'],2), color='black', ha=\"center\")\n",
    "        loc +=1\n",
    "        axes[4,ax_n].set_ylim(0, 1)\n",
    "        \n",
    "    ax_n+=1\n",
    "plt.savefig(f\"figures/fig5_dbscan_{chain}.png\")\n",
    "\n",
    "chain = 'TRB'\n",
    "fig, axes = plt.subplots(5,5, figsize = (24,20))\n",
    "fig.suptitle(f'Clustering models compare on V10-V1000 subsets | TCRemb with dbscan |{chain}')\n",
    "fig.subplots_adjust(top=0.95)\n",
    "ax_n = 0\n",
    "for i in samples_n:\n",
    "    t = metrics_v[chain][metrics_v[chain]['v_subset']==i]\n",
    "    sns.barplot(data = t, x = 'method', y = 'purity', palette= color_map, ax = axes[0,ax_n]).set_title(f'{chain}, subset min {i}/epitope')\n",
    "    loc = 0\n",
    "    for i,r in t.iterrows():\n",
    "        axes[0,ax_n].text(loc, r['purity'] + 0.01, round(r['purity'],2), color='black', ha=\"center\")\n",
    "        loc +=1\n",
    "        axes[0,ax_n].set_ylim(0, 1)\n",
    "    \n",
    "    sns.barplot(data = t, x = 'method', y = 'f1-score', palette= color_map, ax = axes[1,ax_n])#.set_title(f'{chain}, subset min {i}/epitope')\n",
    "    loc = 0\n",
    "    for i,r in t.iterrows():\n",
    "        axes[1,ax_n].text(loc, r['f1-score'] + 0.01, round(r['f1-score'],2), color='black', ha=\"center\")\n",
    "        loc +=1\n",
    "        axes[1,ax_n].set_ylim(0, 1)\n",
    "    \n",
    "    sns.barplot(data = t, x = 'method', y = 'retention', palette= color_map, ax = axes[2,ax_n])#.set_title(f'{chain}, subset min {i}/epitope')\n",
    "    loc = 0\n",
    "    for i,r in t.iterrows():\n",
    "        axes[2,ax_n].text(loc, r['retention'] + 0.01, round(r['retention'],2), color='black', ha=\"center\")\n",
    "        loc +=1\n",
    "        axes[2,ax_n].set_ylim(0, 1)\n",
    "    \n",
    "    sns.barplot(data = t, x = 'method', y = 'consistency', palette= color_map, ax = axes[3,ax_n])#.set_title(f'{chain}, subset min {i}/epitope')\n",
    "    loc = 0\n",
    "    for i,r in t.iterrows():\n",
    "        axes[3,ax_n].text(loc, r['consistency'] + 0.01, round(r['consistency'],4), color='black', ha=\"center\")\n",
    "        loc +=1\n",
    "        axes[3,ax_n].set_ylim(0, 0.1)\n",
    "    \n",
    "    sns.barplot(data = t, x = 'method', y = 'ami', palette= color_map, ax = axes[4,ax_n])#.set_title(f'{chain}, subset min {i}/epitope')\n",
    "    loc = 0\n",
    "    for i,r in t.iterrows():\n",
    "        axes[4,ax_n].text(loc, r['ami'] + 0.01, round(r['ami'],2), color='black', ha=\"center\")\n",
    "        loc +=1\n",
    "        axes[4,ax_n].set_ylim(0, 1)\n",
    "        \n",
    "    ax_n+=1\n",
    "plt.savefig(f\"figures/fig5_dbscan_{chain}.png\")"
   ]
  },
  {
   "cell_type": "code",
   "execution_count": null,
   "id": "f31e16ad-42f9-4fba-96f5-186113df8be4",
   "metadata": {},
   "outputs": [],
   "source": [
    "chain = 'TRA'\n",
    "fig, axes = plt.subplots(5,5, figsize = (20,18))\n",
    "ax_n = 0\n",
    "for i in samples_n:\n",
    "    t = metrics_v[chain][metrics_v[chain]['v_subset']==i]\n",
    "    sns.barplot(data = t, x = 'method', y = 'purity', palette= color_map, ax = axes[0,ax_n]).set_title(f'{chain}, subset min {i}/epitope')\n",
    "    \n",
    "    sns.barplot(data = t, x = 'method', y = 'f1-score', palette= color_map, ax = axes[1,ax_n])#.set_title(f'{chain}, subset min {i}/epitope')\n",
    "\n",
    "    \n",
    "    sns.barplot(data = t, x = 'method', y = 'retention', palette= color_map, ax = axes[2,ax_n])#.set_title(f'{chain}, subset min {i}/epitope')\n",
    "\n",
    "    \n",
    "    sns.barplot(data = t, x = 'method', y = 'consistency', palette= color_map, ax = axes[3,ax_n])#.set_title(f'{chain}, subset min {i}/epitope')\n",
    "\n",
    "    \n",
    "    sns.barplot(data = t, x = 'method', y = 'ami', palette= color_map, ax = axes[4,ax_n])#.set_title(f'{chain}, subset min {i}/epitope')\n",
    "    ax_n+=1"
   ]
  },
  {
   "cell_type": "code",
   "execution_count": null,
   "id": "f8a93be9-f6e0-467d-b814-cee25bb04a05",
   "metadata": {},
   "outputs": [],
   "source": []
  },
  {
   "cell_type": "code",
   "execution_count": null,
   "id": "d5706e2f-c175-4fc3-8918-bb61ca0f69a7",
   "metadata": {},
   "outputs": [],
   "source": [
    "fig, axes = plt.subplots(3,2, figsize = (12,15))\n",
    "\n",
    "chain = 'TRA'\n",
    "\n",
    "sns.barplot(data = metrics_v[chain], x = 'method', y = 'purity', palette= color_map, ax = axes[0,0])\n",
    "axes[0,0].set_title(f'Purity {chain}')\n",
    "axes[0,0].set_ylim(0, 1)\n",
    "\n",
    "sns.barplot(data = metrics_v[chain], x = 'method', y = 'f1-score', palette= color_map, ax = axes[1,0])\n",
    "axes[1,0].set_title(f'F1-score {chain}')   \n",
    "axes[1,0].set_ylim(0, 1)\n",
    "\n",
    "sns.barplot(data = metrics_v[chain], x = 'method', y = 'retention', palette= color_map, ax = axes[2,0])\n",
    "axes[2,0].set_title(f'Retention {chain}') \n",
    "axes[2,0].set_ylim(0, 1)\n",
    "\n",
    "chain = 'TRB'\n",
    "\n",
    "sns.barplot(data = metrics_v[chain], x = 'method', y = 'purity', palette= color_map, ax = axes[0,1])\n",
    "axes[0,1].set_title(f'Purity {chain}')\n",
    "axes[0,1].set_ylim(0, 1)\n",
    "\n",
    "sns.barplot(data = metrics_v[chain], x = 'method', y = 'f1-score', palette= color_map, ax = axes[1,1])\n",
    "axes[1,1].set_title(f'F1-score {chain}')   \n",
    "axes[1,1].set_ylim(0, 1)\n",
    "\n",
    "sns.barplot(data = metrics_v[chain], x = 'method', y = 'retention', palette= color_map, ax = axes[2,1])\n",
    "axes[2,1].set_title(f'Retention {chain}') \n",
    "axes[2,1].set_ylim(0, 1)"
   ]
  },
  {
   "cell_type": "code",
   "execution_count": null,
   "id": "0fe792c6-f5ec-4652-ae86-8bc3dec35b81",
   "metadata": {},
   "outputs": [],
   "source": []
  },
  {
   "cell_type": "code",
   "execution_count": null,
   "id": "27a96173-1286-48bd-abba-3ecfabaf273a",
   "metadata": {},
   "outputs": [],
   "source": [
    "chain = 'TRA'\n",
    "metrics_v[chain] = pd.concat([\n",
    "    pd.DataFrame(metrics_giana_v[chain]).T\n",
    "    ,pd.DataFrame(metrics_ismart_v[chain]).T\n",
    "    #,pd.DataFrame(metrics_tcrdist[chain], index=['tcrdist'])\n",
    "    , pd.DataFrame(metrics_tcremb_v_enriched[chain]).T])\n",
    "#metrics_v[chain]['method'] = metrics_v[chain].index\n",
    "\n",
    "chain = 'TRB'\n",
    "metrics_v[chain] = pd.concat([\n",
    "    pd.DataFrame(metrics_giana_v[chain]).T\n",
    "    ,pd.DataFrame(metrics_ismart_v[chain]).T\n",
    "    #,pd.DataFrame(metrics_tcrdist[chain], index=['tcrdist'])\n",
    "    , pd.DataFrame(metrics_tcremb_v_enriched[chain]).T])"
   ]
  },
  {
   "cell_type": "code",
   "execution_count": null,
   "id": "7c9afdaa-dae7-4576-ab6e-0e636aff6b4f",
   "metadata": {},
   "outputs": [],
   "source": [
    "fig, axes = plt.subplots(3,2, figsize = (12,15))\n",
    "\n",
    "chain = 'TRA'\n",
    "\n",
    "sns.barplot(data = metrics_v[chain], x = 'method', y = 'purity', palette= color_map, ax = axes[0,0])\n",
    "axes[0,0].set_title(f'Purity {chain}')\n",
    "axes[0,0].set_ylim(0, 1)\n",
    "\n",
    "sns.barplot(data = metrics_v[chain], x = 'method', y = 'f1-score', palette= color_map, ax = axes[1,0])\n",
    "axes[1,0].set_title(f'F1-score {chain}')   \n",
    "axes[1,0].set_ylim(0, 1)\n",
    "\n",
    "sns.barplot(data = metrics_v[chain], x = 'method', y = 'retention', palette= color_map, ax = axes[2,0])\n",
    "axes[2,0].set_title(f'Retention {chain}') \n",
    "axes[2,0].set_ylim(0, 1)\n",
    "\n",
    "chain = 'TRB'\n",
    "\n",
    "sns.barplot(data = metrics_v[chain], x = 'method', y = 'purity', palette= color_map, ax = axes[0,1])\n",
    "axes[0,1].set_title(f'Purity {chain}')\n",
    "axes[0,1].set_ylim(0, 1)\n",
    "\n",
    "sns.barplot(data = metrics_v[chain], x = 'method', y = 'f1-score', palette= color_map, ax = axes[1,1])\n",
    "axes[1,1].set_title(f'F1-score {chain}')   \n",
    "axes[1,1].set_ylim(0, 1)\n",
    "\n",
    "sns.barplot(data = metrics_v[chain], x = 'method', y = 'retention', palette= color_map, ax = axes[2,1])\n",
    "axes[2,1].set_title(f'Retention {chain}') \n",
    "axes[2,1].set_ylim(0, 1)\n",
    "\n",
    "plt.savefig(f\"figures/fig4_3.png\")"
   ]
  },
  {
   "cell_type": "code",
   "execution_count": null,
   "id": "47f74d21-c0de-4ada-afb7-f82d1de728cd",
   "metadata": {},
   "outputs": [],
   "source": []
  },
  {
   "cell_type": "markdown",
   "id": "c9ad1af7-56a7-49a5-949f-cd9a12c01b06",
   "metadata": {},
   "source": [
    "# Classification"
   ]
  },
  {
   "cell_type": "markdown",
   "id": "1dce6f53-bf53-4049-a98a-d2204265133f",
   "metadata": {},
   "source": [
    "## ATM_TCR"
   ]
  },
  {
   "cell_type": "markdown",
   "id": "f3355270-a0e4-4778-88da-76aa87939a7c",
   "metadata": {},
   "source": [
    "2650 11772 505 6706\n",
    "accuracy   0.4325\n",
    "auc        0.6519\n",
    "f1macro    0.4118\n",
    "f1micro    0.4325\n",
    "loss       442818.7955\n",
    "precision0 0.8399\n",
    "precision1 0.3629\n",
    "recall0    0.1837\n",
    "recall1    0.9300"
   ]
  },
  {
   "cell_type": "code",
   "execution_count": null,
   "id": "578707bb-62f7-4af8-a053-10b8c71ce7f3",
   "metadata": {},
   "outputs": [],
   "source": [
    "atm_results_path = '/home/ykremlyakova/apps/ATM-TCR/result/pred_my_model_vdjdb_trb_atmtcr_test.csv'\n",
    "real_test_path = '/home/ykremlyakova/projects/tcr_emb/data/data_preped/vdjdb_trb_atmtcr_test.csv'"
   ]
  },
  {
   "cell_type": "code",
   "execution_count": null,
   "id": "8776fe0a-f04a-4243-afb5-10d80ca37513",
   "metadata": {},
   "outputs": [],
   "source": [
    "!pwd"
   ]
  },
  {
   "cell_type": "code",
   "execution_count": null,
   "id": "5c754d60-4bd8-4e2b-b507-6fa4c35aae58",
   "metadata": {},
   "outputs": [],
   "source": [
    "real_test = pd.read_csv(real_test_path,header=None)\n",
    "real_test"
   ]
  },
  {
   "cell_type": "code",
   "execution_count": null,
   "id": "aa18e495-248c-4915-9b20-165cfb93a6fb",
   "metadata": {},
   "outputs": [],
   "source": [
    "atm = pd.read_csv(atm_results_path, sep='\\t',header=None)\n",
    "atm = atm.rename({0:'antigen.epitope',1:'cdr3aa',2:'bind',3:'pred'},axis=1)"
   ]
  },
  {
   "cell_type": "code",
   "execution_count": null,
   "id": "4ef03579-5d47-4220-b018-b51d69234944",
   "metadata": {},
   "outputs": [],
   "source": [
    "epitopes_list = ['CINGVCWTV',\n",
    " 'ELAGIGILTV',\n",
    " 'FRDYVDRFYKTLRAEQASQE',\n",
    " 'GILGFVFTL',\n",
    " 'GLCTLVAML',\n",
    " 'KRWIILGLNK',\n",
    " 'LLLGIGILV',\n",
    " 'LLWNGPMAV',\n",
    " 'NLVPMVATV',\n",
    " 'PKYVKQNTLKLAT',\n",
    " 'SPRWYFYYL',\n",
    " 'TFEYVSQPFLMDLE',\n",
    " 'TPRVTGGGAM',\n",
    " 'TTDPSFLGRY',\n",
    " 'YLQPRTFLL']"
   ]
  },
  {
   "cell_type": "code",
   "execution_count": null,
   "id": "18339a12-d2b5-4133-b671-286a811131a3",
   "metadata": {},
   "outputs": [],
   "source": [
    "atm_e = atm[atm['antigen.epitope'].isin(epitopes_list)]"
   ]
  },
  {
   "cell_type": "code",
   "execution_count": null,
   "id": "6c7c6988-bfa3-4276-9062-bf37dca2a133",
   "metadata": {},
   "outputs": [],
   "source": [
    "#atm_e = atm_e[atm_e['bind']==1]"
   ]
  },
  {
   "cell_type": "code",
   "execution_count": null,
   "id": "798ffa4d-0fd2-44bb-91da-853af6211d37",
   "metadata": {},
   "outputs": [],
   "source": [
    "roc_res = []\n",
    "for e in epitopes_list:\n",
    "    r={}\n",
    "    r['class']= e\n",
    "    r['roc_auc'] = ml_utils.roc_auc_count_binary(atm_e[atm_e['antigen.epitope']==e]['bind'], atm_e[atm_e['antigen.epitope']==e]['pred'])\n",
    "    roc_res.append(r)"
   ]
  },
  {
   "cell_type": "code",
   "execution_count": null,
   "id": "e0924aff-37e2-4f3b-a5fb-e44744b483e4",
   "metadata": {},
   "outputs": [],
   "source": [
    "roc_res\n"
   ]
  },
  {
   "cell_type": "code",
   "execution_count": null,
   "id": "ec627a6a-6f7e-4315-9444-fac8f93b2489",
   "metadata": {},
   "outputs": [],
   "source": [
    "atm_e[atm_e['pred'].isna()]"
   ]
  },
  {
   "cell_type": "code",
   "execution_count": null,
   "id": "7b424a49-bfda-452e-a2a2-e3710134d055",
   "metadata": {},
   "outputs": [],
   "source": []
  }
 ],
 "metadata": {
  "kernelspec": {
   "display_name": "Python [conda env:.conda-py311]",
   "language": "python",
   "name": "conda-env-.conda-py311-py"
  },
  "language_info": {
   "codemirror_mode": {
    "name": "ipython",
    "version": 3
   },
   "file_extension": ".py",
   "mimetype": "text/x-python",
   "name": "python",
   "nbconvert_exporter": "python",
   "pygments_lexer": "ipython3",
   "version": "3.11.4"
  }
 },
 "nbformat": 4,
 "nbformat_minor": 5
}
