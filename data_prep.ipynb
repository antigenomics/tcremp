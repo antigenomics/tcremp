{
 "cells": [
  {
   "cell_type": "code",
   "execution_count": 1,
   "id": "83c292d9-3e58-44f6-ba53-201529cc149f",
   "metadata": {},
   "outputs": [],
   "source": [
    "import math\n",
    "from pathlib import Path\n",
    "import sys\n",
    "import numpy as np\n",
    "import pandas as pd\n",
    "from scipy import stats\n",
    "import statistics\n"
   ]
  },
  {
   "cell_type": "code",
   "execution_count": 2,
   "id": "c5059115-b200-42c6-8a94-5fd0864c2a37",
   "metadata": {},
   "outputs": [],
   "source": [
    "import tcremb.data_proc as data_proc"
   ]
  },
  {
   "cell_type": "code",
   "execution_count": 3,
   "id": "b9ebb4bc-22a3-46c9-9c32-0598470cd905",
   "metadata": {},
   "outputs": [],
   "source": [
    "import warnings\n",
    "warnings.filterwarnings('ignore')"
   ]
  },
  {
   "cell_type": "code",
   "execution_count": null,
   "id": "df70ac83-e7ad-46d6-9d4f-e5dcaa200ec1",
   "metadata": {},
   "outputs": [],
   "source": []
  },
  {
   "cell_type": "code",
   "execution_count": 4,
   "id": "2facd6b0-37a7-473c-bc07-1e56608057cf",
   "metadata": {},
   "outputs": [],
   "source": [
    "outputs_path = 'data/data_preped/'"
   ]
  },
  {
   "cell_type": "code",
   "execution_count": 5,
   "id": "fce6007e-5967-4b8c-9311-29e82d9d6754",
   "metadata": {},
   "outputs": [],
   "source": [
    "tcr_columns = {'single': ['cdr3aa','v','j','chain'],'paired': {'TRA': ['a_cdr3aa', 'TRAV', 'TRAJ'],'TRB': [ 'b_cdr3aa', 'TRBV', 'TRBJ']}}\n",
    "tcr_columns = ['cdr3aa','v','j','chain']\n",
    "clonotype_id_column = 'cloneId'\n",
    "data_id= 'data_id'\n",
    "annotation_id = 'annotId'\n",
    "pairing_id = 'barcode'\n",
    "annotation_tcr_id_columns_dict = {'TRA': 'cloneId','TRB': 'cloneId','TRA_TRB': {'TRA':'cloneId_TRA', 'TRB':'cloneId_TRB'}}"
   ]
  },
  {
   "cell_type": "code",
   "execution_count": null,
   "id": "3d84fbd3-a11d-4372-8a3f-32a6915ec1fa",
   "metadata": {},
   "outputs": [],
   "source": []
  },
  {
   "cell_type": "code",
   "execution_count": null,
   "id": "a3ce3ce6-dc4e-421d-a97f-03452acefa7a",
   "metadata": {},
   "outputs": [],
   "source": []
  },
  {
   "cell_type": "code",
   "execution_count": null,
   "id": "20a46bc2-2bb5-4e4e-a079-f668e7fe0439",
   "metadata": {},
   "outputs": [],
   "source": []
  },
  {
   "cell_type": "markdown",
   "id": "e3c4d639-d577-4938-8e3d-cf4dbfd62d1c",
   "metadata": {},
   "source": [
    "## Prototypes"
   ]
  },
  {
   "cell_type": "markdown",
   "id": "f40e5959-0479-4ffe-baa3-4b5cfb71b0eb",
   "metadata": {},
   "source": [
    "### TRA"
   ]
  },
  {
   "cell_type": "code",
   "execution_count": 11,
   "id": "31a05408-0b25-4339-afc1-c43a3da9fcc1",
   "metadata": {},
   "outputs": [],
   "source": [
    "data_raw_path = 'data/olga_humanTRA_3000.txt'\n",
    "data_output_path = outputs_path +'olga_humanTRA.txt'"
   ]
  },
  {
   "cell_type": "code",
   "execution_count": 12,
   "id": "2a199c75-87df-425d-9d1b-7fd29e6e4ba9",
   "metadata": {},
   "outputs": [],
   "source": [
    "data = pd.read_csv(data_raw_path,sep='\\t',header=None)\n",
    "data = data.rename({0:'cdr3nt',1:'cdr3aa',2:'v',3:'j'},axis=1)"
   ]
  },
  {
   "cell_type": "code",
   "execution_count": 13,
   "id": "f853b787-e321-41af-9fc5-f0594383a6d3",
   "metadata": {},
   "outputs": [
    {
     "name": "stdout",
     "output_type": "stream",
     "text": [
      "(3000, 4)\n",
      "(3000, 4)\n"
     ]
    },
    {
     "data": {
      "text/plain": [
       "(2951, 4)"
      ]
     },
     "execution_count": 13,
     "metadata": {},
     "output_type": "execute_result"
    }
   ],
   "source": [
    "data_preped = data_proc.remove_asterisk(data, ['cdr3nt','cdr3aa','v','j'])\n",
    "data_preped = data_proc.remove_backslash(data_preped, ['cdr3nt','cdr3aa','v','j'])\n",
    "data_preped = data_proc.filter_clones_data(data_preped, ['cdr3nt','cdr3aa','v','j'])\n",
    "data_preped = data_proc.filter_segments(data_preped)\n",
    "data_preped.shape"
   ]
  },
  {
   "cell_type": "code",
   "execution_count": 14,
   "id": "9619573f-0525-438a-84b7-14b114af5667",
   "metadata": {},
   "outputs": [],
   "source": [
    "data_preped.to_csv(data_output_path, sep='\\t',header=False)"
   ]
  },
  {
   "cell_type": "code",
   "execution_count": null,
   "id": "6879aa1b-f2e1-4b2d-abfc-f86f6f63a7f4",
   "metadata": {},
   "outputs": [],
   "source": []
  },
  {
   "cell_type": "markdown",
   "id": "ebfb34ea-114d-40c7-8786-b9e4b1887e6c",
   "metadata": {},
   "source": [
    "### TRB"
   ]
  },
  {
   "cell_type": "code",
   "execution_count": 15,
   "id": "525e211a-5f45-4422-b4ba-95e312ab43b2",
   "metadata": {},
   "outputs": [],
   "source": [
    "data_raw_path = 'data/olga_humanTRB_3000.txt'\n",
    "data_output_path = outputs_path +'olga_humanTRB.txt'"
   ]
  },
  {
   "cell_type": "code",
   "execution_count": 16,
   "id": "80f48e9b-5f43-4eff-b75f-0cd3f2566644",
   "metadata": {},
   "outputs": [],
   "source": [
    "data = pd.read_csv(data_raw_path,sep='\\t',header=None)\n",
    "data = data.rename({0:'cdr3nt',1:'cdr3aa',2:'v',3:'j'},axis=1)"
   ]
  },
  {
   "cell_type": "code",
   "execution_count": 17,
   "id": "4e178c12-b62a-4e09-9969-4c1be8dc9127",
   "metadata": {},
   "outputs": [
    {
     "name": "stdout",
     "output_type": "stream",
     "text": [
      "(3000, 4)\n",
      "(3000, 4)\n"
     ]
    },
    {
     "data": {
      "text/plain": [
       "(3000, 4)"
      ]
     },
     "execution_count": 17,
     "metadata": {},
     "output_type": "execute_result"
    }
   ],
   "source": [
    "data_preped = data_proc.remove_asterisk(data, ['cdr3nt','cdr3aa','v','j'])\n",
    "data_preped = data_proc.remove_backslash(data_preped, ['cdr3nt','cdr3aa','v','j'])\n",
    "data_preped = data_proc.filter_clones_data(data_preped, ['cdr3nt','cdr3aa','v','j'])\n",
    "data_preped = data_proc.filter_segments(data_preped)\n",
    "data_preped.shape"
   ]
  },
  {
   "cell_type": "code",
   "execution_count": 18,
   "id": "19af443b-fca0-492a-a51e-f015d6548fed",
   "metadata": {},
   "outputs": [],
   "source": [
    "data_preped.to_csv(data_output_path, sep='\\t',header=False)"
   ]
  },
  {
   "cell_type": "code",
   "execution_count": null,
   "id": "b7a6a9ef-ea1a-4cc6-8f04-77461bcf9046",
   "metadata": {},
   "outputs": [],
   "source": []
  },
  {
   "cell_type": "markdown",
   "id": "0a476b07-df1b-401a-bf70-2374d2769cc3",
   "metadata": {},
   "source": [
    "## VDJdb"
   ]
  },
  {
   "cell_type": "code",
   "execution_count": 6,
   "id": "ed3f109d-b56f-4586-9de0-e41be23689f9",
   "metadata": {},
   "outputs": [],
   "source": [
    "label = 'antigen.epitope'\n",
    "label_s = 'antigen.species'"
   ]
  },
  {
   "cell_type": "code",
   "execution_count": 7,
   "id": "1600be22-02da-4391-a83c-fbf9dc2fbcd3",
   "metadata": {},
   "outputs": [],
   "source": [
    "data_raw_path = 'data/vdjdb.slim.txt'\n",
    "data_tra_output_path = outputs_path +'VDJdb_data_TRA.csv'\n",
    "data_trb_output_path = outputs_path +'VDJdb_data_TRB.csv'\n",
    "data_output_path = outputs_path +'VDJdb_data.csv'"
   ]
  },
  {
   "cell_type": "code",
   "execution_count": 8,
   "id": "23fc292c-0d53-4591-b56f-a684f7cd5c1c",
   "metadata": {},
   "outputs": [],
   "source": [
    "data = pd.read_csv(data_raw_path,sep='\\t')\n",
    "data = data.rename({'cdr3':'cdr3aa','gene':'chain','v.segm':'v','j.segm':'j'},axis=1)\n",
    "\n",
    "\n"
   ]
  },
  {
   "cell_type": "markdown",
   "id": "b9c679c3-ad8f-44da-84e4-441811ec6ad6",
   "metadata": {},
   "source": [
    "### Assign data id"
   ]
  },
  {
   "cell_type": "code",
   "execution_count": 9,
   "id": "ae76753d-a399-4f47-8a4d-16925bce57dd",
   "metadata": {},
   "outputs": [],
   "source": [
    "data = data_proc.annot_id(data, data_id)"
   ]
  },
  {
   "cell_type": "code",
   "execution_count": null,
   "id": "1c4aacf1-0f4f-4909-b8c5-0c5e096b84f9",
   "metadata": {},
   "outputs": [],
   "source": []
  },
  {
   "cell_type": "markdown",
   "id": "fdfcecee-3429-4abb-b271-c8c51349874b",
   "metadata": {},
   "source": [
    "### data proc"
   ]
  },
  {
   "cell_type": "code",
   "execution_count": 10,
   "id": "6097858b-bd52-4bf5-8abc-367ad3921e20",
   "metadata": {},
   "outputs": [
    {
     "name": "stdout",
     "output_type": "stream",
     "text": [
      "(75280, 17)\n",
      "(74240, 17)\n"
     ]
    },
    {
     "data": {
      "text/plain": [
       "(36193, 17)"
      ]
     },
     "execution_count": 10,
     "metadata": {},
     "output_type": "execute_result"
    }
   ],
   "source": [
    "data_preped = data_proc.remove_asterisk(data, tcr_columns)\n",
    "data_preped = data_proc.remove_backslash(data_preped, tcr_columns)\n",
    "data_preped = data_proc.filter_clones_data(data_preped, tcr_columns)\n",
    "data_preped = data_preped[-data_preped['reference.id'].str.startswith('https://www.10xgenomics',na=False)].reset_index(drop=True)\n",
    "data_preped = data_preped[data_preped['species']=='HomoSapiens']\n",
    "data_preped = data_proc.filter_segments(data_preped)\n",
    "data_preped.shape"
   ]
  },
  {
   "cell_type": "markdown",
   "id": "f184097e-a670-445e-951c-05ecb7e8d581",
   "metadata": {},
   "source": [
    "### frequent labels"
   ]
  },
  {
   "cell_type": "code",
   "execution_count": 13,
   "id": "9c1c87f8-0681-4b47-9940-b7373ea29d4d",
   "metadata": {},
   "outputs": [],
   "source": [
    "data_preped = data_proc.freq_label(label, data_id, data_preped, tr = 1000)\n",
    "data_preped = data_proc.freq_label_list(label, data_id, data_preped, [10,20,30,50,100,500,1000])"
   ]
  },
  {
   "cell_type": "code",
   "execution_count": 19,
   "id": "58f80b4a-418e-4f04-8e90-d75f63cb44ca",
   "metadata": {},
   "outputs": [],
   "source": [
    "data_preped = data_proc.freq_label(label_s, data_id, data_preped, tr = 100)\n",
    "data_preped = data_proc.freq_label_list(label_s, data_id, data_preped, [10,20,30,50,100,500,1000])"
   ]
  },
  {
   "cell_type": "markdown",
   "id": "32fbfa0a-ba56-4547-bdd9-ea4fbaaf065e",
   "metadata": {},
   "source": [
    "### save"
   ]
  },
  {
   "cell_type": "code",
   "execution_count": null,
   "id": "72c320ee-b64e-408a-ae0e-57dcd2906a92",
   "metadata": {},
   "outputs": [],
   "source": []
  },
  {
   "cell_type": "code",
   "execution_count": 26,
   "id": "446f2009-c393-4ec3-9492-a619e85918d2",
   "metadata": {},
   "outputs": [],
   "source": [
    "data_preped.to_csv(data_output_path, sep='\\t',index=False)"
   ]
  },
  {
   "cell_type": "code",
   "execution_count": null,
   "id": "d211f8e6-9998-443e-ad12-f2fb3a69864d",
   "metadata": {},
   "outputs": [],
   "source": []
  },
  {
   "cell_type": "code",
   "execution_count": null,
   "id": "9d73802e-c9ef-4d34-8e7e-fbb9086e7730",
   "metadata": {},
   "outputs": [],
   "source": [
    "data_preped_tra = data_preped[data_preped['chain']=='TRA'].reset_index(drop=True)"
   ]
  },
  {
   "cell_type": "code",
   "execution_count": null,
   "id": "75cb77f4-200c-4d46-87d7-cf131097c0f1",
   "metadata": {},
   "outputs": [],
   "source": [
    "data_preped_trb = data_preped[data_preped['chain']=='TRB'].reset_index(drop=True)"
   ]
  },
  {
   "cell_type": "code",
   "execution_count": null,
   "id": "df8e6d7e-fbee-4b82-9723-86c68c48c6dc",
   "metadata": {},
   "outputs": [],
   "source": []
  },
  {
   "cell_type": "markdown",
   "id": "fe6963dd-869c-4696-9189-a49db4fd790d",
   "metadata": {},
   "source": [
    "## 10x donor 1"
   ]
  },
  {
   "cell_type": "code",
   "execution_count": null,
   "id": "998c99ff-fcb3-481d-a230-6a4eb86c4951",
   "metadata": {},
   "outputs": [],
   "source": []
  },
  {
   "cell_type": "code",
   "execution_count": null,
   "id": "b0438321-2154-40e2-b1fe-4fddac0c4bda",
   "metadata": {},
   "outputs": [],
   "source": []
  }
 ],
 "metadata": {
  "kernelspec": {
   "display_name": "Python [conda env:.conda-py311]",
   "language": "python",
   "name": "conda-env-.conda-py311-py"
  },
  "language_info": {
   "codemirror_mode": {
    "name": "ipython",
    "version": 3
   },
   "file_extension": ".py",
   "mimetype": "text/x-python",
   "name": "python",
   "nbconvert_exporter": "python",
   "pygments_lexer": "ipython3",
   "version": "3.11.4"
  }
 },
 "nbformat": 4,
 "nbformat_minor": 5
}
