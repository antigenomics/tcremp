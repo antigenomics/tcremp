{
 "cells": [
  {
   "cell_type": "code",
   "execution_count": 2,
   "id": "83c292d9-3e58-44f6-ba53-201529cc149f",
   "metadata": {},
   "outputs": [],
   "source": [
    "import math\n",
    "from pathlib import Path\n",
    "import sys\n",
    "import numpy as np\n",
    "import pandas as pd\n",
    "from scipy import stats\n",
    "import statistics\n",
    "\n",
    "from sklearn.model_selection import train_test_split"
   ]
  },
  {
   "cell_type": "code",
   "execution_count": 3,
   "id": "c5059115-b200-42c6-8a94-5fd0864c2a37",
   "metadata": {},
   "outputs": [],
   "source": [
    "import tcremb.data_proc as data_proc"
   ]
  },
  {
   "cell_type": "code",
   "execution_count": 4,
   "id": "b9ebb4bc-22a3-46c9-9c32-0598470cd905",
   "metadata": {},
   "outputs": [],
   "source": [
    "import warnings\n",
    "warnings.filterwarnings('ignore')"
   ]
  },
  {
   "cell_type": "code",
   "execution_count": null,
   "id": "df70ac83-e7ad-46d6-9d4f-e5dcaa200ec1",
   "metadata": {},
   "outputs": [],
   "source": []
  },
  {
   "cell_type": "code",
   "execution_count": 5,
   "id": "2facd6b0-37a7-473c-bc07-1e56608057cf",
   "metadata": {},
   "outputs": [],
   "source": [
    "outputs_path = 'data/data_preped/'"
   ]
  },
  {
   "cell_type": "code",
   "execution_count": 6,
   "id": "fce6007e-5967-4b8c-9311-29e82d9d6754",
   "metadata": {},
   "outputs": [],
   "source": [
    "tcr_columns = {'single': ['cdr3aa','v','j','chain'],'paired': {'TRA': ['a_cdr3aa', 'TRAV', 'TRAJ'],'TRB': [ 'b_cdr3aa', 'TRBV', 'TRBJ']}}\n",
    "tcr_columns = ['cdr3aa','v','j','chain']\n",
    "clonotype_id_column = 'cloneId'\n",
    "data_id= 'data_id'\n",
    "annotation_id = 'annotId'\n",
    "pairing_id = 'barcode'\n",
    "annotation_tcr_id_columns_dict = {'TRA': 'cloneId','TRB': 'cloneId','TRA_TRB': {'TRA':'cloneId_TRA', 'TRB':'cloneId_TRB'}}"
   ]
  },
  {
   "cell_type": "code",
   "execution_count": null,
   "id": "3d84fbd3-a11d-4372-8a3f-32a6915ec1fa",
   "metadata": {},
   "outputs": [],
   "source": []
  },
  {
   "cell_type": "code",
   "execution_count": null,
   "id": "a3ce3ce6-dc4e-421d-a97f-03452acefa7a",
   "metadata": {},
   "outputs": [],
   "source": []
  },
  {
   "cell_type": "code",
   "execution_count": null,
   "id": "20a46bc2-2bb5-4e4e-a079-f668e7fe0439",
   "metadata": {},
   "outputs": [],
   "source": []
  },
  {
   "cell_type": "markdown",
   "id": "e3c4d639-d577-4938-8e3d-cf4dbfd62d1c",
   "metadata": {},
   "source": [
    "## Prototypes"
   ]
  },
  {
   "cell_type": "markdown",
   "id": "f40e5959-0479-4ffe-baa3-4b5cfb71b0eb",
   "metadata": {},
   "source": [
    "### TRA"
   ]
  },
  {
   "cell_type": "code",
   "execution_count": 11,
   "id": "31a05408-0b25-4339-afc1-c43a3da9fcc1",
   "metadata": {},
   "outputs": [],
   "source": [
    "data_raw_path = 'data/olga_humanTRA_3000.txt'\n",
    "data_output_path = outputs_path +'olga_humanTRA.txt'"
   ]
  },
  {
   "cell_type": "code",
   "execution_count": 12,
   "id": "2a199c75-87df-425d-9d1b-7fd29e6e4ba9",
   "metadata": {},
   "outputs": [],
   "source": [
    "data = pd.read_csv(data_raw_path,sep='\\t',header=None)\n",
    "data = data.rename({0:'cdr3nt',1:'cdr3aa',2:'v',3:'j'},axis=1)"
   ]
  },
  {
   "cell_type": "code",
   "execution_count": 13,
   "id": "f853b787-e321-41af-9fc5-f0594383a6d3",
   "metadata": {},
   "outputs": [
    {
     "name": "stdout",
     "output_type": "stream",
     "text": [
      "(3000, 4)\n",
      "(3000, 4)\n"
     ]
    },
    {
     "data": {
      "text/plain": [
       "(2951, 4)"
      ]
     },
     "execution_count": 13,
     "metadata": {},
     "output_type": "execute_result"
    }
   ],
   "source": [
    "data_preped = data_proc.remove_asterisk(data, ['cdr3nt','cdr3aa','v','j'])\n",
    "data_preped = data_proc.remove_backslash(data_preped, ['cdr3nt','cdr3aa','v','j'])\n",
    "data_preped = data_proc.filter_clones_data(data_preped, ['cdr3nt','cdr3aa','v','j'])\n",
    "data_preped = data_proc.filter_segments(data_preped)\n",
    "data_preped.shape"
   ]
  },
  {
   "cell_type": "code",
   "execution_count": 14,
   "id": "9619573f-0525-438a-84b7-14b114af5667",
   "metadata": {},
   "outputs": [],
   "source": [
    "data_preped.to_csv(data_output_path, sep='\\t',header=False)"
   ]
  },
  {
   "cell_type": "code",
   "execution_count": null,
   "id": "6879aa1b-f2e1-4b2d-abfc-f86f6f63a7f4",
   "metadata": {},
   "outputs": [],
   "source": []
  },
  {
   "cell_type": "markdown",
   "id": "ebfb34ea-114d-40c7-8786-b9e4b1887e6c",
   "metadata": {},
   "source": [
    "### TRB"
   ]
  },
  {
   "cell_type": "code",
   "execution_count": 15,
   "id": "525e211a-5f45-4422-b4ba-95e312ab43b2",
   "metadata": {},
   "outputs": [],
   "source": [
    "data_raw_path = 'data/olga_humanTRB_3000.txt'\n",
    "data_output_path = outputs_path +'olga_humanTRB.txt'"
   ]
  },
  {
   "cell_type": "code",
   "execution_count": 16,
   "id": "80f48e9b-5f43-4eff-b75f-0cd3f2566644",
   "metadata": {},
   "outputs": [],
   "source": [
    "data = pd.read_csv(data_raw_path,sep='\\t',header=None)\n",
    "data = data.rename({0:'cdr3nt',1:'cdr3aa',2:'v',3:'j'},axis=1)"
   ]
  },
  {
   "cell_type": "code",
   "execution_count": 17,
   "id": "4e178c12-b62a-4e09-9969-4c1be8dc9127",
   "metadata": {},
   "outputs": [
    {
     "name": "stdout",
     "output_type": "stream",
     "text": [
      "(3000, 4)\n",
      "(3000, 4)\n"
     ]
    },
    {
     "data": {
      "text/plain": [
       "(3000, 4)"
      ]
     },
     "execution_count": 17,
     "metadata": {},
     "output_type": "execute_result"
    }
   ],
   "source": [
    "data_preped = data_proc.remove_asterisk(data, ['cdr3nt','cdr3aa','v','j'])\n",
    "data_preped = data_proc.remove_backslash(data_preped, ['cdr3nt','cdr3aa','v','j'])\n",
    "data_preped = data_proc.filter_clones_data(data_preped, ['cdr3nt','cdr3aa','v','j'])\n",
    "data_preped = data_proc.filter_segments(data_preped)\n",
    "data_preped.shape"
   ]
  },
  {
   "cell_type": "code",
   "execution_count": 18,
   "id": "19af443b-fca0-492a-a51e-f015d6548fed",
   "metadata": {},
   "outputs": [],
   "source": [
    "data_preped.to_csv(data_output_path, sep='\\t',header=False)"
   ]
  },
  {
   "cell_type": "code",
   "execution_count": null,
   "id": "b7a6a9ef-ea1a-4cc6-8f04-77461bcf9046",
   "metadata": {},
   "outputs": [],
   "source": []
  },
  {
   "cell_type": "code",
   "execution_count": null,
   "id": "a166f04e-0d53-4e3b-a99e-2a9efc336455",
   "metadata": {},
   "outputs": [],
   "source": []
  },
  {
   "cell_type": "markdown",
   "id": "0a476b07-df1b-401a-bf70-2374d2769cc3",
   "metadata": {},
   "source": [
    "## VDJdb"
   ]
  },
  {
   "cell_type": "code",
   "execution_count": 41,
   "id": "ed3f109d-b56f-4586-9de0-e41be23689f9",
   "metadata": {},
   "outputs": [],
   "source": [
    "label = 'antigen.epitope'\n",
    "label_s = 'antigen.species'"
   ]
  },
  {
   "cell_type": "code",
   "execution_count": 42,
   "id": "1600be22-02da-4391-a83c-fbf9dc2fbcd3",
   "metadata": {},
   "outputs": [],
   "source": [
    "data_raw_path = 'data/vdjdb.slim.txt'\n",
    "data_tra_output_path = outputs_path +'VDJdb_data_TRA.csv'\n",
    "data_trb_output_path = outputs_path +'VDJdb_data_TRB.csv'\n",
    "data_output_path = outputs_path +'VDJdb_data.csv'"
   ]
  },
  {
   "cell_type": "code",
   "execution_count": 43,
   "id": "23fc292c-0d53-4591-b56f-a684f7cd5c1c",
   "metadata": {},
   "outputs": [],
   "source": [
    "data = pd.read_csv(data_raw_path,sep='\\t')\n",
    "data = data.rename({'cdr3':'cdr3aa','gene':'chain','v.segm':'v','j.segm':'j'},axis=1)\n",
    "\n",
    "\n"
   ]
  },
  {
   "cell_type": "markdown",
   "id": "b9c679c3-ad8f-44da-84e4-441811ec6ad6",
   "metadata": {},
   "source": [
    "### Assign data id"
   ]
  },
  {
   "cell_type": "code",
   "execution_count": 44,
   "id": "ae76753d-a399-4f47-8a4d-16925bce57dd",
   "metadata": {},
   "outputs": [],
   "source": [
    "data = data_proc.annot_id(data, data_id)"
   ]
  },
  {
   "cell_type": "code",
   "execution_count": null,
   "id": "1c4aacf1-0f4f-4909-b8c5-0c5e096b84f9",
   "metadata": {},
   "outputs": [],
   "source": []
  },
  {
   "cell_type": "markdown",
   "id": "fdfcecee-3429-4abb-b271-c8c51349874b",
   "metadata": {},
   "source": [
    "### data proc"
   ]
  },
  {
   "cell_type": "code",
   "execution_count": 45,
   "id": "6097858b-bd52-4bf5-8abc-367ad3921e20",
   "metadata": {},
   "outputs": [
    {
     "name": "stdout",
     "output_type": "stream",
     "text": [
      "(75280, 17)\n",
      "(74240, 17)\n"
     ]
    },
    {
     "data": {
      "text/plain": [
       "(36193, 17)"
      ]
     },
     "execution_count": 45,
     "metadata": {},
     "output_type": "execute_result"
    }
   ],
   "source": [
    "data_preped = data_proc.remove_asterisk(data, tcr_columns)\n",
    "data_preped = data_proc.remove_backslash(data_preped, tcr_columns)\n",
    "data_preped = data_proc.filter_clones_data(data_preped, tcr_columns)\n",
    "data_preped = data_preped[-data_preped['reference.id'].str.startswith('https://www.10xgenomics',na=False)].reset_index(drop=True)\n",
    "data_preped = data_preped[data_preped['species']=='HomoSapiens']\n",
    "data_preped = data_proc.filter_segments(data_preped)\n",
    "data_preped.shape"
   ]
  },
  {
   "cell_type": "markdown",
   "id": "f184097e-a670-445e-951c-05ecb7e8d581",
   "metadata": {},
   "source": [
    "### frequent labels"
   ]
  },
  {
   "cell_type": "code",
   "execution_count": 19,
   "id": "58f80b4a-418e-4f04-8e90-d75f63cb44ca",
   "metadata": {},
   "outputs": [],
   "source": [
    "data_preped = data_proc.freq_labels(label, data_id, data_preped)\n",
    "data_preped = data_proc.freq_labels_tr_list(label, data_id, data_preped, [10,20,30,50,100,500,1000])\n",
    "data_preped = data_proc.freq_labels(label_s, data_id, data_preped)\n",
    "data_preped = data_proc.freq_labels_tr_list(label_s, data_id, data_preped, [10,20,30,50,100,500,1000])"
   ]
  },
  {
   "cell_type": "markdown",
   "id": "32fbfa0a-ba56-4547-bdd9-ea4fbaaf065e",
   "metadata": {},
   "source": [
    "### save"
   ]
  },
  {
   "cell_type": "code",
   "execution_count": 26,
   "id": "446f2009-c393-4ec3-9492-a619e85918d2",
   "metadata": {},
   "outputs": [],
   "source": [
    "data_preped.to_csv(data_output_path, sep='\\t',index=False)"
   ]
  },
  {
   "cell_type": "code",
   "execution_count": null,
   "id": "a73920ea-109f-4891-bd2f-31f7b22a8edc",
   "metadata": {},
   "outputs": [],
   "source": []
  },
  {
   "cell_type": "code",
   "execution_count": null,
   "id": "e85a63a1-72aa-45da-9c42-efff6a54244b",
   "metadata": {},
   "outputs": [],
   "source": []
  },
  {
   "cell_type": "markdown",
   "id": "d4808836-673a-42f5-b8e9-7ec404cc8931",
   "metadata": {},
   "source": [
    "### prep for atmtcr"
   ]
  },
  {
   "cell_type": "code",
   "execution_count": 39,
   "id": "f6f809ca-ee54-4efc-97b2-d7a846bb0f35",
   "metadata": {},
   "outputs": [],
   "source": [
    "atmtcr_trb_train_path = outputs_path + 'vdjdb_trb_atmtcr_train.csv'\n",
    "atmtcr_trb_test_path = outputs_path + 'vdjdb_trb_atmtcr_test.csv'"
   ]
  },
  {
   "cell_type": "code",
   "execution_count": 27,
   "id": "75cb77f4-200c-4d46-87d7-cf131097c0f1",
   "metadata": {},
   "outputs": [],
   "source": [
    "data_preped_trb = data_preped[data_preped['chain']=='TRB'].reset_index(drop=True)"
   ]
  },
  {
   "cell_type": "code",
   "execution_count": 29,
   "id": "df8e6d7e-fbee-4b82-9723-86c68c48c6dc",
   "metadata": {},
   "outputs": [],
   "source": [
    "data_preped_trb_atmtcr = data_preped_trb.rename({label:'Epitope','cdr3aa':'TCR'},axis=1)[['Epitope','TCR']]"
   ]
  },
  {
   "cell_type": "code",
   "execution_count": 30,
   "id": "76ea9f86-4572-4a57-bb9a-27bfd2bda032",
   "metadata": {},
   "outputs": [],
   "source": [
    "data_preped_trb_atmtcr['Binding Affinity']=1"
   ]
  },
  {
   "cell_type": "code",
   "execution_count": null,
   "id": "2290f305-3d65-40b0-b757-32a2f1e1d091",
   "metadata": {},
   "outputs": [],
   "source": []
  },
  {
   "cell_type": "code",
   "execution_count": 37,
   "id": "3cdaab78-4176-4aa6-a65b-61b41c5448b9",
   "metadata": {},
   "outputs": [],
   "source": [
    "data_preped_trb_atmtcr_train, data_preped_trb_atmtcr_test = train_test_split(data_preped_trb_atmtcr,test_size=0.3)"
   ]
  },
  {
   "cell_type": "code",
   "execution_count": 38,
   "id": "252b13c2-9108-47a5-80a2-c9d123131404",
   "metadata": {},
   "outputs": [
    {
     "data": {
      "text/html": [
       "<div>\n",
       "<style scoped>\n",
       "    .dataframe tbody tr th:only-of-type {\n",
       "        vertical-align: middle;\n",
       "    }\n",
       "\n",
       "    .dataframe tbody tr th {\n",
       "        vertical-align: top;\n",
       "    }\n",
       "\n",
       "    .dataframe thead th {\n",
       "        text-align: right;\n",
       "    }\n",
       "</style>\n",
       "<table border=\"1\" class=\"dataframe\">\n",
       "  <thead>\n",
       "    <tr style=\"text-align: right;\">\n",
       "      <th></th>\n",
       "      <th>Epitope</th>\n",
       "      <th>TCR</th>\n",
       "      <th>Binding Affinity</th>\n",
       "    </tr>\n",
       "  </thead>\n",
       "  <tbody>\n",
       "    <tr>\n",
       "      <th>13263</th>\n",
       "      <td>LPRRSGAAGA</td>\n",
       "      <td>CASSDESWGEDEQFF</td>\n",
       "      <td>1</td>\n",
       "    </tr>\n",
       "    <tr>\n",
       "      <th>10540</th>\n",
       "      <td>GILGFVFTL</td>\n",
       "      <td>CASSMGIYGYTF</td>\n",
       "      <td>1</td>\n",
       "    </tr>\n",
       "    <tr>\n",
       "      <th>22616</th>\n",
       "      <td>GLCTLVAML</td>\n",
       "      <td>CASSSDSYEQYF</td>\n",
       "      <td>1</td>\n",
       "    </tr>\n",
       "    <tr>\n",
       "      <th>7140</th>\n",
       "      <td>YLEPGPVTV</td>\n",
       "      <td>CASSIGAPYEQYF</td>\n",
       "      <td>1</td>\n",
       "    </tr>\n",
       "    <tr>\n",
       "      <th>21865</th>\n",
       "      <td>ELAGIGILTV</td>\n",
       "      <td>CASSIAAVSLANYGYTF</td>\n",
       "      <td>1</td>\n",
       "    </tr>\n",
       "    <tr>\n",
       "      <th>...</th>\n",
       "      <td>...</td>\n",
       "      <td>...</td>\n",
       "      <td>...</td>\n",
       "    </tr>\n",
       "    <tr>\n",
       "      <th>23657</th>\n",
       "      <td>QYIKWPWYI</td>\n",
       "      <td>CASSIVLSEKLFF</td>\n",
       "      <td>1</td>\n",
       "    </tr>\n",
       "    <tr>\n",
       "      <th>16681</th>\n",
       "      <td>NLVPMVATV</td>\n",
       "      <td>CASSSIRTGTFDYEQYF</td>\n",
       "      <td>1</td>\n",
       "    </tr>\n",
       "    <tr>\n",
       "      <th>503</th>\n",
       "      <td>DATYQRTRALVR</td>\n",
       "      <td>CATSSEATGVGETQYF</td>\n",
       "      <td>1</td>\n",
       "    </tr>\n",
       "    <tr>\n",
       "      <th>17437</th>\n",
       "      <td>KLDDKDPNF</td>\n",
       "      <td>CASSVGVSNQPQHF</td>\n",
       "      <td>1</td>\n",
       "    </tr>\n",
       "    <tr>\n",
       "      <th>7521</th>\n",
       "      <td>NLVPMVATV</td>\n",
       "      <td>CASIHGPSRDTGELFF</td>\n",
       "      <td>1</td>\n",
       "    </tr>\n",
       "  </tbody>\n",
       "</table>\n",
       "<p>16902 rows × 3 columns</p>\n",
       "</div>"
      ],
      "text/plain": [
       "            Epitope                TCR  Binding Affinity\n",
       "13263    LPRRSGAAGA    CASSDESWGEDEQFF                 1\n",
       "10540     GILGFVFTL       CASSMGIYGYTF                 1\n",
       "22616     GLCTLVAML       CASSSDSYEQYF                 1\n",
       "7140      YLEPGPVTV      CASSIGAPYEQYF                 1\n",
       "21865    ELAGIGILTV  CASSIAAVSLANYGYTF                 1\n",
       "...             ...                ...               ...\n",
       "23657     QYIKWPWYI      CASSIVLSEKLFF                 1\n",
       "16681     NLVPMVATV  CASSSIRTGTFDYEQYF                 1\n",
       "503    DATYQRTRALVR   CATSSEATGVGETQYF                 1\n",
       "17437     KLDDKDPNF     CASSVGVSNQPQHF                 1\n",
       "7521      NLVPMVATV   CASIHGPSRDTGELFF                 1\n",
       "\n",
       "[16902 rows x 3 columns]"
      ]
     },
     "execution_count": 38,
     "metadata": {},
     "output_type": "execute_result"
    }
   ],
   "source": [
    "data_preped_trb_atmtcr_train"
   ]
  },
  {
   "cell_type": "code",
   "execution_count": 40,
   "id": "d1375b5e-eb81-4f4e-9014-4db8de4f9c48",
   "metadata": {},
   "outputs": [],
   "source": [
    "data_preped_trb_atmtcr_train.to_csv(atmtcr_trb_train_path, index=False)\n",
    "data_preped_trb_atmtcr_test.to_csv(atmtcr_trb_test_path, index=False)"
   ]
  },
  {
   "cell_type": "code",
   "execution_count": null,
   "id": "9c099502-f04e-4973-aa2e-62b55aba6cb3",
   "metadata": {},
   "outputs": [],
   "source": []
  },
  {
   "cell_type": "markdown",
   "id": "fe6963dd-869c-4696-9189-a49db4fd790d",
   "metadata": {},
   "source": [
    "## 10x donor 1"
   ]
  },
  {
   "cell_type": "code",
   "execution_count": 7,
   "id": "998c99ff-fcb3-481d-a230-6a4eb86c4951",
   "metadata": {},
   "outputs": [],
   "source": [
    "donor = 'donor1'\n",
    "label = 'top_tetramer'"
   ]
  },
  {
   "cell_type": "code",
   "execution_count": 11,
   "id": "b0438321-2154-40e2-b1fe-4fddac0c4bda",
   "metadata": {},
   "outputs": [],
   "source": [
    "barcodes_path = '/home/ykremlyakova/projects/Archive/tcr_emb_mirpy_old/data/10x_' + donor + '/filtered_feature_bc_matrix/barcodes.tsv'\n",
    "features_path = '/home/ykremlyakova/projects/Archive/tcr_emb_mirpy_old/data/10x_' + donor + '/filtered_feature_bc_matrix/features.tsv'\n",
    "matrix_path = '/home/ykremlyakova/projects/Archive/tcr_emb_mirpy_old/data/10x_' + donor + '/filtered_feature_bc_matrix/matrix.mtx'\n",
    "annot_path = '/home/ykremlyakova/projects/Archive/tcr_emb_mirpy_old/data/10x_' + donor + '/vdj_v1_hs_aggregated_' + donor + '_all_contig_annotations.csv'"
   ]
  },
  {
   "cell_type": "code",
   "execution_count": 12,
   "id": "709c3f58-9eeb-4960-9631-18ae55605c4a",
   "metadata": {},
   "outputs": [],
   "source": [
    "matrix_path_preped = outputs_path + '10x_matrix_' + donor + '.txt'\n",
    "data_output_path = outputs_path + '10x_annot_data_' + donor + '.txt'\n",
    "data_paired_output_path = outputs_path + '10x_annot_data_paired' + donor + '.txt'"
   ]
  },
  {
   "cell_type": "code",
   "execution_count": 13,
   "id": "257e87dc-f29d-4989-a458-86020ba38461",
   "metadata": {},
   "outputs": [
    {
     "data": {
      "text/plain": [
       "'data/data_preped/10x_matrix_donor1.txt'"
      ]
     },
     "execution_count": 13,
     "metadata": {},
     "output_type": "execute_result"
    }
   ],
   "source": [
    "matrix_path_preped"
   ]
  },
  {
   "cell_type": "code",
   "execution_count": null,
   "id": "3d4eaad4-a848-469c-ad6d-d5d39d8de657",
   "metadata": {},
   "outputs": [],
   "source": []
  },
  {
   "cell_type": "markdown",
   "id": "9967b3ef-0997-4df8-a18f-f7a572eeedad",
   "metadata": {},
   "source": [
    "### 10x preprocessing - get matrix with values"
   ]
  },
  {
   "cell_type": "raw",
   "id": "9e19d383-b1ce-4752-af6b-1a0759ab584c",
   "metadata": {},
   "source": [
    "### how matrix is preped\n",
    "barcodes = read_barcodes(barcodes_path)\n",
    "\n",
    "features = read_features(features_path)\n",
    "\n",
    "matrix = read_matrix(matrix_path)\n",
    "## mwrge with barcodes and features\n",
    "matrix = pd.merge(matrix, barcodes, on=\"barcode_id\")\n",
    "matrix = pd.merge(matrix, features, on=\"feature_id\")\n",
    "\n",
    "matrix = get_value_matrix(matrix)\n",
    "\n",
    "matrix = matrix[matrix['type']=='Antibody Capture']\n",
    "matrix = matrix[matrix['value_type']!='TotalSeqC']\n",
    "\n",
    "matrix.to_csv(matrix_path_preped,sep='\\t', index = False)"
   ]
  },
  {
   "cell_type": "code",
   "execution_count": null,
   "id": "a91b922d-0864-42b6-a181-87a74c761f93",
   "metadata": {},
   "outputs": [],
   "source": []
  },
  {
   "cell_type": "code",
   "execution_count": null,
   "id": "3de3d83b-c686-4a6e-9b3a-eecefe7f3f6c",
   "metadata": {},
   "outputs": [],
   "source": []
  },
  {
   "cell_type": "markdown",
   "id": "85c06026-4e84-4cd1-b82b-09019662f566",
   "metadata": {},
   "source": [
    "### Get top tetramer"
   ]
  },
  {
   "cell_type": "code",
   "execution_count": 16,
   "id": "48f7266f-6998-4df3-8cf2-e8ca97b7d673",
   "metadata": {},
   "outputs": [],
   "source": [
    "matrix = pd.read_csv(matrix_path_preped,sep='\\t')\n",
    "barcode_tetramer = data_proc.get_barcode_top_tetramer(matrix)\n",
    "barcode_tetramer = barcode_tetramer[barcode_tetramer['top_tetramer']!='KLGGALQAK']\n",
    "barcode_tetramer = barcode_tetramer[barcode_tetramer['count']>4]"
   ]
  },
  {
   "cell_type": "code",
   "execution_count": null,
   "id": "42149ad7-4c43-4008-a356-80b6f4df5f00",
   "metadata": {},
   "outputs": [],
   "source": []
  },
  {
   "cell_type": "markdown",
   "id": "ef97b9c8-e07f-4ca8-8228-76812328ad05",
   "metadata": {},
   "source": [
    "### prep annot"
   ]
  },
  {
   "cell_type": "code",
   "execution_count": 17,
   "id": "9551dca1-32e6-48bf-a594-c6579cdff60a",
   "metadata": {},
   "outputs": [],
   "source": [
    "data_annot = pd.read_csv(annot_path,sep=',')"
   ]
  },
  {
   "cell_type": "code",
   "execution_count": 22,
   "id": "a19d97b1-5c95-4db9-a330-1bcd9017c3e2",
   "metadata": {},
   "outputs": [],
   "source": [
    "data = pd.merge(data_annot, barcode_tetramer, on = pairing_id)"
   ]
  },
  {
   "cell_type": "code",
   "execution_count": 23,
   "id": "fe31820f-fe72-4c58-b1f1-2cdd80a81672",
   "metadata": {},
   "outputs": [],
   "source": [
    "data = data.rename({'cdr3':'cdr3aa','v_gene':'v','j_gene':'j'},axis=1)"
   ]
  },
  {
   "cell_type": "code",
   "execution_count": null,
   "id": "a38f0be2-3914-4ccc-a0a3-345ab83abc9f",
   "metadata": {},
   "outputs": [],
   "source": []
  },
  {
   "cell_type": "code",
   "execution_count": 24,
   "id": "a1bab484-9e46-479b-81dd-4b64066616ec",
   "metadata": {},
   "outputs": [],
   "source": [
    "data = data_proc.annot_id(data, data_id)"
   ]
  },
  {
   "cell_type": "code",
   "execution_count": null,
   "id": "66f00cc1-d22e-4dcf-a421-dbfab6b86164",
   "metadata": {},
   "outputs": [],
   "source": []
  },
  {
   "cell_type": "code",
   "execution_count": 25,
   "id": "22f21cea-a81f-40d5-b559-4faacfd64d85",
   "metadata": {},
   "outputs": [
    {
     "name": "stdout",
     "output_type": "stream",
     "text": [
      "(56823, 21)\n",
      "(36654, 21)\n"
     ]
    },
    {
     "data": {
      "text/plain": [
       "(27651, 21)"
      ]
     },
     "execution_count": 25,
     "metadata": {},
     "output_type": "execute_result"
    }
   ],
   "source": [
    "data_preped = data_proc.remove_asterisk(data, tcr_columns)\n",
    "data_preped = data_proc.remove_backslash(data_preped, tcr_columns)\n",
    "data_preped = data_proc.filter_clones_data(data_preped, tcr_columns)\n",
    "data_preped = data_preped[data_preped['high_confidence']==True]\n",
    "data_preped = data_preped[data_preped['is_cell']==True]\n",
    "data_preped = data_preped[data_preped['chain']!='Multi']\n",
    "\n",
    "data_preped = data_proc.filter_segments(data_preped)\n",
    "data_preped.shape"
   ]
  },
  {
   "cell_type": "code",
   "execution_count": null,
   "id": "4adf67d0-25b8-4a8d-b490-e07b7dedd4c0",
   "metadata": {},
   "outputs": [],
   "source": []
  },
  {
   "cell_type": "markdown",
   "id": "f9b3234c-7617-4aaa-86aa-7970e237f9fa",
   "metadata": {},
   "source": [
    "### Only 1 barcoce"
   ]
  },
  {
   "cell_type": "code",
   "execution_count": 26,
   "id": "4242dd68-73b2-482b-86fd-00fdb9efa673",
   "metadata": {},
   "outputs": [
    {
     "name": "stdout",
     "output_type": "stream",
     "text": [
      "(25673, 21)\n"
     ]
    }
   ],
   "source": [
    "data_preped = data_preped.sort_values(['umis','reads'],ascending=False).drop_duplicates(['barcode','chain'])\n",
    "print(data_preped.shape)"
   ]
  },
  {
   "cell_type": "code",
   "execution_count": null,
   "id": "e8722601-e966-426f-bb32-76342fea2292",
   "metadata": {},
   "outputs": [],
   "source": []
  },
  {
   "cell_type": "markdown",
   "id": "f9798030-999a-43f1-9016-c540911dcac2",
   "metadata": {},
   "source": [
    "### frequent labels"
   ]
  },
  {
   "cell_type": "code",
   "execution_count": 32,
   "id": "9c82ce2b-3ba5-4537-b9d3-63b842935917",
   "metadata": {},
   "outputs": [],
   "source": [
    "label_high = str(label + '_freq')"
   ]
  },
  {
   "cell_type": "code",
   "execution_count": 28,
   "id": "1a91aa47-d5ab-4c43-9cb1-f2d82573d27f",
   "metadata": {},
   "outputs": [],
   "source": [
    "data_preped = data_proc.freq_labels(label, data_id, data_preped, n = 8)\n",
    "data_preped = data_proc.freq_labels_tr_list(label, data_id, data_preped, [10,20,30,50,100,500,1000])"
   ]
  },
  {
   "cell_type": "code",
   "execution_count": null,
   "id": "b2338049-9a59-49bd-a32a-b0b2f95c9a44",
   "metadata": {},
   "outputs": [],
   "source": []
  },
  {
   "cell_type": "markdown",
   "id": "9adb8d50-7ae0-4b70-a959-8106b26dd3d2",
   "metadata": {},
   "source": [
    "### save "
   ]
  },
  {
   "cell_type": "code",
   "execution_count": 29,
   "id": "bcddcd6c-506e-44cb-8e4a-8a3634cf9584",
   "metadata": {},
   "outputs": [],
   "source": [
    "data_preped.to_csv(data_output_path,sep='\\t', index = False)"
   ]
  },
  {
   "cell_type": "code",
   "execution_count": 31,
   "id": "16c398ca-e3d8-471e-b35c-a3b51dcd5c79",
   "metadata": {},
   "outputs": [
    {
     "data": {
      "text/html": [
       "<div>\n",
       "<style scoped>\n",
       "    .dataframe tbody tr th:only-of-type {\n",
       "        vertical-align: middle;\n",
       "    }\n",
       "\n",
       "    .dataframe tbody tr th {\n",
       "        vertical-align: top;\n",
       "    }\n",
       "\n",
       "    .dataframe thead th {\n",
       "        text-align: right;\n",
       "    }\n",
       "</style>\n",
       "<table border=\"1\" class=\"dataframe\">\n",
       "  <thead>\n",
       "    <tr style=\"text-align: right;\">\n",
       "      <th></th>\n",
       "      <th>barcode</th>\n",
       "      <th>is_cell</th>\n",
       "      <th>contig_id</th>\n",
       "      <th>high_confidence</th>\n",
       "      <th>length</th>\n",
       "      <th>chain</th>\n",
       "      <th>v</th>\n",
       "      <th>d_gene</th>\n",
       "      <th>j</th>\n",
       "      <th>c_gene</th>\n",
       "      <th>...</th>\n",
       "      <th>count</th>\n",
       "      <th>data_id</th>\n",
       "      <th>top_tetramer_freq</th>\n",
       "      <th>top_tetramer_freq_10</th>\n",
       "      <th>top_tetramer_freq_20</th>\n",
       "      <th>top_tetramer_freq_30</th>\n",
       "      <th>top_tetramer_freq_50</th>\n",
       "      <th>top_tetramer_freq_100</th>\n",
       "      <th>top_tetramer_freq_500</th>\n",
       "      <th>top_tetramer_freq_1000</th>\n",
       "    </tr>\n",
       "  </thead>\n",
       "  <tbody>\n",
       "    <tr>\n",
       "      <th>13350</th>\n",
       "      <td>CTCTAATAGACTGTAA-23</td>\n",
       "      <td>True</td>\n",
       "      <td>CTCTAATAGACTGTAA-23_contig_1</td>\n",
       "      <td>True</td>\n",
       "      <td>701</td>\n",
       "      <td>TRB</td>\n",
       "      <td>TRBV7-6</td>\n",
       "      <td>TRBD2</td>\n",
       "      <td>TRBJ2-3</td>\n",
       "      <td>TRBC2</td>\n",
       "      <td>...</td>\n",
       "      <td>12</td>\n",
       "      <td>25812</td>\n",
       "      <td>AVFDRKSDAK</td>\n",
       "      <td>AVFDRKSDAK</td>\n",
       "      <td>AVFDRKSDAK</td>\n",
       "      <td>AVFDRKSDAK</td>\n",
       "      <td>AVFDRKSDAK</td>\n",
       "      <td>AVFDRKSDAK</td>\n",
       "      <td>AVFDRKSDAK</td>\n",
       "      <td>AVFDRKSDAK</td>\n",
       "    </tr>\n",
       "    <tr>\n",
       "      <th>12693</th>\n",
       "      <td>CTAGTGACACGTAAGG-1</td>\n",
       "      <td>True</td>\n",
       "      <td>CTAGTGACACGTAAGG-1_contig_1</td>\n",
       "      <td>True</td>\n",
       "      <td>734</td>\n",
       "      <td>TRB</td>\n",
       "      <td>TRBV7-2</td>\n",
       "      <td>TRBD1</td>\n",
       "      <td>TRBJ2-7</td>\n",
       "      <td>TRBC2</td>\n",
       "      <td>...</td>\n",
       "      <td>5</td>\n",
       "      <td>24499</td>\n",
       "      <td>AVFDRKSDAK</td>\n",
       "      <td>AVFDRKSDAK</td>\n",
       "      <td>AVFDRKSDAK</td>\n",
       "      <td>AVFDRKSDAK</td>\n",
       "      <td>AVFDRKSDAK</td>\n",
       "      <td>AVFDRKSDAK</td>\n",
       "      <td>AVFDRKSDAK</td>\n",
       "      <td>AVFDRKSDAK</td>\n",
       "    </tr>\n",
       "    <tr>\n",
       "      <th>23406</th>\n",
       "      <td>TCAGGATCAATGAAAC-2</td>\n",
       "      <td>True</td>\n",
       "      <td>TCAGGATCAATGAAAC-2_contig_1</td>\n",
       "      <td>True</td>\n",
       "      <td>672</td>\n",
       "      <td>TRB</td>\n",
       "      <td>TRBV4-1</td>\n",
       "      <td>TRBD1</td>\n",
       "      <td>TRBJ2-3</td>\n",
       "      <td>TRBC2</td>\n",
       "      <td>...</td>\n",
       "      <td>8</td>\n",
       "      <td>44988</td>\n",
       "      <td>AVFDRKSDAK</td>\n",
       "      <td>AVFDRKSDAK</td>\n",
       "      <td>AVFDRKSDAK</td>\n",
       "      <td>AVFDRKSDAK</td>\n",
       "      <td>AVFDRKSDAK</td>\n",
       "      <td>AVFDRKSDAK</td>\n",
       "      <td>AVFDRKSDAK</td>\n",
       "      <td>AVFDRKSDAK</td>\n",
       "    </tr>\n",
       "    <tr>\n",
       "      <th>20100</th>\n",
       "      <td>GTATTCTTCCTTTCTC-8</td>\n",
       "      <td>True</td>\n",
       "      <td>GTATTCTTCCTTTCTC-8_contig_1</td>\n",
       "      <td>True</td>\n",
       "      <td>699</td>\n",
       "      <td>TRB</td>\n",
       "      <td>TRBV27</td>\n",
       "      <td>NaN</td>\n",
       "      <td>TRBJ2-7</td>\n",
       "      <td>TRBC2</td>\n",
       "      <td>...</td>\n",
       "      <td>5</td>\n",
       "      <td>38742</td>\n",
       "      <td>IVTDFSVIK</td>\n",
       "      <td>IVTDFSVIK</td>\n",
       "      <td>IVTDFSVIK</td>\n",
       "      <td>IVTDFSVIK</td>\n",
       "      <td>IVTDFSVIK</td>\n",
       "      <td>IVTDFSVIK</td>\n",
       "      <td>IVTDFSVIK</td>\n",
       "      <td>IVTDFSVIK</td>\n",
       "    </tr>\n",
       "    <tr>\n",
       "      <th>24199</th>\n",
       "      <td>TCTATTGCACAGACTT-11</td>\n",
       "      <td>True</td>\n",
       "      <td>TCTATTGCACAGACTT-11_contig_1</td>\n",
       "      <td>True</td>\n",
       "      <td>903</td>\n",
       "      <td>TRB</td>\n",
       "      <td>TRBV4-1</td>\n",
       "      <td>TRBD1</td>\n",
       "      <td>TRBJ2-3</td>\n",
       "      <td>TRBC2</td>\n",
       "      <td>...</td>\n",
       "      <td>7</td>\n",
       "      <td>46508</td>\n",
       "      <td>AVFDRKSDAK</td>\n",
       "      <td>AVFDRKSDAK</td>\n",
       "      <td>AVFDRKSDAK</td>\n",
       "      <td>AVFDRKSDAK</td>\n",
       "      <td>AVFDRKSDAK</td>\n",
       "      <td>AVFDRKSDAK</td>\n",
       "      <td>AVFDRKSDAK</td>\n",
       "      <td>AVFDRKSDAK</td>\n",
       "    </tr>\n",
       "    <tr>\n",
       "      <th>...</th>\n",
       "      <td>...</td>\n",
       "      <td>...</td>\n",
       "      <td>...</td>\n",
       "      <td>...</td>\n",
       "      <td>...</td>\n",
       "      <td>...</td>\n",
       "      <td>...</td>\n",
       "      <td>...</td>\n",
       "      <td>...</td>\n",
       "      <td>...</td>\n",
       "      <td>...</td>\n",
       "      <td>...</td>\n",
       "      <td>...</td>\n",
       "      <td>...</td>\n",
       "      <td>...</td>\n",
       "      <td>...</td>\n",
       "      <td>...</td>\n",
       "      <td>...</td>\n",
       "      <td>...</td>\n",
       "      <td>...</td>\n",
       "      <td>...</td>\n",
       "    </tr>\n",
       "    <tr>\n",
       "      <th>2735</th>\n",
       "      <td>ACTGAACCAACGATGG-26</td>\n",
       "      <td>True</td>\n",
       "      <td>ACTGAACCAACGATGG-26_contig_2</td>\n",
       "      <td>True</td>\n",
       "      <td>484</td>\n",
       "      <td>TRA</td>\n",
       "      <td>TRAV35</td>\n",
       "      <td>NaN</td>\n",
       "      <td>TRAJ49</td>\n",
       "      <td>TRAC</td>\n",
       "      <td>...</td>\n",
       "      <td>141</td>\n",
       "      <td>5307</td>\n",
       "      <td>IVTDFSVIK</td>\n",
       "      <td>IVTDFSVIK</td>\n",
       "      <td>IVTDFSVIK</td>\n",
       "      <td>IVTDFSVIK</td>\n",
       "      <td>IVTDFSVIK</td>\n",
       "      <td>IVTDFSVIK</td>\n",
       "      <td>IVTDFSVIK</td>\n",
       "      <td>IVTDFSVIK</td>\n",
       "    </tr>\n",
       "    <tr>\n",
       "      <th>11065</th>\n",
       "      <td>CGCTTCATCCTTGACC-24</td>\n",
       "      <td>True</td>\n",
       "      <td>CGCTTCATCCTTGACC-24_contig_2</td>\n",
       "      <td>True</td>\n",
       "      <td>501</td>\n",
       "      <td>TRA</td>\n",
       "      <td>TRAV35</td>\n",
       "      <td>NaN</td>\n",
       "      <td>TRAJ49</td>\n",
       "      <td>TRAC</td>\n",
       "      <td>...</td>\n",
       "      <td>7</td>\n",
       "      <td>21378</td>\n",
       "      <td>AVFDRKSDAK</td>\n",
       "      <td>AVFDRKSDAK</td>\n",
       "      <td>AVFDRKSDAK</td>\n",
       "      <td>AVFDRKSDAK</td>\n",
       "      <td>AVFDRKSDAK</td>\n",
       "      <td>AVFDRKSDAK</td>\n",
       "      <td>AVFDRKSDAK</td>\n",
       "      <td>AVFDRKSDAK</td>\n",
       "    </tr>\n",
       "    <tr>\n",
       "      <th>21890</th>\n",
       "      <td>TACCTATCACGACGAA-40</td>\n",
       "      <td>True</td>\n",
       "      <td>TACCTATCACGACGAA-40_contig_2</td>\n",
       "      <td>True</td>\n",
       "      <td>605</td>\n",
       "      <td>TRA</td>\n",
       "      <td>TRAV14DV4</td>\n",
       "      <td>NaN</td>\n",
       "      <td>TRAJ45</td>\n",
       "      <td>TRAC</td>\n",
       "      <td>...</td>\n",
       "      <td>15</td>\n",
       "      <td>42114</td>\n",
       "      <td>other</td>\n",
       "      <td>FLRGRAYGL</td>\n",
       "      <td>FLRGRAYGL</td>\n",
       "      <td>FLRGRAYGL</td>\n",
       "      <td>FLRGRAYGL</td>\n",
       "      <td>other</td>\n",
       "      <td>other</td>\n",
       "      <td>other</td>\n",
       "    </tr>\n",
       "    <tr>\n",
       "      <th>23774</th>\n",
       "      <td>TCGAGGCGTCTCTTTA-30</td>\n",
       "      <td>True</td>\n",
       "      <td>TCGAGGCGTCTCTTTA-30_contig_4</td>\n",
       "      <td>True</td>\n",
       "      <td>505</td>\n",
       "      <td>TRA</td>\n",
       "      <td>TRAV35</td>\n",
       "      <td>NaN</td>\n",
       "      <td>TRAJ49</td>\n",
       "      <td>TRAC</td>\n",
       "      <td>...</td>\n",
       "      <td>242</td>\n",
       "      <td>45709</td>\n",
       "      <td>IVTDFSVIK</td>\n",
       "      <td>IVTDFSVIK</td>\n",
       "      <td>IVTDFSVIK</td>\n",
       "      <td>IVTDFSVIK</td>\n",
       "      <td>IVTDFSVIK</td>\n",
       "      <td>IVTDFSVIK</td>\n",
       "      <td>IVTDFSVIK</td>\n",
       "      <td>IVTDFSVIK</td>\n",
       "    </tr>\n",
       "    <tr>\n",
       "      <th>15581</th>\n",
       "      <td>GACTGCGCATCGTCGG-28</td>\n",
       "      <td>True</td>\n",
       "      <td>GACTGCGCATCGTCGG-28_contig_3</td>\n",
       "      <td>True</td>\n",
       "      <td>501</td>\n",
       "      <td>TRA</td>\n",
       "      <td>TRAV35</td>\n",
       "      <td>NaN</td>\n",
       "      <td>TRAJ49</td>\n",
       "      <td>TRAC</td>\n",
       "      <td>...</td>\n",
       "      <td>68</td>\n",
       "      <td>30089</td>\n",
       "      <td>IVTDFSVIK</td>\n",
       "      <td>IVTDFSVIK</td>\n",
       "      <td>IVTDFSVIK</td>\n",
       "      <td>IVTDFSVIK</td>\n",
       "      <td>IVTDFSVIK</td>\n",
       "      <td>IVTDFSVIK</td>\n",
       "      <td>IVTDFSVIK</td>\n",
       "      <td>IVTDFSVIK</td>\n",
       "    </tr>\n",
       "  </tbody>\n",
       "</table>\n",
       "<p>25673 rows × 29 columns</p>\n",
       "</div>"
      ],
      "text/plain": [
       "                   barcode  is_cell                     contig_id  \\\n",
       "13350  CTCTAATAGACTGTAA-23     True  CTCTAATAGACTGTAA-23_contig_1   \n",
       "12693   CTAGTGACACGTAAGG-1     True   CTAGTGACACGTAAGG-1_contig_1   \n",
       "23406   TCAGGATCAATGAAAC-2     True   TCAGGATCAATGAAAC-2_contig_1   \n",
       "20100   GTATTCTTCCTTTCTC-8     True   GTATTCTTCCTTTCTC-8_contig_1   \n",
       "24199  TCTATTGCACAGACTT-11     True  TCTATTGCACAGACTT-11_contig_1   \n",
       "...                    ...      ...                           ...   \n",
       "2735   ACTGAACCAACGATGG-26     True  ACTGAACCAACGATGG-26_contig_2   \n",
       "11065  CGCTTCATCCTTGACC-24     True  CGCTTCATCCTTGACC-24_contig_2   \n",
       "21890  TACCTATCACGACGAA-40     True  TACCTATCACGACGAA-40_contig_2   \n",
       "23774  TCGAGGCGTCTCTTTA-30     True  TCGAGGCGTCTCTTTA-30_contig_4   \n",
       "15581  GACTGCGCATCGTCGG-28     True  GACTGCGCATCGTCGG-28_contig_3   \n",
       "\n",
       "       high_confidence  length chain          v d_gene        j c_gene  ...  \\\n",
       "13350             True     701   TRB    TRBV7-6  TRBD2  TRBJ2-3  TRBC2  ...   \n",
       "12693             True     734   TRB    TRBV7-2  TRBD1  TRBJ2-7  TRBC2  ...   \n",
       "23406             True     672   TRB    TRBV4-1  TRBD1  TRBJ2-3  TRBC2  ...   \n",
       "20100             True     699   TRB     TRBV27    NaN  TRBJ2-7  TRBC2  ...   \n",
       "24199             True     903   TRB    TRBV4-1  TRBD1  TRBJ2-3  TRBC2  ...   \n",
       "...                ...     ...   ...        ...    ...      ...    ...  ...   \n",
       "2735              True     484   TRA     TRAV35    NaN   TRAJ49   TRAC  ...   \n",
       "11065             True     501   TRA     TRAV35    NaN   TRAJ49   TRAC  ...   \n",
       "21890             True     605   TRA  TRAV14DV4    NaN   TRAJ45   TRAC  ...   \n",
       "23774             True     505   TRA     TRAV35    NaN   TRAJ49   TRAC  ...   \n",
       "15581             True     501   TRA     TRAV35    NaN   TRAJ49   TRAC  ...   \n",
       "\n",
       "       count data_id top_tetramer_freq top_tetramer_freq_10  \\\n",
       "13350     12   25812        AVFDRKSDAK           AVFDRKSDAK   \n",
       "12693      5   24499        AVFDRKSDAK           AVFDRKSDAK   \n",
       "23406      8   44988        AVFDRKSDAK           AVFDRKSDAK   \n",
       "20100      5   38742         IVTDFSVIK            IVTDFSVIK   \n",
       "24199      7   46508        AVFDRKSDAK           AVFDRKSDAK   \n",
       "...      ...     ...               ...                  ...   \n",
       "2735     141    5307         IVTDFSVIK            IVTDFSVIK   \n",
       "11065      7   21378        AVFDRKSDAK           AVFDRKSDAK   \n",
       "21890     15   42114             other            FLRGRAYGL   \n",
       "23774    242   45709         IVTDFSVIK            IVTDFSVIK   \n",
       "15581     68   30089         IVTDFSVIK            IVTDFSVIK   \n",
       "\n",
       "       top_tetramer_freq_20  top_tetramer_freq_30 top_tetramer_freq_50  \\\n",
       "13350            AVFDRKSDAK            AVFDRKSDAK           AVFDRKSDAK   \n",
       "12693            AVFDRKSDAK            AVFDRKSDAK           AVFDRKSDAK   \n",
       "23406            AVFDRKSDAK            AVFDRKSDAK           AVFDRKSDAK   \n",
       "20100             IVTDFSVIK             IVTDFSVIK            IVTDFSVIK   \n",
       "24199            AVFDRKSDAK            AVFDRKSDAK           AVFDRKSDAK   \n",
       "...                     ...                   ...                  ...   \n",
       "2735              IVTDFSVIK             IVTDFSVIK            IVTDFSVIK   \n",
       "11065            AVFDRKSDAK            AVFDRKSDAK           AVFDRKSDAK   \n",
       "21890             FLRGRAYGL             FLRGRAYGL            FLRGRAYGL   \n",
       "23774             IVTDFSVIK             IVTDFSVIK            IVTDFSVIK   \n",
       "15581             IVTDFSVIK             IVTDFSVIK            IVTDFSVIK   \n",
       "\n",
       "      top_tetramer_freq_100 top_tetramer_freq_500  top_tetramer_freq_1000  \n",
       "13350            AVFDRKSDAK            AVFDRKSDAK              AVFDRKSDAK  \n",
       "12693            AVFDRKSDAK            AVFDRKSDAK              AVFDRKSDAK  \n",
       "23406            AVFDRKSDAK            AVFDRKSDAK              AVFDRKSDAK  \n",
       "20100             IVTDFSVIK             IVTDFSVIK               IVTDFSVIK  \n",
       "24199            AVFDRKSDAK            AVFDRKSDAK              AVFDRKSDAK  \n",
       "...                     ...                   ...                     ...  \n",
       "2735              IVTDFSVIK             IVTDFSVIK               IVTDFSVIK  \n",
       "11065            AVFDRKSDAK            AVFDRKSDAK              AVFDRKSDAK  \n",
       "21890                 other                 other                   other  \n",
       "23774             IVTDFSVIK             IVTDFSVIK               IVTDFSVIK  \n",
       "15581             IVTDFSVIK             IVTDFSVIK               IVTDFSVIK  \n",
       "\n",
       "[25673 rows x 29 columns]"
      ]
     },
     "execution_count": 31,
     "metadata": {},
     "output_type": "execute_result"
    }
   ],
   "source": [
    "data_preped"
   ]
  },
  {
   "cell_type": "markdown",
   "id": "983c346f-e7af-4c29-aaa5-38e6fb185a30",
   "metadata": {},
   "source": [
    "### Map pairs"
   ]
  },
  {
   "cell_type": "code",
   "execution_count": 33,
   "id": "834428b0-504c-4c35-a105-759fe0bcd88a",
   "metadata": {},
   "outputs": [],
   "source": [
    "data_a = data_preped[data_preped['chain']=='TRA'][['cdr3aa','v','j']+[ pairing_id, label, label_high]]\n",
    "data_a = data_a.rename({'cdr3aa':'a_cdr3aa','v':'TRAV','j':'TRAJ'},axis=1)\n",
    "data_b = data_preped[data_preped['chain']=='TRB'][['cdr3aa','v','j'] + [pairing_id, label, label_high]]\n",
    "data_b = data_b.rename({'cdr3aa':'b_cdr3aa','v':'TRBV','j':'TRBJ'},axis=1)\n"
   ]
  },
  {
   "cell_type": "code",
   "execution_count": 34,
   "id": "0e98d502-8895-480e-8b83-afeddfa0827c",
   "metadata": {},
   "outputs": [
    {
     "data": {
      "text/html": [
       "<div>\n",
       "<style scoped>\n",
       "    .dataframe tbody tr th:only-of-type {\n",
       "        vertical-align: middle;\n",
       "    }\n",
       "\n",
       "    .dataframe tbody tr th {\n",
       "        vertical-align: top;\n",
       "    }\n",
       "\n",
       "    .dataframe thead th {\n",
       "        text-align: right;\n",
       "    }\n",
       "</style>\n",
       "<table border=\"1\" class=\"dataframe\">\n",
       "  <thead>\n",
       "    <tr style=\"text-align: right;\">\n",
       "      <th></th>\n",
       "      <th>a_cdr3aa</th>\n",
       "      <th>TRAV</th>\n",
       "      <th>TRAJ</th>\n",
       "      <th>barcode</th>\n",
       "      <th>top_tetramer</th>\n",
       "      <th>top_tetramer_freq</th>\n",
       "      <th>b_cdr3aa</th>\n",
       "      <th>TRBV</th>\n",
       "      <th>TRBJ</th>\n",
       "    </tr>\n",
       "  </thead>\n",
       "  <tbody>\n",
       "    <tr>\n",
       "      <th>0</th>\n",
       "      <td>CAVTDSWGKLQF</td>\n",
       "      <td>TRAV21</td>\n",
       "      <td>TRAJ24</td>\n",
       "      <td>GCAAACTAGAAGCCCA-26</td>\n",
       "      <td>AVFDRKSDAK</td>\n",
       "      <td>AVFDRKSDAK</td>\n",
       "      <td>CASKPTSTDTQYF</td>\n",
       "      <td>TRBV27</td>\n",
       "      <td>TRBJ2-3</td>\n",
       "    </tr>\n",
       "    <tr>\n",
       "      <th>1</th>\n",
       "      <td>CAYRSAKDSSYKLIF</td>\n",
       "      <td>TRAV38-2DV8</td>\n",
       "      <td>TRAJ12</td>\n",
       "      <td>AGAGCTTCAAGCCGTC-8</td>\n",
       "      <td>AVFDRKSDAK</td>\n",
       "      <td>AVFDRKSDAK</td>\n",
       "      <td>CASSSHPLATFTGELFF</td>\n",
       "      <td>TRBV7-2</td>\n",
       "      <td>TRBJ2-2</td>\n",
       "    </tr>\n",
       "    <tr>\n",
       "      <th>2</th>\n",
       "      <td>CAVDPMDTGRRALTF</td>\n",
       "      <td>TRAV8-3</td>\n",
       "      <td>TRAJ5</td>\n",
       "      <td>GTCATTTTCACCTCGT-27</td>\n",
       "      <td>AVFDRKSDAK</td>\n",
       "      <td>AVFDRKSDAK</td>\n",
       "      <td>CASSLGFTDTQYF</td>\n",
       "      <td>TRBV27</td>\n",
       "      <td>TRBJ2-3</td>\n",
       "    </tr>\n",
       "    <tr>\n",
       "      <th>3</th>\n",
       "      <td>CAVHGYGQNFVF</td>\n",
       "      <td>TRAV21</td>\n",
       "      <td>TRAJ26</td>\n",
       "      <td>CGACTTCCAAACCCAT-23</td>\n",
       "      <td>AVFDRKSDAK</td>\n",
       "      <td>AVFDRKSDAK</td>\n",
       "      <td>CASSQEWLAVSTDTQYF</td>\n",
       "      <td>TRBV4-3</td>\n",
       "      <td>TRBJ2-3</td>\n",
       "    </tr>\n",
       "    <tr>\n",
       "      <th>4</th>\n",
       "      <td>CATGDNYGQNFVF</td>\n",
       "      <td>TRAV17</td>\n",
       "      <td>TRAJ26</td>\n",
       "      <td>ACGGGCTAGGAGTACC-28</td>\n",
       "      <td>AVFDRKSDAK</td>\n",
       "      <td>AVFDRKSDAK</td>\n",
       "      <td>CASSDGQGLEQYF</td>\n",
       "      <td>TRBV27</td>\n",
       "      <td>TRBJ2-7</td>\n",
       "    </tr>\n",
       "    <tr>\n",
       "      <th>...</th>\n",
       "      <td>...</td>\n",
       "      <td>...</td>\n",
       "      <td>...</td>\n",
       "      <td>...</td>\n",
       "      <td>...</td>\n",
       "      <td>...</td>\n",
       "      <td>...</td>\n",
       "      <td>...</td>\n",
       "      <td>...</td>\n",
       "    </tr>\n",
       "    <tr>\n",
       "      <th>11695</th>\n",
       "      <td>CAGHTGNQFYF</td>\n",
       "      <td>TRAV35</td>\n",
       "      <td>TRAJ49</td>\n",
       "      <td>CGCTATCCAGTCGATT-4</td>\n",
       "      <td>IVTDFSVIK</td>\n",
       "      <td>IVTDFSVIK</td>\n",
       "      <td>CASSWGGGSHYGYTF</td>\n",
       "      <td>TRBV11-2</td>\n",
       "      <td>TRBJ1-2</td>\n",
       "    </tr>\n",
       "    <tr>\n",
       "      <th>11696</th>\n",
       "      <td>CAGHTGNQFYF</td>\n",
       "      <td>TRAV35</td>\n",
       "      <td>TRAJ49</td>\n",
       "      <td>ACTGAACCAACGATGG-26</td>\n",
       "      <td>IVTDFSVIK</td>\n",
       "      <td>IVTDFSVIK</td>\n",
       "      <td>CASSWGGGSHYGYTF</td>\n",
       "      <td>TRBV11-2</td>\n",
       "      <td>TRBJ1-2</td>\n",
       "    </tr>\n",
       "    <tr>\n",
       "      <th>11697</th>\n",
       "      <td>CAGHTGNQFYF</td>\n",
       "      <td>TRAV35</td>\n",
       "      <td>TRAJ49</td>\n",
       "      <td>CGCTTCATCCTTGACC-24</td>\n",
       "      <td>AVFDRKSDAK</td>\n",
       "      <td>AVFDRKSDAK</td>\n",
       "      <td>CSAQWTPGGNQPQHF</td>\n",
       "      <td>TRBV20-1</td>\n",
       "      <td>TRBJ1-5</td>\n",
       "    </tr>\n",
       "    <tr>\n",
       "      <th>11698</th>\n",
       "      <td>CAMREGVSGGGADGLTF</td>\n",
       "      <td>TRAV14DV4</td>\n",
       "      <td>TRAJ45</td>\n",
       "      <td>TACCTATCACGACGAA-40</td>\n",
       "      <td>FLRGRAYGL</td>\n",
       "      <td>other</td>\n",
       "      <td>CASSPPEREITDTQYF</td>\n",
       "      <td>TRBV18</td>\n",
       "      <td>TRBJ2-3</td>\n",
       "    </tr>\n",
       "    <tr>\n",
       "      <th>11699</th>\n",
       "      <td>CAGHTGNQFYF</td>\n",
       "      <td>TRAV35</td>\n",
       "      <td>TRAJ49</td>\n",
       "      <td>GACTGCGCATCGTCGG-28</td>\n",
       "      <td>IVTDFSVIK</td>\n",
       "      <td>IVTDFSVIK</td>\n",
       "      <td>CASSWGGGSHYGYTF</td>\n",
       "      <td>TRBV11-2</td>\n",
       "      <td>TRBJ1-2</td>\n",
       "    </tr>\n",
       "  </tbody>\n",
       "</table>\n",
       "<p>11700 rows × 9 columns</p>\n",
       "</div>"
      ],
      "text/plain": [
       "                a_cdr3aa         TRAV    TRAJ              barcode  \\\n",
       "0           CAVTDSWGKLQF       TRAV21  TRAJ24  GCAAACTAGAAGCCCA-26   \n",
       "1        CAYRSAKDSSYKLIF  TRAV38-2DV8  TRAJ12   AGAGCTTCAAGCCGTC-8   \n",
       "2        CAVDPMDTGRRALTF      TRAV8-3   TRAJ5  GTCATTTTCACCTCGT-27   \n",
       "3           CAVHGYGQNFVF       TRAV21  TRAJ26  CGACTTCCAAACCCAT-23   \n",
       "4          CATGDNYGQNFVF       TRAV17  TRAJ26  ACGGGCTAGGAGTACC-28   \n",
       "...                  ...          ...     ...                  ...   \n",
       "11695        CAGHTGNQFYF       TRAV35  TRAJ49   CGCTATCCAGTCGATT-4   \n",
       "11696        CAGHTGNQFYF       TRAV35  TRAJ49  ACTGAACCAACGATGG-26   \n",
       "11697        CAGHTGNQFYF       TRAV35  TRAJ49  CGCTTCATCCTTGACC-24   \n",
       "11698  CAMREGVSGGGADGLTF    TRAV14DV4  TRAJ45  TACCTATCACGACGAA-40   \n",
       "11699        CAGHTGNQFYF       TRAV35  TRAJ49  GACTGCGCATCGTCGG-28   \n",
       "\n",
       "      top_tetramer top_tetramer_freq           b_cdr3aa      TRBV     TRBJ  \n",
       "0       AVFDRKSDAK        AVFDRKSDAK      CASKPTSTDTQYF    TRBV27  TRBJ2-3  \n",
       "1       AVFDRKSDAK        AVFDRKSDAK  CASSSHPLATFTGELFF   TRBV7-2  TRBJ2-2  \n",
       "2       AVFDRKSDAK        AVFDRKSDAK      CASSLGFTDTQYF    TRBV27  TRBJ2-3  \n",
       "3       AVFDRKSDAK        AVFDRKSDAK  CASSQEWLAVSTDTQYF   TRBV4-3  TRBJ2-3  \n",
       "4       AVFDRKSDAK        AVFDRKSDAK      CASSDGQGLEQYF    TRBV27  TRBJ2-7  \n",
       "...            ...               ...                ...       ...      ...  \n",
       "11695    IVTDFSVIK         IVTDFSVIK    CASSWGGGSHYGYTF  TRBV11-2  TRBJ1-2  \n",
       "11696    IVTDFSVIK         IVTDFSVIK    CASSWGGGSHYGYTF  TRBV11-2  TRBJ1-2  \n",
       "11697   AVFDRKSDAK        AVFDRKSDAK    CSAQWTPGGNQPQHF  TRBV20-1  TRBJ1-5  \n",
       "11698    FLRGRAYGL             other   CASSPPEREITDTQYF    TRBV18  TRBJ2-3  \n",
       "11699    IVTDFSVIK         IVTDFSVIK    CASSWGGGSHYGYTF  TRBV11-2  TRBJ1-2  \n",
       "\n",
       "[11700 rows x 9 columns]"
      ]
     },
     "execution_count": 34,
     "metadata": {},
     "output_type": "execute_result"
    }
   ],
   "source": [
    "data_paired = data_a.merge(data_b)\n",
    "data_paired"
   ]
  },
  {
   "cell_type": "markdown",
   "id": "d3c133cb-675c-409c-a93f-7bf2eac70fa3",
   "metadata": {},
   "source": [
    "### save pairs"
   ]
  },
  {
   "cell_type": "code",
   "execution_count": 35,
   "id": "677f61c6-083e-4407-aa20-44cbcca030f5",
   "metadata": {},
   "outputs": [],
   "source": [
    "data_paired.to_csv(data_paired_output_path,sep='\\t', index = False)"
   ]
  },
  {
   "cell_type": "code",
   "execution_count": null,
   "id": "62576249-9449-4015-9bd9-f6eced5f2f99",
   "metadata": {},
   "outputs": [],
   "source": []
  }
 ],
 "metadata": {
  "kernelspec": {
   "display_name": "Python [conda env:.conda-py311]",
   "language": "python",
   "name": "conda-env-.conda-py311-py"
  },
  "language_info": {
   "codemirror_mode": {
    "name": "ipython",
    "version": 3
   },
   "file_extension": ".py",
   "mimetype": "text/x-python",
   "name": "python",
   "nbconvert_exporter": "python",
   "pygments_lexer": "ipython3",
   "version": "3.11.4"
  }
 },
 "nbformat": 4,
 "nbformat_minor": 5
}
